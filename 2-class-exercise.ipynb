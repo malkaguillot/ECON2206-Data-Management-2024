{
 "cells": [
  {
   "cell_type": "code",
   "execution_count": 1,
   "id": "a3079665-4a23-439d-8162-367671000035",
   "metadata": {},
   "outputs": [],
   "source": [
    "import pandas as pd"
   ]
  },
  {
   "cell_type": "code",
   "execution_count": null,
   "id": "b46bd4a8-37dd-492d-93ed-024520025e8c",
   "metadata": {},
   "outputs": [],
   "source": [
    "path =\"data/gapminder.csv\" # relative\n",
    "pd.read_csv(path)"
   ]
  },
  {
   "cell_type": "code",
   "execution_count": 5,
   "id": "d9ccd95a-852a-480d-a30c-6f2e9a1c5fbe",
   "metadata": {},
   "outputs": [],
   "source": [
    "path= \"/Users/malka/Documents/GitHub/ECON2206-Data-Management-2024/data/gapminder.csv\" # absolute paht\n",
    "gapminder = pd.read_csv(path)"
   ]
  },
  {
   "cell_type": "code",
   "execution_count": null,
   "id": "37755b64-d613-4f4f-b774-641ce66eb0e6",
   "metadata": {},
   "outputs": [],
   "source": [
    "gapminder.head()"
   ]
  },
  {
   "cell_type": "code",
   "execution_count": null,
   "id": "a3a9cabb-7846-4143-b3e0-01520269ca54",
   "metadata": {},
   "outputs": [],
   "source": [
    "list_of_columns = ['country', 'pop']\n",
    "gapminder[list_of_columns]"
   ]
  },
  {
   "cell_type": "code",
   "execution_count": null,
   "id": "8e228fdb-1faa-4164-954c-6d8f03555e7f",
   "metadata": {},
   "outputs": [],
   "source": [
    "selection1 = gapminder[['country', 'pop']]"
   ]
  },
  {
   "cell_type": "code",
   "execution_count": null,
   "id": "c08a1632-b0ef-470b-9f27-b669d83f91e5",
   "metadata": {},
   "outputs": [],
   "source": [
    "gapminder['country']==\"Bolivia\""
   ]
  },
  {
   "cell_type": "code",
   "execution_count": 9,
   "id": "3dc7c679-2efe-490e-8695-0fc9042f7a83",
   "metadata": {},
   "outputs": [],
   "source": [
    "selection2 = gapminder[ gapminder['country']==\"Bolivia\"]"
   ]
  },
  {
   "cell_type": "code",
   "execution_count": null,
   "id": "4a21b500-c3e4-42ad-afdc-9dda8f0cfc15",
   "metadata": {},
   "outputs": [],
   "source": [
    "selection2.head()"
   ]
  },
  {
   "cell_type": "code",
   "execution_count": null,
   "id": "7669be0b-374e-4135-84eb-522ed543a0d4",
   "metadata": {},
   "outputs": [],
   "source": [
    "gapminder.loc[gapminder['country']==\"Bolivia\" , ['country','pop']]"
   ]
  },
  {
   "cell_type": "code",
   "execution_count": 12,
   "id": "7f7b4322-cfeb-4ad6-aea0-2b765ea5eac6",
   "metadata": {},
   "outputs": [],
   "source": [
    "bolivia_data = gapminder[gapminder['country'] == 'Bolivia'][['country', 'pop']]"
   ]
  },
  {
   "cell_type": "code",
   "execution_count": null,
   "id": "89459e00-972b-49dc-a534-a6fe219bd9a9",
   "metadata": {},
   "outputs": [],
   "source": []
  }
 ],
 "metadata": {
  "kernelspec": {
   "display_name": "Python 3 (ipykernel)",
   "language": "python",
   "name": "python3"
  },
  "language_info": {
   "codemirror_mode": {
    "name": "ipython",
    "version": 3
   },
   "file_extension": ".py",
   "mimetype": "text/x-python",
   "name": "python",
   "nbconvert_exporter": "python",
   "pygments_lexer": "ipython3",
   "version": "3.12.4"
  }
 },
 "nbformat": 4,
 "nbformat_minor": 5
}
