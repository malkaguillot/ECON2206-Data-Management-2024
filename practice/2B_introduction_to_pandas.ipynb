{
 "cells": [
  {
   "cell_type": "markdown",
   "id": "2f9d9677",
   "metadata": {},
   "source": [
    "# Combining DataFrames in Pandas: `concat()` and `merge()`"
   ]
  },
  {
   "cell_type": "code",
   "execution_count": 1,
   "id": "8caf5b02",
   "metadata": {},
   "outputs": [],
   "source": [
    "import pandas as pd"
   ]
  },
  {
   "cell_type": "markdown",
   "id": "76e04b70",
   "metadata": {},
   "source": [
    "\n",
    "There are two important functions for combining DataFrames in Pandas: \n",
    "`concat()` and `merge()`. These functions allow us to efficiently concatenate and merge datasets, \n",
    "whether they are vertically or horizontally aligned or based on a common key.\n"
   ]
  },
  {
   "cell_type": "markdown",
   "id": "5062fd16",
   "metadata": {},
   "source": [
    "## Using `pd.concat()`"
   ]
  },
  {
   "cell_type": "markdown",
   "id": "8d19ba8e",
   "metadata": {},
   "source": [
    "\n",
    "The `concat()` function in Pandas allows you to concatenate DataFrames either by stacking them \n",
    "vertically (row-wise) or side-by-side (column-wise). The default behavior is row-wise concatenation.\n",
    "\n",
    "### Row-wise Concatenation\n",
    "Let's start by concatenating two DataFrames row-wise.\n"
   ]
  },
  {
   "cell_type": "code",
   "execution_count": null,
   "id": "68cf7575",
   "metadata": {},
   "outputs": [],
   "source": [
    "# Creating two DataFrames with similar columns\n",
    "df1 = pd.DataFrame({\n",
    "    'A': [1, 2, 3],\n",
    "    'B': [4, 5, 6]\n",
    "})\n",
    "df1"
   ]
  },
  {
   "cell_type": "code",
   "execution_count": null,
   "id": "61b1f039",
   "metadata": {},
   "outputs": [],
   "source": [
    "df2 = pd.DataFrame({\n",
    "    'A': [7, 8, 9],\n",
    "    'B': [10, 11, 12]\n",
    "})\n",
    "df2"
   ]
  },
  {
   "cell_type": "code",
   "execution_count": null,
   "id": "9766cf68",
   "metadata": {},
   "outputs": [],
   "source": [
    "# Concatenating them row-wise\n",
    "result = pd.concat([df1, df2], axis=0)\n",
    "result\n"
   ]
  },
  {
   "cell_type": "markdown",
   "id": "24ffc3b6",
   "metadata": {},
   "source": [
    "\n",
    "### Column-wise Concatenation\n",
    "We can also concatenate two DataFrames column-wise by specifying `axis=1`.\n"
   ]
  },
  {
   "cell_type": "code",
   "execution_count": null,
   "id": "d98cc895",
   "metadata": {},
   "outputs": [],
   "source": [
    "\n",
    "# Concatenating the same DataFrames column-wise\n",
    "result = pd.concat([df1, df2], axis=1)\n",
    "\n",
    "result\n"
   ]
  },
  {
   "cell_type": "markdown",
   "id": "e9c76649",
   "metadata": {},
   "source": [
    "## Using `pd.merge()`"
   ]
  },
  {
   "cell_type": "markdown",
   "id": "ea50a346",
   "metadata": {},
   "source": [
    "\n",
    "The `merge()` function allows us to combine DataFrames based on a common column or index. \n",
    "\n",
    "It can merge DataFrames in 4 different ways: with inner, outer, left, or right joins."
   ]
  },
  {
   "cell_type": "markdown",
   "id": "0f3e4c69",
   "metadata": {},
   "source": [
    "<img src=\"https://miro.medium.com/v2/resize:fit:1200/1*9eH1_7VbTZPZd9jBiGIyNA.png\" alt=\"drawing\" style=\"width:300px;\"/>"
   ]
  },
  {
   "cell_type": "markdown",
   "id": "b49f3f91",
   "metadata": {},
   "source": [
    "### Inner Join Example\n",
    "It only keeps the rows where the key matches in both DataFrames"
   ]
  },
  {
   "cell_type": "code",
   "execution_count": null,
   "id": "c33f91e8",
   "metadata": {},
   "outputs": [],
   "source": [
    "# Creating two DataFrames with a common column 'ID'\n",
    "df1 = pd.DataFrame({\n",
    "    'ID': [1, 2, 3],\n",
    "    'Name': ['Alice', 'Bob', 'Charlie']\n",
    "})\n",
    "df1"
   ]
  },
  {
   "cell_type": "code",
   "execution_count": null,
   "id": "87ada390",
   "metadata": {},
   "outputs": [],
   "source": [
    "df2 = pd.DataFrame({\n",
    "    'ID': [1, 2, 4],\n",
    "    'Score': [85, 90, 95]\n",
    "})\n",
    "df2"
   ]
  },
  {
   "cell_type": "code",
   "execution_count": null,
   "id": "26882424",
   "metadata": {},
   "outputs": [],
   "source": [
    "# Merging them on the 'ID' column using an inner join\n",
    "result = pd.merge(df1, df2, on='ID', how='inner')\n",
    "\n",
    "result\n"
   ]
  },
  {
   "cell_type": "markdown",
   "id": "e28c03a8",
   "metadata": {},
   "source": [
    "\n",
    "### Outer Join Example\n",
    "If we want to keep all rows from both DataFrames, we can perform an outer join. Missing data will be filled with `NaN`.\n"
   ]
  },
  {
   "cell_type": "code",
   "execution_count": null,
   "id": "9abeec5a",
   "metadata": {},
   "outputs": [],
   "source": [
    "# Merging with an outer join\n",
    "result = pd.merge(df1, df2, on='ID', how='outer')\n",
    "\n",
    "result\n"
   ]
  },
  {
   "cell_type": "markdown",
   "id": "ad94de4c-ac9a-46ab-baca-44bc6537fba9",
   "metadata": {},
   "source": [
    "### Right Join Example\n",
    "A right join returns all rows from df2 and only the matching rows from df1. If there’s no match, the result will contain NaN for columns from df1."
   ]
  },
  {
   "cell_type": "code",
   "execution_count": null,
   "id": "bac8c912-00fe-41d1-b0ae-c0ae0e61e764",
   "metadata": {},
   "outputs": [],
   "source": [
    "# Merging with a right join\n",
    "result = pd.merge(df1, df2, on='ID', how='right')\n",
    "\n",
    "result"
   ]
  },
  {
   "cell_type": "markdown",
   "id": "0b276d5a",
   "metadata": {},
   "source": [
    "\n",
    "As a conclusion : \n",
    "\n",
    "- Use `concat()` when you need to stack or append DataFrames.\n",
    "- Use `merge()` when you need to combine DataFrames based on a common key.\n"
   ]
  },
  {
   "cell_type": "markdown",
   "id": "e18b68ec-7e8b-418a-8112-68999c31a138",
   "metadata": {},
   "source": [
    "### Your turn !\n",
    "#### Exercises\n",
    "You have the following two dataframes : "
   ]
  },
  {
   "cell_type": "code",
   "execution_count": null,
   "id": "da64713b",
   "metadata": {},
   "outputs": [],
   "source": [
    "# Create first DataFrame: students\n",
    "students_data = {\n",
    "    'Student_ID': [101, 102, 103, 104, 105],\n",
    "    'Name': ['Alice', 'Bob', 'Carol', 'Dave', 'Eve'],\n",
    "    'Major': ['Computer Sci', 'Physics', 'Mathematics', 'Chemistry', 'Biology']\n",
    "}\n",
    "students = pd.DataFrame(students_data)\n",
    "students"
   ]
  },
  {
   "cell_type": "code",
   "execution_count": null,
   "id": "b7ee19ee",
   "metadata": {},
   "outputs": [],
   "source": [
    "# Create second DataFrame: grades\n",
    "grades_data = {\n",
    "    'Student_ID': [101, 102, 106, 107],\n",
    "    'Grade': ['A', 'B', 'C', 'A'],\n",
    "    'Semester': ['Spring 2023', 'Spring 2023', 'Spring 2023', 'Fall 2022']\n",
    "}\n",
    "grades = pd.DataFrame(grades_data)\n",
    "grades"
   ]
  },
  {
   "cell_type": "markdown",
   "id": "49473d40-c405-42ee-a0ac-d3dadbfca391",
   "metadata": {},
   "source": [
    "A) Create a Dataframe called \"students_grades\" with 4 columns (Name, Major, Grade and Semester) where only studends from whom we know the names are kept. If there is no available value for a grade, replace the NaN by \"No Grade\". If there is no semester available, replace the NaN by \"No Semester\".\n",
    "\n",
    "B) Create a Dataframe called \"students_grades_bis\" only keeping 2 columns (Name and Grade) for the student for whom we know the grade."
   ]
  },
  {
   "cell_type": "markdown",
   "id": "c1bb2a7d-ff69-4e35-ad14-94c93fe920db",
   "metadata": {},
   "source": [
    "#### Solutions\n",
    "A"
   ]
  },
  {
   "cell_type": "code",
   "execution_count": null,
   "id": "bfec0b71-28e1-4671-8a68-6ec8569983a9",
   "metadata": {},
   "outputs": [],
   "source": [
    "students_grades = pd.merge(students, grades, on='Student_ID', how='left').fillna({\n",
    "    'Grade': 'No Grade',\n",
    "    'Semester': 'No Semester'\n",
    "})\n",
    "\n",
    "print(students_grades)"
   ]
  },
  {
   "cell_type": "markdown",
   "id": "ea09fcdf-4d7f-4df4-9cc7-2beb8d66f8cb",
   "metadata": {},
   "source": [
    "B"
   ]
  },
  {
   "cell_type": "code",
   "execution_count": null,
   "id": "11492d62-4a00-4bab-962b-294a235880bd",
   "metadata": {},
   "outputs": [],
   "source": [
    "students_grades_bis = pd.merge(students, grades, on='Student_ID', how='inner')\n",
    "students_grades_bis = students_grades_bis.drop(columns =[\"Major\", \"Semester\"])\n",
    "\n",
    "print(students_grades_bis)"
   ]
  }
 ],
 "metadata": {
  "kernelspec": {
   "display_name": "Python 3 (ipykernel)",
   "language": "python",
   "name": "python3"
  },
  "language_info": {
   "codemirror_mode": {
    "name": "ipython",
    "version": 3
   },
   "file_extension": ".py",
   "mimetype": "text/x-python",
   "name": "python",
   "nbconvert_exporter": "python",
   "pygments_lexer": "ipython3",
   "version": "3.10.13"
  }
 },
 "nbformat": 4,
 "nbformat_minor": 5
}
