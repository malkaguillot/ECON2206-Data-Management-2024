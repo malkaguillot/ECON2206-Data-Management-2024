{
 "cells": [
  {
   "cell_type": "markdown",
   "id": "1e35c524",
   "metadata": {},
   "source": [
    "\n",
    "# Data management\n",
    "\n",
    "## Introduction to pandas\n",
    "\n",
    "## [Malka Guillot](https://malkaguillot.github.io/)\n",
    "\n",
    "## HEC Liège | [ECON2306]()\n"
   ]
  },
  {
   "cell_type": "markdown",
   "id": "0636c13d",
   "metadata": {},
   "source": [
    "[![Binder](https://mybinder.org/badge_logo.svg)](https://mybinder.org/v2/gh/malkaguillot/ECON2206-Data-Management-2023/HEAD?labpath=%2Fpractice%2F1.2-Introduction%2520to%2520pandas.ipynb)"
   ]
  },
  {
   "cell_type": "markdown",
   "id": "f331a89d",
   "metadata": {},
   "source": [
    "`pandas` is a Python library used for working with data sets. It has functions for analyzing, cleaning, exploring, and manipulating data. The package, built over concepts coming from `numpy`, is one of the central brick of the data-science python ecosystem. \n",
    "\n",
    "*This notebook* aims to introduce you to the basic concepts and operations that can be done with `pandas`. "
   ]
  },
  {
   "cell_type": "code",
   "execution_count": 1,
   "id": "3e44d31d",
   "metadata": {},
   "outputs": [],
   "source": [
    "import pandas as pd"
   ]
  },
  {
   "cell_type": "markdown",
   "id": "2c02bfcc",
   "metadata": {},
   "source": [
    "### References\n",
    "-   The [official help page](https://pandas.pydata.org/docs/user_guide/index.html).\n",
    "    Including the\n",
    "    [language comparison page](https://pandas.pydata.org/pandas-docs/stable/getting_started/comparison/index.html)\n",
    "    that is very useful\n",
    "-   The *corresponding cheatsheet*, from [this post](https://becominghuman.ai/cheat-sheets-for-ai-neural-networks-machine-learning-deep-learning-big-data-678c51b4b463)\n",
    "\n",
    "![Cheasheet pandas](https://cdn-images-1.medium.com/max/2000/1*YhTbz8b8Svi22wNVvqzneg.jpeg)"
   ]
  },
  {
   "cell_type": "markdown",
   "id": "7eafbc5c",
   "metadata": {},
   "source": [
    "## `pandas`' logic\n",
    "\n",
    "The primary two components of pandas are the `Series` and `DataFrame`.\n"
   ]
  },
  {
   "cell_type": "markdown",
   "id": "d670dd9f",
   "metadata": {},
   "source": [
    "### DataFrame & Series\n",
    "The `DataFrame` is a data object, structured around rows & columns (that can be of different types, eg. string or float).\n",
    "\n",
    "A `DataFrame` consists of the following elements:\n",
    "- the row index ;\n",
    "- the name of the column ;\n",
    "- the value of the data;\n",
    "\n",
    "Cf. [this post](https://medium.com/epfl-extension-school/selecting-data-from-a-pandas-dataframe-53917dc39953) on the structure of a `DataFrame`.\n",
    "\n",
    "![](images/pd-structure.png)"
   ]
  },
  {
   "cell_type": "markdown",
   "id": "bc136650",
   "metadata": {},
   "source": [
    "A `DataFrame` is a collection of `pandas.Series`. These `Series` are one-dimensional objects, coming from one-dimensional `numpy` arrays. \n"
   ]
  },
  {
   "cell_type": "markdown",
   "id": "f20d5bca",
   "metadata": {},
   "source": [
    "### Series\n",
    "\n",
    "A `Series` can be of different type. The `object`'s type corresponds to the usual python's types (`str`, `int`, `float`, `bool`, `list`)."
   ]
  },
  {
   "cell_type": "code",
   "execution_count": null,
   "id": "48230158",
   "metadata": {},
   "outputs": [],
   "source": [
    "series = pd.Series([30, 35, 40])\n",
    "print(series)"
   ]
  },
  {
   "cell_type": "markdown",
   "id": "d93783ac",
   "metadata": {},
   "source": [
    "To transform a `pandas.Series` object in a `numpy` array, we use the `values` method. By example: `series.values`:"
   ]
  },
  {
   "cell_type": "code",
   "execution_count": null,
   "id": "7d4b856c",
   "metadata": {},
   "outputs": [],
   "source": [
    "series.values"
   ]
  },
  {
   "cell_type": "code",
   "execution_count": null,
   "id": "e753f62d",
   "metadata": {},
   "outputs": [],
   "source": [
    "series.index"
   ]
  },
  {
   "cell_type": "markdown",
   "id": "8df64793",
   "metadata": {},
   "source": [
    "### Index (Row labels)\n",
    "The essential difference between a `Series` and a `numpy` array is the index (which is implicit in `numpy`). In a `Series` or a `DataFrame`, we can give explicit names to the indices. \n",
    "\n",
    "By example:"
   ]
  },
  {
   "cell_type": "code",
   "execution_count": null,
   "id": "b16b79bf",
   "metadata": {},
   "outputs": [],
   "source": [
    "# For a Series:\n",
    "size = pd.Series(\n",
    "    [1.,1.5,1],\n",
    "    index = ['cat', 'dog', 'koala'], \n",
    "    name='Size of animal'\n",
    ")\n",
    "\n",
    "size.head()"
   ]
  },
  {
   "cell_type": "code",
   "execution_count": null,
   "id": "ef6e82ba",
   "metadata": {},
   "outputs": [],
   "source": [
    "# The index enables accessing the value of the `Series`\n",
    "size['koala']"
   ]
  },
  {
   "cell_type": "markdown",
   "id": "b2f14e4f",
   "metadata": {},
   "source": [
    "### `Dataframe` "
   ]
  },
  {
   "cell_type": "code",
   "execution_count": null,
   "id": "15b334f4",
   "metadata": {},
   "outputs": [],
   "source": [
    "dictionary= {'Yes': [50, 21], 'No': [131, 2]} \n",
    "dictionary.keys()"
   ]
  },
  {
   "cell_type": "code",
   "execution_count": null,
   "id": "021f87c1",
   "metadata": {},
   "outputs": [],
   "source": [
    "data = pd.DataFrame(dictionary)"
   ]
  },
  {
   "cell_type": "code",
   "execution_count": null,
   "id": "8c183b25",
   "metadata": {},
   "outputs": [],
   "source": [
    "data.head() # visualizing the DataFrame"
   ]
  },
  {
   "cell_type": "code",
   "execution_count": null,
   "id": "054c9ee0",
   "metadata": {},
   "outputs": [],
   "source": [
    "# dataframe with no index\n",
    "data = pd.DataFrame({'Mike': ['Bald', 'Tall'], 'Anna': ['', 'Short']})\n",
    "data.head() "
   ]
  },
  {
   "cell_type": "code",
   "execution_count": null,
   "id": "cd022980",
   "metadata": {},
   "outputs": [],
   "source": [
    "# Index for a DataFrame:\n",
    "data = pd.DataFrame({'Mike': ['Bald', 'Tall'], 'Anna': ['', 'Short']},\n",
    "                    index=['Hair', 'Size'])\n",
    "data.head() "
   ]
  },
  {
   "cell_type": "markdown",
   "id": "14447dd6",
   "metadata": {},
   "source": [
    "### Your Turn !"
   ]
  },
  {
   "cell_type": "markdown",
   "id": "2802e495",
   "metadata": {},
   "source": [
    "#### Exercise 1\n",
    "\n",
    "In the cell below, create a DataFrame `fruits` that looks like this:\n",
    "\n",
    "![](https://i.imgur.com/Ax3pp2A.png)"
   ]
  },
  {
   "cell_type": "code",
   "execution_count": null,
   "id": "65019b3f",
   "metadata": {},
   "outputs": [],
   "source": []
  },
  {
   "cell_type": "markdown",
   "id": "c8d6e5c5",
   "metadata": {},
   "source": [
    "#### Exercise 2\n",
    "\n",
    "Create a dataframe `fruit_sales` that matches the diagram below:\n",
    "\n",
    "![](https://i.imgur.com/CHPn7ZF.png)"
   ]
  },
  {
   "cell_type": "code",
   "execution_count": null,
   "id": "ad163262",
   "metadata": {},
   "outputs": [],
   "source": [
    "dic_fruits_by_sale= {}\n",
    "dic_fruits_by_sale['Apples']=[35, 41]\n",
    "dic_fruits_by_sale['Bananas']=[21, 34]\n",
    "dic_fruits_by_sale"
   ]
  },
  {
   "cell_type": "code",
   "execution_count": null,
   "id": "730a928e",
   "metadata": {},
   "outputs": [],
   "source": [
    "fruit_sales=pd.DataFrame(dic_fruits_by_sale, index=['2017 Sales', '2018 Sales'])"
   ]
  },
  {
   "cell_type": "code",
   "execution_count": null,
   "id": "c4303c67",
   "metadata": {},
   "outputs": [],
   "source": [
    "fruit_sales.head()"
   ]
  },
  {
   "cell_type": "markdown",
   "id": "7069a327",
   "metadata": {},
   "source": [
    "#### Exercise 3\n",
    "\n",
    "Create a variable `ingredients` with a Series that looks like:\n",
    "\n",
    "```\n",
    "Flour     4 cups\n",
    "Milk       1 cup\n",
    "Eggs     2 large\n",
    "Spam       1 can\n",
    "Name: Dinner, dtype: object\n",
    "```"
   ]
  },
  {
   "cell_type": "code",
   "execution_count": null,
   "id": "b0b2ba74",
   "metadata": {},
   "outputs": [],
   "source": []
  },
  {
   "cell_type": "markdown",
   "id": "e7182019",
   "metadata": {},
   "source": [
    "## Useful methods & attributes\n",
    "\n",
    "### Reading data files "
   ]
  },
  {
   "cell_type": "markdown",
   "id": "4203fd8e",
   "metadata": {},
   "source": [
    "If the data is in your folder, you can directly read it like this:\n",
    "\n",
    "`wine_reviews = pd.read_csv(\"winemag-data-130k-v2.csv\")`"
   ]
  },
  {
   "cell_type": "code",
   "execution_count": 3,
   "id": "45bb0e5c",
   "metadata": {
    "scrolled": true
   },
   "outputs": [],
   "source": [
    "import pandas as pd\n",
    "# Using the dropbox link, you can directly download the data from my remote dropbox\n",
    "wine_reviews = pd.read_csv(\"https://dox.uliege.be/index.php/s/Zbpu1hqt1OdI9by/download\")\n"
   ]
  },
  {
   "cell_type": "code",
   "execution_count": null,
   "id": "4eac74e3",
   "metadata": {},
   "outputs": [],
   "source": [
    "wine_reviews.shape"
   ]
  },
  {
   "cell_type": "code",
   "execution_count": null,
   "id": "d544a7db",
   "metadata": {},
   "outputs": [],
   "source": [
    "wine_reviews.columns"
   ]
  },
  {
   "cell_type": "code",
   "execution_count": null,
   "id": "e6220675",
   "metadata": {
    "scrolled": true
   },
   "outputs": [],
   "source": [
    "wine_reviews.head()"
   ]
  },
  {
   "cell_type": "code",
   "execution_count": null,
   "id": "5c989100",
   "metadata": {},
   "outputs": [],
   "source": [
    "wine_cyprus = wine_reviews[wine_reviews['country']==\"Cyprus\" ]"
   ]
  },
  {
   "cell_type": "code",
   "execution_count": null,
   "id": "bf7f0cce",
   "metadata": {},
   "outputs": [],
   "source": [
    "# wine_reviews[(wine_reviews['country']==\"Cyprus\") | (wine_reviews['country']==\"Italy\")  ]"
   ]
  },
  {
   "cell_type": "markdown",
   "id": "d49b5222",
   "metadata": {},
   "source": [
    "#### Display method (vs. `print`)\n",
    "-   `head`: show the first rows (5 by default) ;\n",
    "-   `tail`: show the last rows (5 by default)\n",
    "-   `sample` show a random sample of  *n* rows.\n",
    "\n",
    "$\\Rightarrow$ better to use `head` or `tail` (nicely formatted) than `print` (raw output)."
   ]
  },
  {
   "cell_type": "code",
   "execution_count": null,
   "id": "459f62e4",
   "metadata": {},
   "outputs": [],
   "source": [
    "wine_reviews.head()"
   ]
  },
  {
   "cell_type": "markdown",
   "id": "7d425b6b",
   "metadata": {},
   "source": [
    "#### `read_csv()` with an index\n",
    "Look at the change when `index_col=1` is included. "
   ]
  },
  {
   "cell_type": "code",
   "execution_count": null,
   "id": "f9d1d79c",
   "metadata": {},
   "outputs": [],
   "source": [
    "wine_reviews = pd.read_csv(\"https://dox.uliege.be/index.php/s/Zbpu1hqt1OdI9by/download\", index_col=0)\n",
    "wine_reviews.head()"
   ]
  },
  {
   "cell_type": "markdown",
   "id": "4a88dbc1",
   "metadata": {},
   "source": []
  },
  {
   "cell_type": "markdown",
   "id": "50470b6e",
   "metadata": {},
   "source": [
    "### `DataFrame`: Dimensions and strucuture\n",
    "\n",
    "We can access the attributes of the `DataFrame` with the following methods: "
   ]
  },
  {
   "cell_type": "code",
   "execution_count": null,
   "id": "f83077ad",
   "metadata": {},
   "outputs": [],
   "source": [
    "wine_reviews.axes"
   ]
  },
  {
   "cell_type": "code",
   "execution_count": null,
   "id": "1fc0d320",
   "metadata": {},
   "outputs": [],
   "source": [
    "wine_reviews.columns"
   ]
  },
  {
   "cell_type": "code",
   "execution_count": null,
   "id": "f8eb9e1a",
   "metadata": {},
   "outputs": [],
   "source": [
    "wine_reviews.index"
   ]
  },
  {
   "cell_type": "code",
   "execution_count": null,
   "id": "52ec5d34",
   "metadata": {},
   "outputs": [],
   "source": [
    "# Dimension of the DataFrame\n",
    "wine_reviews.ndim "
   ]
  },
  {
   "cell_type": "code",
   "execution_count": null,
   "id": "32d54a22",
   "metadata": {},
   "outputs": [],
   "source": [
    "wine_reviews.shape #(number of rows, number of columns)"
   ]
  },
  {
   "cell_type": "code",
   "execution_count": null,
   "id": "e41dd6ea",
   "metadata": {},
   "outputs": [],
   "source": [
    "wine_reviews.size # = number of rows x number of columns"
   ]
  },
  {
   "cell_type": "code",
   "execution_count": null,
   "id": "9b24687a",
   "metadata": {},
   "outputs": [],
   "source": [
    "# Number of unique values of a variable:\n",
    "wine_reviews['taster_name'].nunique()"
   ]
  },
  {
   "cell_type": "markdown",
   "id": "2cf2769e",
   "metadata": {},
   "source": [
    "#### Native Accessors"
   ]
  },
  {
   "cell_type": "code",
   "execution_count": null,
   "id": "4e2e170b",
   "metadata": {},
   "outputs": [],
   "source": [
    "wine_reviews.country.head()"
   ]
  },
  {
   "cell_type": "code",
   "execution_count": null,
   "id": "371b7e25",
   "metadata": {},
   "outputs": [],
   "source": [
    "wine_reviews['country'].head()"
   ]
  },
  {
   "cell_type": "code",
   "execution_count": null,
   "id": "e84b3769",
   "metadata": {},
   "outputs": [],
   "source": [
    "wine_reviews['country'][0]"
   ]
  },
  {
   "cell_type": "markdown",
   "id": "89f7574a",
   "metadata": {},
   "source": [
    "### Aggregated statistics\n",
    "`pandas` offers a series of methods for making aggregate statistics in an efficient way.\n",
    "\n",
    "For example, one can apply methods to count the number of rows, averaging or summing all the rows"
   ]
  },
  {
   "cell_type": "code",
   "execution_count": null,
   "id": "94637cb9",
   "metadata": {},
   "outputs": [],
   "source": [
    "wine_reviews.count() # number of rows with non-missing values"
   ]
  },
  {
   "cell_type": "code",
   "execution_count": null,
   "id": "5d599765",
   "metadata": {},
   "outputs": [],
   "source": [
    "wine_reviews['points'].median()"
   ]
  },
  {
   "cell_type": "code",
   "execution_count": null,
   "id": "71775b25",
   "metadata": {},
   "outputs": [],
   "source": [
    "wine_reviews['points'].mean() # average for the columns in numeric format"
   ]
  },
  {
   "cell_type": "code",
   "execution_count": null,
   "id": "21a640a3",
   "metadata": {},
   "outputs": [],
   "source": [
    "wine_reviews['points'].sum() # sum of all observations for the columns in numeric format"
   ]
  },
  {
   "cell_type": "markdown",
   "id": "4954f78a",
   "metadata": {},
   "source": [
    "#### Summary functions"
   ]
  },
  {
   "cell_type": "code",
   "execution_count": null,
   "id": "e67df5cf",
   "metadata": {},
   "outputs": [],
   "source": [
    "wine_reviews['taster_name'].describe()"
   ]
  },
  {
   "cell_type": "code",
   "execution_count": null,
   "id": "4d388703",
   "metadata": {},
   "outputs": [],
   "source": [
    "wine_reviews['taster_name'].value_counts()"
   ]
  },
  {
   "cell_type": "markdown",
   "id": "edd7d38a",
   "metadata": {},
   "source": [
    "#### Handling missing values"
   ]
  },
  {
   "cell_type": "code",
   "execution_count": null,
   "id": "608c0a76",
   "metadata": {},
   "outputs": [],
   "source": [
    "wine_reviews.isna().shape"
   ]
  },
  {
   "cell_type": "code",
   "execution_count": null,
   "id": "8a57aeb5",
   "metadata": {},
   "outputs": [],
   "source": [
    "wine_reviews.isna().sum() # count the number of missing values for each column"
   ]
  },
  {
   "cell_type": "markdown",
   "id": "e0a355fa",
   "metadata": {},
   "source": [
    "### Accessing elements of a `DataFrame`\n",
    "\n",
    "#### Accessing columns:\n",
    "Several approaches:\n",
    "\n",
    "-   `dataframe.variable`, by example `wine_review.variety`.\n",
    "    However, this method requires that you have column names without spaces.\n",
    "-   `dataframe[['variable']]` to return the variable as a `DataFrame` or `dataframe['variable']` to return the variable as a  `Series`. \n",
    "    This is the prefered method. \n",
    "    \n",
    "### Accessing rows\n",
    "\n",
    "Several approaches, depending on the indices in place:\n",
    "\n",
    "-   `df.loc`: using indices' labels\n",
    "    - `loc` refers to the values of a `DataFrame`'s index.\n",
    "\n",
    "-   `df.iloc`: using raw indices (row number)\n",
    "    - `iloc` refers to the row number between $0$ to $N$ (where $N=$ `df.shape[0]` of a`pandas.DataFrame`). \n"
   ]
  },
  {
   "cell_type": "code",
   "execution_count": null,
   "id": "ab5888ac",
   "metadata": {},
   "outputs": [],
   "source": [
    "#wine_reviews.country\n",
    "variable_list=['country', 'points']\n",
    "wine_reviews['country']\n",
    "wine_reviews[variable_list[0]] # series "
   ]
  },
  {
   "cell_type": "code",
   "execution_count": null,
   "id": "73ccc9ad",
   "metadata": {},
   "outputs": [],
   "source": [
    "wine_reviews[variable_list]\n",
    "\n",
    "wine_reviews[['country', 'points']] # DF"
   ]
  },
  {
   "cell_type": "code",
   "execution_count": null,
   "id": "bc628327",
   "metadata": {},
   "outputs": [],
   "source": [
    "# Index for a DataFrame:\n",
    "data = pd.DataFrame({'Mike': ['Bald', 'Tall'], 'Anna': ['', 'Short']},\n",
    "                    index=['Hair', 'Size'])\n",
    "data.head() "
   ]
  },
  {
   "cell_type": "code",
   "execution_count": null,
   "id": "ba98e6fe",
   "metadata": {},
   "outputs": [],
   "source": [
    "data.loc['Size','Anna']"
   ]
  },
  {
   "cell_type": "code",
   "execution_count": null,
   "id": "5b664876",
   "metadata": {},
   "outputs": [],
   "source": [
    "data.iloc[0, ]"
   ]
  },
  {
   "cell_type": "markdown",
   "id": "155fa463",
   "metadata": {},
   "source": [
    "#### Example\n",
    "With the following `pandas.DataFrame` `df`:\n",
    "\n",
    "           year  sale\n",
    "    month\n",
    "    1      2012    55\n",
    "    4      2014    40\n",
    "    7      2013    84\n",
    "    10     2014    31\n",
    "\n",
    "Then `df.loc[1, :]` gives the first row of `df` (row where the `month` index is equal to 1).\n",
    "\n",
    "While  `df.iloc[1, :]` gives the second row (since the index starts at $0$ in `Python`)."
   ]
  },
  {
   "cell_type": "markdown",
   "id": "eb2e144f",
   "metadata": {},
   "source": [
    "#### Indexing in pandas - Index-based selection `iloc`"
   ]
  },
  {
   "cell_type": "code",
   "execution_count": null,
   "id": "35c56116",
   "metadata": {},
   "outputs": [],
   "source": [
    "wine_reviews.iloc[0] # first row"
   ]
  },
  {
   "cell_type": "code",
   "execution_count": null,
   "id": "ce2b6c26",
   "metadata": {},
   "outputs": [],
   "source": [
    "wine_reviews.iloc[:, 0] # First column"
   ]
  },
  {
   "cell_type": "code",
   "execution_count": null,
   "id": "f7f29f39",
   "metadata": {},
   "outputs": [],
   "source": [
    "wine_reviews.iloc[:3, 0] # First 3 rows of the first column"
   ]
  },
  {
   "cell_type": "code",
   "execution_count": null,
   "id": "f12d3c3f",
   "metadata": {
    "scrolled": true
   },
   "outputs": [],
   "source": [
    "wine_reviews.iloc[[0, 1, 2], 0] # Rows 0, 1 & 2 of the first column"
   ]
  },
  {
   "cell_type": "code",
   "execution_count": null,
   "id": "fccf5c33",
   "metadata": {},
   "outputs": [],
   "source": [
    "wine_reviews.iloc[-5:] # last five rows!"
   ]
  },
  {
   "cell_type": "markdown",
   "id": "f61caefb",
   "metadata": {},
   "source": [
    "### Indexing in pandas - Label-based selection `loc`"
   ]
  },
  {
   "cell_type": "code",
   "execution_count": null,
   "id": "9a26c212",
   "metadata": {},
   "outputs": [],
   "source": [
    "wine_reviews.loc[0, 'country']"
   ]
  },
  {
   "cell_type": "code",
   "execution_count": null,
   "id": "921e8c38",
   "metadata": {},
   "outputs": [],
   "source": [
    "wine_reviews[['taster_name', 'taster_twitter_handle', 'points']].head(2)"
   ]
  },
  {
   "cell_type": "code",
   "execution_count": null,
   "id": "a5e7004e",
   "metadata": {},
   "outputs": [],
   "source": [
    "wine_reviews.loc[:, ['taster_name', 'taster_twitter_handle', 'points']].head(2)"
   ]
  },
  {
   "cell_type": "markdown",
   "id": "02b61f5c",
   "metadata": {},
   "source": [
    "## Main data manipulation operations\n",
    "\n",
    "The following table summarizes the main operations, comparing the syntax in `SQL`, `pandas` and `R`.\n",
    "Knowing the `SQL` syntax/label of the method is most useful as it is at the source of what has been created in the other languages. \n",
    "\n",
    "| Opération                                                        | SQL                                                              | pandas                                                 | dplyr (`R`)                                        | data.table (`R`)                                 |\n",
    "|--------|---------------|-----------|-----------------|-----------------------|\n",
    "| Selecting variables by their name                          | `SELECT`                                                         | `df[['Autres transports','Energie']]`                  | `df %>% select(Autres transports, Energie)`        | `df[, c('Autres transports','Energie')]`         |\n",
    "| Selecting observation depending on condition(s) | `FILTER`                                                         | `df[df['Agriculture']>2000]`                           | `df %>% filter(Agriculture>2000)`                  | `df[Agriculture>2000]`                           |\n",
    "| Sort the table by a variable                  | `SORT BY`                                                        | `df.sort_values(['Commune','Agriculture'])`            | `df %>% arrange(Commune, Agriculture)`             | `df[order(Commune, Agriculture)]`                |\n",
    "| Add a variable that is a function of other variable(s)     | `SELECT *, LOG(Agriculture) AS x FROM df`                        | `df['x'] = np.log(df['Agriculture'])`                  | `df %>% mutate(x = log(Agriculture))`              | `df[,x := log(Agriculture)]`                     |\n",
    "| Group-level operations                               | `GROUP BY`                                                       | `df.groupby('Commune').mean()`                         | `df %>% group_by(Commune) %>% summarise(m = mean)` | `df[,mean(Commune), by = Commune]`               |\n",
    "| Merge of databases (*inner join*)                     | `SELECT * FROM table1 INNER JOIN table2 ON table1.id = table2.x` | `table1.merge(table2, left_on = 'id', right_on = 'x')` | `table1 %>% inner_join(table2, by = c('id'='x'))`  | `merge(table1, table2, by.x = 'id', by.y = 'x')` |"
   ]
  },
  {
   "cell_type": "markdown",
   "id": "d64db421",
   "metadata": {},
   "source": [
    "### Conditional Selection "
   ]
  },
  {
   "cell_type": "code",
   "execution_count": null,
   "id": "88200edb",
   "metadata": {},
   "outputs": [],
   "source": [
    "wine_reviews.shape"
   ]
  },
  {
   "cell_type": "code",
   "execution_count": null,
   "id": "bb009ed0",
   "metadata": {},
   "outputs": [],
   "source": [
    "wine_reviews.country == 'Italy'"
   ]
  },
  {
   "cell_type": "code",
   "execution_count": null,
   "id": "bf8ffd8d",
   "metadata": {},
   "outputs": [],
   "source": [
    "italy= wine_reviews.loc[wine_reviews.country == 'Italy']\n",
    "italy.shape"
   ]
  },
  {
   "cell_type": "code",
   "execution_count": null,
   "id": "44666177",
   "metadata": {
    "scrolled": true
   },
   "outputs": [],
   "source": [
    "wine_reviews.loc[(wine_reviews.country == 'Italy') & (wine_reviews.points >= 90)]"
   ]
  },
  {
   "cell_type": "code",
   "execution_count": null,
   "id": "8daeb634",
   "metadata": {},
   "outputs": [],
   "source": [
    "wine_reviews.loc[(wine_reviews.country == 'Italy') | (wine_reviews.country == 'France')]"
   ]
  },
  {
   "cell_type": "code",
   "execution_count": null,
   "id": "d640719e",
   "metadata": {},
   "outputs": [],
   "source": [
    "wine_reviews.loc[(wine_reviews.country == 'Italy') | (wine_reviews.points >= 90)]"
   ]
  },
  {
   "cell_type": "code",
   "execution_count": null,
   "id": "5b6f9dac",
   "metadata": {},
   "outputs": [],
   "source": [
    "# Selects wines from Italy and France\n",
    "wine_reviews.loc[wine_reviews.country.isin(['Italy', 'France'])] "
   ]
  },
  {
   "cell_type": "code",
   "execution_count": null,
   "id": "0c84b886",
   "metadata": {},
   "outputs": [],
   "source": [
    "# Selects wines for which price is not missing\n",
    "wine_reviews.loc[wine_reviews.price.notna()] # The opposite of \"nota\" is \"isna\""
   ]
  },
  {
   "cell_type": "markdown",
   "id": "170481da",
   "metadata": {},
   "source": [
    "### Your turn !"
   ]
  },
  {
   "cell_type": "markdown",
   "id": "f84565d8",
   "metadata": {},
   "source": [
    "#### Exercice 4\n",
    "\n",
    "Select the `description` column from `wine_reviews` and assign the result to the variable `desc`.\n",
    "\n",
    "What type of object is `desc` ?"
   ]
  },
  {
   "cell_type": "code",
   "execution_count": null,
   "id": "5fba7098",
   "metadata": {},
   "outputs": [],
   "source": [
    "desc = wine_reviews['description']"
   ]
  },
  {
   "cell_type": "code",
   "execution_count": null,
   "id": "0c6a11eb",
   "metadata": {},
   "outputs": [],
   "source": [
    "type(desc)"
   ]
  },
  {
   "cell_type": "markdown",
   "id": "d02f64a7",
   "metadata": {},
   "source": [
    "#### Exercise 5\n",
    "\n",
    "Select the first value from the description column of `reviews`, assigning it to variable `first_description`."
   ]
  },
  {
   "cell_type": "code",
   "execution_count": null,
   "id": "6a6f795d",
   "metadata": {},
   "outputs": [],
   "source": [
    "first_description = wine_reviews.loc[0, 'description']\n",
    "first_description"
   ]
  },
  {
   "cell_type": "markdown",
   "id": "7ecf520f",
   "metadata": {},
   "source": [
    "#### Exercise 6 \n",
    "\n",
    "Select the first row of data (the first record) from `reviews`, assigning it to the variable `first_row`."
   ]
  },
  {
   "cell_type": "code",
   "execution_count": null,
   "id": "293a1dab",
   "metadata": {},
   "outputs": [],
   "source": []
  },
  {
   "cell_type": "markdown",
   "id": "4b61ca94",
   "metadata": {},
   "source": [
    "#### Exercise 7\n",
    "\n",
    "Select the first 10 values from the `description` column in `reviews`, assigning the result to variable `first_descriptions`.\n",
    "\n",
    "Hint: format your output as a pandas Series."
   ]
  },
  {
   "cell_type": "code",
   "execution_count": null,
   "id": "6a04ff94",
   "metadata": {},
   "outputs": [],
   "source": []
  },
  {
   "cell_type": "markdown",
   "id": "998019e2",
   "metadata": {},
   "source": [
    "#### Exercise 8\n",
    "\n",
    "Select the records with index labels `1`, `2`, `3`, `5`, and `8`, assigning the result to the variable `sample_reviews`.\n",
    "\n",
    "In other words, generate the following DataFrame:\n",
    "\n",
    "![](https://i.imgur.com/sHZvI1O.png)"
   ]
  },
  {
   "cell_type": "markdown",
   "id": "7b3a5a92",
   "metadata": {},
   "source": [
    "#### Exercise 9\n",
    "\n",
    "Create a variable `df` containing the `country`, `province`, `region_1`, and `region_2` columns of the records with the index labels `0`, `1`, `10`, and `100`. In other words, generate the following DataFrame:\n",
    "\n",
    "![](https://i.imgur.com/FUCGiKP.png)"
   ]
  },
  {
   "cell_type": "code",
   "execution_count": null,
   "id": "3f28166b",
   "metadata": {},
   "outputs": [],
   "source": [
    "columns=['country', 'province', 'region_1', 'region_2']\n",
    "wine_reviews[columns].head()"
   ]
  },
  {
   "cell_type": "code",
   "execution_count": null,
   "id": "38c3bf82",
   "metadata": {},
   "outputs": [],
   "source": [
    "indices=[0, 1, 10, 100]\n",
    "df=wine_reviews.loc[indices, columns]\n",
    "\n",
    "df"
   ]
  },
  {
   "cell_type": "markdown",
   "id": "64ff8151",
   "metadata": {},
   "source": [
    "#### Exercise 10\n",
    "\n",
    "Create a variable `df` containing the `country` and `variety` columns of the first 100 records."
   ]
  },
  {
   "cell_type": "markdown",
   "id": "c25c9c1e",
   "metadata": {},
   "source": [
    "#### Exercise 11\n",
    "\n",
    "Create a DataFrame `italian_wines` containing reviews of wines made in `Italy`."
   ]
  },
  {
   "cell_type": "markdown",
   "id": "792ce0bb",
   "metadata": {},
   "source": [
    "#### Exercise 12\n",
    "\n",
    "Create a DataFrame `top_oceania_wines` containing all reviews with at least 95 points (out of 100) for wines from Australia or New Zealand."
   ]
  },
  {
   "cell_type": "markdown",
   "id": "c6caf876",
   "metadata": {},
   "source": [
    "### Assigning data"
   ]
  },
  {
   "cell_type": "code",
   "execution_count": null,
   "id": "f17dd0fe",
   "metadata": {},
   "outputs": [],
   "source": [
    "# True if the point of the wine is larger than the average number of points in the data\n",
    "wine_reviews['points_larger_average'] = (wine_reviews['points'] > wine_reviews['points'].mean())\n",
    "wine_reviews['points_larger_average'].value_counts()"
   ]
  },
  {
   "cell_type": "code",
   "execution_count": null,
   "id": "9ddeb544",
   "metadata": {
    "scrolled": true
   },
   "outputs": [],
   "source": [
    "wine_reviews['critic'] = 'everyone'\n",
    "wine_reviews['critic'].head()"
   ]
  },
  {
   "cell_type": "code",
   "execution_count": null,
   "id": "cb51f2ed",
   "metadata": {},
   "outputs": [],
   "source": [
    "wine_reviews['index_backwards'] = range(len(wine_reviews), 0, -1)\n",
    "wine_reviews['index_backwards'].head()"
   ]
  },
  {
   "cell_type": "markdown",
   "id": "6a119d2b",
   "metadata": {},
   "source": [
    "### Your Turn !"
   ]
  },
  {
   "cell_type": "markdown",
   "id": "abd50824",
   "metadata": {},
   "source": [
    "#### Exercise 13\n",
    "\n",
    "What is the median of the `points` column in the `reviews` DataFrame?"
   ]
  },
  {
   "cell_type": "markdown",
   "id": "3efbf17d",
   "metadata": {},
   "source": [
    "#### Exercise 14\n",
    "\n",
    "What countries are represented in the dataset? (Your answer should not include any duplicates.)"
   ]
  },
  {
   "cell_type": "markdown",
   "id": "0f9a9182",
   "metadata": {},
   "source": [
    "#### Exercise 15\n",
    "\n",
    "How often does each country appear in the dataset? Create a Series `reviews_per_country` mapping countries to the count of reviews of wines from that country."
   ]
  },
  {
   "cell_type": "markdown",
   "id": "4bd6d85b",
   "metadata": {},
   "source": [
    "### Applying functions\n",
    "\n",
    "`pandas` is a very flexible package, with a `wide variety of optimised methods. However, it is common to to need unimplemented methods.\n",
    "\n",
    "#### 2 main methods: `apply`vs. `map`\n",
    "- `map` \n",
    "    - operates on each element of a Series\n",
    "    - returns a Series\n",
    "    - map is map is optimised for elementwise mappings and transformation\n",
    "        - e.g., `df['A'].map({1:'a', 2:'b', 3:'c'})`\n",
    "\n",
    "- `apply`\n",
    "    - operates on entire rows or columns at a time\n",
    "    - returns a Dataframe\n",
    "\n",
    "#### `lambda` functions  \n",
    "In this case, `lambda` functions are often used. For example, if you want create a variable that does some complicated computation:"
   ]
  },
  {
   "cell_type": "code",
   "execution_count": null,
   "id": "2fcced5f",
   "metadata": {},
   "outputs": [],
   "source": [
    "def token_eg(x):\n",
    "    return x-1"
   ]
  },
  {
   "cell_type": "code",
   "execution_count": null,
   "id": "de0ac51d",
   "metadata": {},
   "outputs": [],
   "source": [
    "wine_reviews['points_1'] = wine_reviews['points'].map(token_eg)\n",
    "wine_reviews[['points', 'points_1']].head()"
   ]
  },
  {
   "cell_type": "code",
   "execution_count": null,
   "id": "77e33385",
   "metadata": {},
   "outputs": [],
   "source": [
    "# equivalent to above\n",
    "def token_eg2(x, y):\n",
    "    return x-1-y\n",
    "\n",
    "wine_reviews['points_1'] = wine_reviews['points'].map(lambda a: token_eg2(x=a,y=2))\n",
    "wine_reviews[['points', 'points_1']].head()"
   ]
  },
  {
   "cell_type": "code",
   "execution_count": null,
   "id": "9c188c3d",
   "metadata": {},
   "outputs": [],
   "source": [
    "review_points_mean = wine_reviews['points'].mean()\n",
    "points_remean = wine_reviews['points'].map(lambda p: p - review_points_mean)\n",
    "points_remean"
   ]
  },
  {
   "cell_type": "markdown",
   "id": "ed63ca5d",
   "metadata": {},
   "source": [
    "Or if you want to select the observations with a country whose name is longer than 10 characters:"
   ]
  },
  {
   "cell_type": "code",
   "execution_count": null,
   "id": "2ae0e919",
   "metadata": {},
   "outputs": [],
   "source": [
    "wine_reviews['country'].apply(lambda s: len(str(s))>10)"
   ]
  },
  {
   "cell_type": "code",
   "execution_count": null,
   "id": "65a66edc",
   "metadata": {},
   "outputs": [],
   "source": []
  },
  {
   "cell_type": "code",
   "execution_count": null,
   "id": "71e25321",
   "metadata": {},
   "outputs": [],
   "source": [
    "wine_reviews[wine_reviews['country'].apply(lambda s: len(str(s))>10)].head()"
   ]
  },
  {
   "cell_type": "code",
   "execution_count": null,
   "id": "06d0dc4d",
   "metadata": {},
   "outputs": [],
   "source": [
    "# Applying directly a home-made function\n",
    "\n",
    "review_points_mean = wine_reviews.points.mean()\n",
    "\n",
    "def remean_points(row):\n",
    "    row.points = row.points - review_points_mean\n",
    "    return row\n",
    "\n",
    "wine_reviews.apply(remean_points, axis='columns')"
   ]
  },
  {
   "cell_type": "markdown",
   "id": "1166893c",
   "metadata": {},
   "source": [
    "If we had called `wine_reviews.apply()` with `axis='index'`, then instead of passing afunction to transform each row, we would need to give a function to transform each column.\n",
    "\n",
    "Note that `map()` and `apply()` return new, transformed `Series` and `DataFrames`, respectively. They don’t modify the original data they’re called on."
   ]
  },
  {
   "cell_type": "code",
   "execution_count": null,
   "id": "f1c4abda",
   "metadata": {
    "scrolled": true
   },
   "outputs": [],
   "source": [
    "review_points_mean = wine_reviews.points.mean()\n",
    "points_remean = wine_reviews.points - review_points_mean\n",
    "print(points_remean)\n",
    "\n",
    "print(wine_reviews.country + \" - \" + wine_reviews.region_1)"
   ]
  },
  {
   "cell_type": "markdown",
   "id": "538ecdb8",
   "metadata": {},
   "source": [
    "### Your Turn !"
   ]
  },
  {
   "cell_type": "markdown",
   "id": "ae717ede",
   "metadata": {},
   "source": [
    "#### Exercise 16\n",
    "\n",
    "Create variable `centered_price` containing a version of the `price` column with the mean price subtracted."
   ]
  },
  {
   "cell_type": "markdown",
   "id": "bbb39f53",
   "metadata": {},
   "source": [
    "#### Exercise 17 \n",
    "\n",
    "I'm an economical wine buyer. Which wine is the \"best bargain\"? Create a variable `bargain_wine` with the title of the wine with the highest points-to-price ratio in the dataset."
   ]
  },
  {
   "cell_type": "markdown",
   "id": "b040df8e",
   "metadata": {},
   "source": [
    "#### Exercise 18\n",
    "\n",
    "There are only so many words you can use when describing a bottle of wine. Is a wine more likely to be \"tropical\" or \"fruity\"? Create a Series `descriptor_counts` counting how many times each of these two words appears in the `description` column in the dataset.\n",
    "\n",
    "Steps: \n",
    "1. Create 2 columns containing the boolean information on whether tropical (fruity) is contained in the description\n",
    "2. Sum over the values"
   ]
  },
  {
   "cell_type": "code",
   "execution_count": null,
   "id": "f54b780a",
   "metadata": {},
   "outputs": [],
   "source": [
    "s = wine_reviews.loc[1, 'description']\n",
    "\n",
    "\"tropical\" in str(s)"
   ]
  },
  {
   "cell_type": "code",
   "execution_count": null,
   "id": "4db4de82",
   "metadata": {},
   "outputs": [],
   "source": [
    "wine_reviews['is_trop'] = wine_reviews['description'].apply(lambda s: \"ropical\" in str(s))\n",
    "wine_reviews['is_frui'] = wine_reviews['description'].apply(lambda s: \"fruity\" in s)\n",
    "wine_reviews[['description','is_trop','is_frui']].head()"
   ]
  },
  {
   "cell_type": "code",
   "execution_count": null,
   "id": "8cfc8745",
   "metadata": {},
   "outputs": [],
   "source": [
    "wine_reviews[['is_trop']].sum()"
   ]
  },
  {
   "cell_type": "code",
   "execution_count": null,
   "id": "23f21484",
   "metadata": {},
   "outputs": [],
   "source": [
    "wine_reviews['description'].str.count('ropical').sum()\n",
    "#wine_reviews['description'].str.count('fruity').sum()"
   ]
  },
  {
   "cell_type": "code",
   "execution_count": null,
   "id": "b895f676",
   "metadata": {},
   "outputs": [],
   "source": [
    "wine_reviews['points'].value_counts()"
   ]
  },
  {
   "cell_type": "markdown",
   "id": "78229c96",
   "metadata": {},
   "source": [
    "#### Exercise 19\n",
    "\n",
    "We'd like to host these wine reviews on our website, but a rating system ranging from 80 to 100 points is too hard to understand - we'd like to translate them into simple star ratings. A score of 95 or higher counts as 3 stars, a score of at least 85 but less than 95 is 2 stars. Any other score is 1 star.\n",
    "\n",
    "Also, the Canadian Vintners Association bought a lot of ads on the site, so any wines from Canada should automatically get 3 stars, regardless of points.\n",
    "\n",
    "Create a series `star_ratings` with the number of stars corresponding to each review in the dataset."
   ]
  },
  {
   "cell_type": "code",
   "execution_count": null,
   "id": "9cabf296",
   "metadata": {},
   "outputs": [],
   "source": []
  },
  {
   "cell_type": "markdown",
   "id": "a6734fde",
   "metadata": {},
   "source": [
    "### Groupwise analysis\n",
    "\n",
    "The group operations follow the `split`-`apply`-`combine` approach:\n",
    "![Split-apply-combine](https://unlhcc.github.io/r-novice-gapminder/fig/12-plyr-fig1.png)\n",
    "\n",
    "Cf. this [tutorial](https://realpython.com/pandas-groupby/) \n",
    "\n",
    "The following example groups the observations by the number of point:"
   ]
  },
  {
   "cell_type": "code",
   "execution_count": null,
   "id": "cd953907",
   "metadata": {},
   "outputs": [],
   "source": [
    "wine_reviews['points'].value_counts()"
   ]
  },
  {
   "cell_type": "code",
   "execution_count": null,
   "id": "d45f2cbe",
   "metadata": {},
   "outputs": [],
   "source": [
    "# Counts the number of wine by point received\n",
    "wine_reviews.groupby('points')['points'].count() # Same as value_counts()"
   ]
  },
  {
   "cell_type": "code",
   "execution_count": null,
   "id": "6c569e3b",
   "metadata": {},
   "outputs": [],
   "source": [
    "wine_reviews.groupby('points')['price'].min()"
   ]
  },
  {
   "cell_type": "code",
   "execution_count": null,
   "id": "687dc04c",
   "metadata": {},
   "outputs": [],
   "source": [
    "wine_reviews.groupby('winery').apply(lambda df: df['title'].iloc[0])"
   ]
  },
  {
   "cell_type": "code",
   "execution_count": null,
   "id": "e38c0891",
   "metadata": {},
   "outputs": [],
   "source": [
    "# Groupby can be done on several columns\n",
    "wine_reviews.groupby(['country', 'province']).apply(lambda df: df.loc[df['points'].idxmax()])"
   ]
  },
  {
   "cell_type": "markdown",
   "id": "35d69deb",
   "metadata": {},
   "source": [
    "Several operations can be applied at the same time, using the `agg` method:"
   ]
  },
  {
   "cell_type": "code",
   "execution_count": null,
   "id": "6d997305",
   "metadata": {},
   "outputs": [],
   "source": [
    "wine_reviews.groupby(['country'])['price'].agg([len, min, \"median\", max]) "
   ]
  },
  {
   "cell_type": "markdown",
   "id": "5e107516",
   "metadata": {},
   "source": [
    "### Multi-indexes"
   ]
  },
  {
   "cell_type": "code",
   "execution_count": null,
   "id": "eb585124",
   "metadata": {},
   "outputs": [],
   "source": [
    "countries = wine_reviews.groupby(['country', 'province']).description.agg([len])\n",
    "countries"
   ]
  },
  {
   "cell_type": "code",
   "execution_count": null,
   "id": "a44eca08",
   "metadata": {},
   "outputs": [],
   "source": [
    "countries.reset_index()"
   ]
  },
  {
   "cell_type": "markdown",
   "id": "bce2b235",
   "metadata": {},
   "source": [
    "### Sorting"
   ]
  },
  {
   "cell_type": "code",
   "execution_count": null,
   "id": "fcfd1f40",
   "metadata": {},
   "outputs": [],
   "source": [
    "countries.sort_values(by='len')\n",
    "countries.sort_values(by='len', ascending=False)\n",
    "countries.sort_index()\n",
    "countries.sort_values(by=['country', 'len'])"
   ]
  },
  {
   "cell_type": "markdown",
   "id": "875db51d",
   "metadata": {},
   "source": [
    "### Your Turn !"
   ]
  },
  {
   "cell_type": "markdown",
   "id": "0107a8a9",
   "metadata": {},
   "source": [
    "#### Exercise 20\n",
    "\n",
    "Who are the most common wine reviewers in the dataset? Create a `Series` whose index is the `taster_twitter_handle` category from the dataset, and whose values count how many reviews each person wrote."
   ]
  },
  {
   "cell_type": "markdown",
   "id": "24534978",
   "metadata": {},
   "source": [
    "#### Exercise 21\n",
    "\n",
    "What is the best wine I can buy for a given amount of money? Create a `Series` whose index is wine prices and whose values is the maximum number of points a wine costing that much was given in a review. Sort the values by price, ascending (so that `4.0` dollars is at the top and `3300.0` dollars is at the bottom)."
   ]
  },
  {
   "cell_type": "markdown",
   "id": "8eafd447",
   "metadata": {},
   "source": [
    "#### Exercise 22\n",
    "\n",
    "What are the minimum and maximum prices for each `variety` of wine? Create a `DataFrame` whose index is the `variety` category from the dataset and whose values are the `min` and `max` values thereof."
   ]
  },
  {
   "cell_type": "markdown",
   "id": "b0ef5cec",
   "metadata": {},
   "source": [
    "#### Exercise 23\n",
    "\n",
    "What are the most expensive wine varieties? Create a variable `sorted_varieties` containing a copy of the dataframe from the previous question where varieties are sorted in descending order based on minimum price, then on maximum price (to break ties)."
   ]
  },
  {
   "cell_type": "markdown",
   "id": "b5f0c043",
   "metadata": {},
   "source": [
    "#### Exercise 24\n",
    "\n",
    "Create a `Series` whose index is reviewers and whose values is the average review score given out by that reviewer. Hint: you will need the `taster_name` and `points` columns."
   ]
  },
  {
   "cell_type": "markdown",
   "id": "6fe72bb7",
   "metadata": {},
   "source": [
    "#### Exercise 25\n",
    "\n",
    "What combination of countries and varieties are most common? Create a `Series` whose index is a `MultiIndex`of `{country, variety}` pairs. For example, a pinot noir produced in the US should map to `{\"US\", \"Pinot Noir\"}`. Sort the values in the `Series` in descending order based on wine count."
   ]
  },
  {
   "cell_type": "markdown",
   "id": "70d6b064",
   "metadata": {},
   "source": [
    "### Data types"
   ]
  },
  {
   "cell_type": "code",
   "execution_count": null,
   "id": "a6126dfa",
   "metadata": {},
   "outputs": [],
   "source": [
    "wine_reviews.price.dtype\n",
    "wine_reviews.dtypes"
   ]
  },
  {
   "cell_type": "code",
   "execution_count": null,
   "id": "8f2b3cc1",
   "metadata": {},
   "outputs": [],
   "source": [
    "wine_reviews.points.astype('float64')"
   ]
  },
  {
   "cell_type": "markdown",
   "id": "ed11b4a9",
   "metadata": {},
   "source": [
    "#### Missing data"
   ]
  },
  {
   "cell_type": "markdown",
   "id": "c2e9a149",
   "metadata": {},
   "source": [
    "Entries missing values are given the value **NaN**, short for \"Not a Number\". For technical reasons these NaN values are always of the float64 dtype."
   ]
  },
  {
   "cell_type": "code",
   "execution_count": null,
   "id": "ebac6fcd",
   "metadata": {},
   "outputs": [],
   "source": [
    "wine_reviews[pd.isnull(wine_reviews.country)]"
   ]
  },
  {
   "cell_type": "code",
   "execution_count": null,
   "id": "a860eab6",
   "metadata": {},
   "outputs": [],
   "source": [
    "wine_reviews['price'].isna().shape"
   ]
  },
  {
   "cell_type": "code",
   "execution_count": null,
   "id": "2666b2b2",
   "metadata": {},
   "outputs": [],
   "source": [
    "wine_reviews['price'].notna().shape"
   ]
  },
  {
   "cell_type": "code",
   "execution_count": null,
   "id": "05fa95b7",
   "metadata": {},
   "outputs": [],
   "source": [
    "wine_reviews['region_2'].fillna(\"Unknown\") # replace missing values by \"Unknown\""
   ]
  },
  {
   "cell_type": "code",
   "execution_count": null,
   "id": "084149b6",
   "metadata": {},
   "outputs": [],
   "source": [
    "wine_reviews.taster_twitter_handle.replace(\"@kerinokeefe\", \"@kerino\")"
   ]
  },
  {
   "cell_type": "markdown",
   "id": "08aae118",
   "metadata": {},
   "source": [
    "### Renaming"
   ]
  },
  {
   "cell_type": "code",
   "execution_count": null,
   "id": "95b67341",
   "metadata": {},
   "outputs": [],
   "source": [
    "#dictionary_rename ={'old name': \"new name\",'old name 2': \"new name 2\" }"
   ]
  },
  {
   "cell_type": "code",
   "execution_count": null,
   "id": "cdd64eb5",
   "metadata": {},
   "outputs": [],
   "source": [
    "wine_reviews.rename(columns={'points': 'score'}, inplace = True)"
   ]
  },
  {
   "cell_type": "code",
   "execution_count": null,
   "id": "916bef1e",
   "metadata": {},
   "outputs": [],
   "source": [
    "wine_reviews.rename_axis(\"wines\", axis='rows').rename_axis(\"fields\", axis='columns')"
   ]
  },
  {
   "cell_type": "markdown",
   "id": "75bcd5d7",
   "metadata": {},
   "source": [
    "### Combining"
   ]
  },
  {
   "cell_type": "code",
   "execution_count": null,
   "id": "11523cfa",
   "metadata": {},
   "outputs": [],
   "source": [
    "# Do not run these lines\n",
    "# french_wines = pd.read_csv(\"your_directory.csv\")\n",
    "# british_wines = pd.read_csv(\"your_directory.csv\")\n",
    "\n",
    "# pd.concat([french_wines, british_wines])"
   ]
  },
  {
   "cell_type": "code",
   "execution_count": null,
   "id": "6236a404",
   "metadata": {},
   "outputs": [],
   "source": [
    "# Do not run these lines\n",
    "# left = french_wines.set_index(['shared_index1', 'shared_index2'])\n",
    "# right = british_wines.set_index(['shared_index1', 'shared_index2'])\n",
    "\n",
    "# left.join(right, lsuffix='_FR', rsuffix='_UK')"
   ]
  },
  {
   "cell_type": "markdown",
   "id": "6c1f7ca3",
   "metadata": {},
   "source": [
    "### Your Turn !"
   ]
  },
  {
   "cell_type": "markdown",
   "id": "397115c9",
   "metadata": {},
   "source": [
    "#### Exercise 26\n",
    "\n",
    "What is the data type of the `points` column in the dataset?"
   ]
  },
  {
   "cell_type": "markdown",
   "id": "2d443054",
   "metadata": {},
   "source": [
    "#### Exercise 27\n",
    "\n",
    "Create a Series from entries in the `points` column, but convert the entries to strings. Hint: strings are `str` in native Python."
   ]
  },
  {
   "cell_type": "markdown",
   "id": "c0bd961e",
   "metadata": {},
   "source": [
    "#### Exercise 28\n",
    "\n",
    "Sometimes the price column is null. How many reviews in the dataset are missing a price?"
   ]
  },
  {
   "cell_type": "markdown",
   "id": "3d9551d8",
   "metadata": {},
   "source": [
    "#### Exercise 29\n",
    "\n",
    "What are the most common wine-producing regions? Create a Series counting the number of times each value occurs in the `region_1` field. This field is often missing data, so replace missing values with `Unknown`. Sort in descending order.  Your output should look something like this:\n",
    "\n",
    "```\n",
    "Unknown                    21247\n",
    "Napa Valley                 4480\n",
    "                           ...  \n",
    "Bardolino Superiore            1\n",
    "Primitivo del Tarantino        1\n",
    "Name: region_1, Length: 1230, dtype: int64\n",
    "```"
   ]
  },
  {
   "cell_type": "markdown",
   "id": "c794d600",
   "metadata": {},
   "source": [
    "#### Exercise 30"
   ]
  },
  {
   "cell_type": "code",
   "execution_count": null,
   "id": "71dca66b",
   "metadata": {},
   "outputs": [],
   "source": [
    "wine_reviews.head()"
   ]
  },
  {
   "cell_type": "markdown",
   "id": "f42160d8",
   "metadata": {},
   "source": [
    "`region_1` and `region_2` are pretty uninformative names for locale columns in the dataset. Create a copy of `reviews` with these columns renamed to `region` and `locale`, respectively."
   ]
  },
  {
   "cell_type": "markdown",
   "id": "e3e97176",
   "metadata": {},
   "source": [
    "#### Exercise 31\n",
    "\n",
    "Set the index name in the dataset to `wines`."
   ]
  }
 ],
 "metadata": {
  "kernelspec": {
   "display_name": "Python 3 (ipykernel)",
   "language": "python",
   "name": "python3"
  },
  "language_info": {
   "codemirror_mode": {
    "name": "ipython",
    "version": 3
   },
   "file_extension": ".py",
   "mimetype": "text/x-python",
   "name": "python",
   "nbconvert_exporter": "python",
   "pygments_lexer": "ipython3",
   "version": "3.12.6"
  },
  "toc": {
   "base_numbering": 1,
   "nav_menu": {},
   "number_sections": false,
   "sideBar": true,
   "skip_h1_title": false,
   "title_cell": "Table of Contents",
   "title_sidebar": "Contents",
   "toc_cell": false,
   "toc_position": {},
   "toc_section_display": true,
   "toc_window_display": false
  },
  "vscode": {
   "interpreter": {
    "hash": "a665b5d41d17b532ea9890333293a1b812fa0b73c9c25c950b3cedf1bebd0438"
   }
  }
 },
 "nbformat": 4,
 "nbformat_minor": 5
}
