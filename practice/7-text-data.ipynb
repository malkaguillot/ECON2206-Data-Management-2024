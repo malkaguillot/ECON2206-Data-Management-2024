{
 "cells": [
  {
   "cell_type": "markdown",
   "metadata": {
    "id": "AVWVpADuX3Gq"
   },
   "source": [
    "# Data management\n",
    "\n",
    "### Introduction to Text Data\n",
    "\n",
    "## [Malka Guillot](https://malkaguillot.github.io/)\n",
    "\n",
    "### HEC Liège | [ECON2306]()\n",
    "\n",
    "This notebook provides an introduction to the basic tools for text analytics."
   ]
  },
  {
   "cell_type": "markdown",
   "metadata": {
    "id": "tn84f539X3Gs"
   },
   "source": [
    "### Set up environment"
   ]
  },
  {
   "cell_type": "code",
   "execution_count": 1,
   "metadata": {
    "colab": {
     "base_uri": "https://localhost:8080/"
    },
    "id": "R4t0s-6aX3Gs",
    "outputId": "7fa9cf5c-d8cd-4283-8311-b9d54ca94f8a"
   },
   "outputs": [
    {
     "name": "stderr",
     "output_type": "stream",
     "text": [
      "[nltk_data] Downloading package stopwords to /root/nltk_data...\n",
      "[nltk_data]   Package stopwords is already up-to-date!\n",
      "[nltk_data] Downloading package punkt_tab to /root/nltk_data...\n",
      "[nltk_data]   Package punkt_tab is already up-to-date!\n",
      "[nltk_data] Downloading package wordnet to /root/nltk_data...\n",
      "[nltk_data]   Package wordnet is already up-to-date!\n",
      "[nltk_data] Downloading package averaged_perceptron_tagger to\n",
      "[nltk_data]     /root/nltk_data...\n",
      "[nltk_data]   Package averaged_perceptron_tagger is already up-to-\n",
      "[nltk_data]       date!\n",
      "[nltk_data] Downloading package vader_lexicon to /root/nltk_data...\n",
      "[nltk_data]   Package vader_lexicon is already up-to-date!\n"
     ]
    },
    {
     "data": {
      "text/plain": [
       "True"
      ]
     },
     "execution_count": 1,
     "metadata": {},
     "output_type": "execute_result"
    }
   ],
   "source": [
    "#!pip install unidecode\n",
    "#!pip install googletrans\n",
    "#!pip install gensim\n",
    "#!pip install spacy\n",
    "#!pip install wordcloud\n",
    "#!pip install pyldavis\n",
    "\n",
    "#!python -m spacy download en_core_web_sm\n",
    "#!python -m spacy download en_core_web_lg\n",
    "\n",
    "import nltk\n",
    "nltk.download('stopwords')\n",
    "nltk.download('punkt_tab')\n",
    "nltk.download('wordnet')\n",
    "nltk.download('averaged_perceptron_tagger')\n",
    "nltk.download('vader_lexicon')"
   ]
  },
  {
   "cell_type": "code",
   "execution_count": 2,
   "metadata": {
    "id": "JKAKITOTX3Gt"
   },
   "outputs": [],
   "source": [
    "# Common imports\n",
    "import numpy as np\n",
    "import os\n",
    "import pandas as pd\n",
    "\n",
    "# To plot pretty figures\n",
    "%matplotlib inline\n",
    "%config InlineBackend.figure_format = 'retina'\n",
    "import matplotlib as mpl\n",
    "import matplotlib.pyplot as plt\n",
    "#%matplotlib notebook\n",
    "mpl.rc('axes', labelsize=14)\n",
    "mpl.rc('xtick', labelsize=12)\n",
    "mpl.rc('ytick', labelsize=12)\n",
    "\n",
    "import seaborn as sns\n",
    "import warnings\n",
    "warnings.filterwarnings('ignore', category=FutureWarning)\n",
    "warnings.filterwarnings('ignore', category=DeprecationWarning)\n",
    "warnings.filterwarnings = lambda *a, **kw: None\n",
    "\n",
    "# to make this notebook's output identical at every run\n",
    "np.random.seed(42)"
   ]
  },
  {
   "cell_type": "code",
   "execution_count": 3,
   "metadata": {
    "id": "Vt7aj2WTX3Gt"
   },
   "outputs": [],
   "source": [
    "# Scikit-Learn ≥0.20 is required\n",
    "import sklearn"
   ]
  },
  {
   "cell_type": "markdown",
   "metadata": {
    "id": "aC57u4m7X7Jx"
   },
   "source": [
    "## Set up the data"
   ]
  },
  {
   "cell_type": "markdown",
   "metadata": {
    "id": "FLfZaLtpX3Gu"
   },
   "source": [
    "We use as an example the **20 Newsgroups** ([[http://qwone.com/~jason/20Newsgroups/]]) dataset (from `sklearn`), a collection of about 20,000 newsgroup (message forum) documents."
   ]
  },
  {
   "cell_type": "code",
   "execution_count": 4,
   "metadata": {
    "colab": {
     "base_uri": "https://localhost:8080/"
    },
    "id": "8aZy2q7sX3Gu",
    "outputId": "6d38e078-b073-444f-ef72-9d41316e0a5e"
   },
   "outputs": [
    {
     "data": {
      "text/plain": [
       "dict_keys(['data', 'filenames', 'target_names', 'target', 'DESCR'])"
      ]
     },
     "execution_count": 4,
     "metadata": {},
     "output_type": "execute_result"
    }
   ],
   "source": [
    "from sklearn.datasets import fetch_20newsgroups\n",
    "data = fetch_20newsgroups() # object is a dictionary\n",
    "data.keys()"
   ]
  },
  {
   "cell_type": "markdown",
   "metadata": {
    "id": "NF9dztMYX3Gv"
   },
   "source": [
    "Data Set Characteristics:"
   ]
  },
  {
   "cell_type": "code",
   "execution_count": 5,
   "metadata": {
    "id": "quXZA0DNX3Gv",
    "scrolled": true
   },
   "outputs": [],
   "source": [
    "#print(data['DESCR'])"
   ]
  },
  {
   "cell_type": "code",
   "execution_count": 6,
   "metadata": {
    "colab": {
     "base_uri": "https://localhost:8080/"
    },
    "id": "KT9_lvGGX3Gw",
    "outputId": "7ff89c8c-e4a2-4896-a984-c5c49c71d4b9"
   },
   "outputs": [
    {
     "data": {
      "text/plain": [
       "11314"
      ]
     },
     "execution_count": 6,
     "metadata": {},
     "output_type": "execute_result"
    }
   ],
   "source": [
    "W, y = data.data, data.target\n",
    "n_samples = y.shape[0]\n",
    "n_samples"
   ]
  },
  {
   "cell_type": "code",
   "execution_count": 7,
   "metadata": {
    "colab": {
     "base_uri": "https://localhost:8080/"
    },
    "id": "j5UTduoaX3Gw",
    "outputId": "a687b898-4b2d-430a-a185-6198a6f9472a"
   },
   "outputs": [
    {
     "data": {
      "text/plain": [
       "array([ 7,  4,  4,  1, 14, 16, 13,  3,  2,  4])"
      ]
     },
     "execution_count": 7,
     "metadata": {},
     "output_type": "execute_result"
    }
   ],
   "source": [
    "y[:10] # news story categories"
   ]
  },
  {
   "cell_type": "markdown",
   "metadata": {
    "id": "PtNyiupPTOch"
   },
   "source": [
    "`W` is  list of documents:"
   ]
  },
  {
   "cell_type": "code",
   "execution_count": 8,
   "metadata": {
    "colab": {
     "base_uri": "https://localhost:8080/",
     "height": 1000
    },
    "id": "J3c6guTaX3Gx",
    "outputId": "be5b18e3-ae5c-4c5e-b974-201acfb8b8c6"
   },
   "outputs": [
    {
     "data": {
      "application/vnd.google.colaboratory.intrinsic+json": {
       "type": "string"
      },
      "text/plain": [
       "\"From: lerxst@wam.umd.edu (where's my thing)\\nSubject: WHAT car is this!?\\nNntp-Posting-Host: rac3.wam.umd.edu\\nOrganization: University of Maryland, College Park\\nLines: 15\\n\\n I was wondering if anyone out there could enlighten me on this car I saw\\nthe other day. It was a 2-door sports car, looked to be from the late 60s/\\nearly 70s. It was called a Bricklin. The doors were really small. In addition,\\nthe front bumper was separate from the rest of the body. This is \\nall I know. If anyone can tellme a model name, engine specs, years\\nof production, where this car is made, history, or whatever info you\\nhave on this funky looking car, please e-mail.\\n\\nThanks,\\n- IL\\n   ---- brought to you by your neighborhood Lerxst ----\\n\\n\\n\\n\\n\""
      ]
     },
     "execution_count": 8,
     "metadata": {},
     "output_type": "execute_result"
    }
   ],
   "source": [
    "doc = W[0]\n",
    "doc"
   ]
  },
  {
   "cell_type": "markdown",
   "metadata": {
    "id": "_TKMqRWSX3Gx"
   },
   "source": [
    "**Make a pandas dataframe**"
   ]
  },
  {
   "cell_type": "code",
   "execution_count": 9,
   "metadata": {
    "colab": {
     "base_uri": "https://localhost:8080/",
     "height": 330
    },
    "id": "UsUFLXJvX3Gx",
    "outputId": "13190090-9b71-4fdd-e8c0-4c203d55caa6"
   },
   "outputs": [
    {
     "data": {
      "application/vnd.google.colaboratory.intrinsic+json": {
       "summary": "{\n  \"name\": \"df\",\n  \"rows\": 11314,\n  \"fields\": [\n    {\n      \"column\": \"text\",\n      \"properties\": {\n        \"dtype\": \"string\",\n        \"num_unique_values\": 11314,\n        \"samples\": [\n          \"From: rrn@po.CWRU.Edu (Robert R. Novitskey)\\nSubject: CYCLONE AND TEMPEST?????\\nArticle-I.D.: usenet.1pskav$qtu\\nReply-To: rrn@po.CWRU.Edu (Robert R. Novitskey)\\nOrganization: Case Western Reserve University, Cleveland, OH (USA)\\nLines: 10\\nNNTP-Posting-Host: thor.ins.cwru.edu\\n\\n\\nCould someone please post any info on these systems.\\n\\nThanks.\\nBoB\\n-- \\n---------------------------------------------------------------------- \\nRobert Novitskey | \\\"Pursuing women is similar to banging one's head\\nrrn@po.cwru.edu  |  against a wall...with less opportunity for reward\\\" \\n---------------------------------------------------------------------- \\n\",\n          \"From: ardie@ux1.cso.uiuc.edu (Ardie Mack)\\nSubject: Re: does dos6 defragment??\\nArticle-I.D.: ux1.ardie.272.734097933\\nOrganization: Department of Plant Pathology\\nLines: 30\\n\\nIn article <1993Apr6.040254.8443@cs.brown.edu> ksl@engin1.NoSubdomain.NoDomain (Kiseok Lee  ) writes:\\n>From: ksl@engin1.NoSubdomain.NoDomain (Kiseok Lee  )\\n>Subject: Re: does dos6 defragment??\\n>Date: Tue, 6 Apr 1993 04:02:54 GMT\\n>In article <C51H9M.46p@news.cso.uiuc.edu>, rhc52134@uxa.cso.uiuc.edu (Richard) writes:\\n>|> Geoffrey S. Elbo writes:\\n>|> \\n>|> >Yes, and it is the fastest defrag I've ever watched.  It did a 170MB \\n>|> >hard disk in 20 minutes.\\n>|> \\n>|> \\tI found the MS defrag looks very much like Norton Speedisk.\\n>|> Is it just a strip-down version of the later?\\n>|> \\n>|> \\tI have both Norton Speedisk and Backup, so I was wondering \\n>|> if I need to install MS Backup?\\n>|> \\n>|> Richard\\n>|> \\n>\\n>Yes, defragger IS come from Norton.\\n>If you have Norton Utility, don't bother.\\n\\n\\n     Don't bother if you have CPBackup or Fastback.  They all offer options \\nnot available in the stripped-down MS version (FROM CPS!).  Examples - no \\nproprietary format (to save space), probably no direct DMA access, and no \\ntape drive!\\n\\n     You NEED MS Defrag if you use doublespace to work on the compressed \\nvolume.\\n\",\n          \"From: tsa@cellar.org (The Silent Assassin)\\nSubject: For Sale:  Misc IBM stuff\\nOrganization: The Cellar BBS and public access system\\nLines: 10\\n\\n5.25\\\" Internal Low density disk drive.\\n\\nMonochrome monitor\\n\\n8088 motherboard, built in parallel and serial ports, built in mono and\\ncolor output, 7Mhz.\\n\\nLibertarian, atheist, semi-anarchal Techno-Rat.\\n\\nI define myself--tsa@cellar.org\\n\"\n        ],\n        \"semantic_type\": \"\",\n        \"description\": \"\"\n      }\n    },\n    {\n      \"column\": \"topic\",\n      \"properties\": {\n        \"dtype\": \"number\",\n        \"std\": 5,\n        \"min\": 0,\n        \"max\": 19,\n        \"num_unique_values\": 20,\n        \"samples\": [\n          7,\n          17,\n          9\n        ],\n        \"semantic_type\": \"\",\n        \"description\": \"\"\n      }\n    }\n  ]\n}",
       "type": "dataframe",
       "variable_name": "df"
      },
      "text/html": [
       "\n",
       "  <div id=\"df-e886a975-56d5-4d13-8309-956768c9bfa3\" class=\"colab-df-container\">\n",
       "    <div>\n",
       "<style scoped>\n",
       "    .dataframe tbody tr th:only-of-type {\n",
       "        vertical-align: middle;\n",
       "    }\n",
       "\n",
       "    .dataframe tbody tr th {\n",
       "        vertical-align: top;\n",
       "    }\n",
       "\n",
       "    .dataframe thead th {\n",
       "        text-align: right;\n",
       "    }\n",
       "</style>\n",
       "<table border=\"1\" class=\"dataframe\">\n",
       "  <thead>\n",
       "    <tr style=\"text-align: right;\">\n",
       "      <th></th>\n",
       "      <th>text</th>\n",
       "      <th>topic</th>\n",
       "    </tr>\n",
       "  </thead>\n",
       "  <tbody>\n",
       "    <tr>\n",
       "      <th>0</th>\n",
       "      <td>From: lerxst@wam.umd.edu (where's my thing)\\nS...</td>\n",
       "      <td>7</td>\n",
       "    </tr>\n",
       "    <tr>\n",
       "      <th>1</th>\n",
       "      <td>From: guykuo@carson.u.washington.edu (Guy Kuo)...</td>\n",
       "      <td>4</td>\n",
       "    </tr>\n",
       "    <tr>\n",
       "      <th>2</th>\n",
       "      <td>From: twillis@ec.ecn.purdue.edu (Thomas E Will...</td>\n",
       "      <td>4</td>\n",
       "    </tr>\n",
       "    <tr>\n",
       "      <th>3</th>\n",
       "      <td>From: jgreen@amber (Joe Green)\\nSubject: Re: W...</td>\n",
       "      <td>1</td>\n",
       "    </tr>\n",
       "    <tr>\n",
       "      <th>4</th>\n",
       "      <td>From: jcm@head-cfa.harvard.edu (Jonathan McDow...</td>\n",
       "      <td>14</td>\n",
       "    </tr>\n",
       "  </tbody>\n",
       "</table>\n",
       "</div>\n",
       "    <div class=\"colab-df-buttons\">\n",
       "\n",
       "  <div class=\"colab-df-container\">\n",
       "    <button class=\"colab-df-convert\" onclick=\"convertToInteractive('df-e886a975-56d5-4d13-8309-956768c9bfa3')\"\n",
       "            title=\"Convert this dataframe to an interactive table.\"\n",
       "            style=\"display:none;\">\n",
       "\n",
       "  <svg xmlns=\"http://www.w3.org/2000/svg\" height=\"24px\" viewBox=\"0 -960 960 960\">\n",
       "    <path d=\"M120-120v-720h720v720H120Zm60-500h600v-160H180v160Zm220 220h160v-160H400v160Zm0 220h160v-160H400v160ZM180-400h160v-160H180v160Zm440 0h160v-160H620v160ZM180-180h160v-160H180v160Zm440 0h160v-160H620v160Z\"/>\n",
       "  </svg>\n",
       "    </button>\n",
       "\n",
       "  <style>\n",
       "    .colab-df-container {\n",
       "      display:flex;\n",
       "      gap: 12px;\n",
       "    }\n",
       "\n",
       "    .colab-df-convert {\n",
       "      background-color: #E8F0FE;\n",
       "      border: none;\n",
       "      border-radius: 50%;\n",
       "      cursor: pointer;\n",
       "      display: none;\n",
       "      fill: #1967D2;\n",
       "      height: 32px;\n",
       "      padding: 0 0 0 0;\n",
       "      width: 32px;\n",
       "    }\n",
       "\n",
       "    .colab-df-convert:hover {\n",
       "      background-color: #E2EBFA;\n",
       "      box-shadow: 0px 1px 2px rgba(60, 64, 67, 0.3), 0px 1px 3px 1px rgba(60, 64, 67, 0.15);\n",
       "      fill: #174EA6;\n",
       "    }\n",
       "\n",
       "    .colab-df-buttons div {\n",
       "      margin-bottom: 4px;\n",
       "    }\n",
       "\n",
       "    [theme=dark] .colab-df-convert {\n",
       "      background-color: #3B4455;\n",
       "      fill: #D2E3FC;\n",
       "    }\n",
       "\n",
       "    [theme=dark] .colab-df-convert:hover {\n",
       "      background-color: #434B5C;\n",
       "      box-shadow: 0px 1px 3px 1px rgba(0, 0, 0, 0.15);\n",
       "      filter: drop-shadow(0px 1px 2px rgba(0, 0, 0, 0.3));\n",
       "      fill: #FFFFFF;\n",
       "    }\n",
       "  </style>\n",
       "\n",
       "    <script>\n",
       "      const buttonEl =\n",
       "        document.querySelector('#df-e886a975-56d5-4d13-8309-956768c9bfa3 button.colab-df-convert');\n",
       "      buttonEl.style.display =\n",
       "        google.colab.kernel.accessAllowed ? 'block' : 'none';\n",
       "\n",
       "      async function convertToInteractive(key) {\n",
       "        const element = document.querySelector('#df-e886a975-56d5-4d13-8309-956768c9bfa3');\n",
       "        const dataTable =\n",
       "          await google.colab.kernel.invokeFunction('convertToInteractive',\n",
       "                                                    [key], {});\n",
       "        if (!dataTable) return;\n",
       "\n",
       "        const docLinkHtml = 'Like what you see? Visit the ' +\n",
       "          '<a target=\"_blank\" href=https://colab.research.google.com/notebooks/data_table.ipynb>data table notebook</a>'\n",
       "          + ' to learn more about interactive tables.';\n",
       "        element.innerHTML = '';\n",
       "        dataTable['output_type'] = 'display_data';\n",
       "        await google.colab.output.renderOutput(dataTable, element);\n",
       "        const docLink = document.createElement('div');\n",
       "        docLink.innerHTML = docLinkHtml;\n",
       "        element.appendChild(docLink);\n",
       "      }\n",
       "    </script>\n",
       "  </div>\n",
       "\n",
       "\n",
       "<div id=\"df-f6facf6c-2c06-46f5-b4b9-db8f72acf142\">\n",
       "  <button class=\"colab-df-quickchart\" onclick=\"quickchart('df-f6facf6c-2c06-46f5-b4b9-db8f72acf142')\"\n",
       "            title=\"Suggest charts\"\n",
       "            style=\"display:none;\">\n",
       "\n",
       "<svg xmlns=\"http://www.w3.org/2000/svg\" height=\"24px\"viewBox=\"0 0 24 24\"\n",
       "     width=\"24px\">\n",
       "    <g>\n",
       "        <path d=\"M19 3H5c-1.1 0-2 .9-2 2v14c0 1.1.9 2 2 2h14c1.1 0 2-.9 2-2V5c0-1.1-.9-2-2-2zM9 17H7v-7h2v7zm4 0h-2V7h2v10zm4 0h-2v-4h2v4z\"/>\n",
       "    </g>\n",
       "</svg>\n",
       "  </button>\n",
       "\n",
       "<style>\n",
       "  .colab-df-quickchart {\n",
       "      --bg-color: #E8F0FE;\n",
       "      --fill-color: #1967D2;\n",
       "      --hover-bg-color: #E2EBFA;\n",
       "      --hover-fill-color: #174EA6;\n",
       "      --disabled-fill-color: #AAA;\n",
       "      --disabled-bg-color: #DDD;\n",
       "  }\n",
       "\n",
       "  [theme=dark] .colab-df-quickchart {\n",
       "      --bg-color: #3B4455;\n",
       "      --fill-color: #D2E3FC;\n",
       "      --hover-bg-color: #434B5C;\n",
       "      --hover-fill-color: #FFFFFF;\n",
       "      --disabled-bg-color: #3B4455;\n",
       "      --disabled-fill-color: #666;\n",
       "  }\n",
       "\n",
       "  .colab-df-quickchart {\n",
       "    background-color: var(--bg-color);\n",
       "    border: none;\n",
       "    border-radius: 50%;\n",
       "    cursor: pointer;\n",
       "    display: none;\n",
       "    fill: var(--fill-color);\n",
       "    height: 32px;\n",
       "    padding: 0;\n",
       "    width: 32px;\n",
       "  }\n",
       "\n",
       "  .colab-df-quickchart:hover {\n",
       "    background-color: var(--hover-bg-color);\n",
       "    box-shadow: 0 1px 2px rgba(60, 64, 67, 0.3), 0 1px 3px 1px rgba(60, 64, 67, 0.15);\n",
       "    fill: var(--button-hover-fill-color);\n",
       "  }\n",
       "\n",
       "  .colab-df-quickchart-complete:disabled,\n",
       "  .colab-df-quickchart-complete:disabled:hover {\n",
       "    background-color: var(--disabled-bg-color);\n",
       "    fill: var(--disabled-fill-color);\n",
       "    box-shadow: none;\n",
       "  }\n",
       "\n",
       "  .colab-df-spinner {\n",
       "    border: 2px solid var(--fill-color);\n",
       "    border-color: transparent;\n",
       "    border-bottom-color: var(--fill-color);\n",
       "    animation:\n",
       "      spin 1s steps(1) infinite;\n",
       "  }\n",
       "\n",
       "  @keyframes spin {\n",
       "    0% {\n",
       "      border-color: transparent;\n",
       "      border-bottom-color: var(--fill-color);\n",
       "      border-left-color: var(--fill-color);\n",
       "    }\n",
       "    20% {\n",
       "      border-color: transparent;\n",
       "      border-left-color: var(--fill-color);\n",
       "      border-top-color: var(--fill-color);\n",
       "    }\n",
       "    30% {\n",
       "      border-color: transparent;\n",
       "      border-left-color: var(--fill-color);\n",
       "      border-top-color: var(--fill-color);\n",
       "      border-right-color: var(--fill-color);\n",
       "    }\n",
       "    40% {\n",
       "      border-color: transparent;\n",
       "      border-right-color: var(--fill-color);\n",
       "      border-top-color: var(--fill-color);\n",
       "    }\n",
       "    60% {\n",
       "      border-color: transparent;\n",
       "      border-right-color: var(--fill-color);\n",
       "    }\n",
       "    80% {\n",
       "      border-color: transparent;\n",
       "      border-right-color: var(--fill-color);\n",
       "      border-bottom-color: var(--fill-color);\n",
       "    }\n",
       "    90% {\n",
       "      border-color: transparent;\n",
       "      border-bottom-color: var(--fill-color);\n",
       "    }\n",
       "  }\n",
       "</style>\n",
       "\n",
       "  <script>\n",
       "    async function quickchart(key) {\n",
       "      const quickchartButtonEl =\n",
       "        document.querySelector('#' + key + ' button');\n",
       "      quickchartButtonEl.disabled = true;  // To prevent multiple clicks.\n",
       "      quickchartButtonEl.classList.add('colab-df-spinner');\n",
       "      try {\n",
       "        const charts = await google.colab.kernel.invokeFunction(\n",
       "            'suggestCharts', [key], {});\n",
       "      } catch (error) {\n",
       "        console.error('Error during call to suggestCharts:', error);\n",
       "      }\n",
       "      quickchartButtonEl.classList.remove('colab-df-spinner');\n",
       "      quickchartButtonEl.classList.add('colab-df-quickchart-complete');\n",
       "    }\n",
       "    (() => {\n",
       "      let quickchartButtonEl =\n",
       "        document.querySelector('#df-f6facf6c-2c06-46f5-b4b9-db8f72acf142 button');\n",
       "      quickchartButtonEl.style.display =\n",
       "        google.colab.kernel.accessAllowed ? 'block' : 'none';\n",
       "    })();\n",
       "  </script>\n",
       "</div>\n",
       "\n",
       "    </div>\n",
       "  </div>\n"
      ],
      "text/plain": [
       "                                                text  topic\n",
       "0  From: lerxst@wam.umd.edu (where's my thing)\\nS...      7\n",
       "1  From: guykuo@carson.u.washington.edu (Guy Kuo)...      4\n",
       "2  From: twillis@ec.ecn.purdue.edu (Thomas E Will...      4\n",
       "3  From: jgreen@amber (Joe Green)\\nSubject: Re: W...      1\n",
       "4  From: jcm@head-cfa.harvard.edu (Jonathan McDow...     14"
      ]
     },
     "execution_count": 9,
     "metadata": {},
     "output_type": "execute_result"
    }
   ],
   "source": [
    "df = pd.DataFrame(W,columns=['text'])\n",
    "df['topic'] = y\n",
    "df.head()"
   ]
  },
  {
   "cell_type": "markdown",
   "metadata": {
    "id": "iNobNRswX3Gz",
    "toc-hr-collapsed": false
   },
   "source": [
    "## Dictionary Methods"
   ]
  },
  {
   "cell_type": "markdown",
   "metadata": {
    "id": "NcfbpBWwX3G0"
   },
   "source": [
    "### Sentiment Analysis"
   ]
  },
  {
   "cell_type": "code",
   "execution_count": 10,
   "metadata": {
    "colab": {
     "base_uri": "https://localhost:8080/"
    },
    "id": "Fk6-Hk3Oabe7",
    "outputId": "65154a09-d82f-4ec1-b538-119d6ff0b5ca"
   },
   "outputs": [
    {
     "name": "stderr",
     "output_type": "stream",
     "text": [
      "[nltk_data] Downloading package vader_lexicon to /root/nltk_data...\n",
      "[nltk_data]   Package vader_lexicon is already up-to-date!\n"
     ]
    },
    {
     "data": {
      "text/plain": [
       "True"
      ]
     },
     "execution_count": 10,
     "metadata": {},
     "output_type": "execute_result"
    }
   ],
   "source": [
    "#!pip install nltk\n",
    "import nltk\n",
    "\n",
    "# Download the lexicon\n",
    "nltk.download(\"vader_lexicon\")"
   ]
  },
  {
   "cell_type": "code",
   "execution_count": 11,
   "metadata": {
    "colab": {
     "base_uri": "https://localhost:8080/"
    },
    "id": "BtyImywyakk4",
    "outputId": "f0bda573-f90b-40da-ad82-4d9e3894fbb5"
   },
   "outputs": [
    {
     "name": "stdout",
     "output_type": "stream",
     "text": [
      "{'neg': 0.0, 'neu': 0.585, 'pos': 0.415, 'compound': 0.75}\n"
     ]
    }
   ],
   "source": [
    "# Import the lexicon\n",
    "from nltk.sentiment.vader import SentimentIntensityAnalyzer\n",
    "\n",
    "# Create an instance of SentimentIntensityAnalyzer\n",
    "sent_analyzer = SentimentIntensityAnalyzer()\n",
    "\n",
    "# Example\n",
    "sentence = \"VADER is pretty good at identifying the underlying sentiment of a text!\"\n",
    "print(sent_analyzer.polarity_scores(sentence))"
   ]
  },
  {
   "cell_type": "code",
   "execution_count": 12,
   "metadata": {
    "colab": {
     "base_uri": "https://localhost:8080/"
    },
    "id": "fhkGNm0oX3G0",
    "outputId": "dd1349ba-5677-47a7-f69b-bb38de228dcf"
   },
   "outputs": [
    {
     "name": "stdout",
     "output_type": "stream",
     "text": [
      "{'neg': 0.012, 'neu': 0.916, 'pos': 0.072, 'compound': 0.807}\n"
     ]
    }
   ],
   "source": [
    "# Dictionary-Based Sentiment Analysis\n",
    "\n",
    "sid = SentimentIntensityAnalyzer()\n",
    "polarity = sid.polarity_scores(doc)\n",
    "print(polarity)"
   ]
  },
  {
   "cell_type": "code",
   "execution_count": 13,
   "metadata": {
    "colab": {
     "base_uri": "https://localhost:8080/",
     "height": 1000
    },
    "id": "3-xE5r1bav7h",
    "outputId": "a3184508-cf78-438d-a64d-197acad9ac78"
   },
   "outputs": [
    {
     "data": {
      "application/vnd.google.colaboratory.intrinsic+json": {
       "type": "string"
      },
      "text/plain": [
       "\"From: lerxst@wam.umd.edu (where's my thing)\\nSubject: WHAT car is this!?\\nNntp-Posting-Host: rac3.wam.umd.edu\\nOrganization: University of Maryland, College Park\\nLines: 15\\n\\n I was wondering if anyone out there could enlighten me on this car I saw\\nthe other day. It was a 2-door sports car, looked to be from the late 60s/\\nearly 70s. It was called a Bricklin. The doors were really small. In addition,\\nthe front bumper was separate from the rest of the body. This is \\nall I know. If anyone can tellme a model name, engine specs, years\\nof production, where this car is made, history, or whatever info you\\nhave on this funky looking car, please e-mail.\\n\\nThanks,\\n- IL\\n   ---- brought to you by your neighborhood Lerxst ----\\n\\n\\n\\n\\n\""
      ]
     },
     "execution_count": 13,
     "metadata": {},
     "output_type": "execute_result"
    }
   ],
   "source": [
    "doc"
   ]
  },
  {
   "cell_type": "markdown",
   "metadata": {
    "id": "mo6w23ZHUhVH"
   },
   "source": [
    "The text transformation is often applied to a dataframe column:"
   ]
  },
  {
   "cell_type": "code",
   "execution_count": 14,
   "metadata": {
    "id": "0EqdbgPEX3G0"
   },
   "outputs": [],
   "source": [
    "# sample 20% of the dataset\n",
    "dfs = df.sample(frac=.2)\n",
    "\n",
    "# apply compound sentiment score to data-frame\n",
    "def get_sentiment(snippet):\n",
    "    return sid.polarity_scores(snippet)['compound']\n",
    "dfs['sentiment'] = dfs['text'].apply(get_sentiment)"
   ]
  },
  {
   "cell_type": "code",
   "execution_count": 15,
   "metadata": {
    "colab": {
     "base_uri": "https://localhost:8080/"
    },
    "id": "Y9pHkF9qX3G0",
    "outputId": "a153d961-798b-4fa5-989f-433ac569f96c"
   },
   "outputs": [
    {
     "data": {
      "text/plain": [
       "['CLINTON: AM Press Briefing by Dee Dee Myers -- 4.15.93\\nOrganization: Project GNU, Free Sof',\n",
       " ' Newsletter, Part 2/4\\nReply-To: david@stat.com (David Dodell)\\nDistribution: world\\nOrganiza',\n",
       " \"CLINTON: President's Remarks at Town Hall Meeting\\nOrganization: MIT Artificial Intelligenc\",\n",
       " 'Final Public Dragon Magazine Update (Last chance for public bids)\\nKeywords: Dragon Magazin',\n",
       " 'CLINTON: Background BRiefing in Vancouver 4.4.93\\nOrganization: Project GNU, Free Software ']"
      ]
     },
     "execution_count": 15,
     "metadata": {},
     "output_type": "execute_result"
    }
   ],
   "source": [
    "dfs.sort_values('sentiment',inplace=True)\n",
    "# print beginning of most positive documents\n",
    "[x[60:150] for x  in dfs[-5:]['text']]"
   ]
  },
  {
   "cell_type": "code",
   "execution_count": 16,
   "metadata": {
    "colab": {
     "base_uri": "https://localhost:8080/"
    },
    "id": "jAvYk2u7X3G0",
    "outputId": "fb740f0e-0fbe-43aa-ca23-2191377ca3da"
   },
   "outputs": [
    {
     "data": {
      "text/plain": [
       "['OSE OF FALKLANDS WAR\\nOrganization: University of Wisconsin Eau Claire\\nLines: 918\\n\\n\\n\\nSECRET PURPOSE O',\n",
       " 'ct: Re: Need info on 43:1 and suicide for refutation\\nOrganization: Ideology Busters, Inc.\\nDistributi',\n",
       " 'ews in LATVIA - some documents\\nArticle-I.D.: zuma.9304052018\\nReply-To: sera@zuma.UUCP (Serdar Argic)',\n",
       " ': Accounts of Anti-Armenian Human Rights Violations in Azerbaijan #013\\nSummary: Prelude to Current E',\n",
       " 'year the Turkish Nation is mourning and praying again for...\\nReply-To: sera@zuma.UUCP (Serdar Argic)']"
      ]
     },
     "execution_count": 16,
     "metadata": {},
     "output_type": "execute_result"
    }
   ],
   "source": [
    "# print beginning of most negative documents\n",
    "[x[50:150] for x  in dfs[:5]['text']]"
   ]
  },
  {
   "cell_type": "markdown",
   "metadata": {
    "id": "EW6EGI2I2W8b"
   },
   "source": [
    "### Dictionary specific to a corpus\n",
    "Counting sets of words or phrases across documents\n"
   ]
  },
  {
   "cell_type": "code",
   "execution_count": 17,
   "metadata": {
    "colab": {
     "base_uri": "https://localhost:8080/"
    },
    "id": "p8n1R7rv2WQQ",
    "outputId": "fae6d1ba-9ee6-47f9-cafd-9cdc3cabcdec"
   },
   "outputs": [
    {
     "data": {
      "text/plain": [
       "[('the', 1357),\n",
       " ('of', 645),\n",
       " ('to', 578),\n",
       " ('and', 548),\n",
       " ('a', 532),\n",
       " ('in', 427),\n",
       " ('i', 370),\n",
       " ('is', 360),\n",
       " ('that', 300),\n",
       " ('for', 250),\n",
       " ('it', 193),\n",
       " ('on', 189),\n",
       " ('you', 173),\n",
       " ('have', 161),\n",
       " ('be', 158),\n",
       " ('-', 156),\n",
       " ('with', 156),\n",
       " ('this', 148),\n",
       " ('are', 142),\n",
       " ('>', 140)]"
      ]
     },
     "execution_count": 17,
     "metadata": {},
     "output_type": "execute_result"
    }
   ],
   "source": [
    "from collections import Counter\n",
    "freqs = Counter()\n",
    "for i, row in df.iterrows():\n",
    "    freqs.update(row['text'].lower().split())\n",
    "    if i > 100:\n",
    "        break\n",
    "freqs.most_common()[:20] # can use most frequent words as style/function words"
   ]
  },
  {
   "cell_type": "markdown",
   "metadata": {
    "id": "vXJZ-A9WX3G0"
   },
   "source": [
    "### Removing words from a curpus vocabulary: StopWords"
   ]
  },
  {
   "cell_type": "code",
   "execution_count": 18,
   "metadata": {
    "colab": {
     "base_uri": "https://localhost:8080/"
    },
    "id": "cINwkb_tX3G1",
    "outputId": "c3abbc9c-dae6-4731-aad9-4a70fb1ba401",
    "scrolled": true
   },
   "outputs": [
    {
     "name": "stderr",
     "output_type": "stream",
     "text": [
      "[nltk_data] Downloading package stopwords to /root/nltk_data...\n",
      "[nltk_data]   Package stopwords is already up-to-date!\n"
     ]
    }
   ],
   "source": [
    "nltk.download('stopwords')\n",
    "from nltk.corpus import stopwords\n",
    "stopwords = set(stopwords.words('english'))"
   ]
  },
  {
   "cell_type": "code",
   "execution_count": 19,
   "metadata": {
    "colab": {
     "base_uri": "https://localhost:8080/"
    },
    "id": "BrdPVIHwVgPN",
    "outputId": "7d6168ee-9b4c-4ef3-b604-27f55ada1fec"
   },
   "outputs": [
    {
     "data": {
      "text/plain": [
       "['ma',\n",
       " 'under',\n",
       " 'a',\n",
       " 'mightn',\n",
       " 'shouldn',\n",
       " \"weren't\",\n",
       " 'y',\n",
       " 's',\n",
       " 'are',\n",
       " 'ourselves']"
      ]
     },
     "execution_count": 19,
     "metadata": {},
     "output_type": "execute_result"
    }
   ],
   "source": [
    "# Print the first 10 stopwords\n",
    "list(stopwords)[:10]"
   ]
  },
  {
   "cell_type": "code",
   "execution_count": 20,
   "metadata": {
    "id": "V43rlwktX3G1"
   },
   "outputs": [],
   "source": [
    "stopwords = set([x for x in stopwords if x != 'against']) # add an exception"
   ]
  },
  {
   "cell_type": "code",
   "execution_count": 21,
   "metadata": {
    "colab": {
     "base_uri": "https://localhost:8080/"
    },
    "id": "pqROaEt_X3G1",
    "outputId": "e825b29f-1ee8-4352-bde4-3d0debe3d070"
   },
   "outputs": [
    {
     "data": {
      "text/plain": [
       "10481"
      ]
     },
     "execution_count": 21,
     "metadata": {},
     "output_type": "execute_result"
    }
   ],
   "source": [
    "stopfreq = np.sum([freqs[x] for x in stopwords]) #\n",
    "stopfreq"
   ]
  },
  {
   "cell_type": "code",
   "execution_count": 22,
   "metadata": {
    "colab": {
     "base_uri": "https://localhost:8080/"
    },
    "id": "2ePYRb5eX3G1",
    "outputId": "2454862c-3d00-4dd6-f9eb-97189f89160d"
   },
   "outputs": [
    {
     "data": {
      "text/plain": [
       "18320"
      ]
     },
     "execution_count": 22,
     "metadata": {},
     "output_type": "execute_result"
    }
   ],
   "source": [
    "otherfreq = np.sum([freqs[x] for x in freqs if x not in stopwords])\n",
    "otherfreq"
   ]
  },
  {
   "cell_type": "markdown",
   "metadata": {
    "id": "HHZBw1G32Ugr"
   },
   "source": []
  },
  {
   "cell_type": "markdown",
   "metadata": {
    "id": "4J6rDqrvX3G2"
   },
   "source": [
    "## RegEx"
   ]
  },
  {
   "cell_type": "markdown",
   "metadata": {
    "id": "wMyU-Z0nX3G2"
   },
   "source": [
    "Please refer to [RegExOne Regular Expressions Lessons](regexone.com) and [the python documentation](https://docs.python.org/3/howto/regex.html)."
   ]
  },
  {
   "cell_type": "code",
   "execution_count": 23,
   "metadata": {
    "colab": {
     "base_uri": "https://localhost:8080/"
    },
    "id": "_44QM0_iX3G2",
    "outputId": "6eec8d58-b2ff-4306-c84b-820b91975ffc"
   },
   "outputs": [
    {
     "name": "stdout",
     "output_type": "stream",
     "text": [
      "['Subject: SECRET ']\n",
      "['Subject: Gun ']\n",
      "[]\n",
      "['Subject: Accounts ']\n",
      "['Subject: This ']\n"
     ]
    }
   ],
   "source": [
    "import re\n",
    "\n",
    "docs = dfs[:5]['text']\n",
    "\n",
    "# Extract words after Subject.\n",
    "for doc in docs:\n",
    "    print(re.findall(r'Subject: \\w+ ', # pattern to match. always put 'r' in front of string so that backslashes are treated literally.\n",
    "                     doc,            # string\n",
    "                     re.IGNORECASE))  # ignore upper/lowercase (optional)"
   ]
  },
  {
   "cell_type": "code",
   "execution_count": 24,
   "metadata": {
    "colab": {
     "base_uri": "https://localhost:8080/"
    },
    "id": "AAfldu-PX3G3",
    "outputId": "14d56f8c-7e7f-422c-9d41-145801d75048"
   },
   "outputs": [
    {
     "name": "stdout",
     "output_type": "stream",
     "text": [
      "['IN-VISIBILITY', 'wind-swept', 'so-called', 'longer-range', 'so-called', 'two-thirds', 'semi-permanent', 'far-off', 'so-called', 'fast-approaching', 'so-called', 'up-to', 'anti-Bolshevik', 'long-range', 'two-prong', 'Rockefeller-controlled', 'full-fledged', 'all-out', 'so-called', 'then-President', 'over-all', 'so-called', 'particle-beam', 'man-made', 'then-Secretary', 'newly-launched', 'nuclear-powered', 'so-called', 'war-planes', 'Stealth-field', 'three-phase', 'war-room', 'all-out', 'anti-Bolshevik', 'anti-Bolshevik', 'so-called', 'slow-down', 'anti-Bolshevik', 'Rockefeller-Russian', 'mid-February', 'Bolshevik-controlled', 'long-standing', 'scrap-metal', 'work-site', 'year-old', 'long-standing', 'far-off', 'Rockefeller-Russian', 'high-speed', 'Rockefeller-Russian', 'Rockefeller-Russian', 'so-called', 'blast-proof', 'Rockefeller-Russian', 'mid-Atlantic', 'Rockefeller-Russian', 'hollowed-out', 'beam-weapon', 'Range-Finding', 'non-homing', 'non-nuclear', 'pseudo-smile', 'Rockefeller-Russian', 'fast-building', 'anti-nuclear', 'so-called', 'anti-nuclear', 'all-out', 'anti-nuclear', 'so-called', 'super-United', 'so-called', 'Bolshevik-controlled', 'nuclear-war']\n",
      "['front-page', 'even-handed', 'talk-show', 'half-truth', 'self-defense', 'five-year', 'self-defense', 'gun-related', 'substance-abuse', 'high-risk', 'death-dealing', 'high-risk', 'socio-economic', 'risk-relevant', 'firearm-related', 'in-house', 'self-defense', 'under-representing', 'self-defense', 'self-defense', 'self-defense', 'self-defense', 'self-defense']\n",
      "['Article-I', 'Reply-To', 'amherst-clown', 'net-wide', 'non-fascist', 'x-Soviet', 'non-existent', 'centuries-old', 'well-written', 'ex-Soviet', 'non-fascist', 'x-Soviet', 'x-Soviet', 'x-Soviet', 'x-Soviet', 'net-user', 'auto-posting', 'Puh-leeze', 'cold-blooded', 'Armenian-Nazi', 'Armenian-Nazi', 'foreign-missionary', 'mid-July', 'non-Muslim', 'Meclis-i', 'Babi-i', 'Katl-i', 'pseudo-scholar', 'Armenian-Nazi', 'Armenian-Nazi', 'short-lived', 'cold-blooded', 'Armenian-Nazi', 'back-stabbed', 'pre-war', 'two-year']\n",
      "['Anti-Armenian', 'Nagorno-Karabakh', 'Anti-Armenian', 'Nagorno-Karabakh', 'third-degree']\n",
      "['Reply-To', 'Lieut-colonel', 'Commander-in', 'gun-powder']\n"
     ]
    }
   ],
   "source": [
    "# Extract hyphenated words\n",
    "for doc in docs:\n",
    "    print(re.findall(r'[a-z]+-[a-z]+',\n",
    "                     doc,\n",
    "                     re.IGNORECASE))"
   ]
  },
  {
   "cell_type": "code",
   "execution_count": 25,
   "metadata": {
    "colab": {
     "base_uri": "https://localhost:8080/"
    },
    "id": "quP-151NX3G3",
    "outputId": "7be42df8-ceef-476b-8ab2-75a7fd0df40d",
    "scrolled": true
   },
   "outputs": [
    {
     "name": "stdout",
     "output_type": "stream",
     "text": [
      "0 (6, 29) mcelwre@cnsvax.uwec.edu\n",
      "0 (274, 291) eidetics@cerf.net\n",
      "1 (6, 27) lvc@cbnews.cb.att.com\n",
      "1 (11768, 11784) cipriani@att.com\n",
      "2 (6, 19) sera@zuma.UUC\n",
      "2 (121, 134) sera@zuma.UUC\n",
      "2 (202, 249) 50D@unix.amherst.edu> nwbernst@unix.amherst.edu\n",
      "3 (6, 25) dbd@urartu.sdpa.org\n",
      "3 (21578, 21597) dbd@urartu.sdpa.org\n",
      "4 (6, 19) sera@zuma.UUC\n",
      "4 (121, 134) sera@zuma.UUC\n"
     ]
    }
   ],
   "source": [
    "# extract email addresses\n",
    "for i, doc in enumerate(docs):\n",
    "    finder = re.finditer('\\w+@.+\\.\\w\\w\\w', # pattern to match ([^\\s] means non-white-space)\n",
    "                     doc)            # string\n",
    "    for m in finder:\n",
    "        print(i, m.span(),m.group()) # location (start,end) and matching string"
   ]
  },
  {
   "cell_type": "code",
   "execution_count": 26,
   "metadata": {
    "id": "g2AknwJpX3G3"
   },
   "outputs": [],
   "source": [
    "# baker-bloom economic uncertainty\n",
    "pattern1 = r'(\\b)uncertain[a-z]*'\n",
    "pattern2 = r'(\\b)econom[a-z]*'\n",
    "pattern3 = r'(\\b)congress(\\b)|(\\b)deficit(\\b)|(\\b)federal reserve(\\b)|(\\b)legislation(\\b)|(\\b)regulation(\\b)|(\\b)white house(\\b)'"
   ]
  },
  {
   "cell_type": "code",
   "execution_count": 27,
   "metadata": {
    "colab": {
     "base_uri": "https://localhost:8080/"
    },
    "id": "36Kk0U8EX3G3",
    "outputId": "e0557774-527b-4bb6-82be-e7ed099dedf3"
   },
   "outputs": [
    {
     "data": {
      "text/plain": [
       "<re.Match object; span=(30, 41), match='uncertainty'>"
      ]
     },
     "execution_count": 27,
     "metadata": {},
     "output_type": "execute_result"
    }
   ],
   "source": [
    "re.search(pattern1,'The White House tried to calm uncertainty in the markets.')"
   ]
  },
  {
   "cell_type": "code",
   "execution_count": 28,
   "metadata": {
    "id": "vyI1o57yX3G3"
   },
   "outputs": [],
   "source": [
    "def indicates_uncertainty(doc):\n",
    "    m1 = re.search(pattern1, doc, re.IGNORECASE)\n",
    "    m2 = re.search(pattern2, doc, re.IGNORECASE)\n",
    "    m3 = re.search(pattern3, doc, re.IGNORECASE)\n",
    "    if m1 and m2 and m3:\n",
    "        return True\n",
    "    else:\n",
    "        return False"
   ]
  },
  {
   "cell_type": "code",
   "execution_count": 29,
   "metadata": {
    "id": "Spy03Hm7X3G3"
   },
   "outputs": [],
   "source": [
    "df['uncertainty'] = df['text'].apply(indicates_uncertainty)"
   ]
  },
  {
   "cell_type": "code",
   "execution_count": 30,
   "metadata": {
    "colab": {
     "base_uri": "https://localhost:8080/"
    },
    "id": "pxrULCpyX3G3",
    "outputId": "45411de5-65d2-4617-accc-262dd2834bc3"
   },
   "outputs": [
    {
     "data": {
      "text/plain": [
       "0.00017677214071062401"
      ]
     },
     "execution_count": 30,
     "metadata": {},
     "output_type": "execute_result"
    }
   ],
   "source": [
    "df.uncertainty.mean()"
   ]
  },
  {
   "cell_type": "code",
   "execution_count": 31,
   "metadata": {
    "colab": {
     "base_uri": "https://localhost:8080/",
     "height": 202
    },
    "id": "ZLMaBZC-X3G4",
    "outputId": "f7e82286-e3cb-4334-c86c-102b212b8726"
   },
   "outputs": [
    {
     "data": {
      "application/vnd.google.colaboratory.intrinsic+json": {
       "summary": "{\n  \"name\": \"df[df\",\n  \"rows\": 2,\n  \"fields\": [\n    {\n      \"column\": \"text\",\n      \"properties\": {\n        \"dtype\": \"string\",\n        \"num_unique_values\": 2,\n        \"samples\": [\n          \"From: ld231782@longs.lance.colostate.edu (L. Detweiler)\\nSubject: Privacy & Anonymity on the Internet FAQ (2 of 3)\\nSupersedes: <net-privacy/part2_733153240@GZA.COM>\\nOrganization: TMP Enterprises\\nLines: 1543\\nExpires: 21 May 1993 04:00:06 GMT\\nReply-To: ld231782@longs.lance.colostate.edu\\nNNTP-Posting-Host: pad-thai.aktis.com\\nSummary: Email and account privacy, anonymity, file encryption, \\n academic computer policies, relevant legislation and references, \\n EFF, and other privacy and rights issues associated with use of the\\n Internet and global networks in general.\\nX-Last-Updated: 1993/03/04\\n\\nArchive-name: net-privacy/part2\\nLast-modified: 1993/3/3\\nVersion: 2.1\\n\\n\\nIDENTITY, PRIVACY, and ANONYMITY on the INTERNET\\n================================================\\n\\n(c) 1993 L. Detweiler.  Not for commercial use except by permission\\nfrom author, otherwise may be freely copied.  Not to be altered. \\nPlease credit if quoted.\\n\\nSUMMARY\\n=======\\n\\nEmail and account privacy, anonymity, file encryption,  academic \\ncomputer policies, relevant legislation and references, EFF, and \\nother privacy and rights issues associated with use of the Internet\\nand global networks in general.\\n\\n(Search for <#.#> for exact section. Search for '_' (underline) for\\nnext section.)\\n\\nPART 2\\n====== (this file)\\n\\nResources\\n---------\\n\\n<4.1> What UNIX programs are related to privacy?\\n<4.2> How can I learn about or use cryptography?\\n<4.3> What is the cypherpunks mailing list?\\n<4.4> What are some privacy-related newsgroups?  FAQs?\\n<4.5> What is internet Privacy Enhanced Mail (PEM)?\\n<4.6> What are other Request For Comments (RFCs) related to privacy?\\n<4.7> How can I run an anonymous remailer?\\n<4.8> What are references on privacy in email?\\n<4.9> What are some email, Usenet, and internet use policies?\\n<4.10> What is the MIT ``CROSSLINK'' anonymous message TV program?\\n\\nMiscellaneous\\n-------------\\n\\n<5.1> What is ``digital cash''?\\n<5.2> What is a ``hacker'' or ``cracker''?\\n<5.3> What is a ``cypherpunk''?\\n<5.4> What is `steganography' and anonymous pools?\\n<5.5> What is `security through obscurity'?\\n<5.6> What are `identity daemons'?\\n<5.7> What standards are needed to guard electronic privacy?\\n\\nIssues\\n------\\n\\n<6.1> What is the Electronic Frontier Foundation (EFF)?\\n<6.2> Who are Computer Professionals for Social Responsibility (CPSR)?\\n<6.3> What was `Operation Sun Devil' and the Steve Jackson Game case?\\n<6.4> What is Integrated Services Digital Network (ISDN)?\\n<6.5> What is the National Research and Education Network (NREN)?\\n<6.6> What is the FBI's proposed Digital Telephony Act?\\n<6.7> What other U.S. legislation is related to privacy on networks?\\n<6.8> What are references on rights in cyberspace?\\n<6.9> What is the Computers and Academic Freedom (CAF) archive?\\n\\nFootnotes\\n---------\\n\\n<7.1> What is the background behind the Internet?\\n<7.2> How is Internet `anarchy' like the English language?\\n<7.3> Most Wanted list\\n<7.4> Change history\\n\\n\\n* * *\\n\\n\\nRESOURCES\\n=========\\n\\n\\n_____\\n<4.1> What UNIX programs are related to privacy?\\n\\n  For more information, type `man [cmd]' or `apropos [keyword]' at the\\n  UNIX shell prompt.\\n\\n    passwd - change password\\n    finger - obtain information about a remote user\\n    chfn   - change information about yourself obtainable by remote\\n             users (sometimes `passwd -f')\\n    chmod  - change the rights associated with a file or directory\\n    umask  - (shell) change the default (on creation) file access\\n             rights\\n    ls     - list the rights associated with files and directories\\n    xhost  - allow or disable access control of particular users to an\\n             Xwindow server\\n    last   - list the latest user logins on the system and their\\n             originations\\n    who    - list other users, login/idle times, originations\\n    w      - list other users and what they are running\\n    xhost  - access control list for X Window client use\\n    xauth  - control X Window server authentication\\n    \\n    .signature  - file in the home directory appended to USENET posts\\n    .forward    - file used to forward email to other accounts\\n    .Xauthority - file used for X Window server authentication keys\\n    $SIGNATURE  - variable used for name in email and USENET postings\\n\\n  The 'tcpdump' packet-tracing program is loosely based on SMI's\\n  \\\"etherfind\\\" although none of the etherfind code remains.  It was\\n  originally written by Van Jacobson, Lawrence Berkeley Laboratory,\\n  as part of an ongoing research project to investigate and improve\\n  tcp and internet gateway performance.  A current version is\\n  available via anonymous ftp from host ftp.ee.lbl.gov (currently at\\n  address 128.3.254.68) file tcpdump.tar.Z (a compressed Unix tar\\n  file). This program is subject to  the 'standard' Berkeley network\\n  software copyright.\\n\\n_____\\n<4.2> How can I learn about or use cryptography?\\n\\n  A general introduction to mostly theoretical cryptographic issues,\\n  especially those frequently discussed in sci.crypt, is available\\n  in FAQ form:\\n\\n  >  Compiled by:\\n  >        cme@ellisun.sw.stratus.com (Carl Ellison)\\n  >        Gwyn@BRL.MIL (Doug Gwyn)\\n  >        smb@ulysses.att.com (Steven Bellovin)\\n\\n  NIST (U.S. National Institute for Standards and Technology)\\n  publishes an introductory paper on cryptography, special\\n  publication 800-2 ``Public-Key Cryptograhy'' by James Nechvatal\\n  (April 1991).  Available via anonymous FTP from\\n  csrc.ncsl.nist.gov (129.6.54.11), file pub/nistpubs/800-2.txt. \\n  Also via available anonymous FTP from wimsey.bc.ca as crypt.txt.Z\\n  in the crypto directory.  Covers technical mathematical aspects\\n  of encryption such as number theory.\\n\\n  More general information can be found in a FAQ by Paul Fahn of RSA\\n  Labortories via anonymous FTP from rsa.com in /pub/faq.ps.Z.  See\\n  the `readme' file for information on the `tex' version.  Also\\n  available as hardcopy for $20 from   RSA Laboratories, 100 Marine\\n  Parkway, Redwood City, CA  94065.  Send questions to\\n  faq-editor@rsa.com.\\n\\n  Phil Zimmerman's PGP (Pretty Good Privacy) public-domain package\\n  for public key encryption is available at numerous sites, and is\\n  in widespread use over the internet for general UNIX-based file\\n  encryption (including email).  Consult the archie FTP database. \\n  Also see the newsgroup alt.security.pgp.  Mailing list requests\\n  to info-pgp-request@lucpul.it.luc.edu.\\n\\n  From the RIPEM FAQ by Marc VanHeyningen\\n  <mvanheyn@whale.cs.indiana.edu> on news.answers:\\n\\n  > RIPEM is a program which performs Privacy Enhanced Mail (PEM)\\n  > using the cryptographic techniques of RSA and DES.  It allows\\n  > your electronic mail to have the properties of authentication\\n  > (i.e. who sent it can be confirmed) and privacy (i.e. nobody can\\n  > read it except the intended recipient.)\\n  > \\n  > RIPEM was written primarily by Mark Riordan\\n  > <mrr@scss3.cl.msu.edu>. Most of the code is in the public domain,\\n  > except for the RSA routines, which are a library called RSAREF\\n  > licensed from RSA Data Security Inc.\\n  > \\n  > RIPEM is available via anonymous FTP to citizens and permanent\\n  > residents in the U.S. from rsa.com; cd to rsaref/ and read the\\n  > README file for info.\\n  > \\n  > RIPEM, as well as some other crypt stuff, has its `home site' on\\n  > rpub.cl.msu.edu, which is open to non-anonymous FTP for users in\\n  > the U.S. and Canada who are citizens or permanent residents.  To\\n  > find out how to obtain access, ftp there, cd to pub/crypt/, and\\n  > read the file GETTING_ACCESS.\\n\\n  Note: cryptography is generally not well integrated into email yet\\n  and some system proficiency is required by users to utilize it.\\n\\n_____\\n<4.3> What is the cypherpunks mailing list?\\n\\n  Eric Hughes <hughes@toad.com> runs the `cypherpunk' mailing list\\n  dedicated to ``discussion about technological defenses for privacy\\n  in the digital domain.''  Send email to\\n  cypherpunks-request@toad.com to be added or subtracted from the\\n  list. From the charter:\\n\\n  > The most important means to the defense of privacy is encryption.\\n  > To encrypt is to indicate the desire for privacy.  But to encrypt\\n  > with weak cryptography is to indicate not too much desire for\\n  > privacy. Cypherpunks hope that all people desiring privacy will\\n  > learn how best to defend it.\\n\\n_____\\n<4.4> What are some privacy-related newsgroups?  FAQs?\\n  \\n  Newsgroups\\n  ==========\\n\\n  alt.comp.acad-freedom.news\\n  alt.comp.acad-freedom.talk \\n  --------------------------\\n    Moderated and unmoderated issues related to academic freedom and\\n    privacy at universities. Documented examples of violated\\n    privacy in e.g. email.  Documented examples of `censorship' as\\n    in e.g. limiting USENET groups local availability.\\n\\n  alt.cyberpunks\\n  --------------\\n    Virtual reality, (science) fiction by William Gibson and Bruce \\n    Sterling, cyberpunk in the mainstream.\\n \\n  alt.hackers\\n  -----------\\n    USENET Network News Transfer Protocol (NNTP) posting mechanisms, \\n    Simple Mail Transfer Protocol (SMTP), `obligatory hack' reports.\\n\\n  alt.privacy\\n  -----------\\n    General privacy issues involving taxpaying, licensing, social\\n    security numbers, etc.\\n  \\n  alt.security \\n  comp.security.misc\\n  ------------------\\n    Computer related security issues.  FAQ in news.answers below.\\n  \\n  alt.security.pgp\\n  alt.security.ripem\\n  ----------------\\n    Dedicated to discussing public domain cryptographic software\\n    packages: PGP, or ``Pretty Good Privacy'' Software developed by\\n    Phil Zimmerman for public key encryption, and RIPEM by Mark\\n    Riordan for public key and DES encryption.\\n  \\n  comp.society.privacy\\n  --------------------\\n    Privacy issues associated with computer technologies.  Examples:\\n    caller identification, social security numbers, credit\\n    applications, mailing lists, etc.  Moderated.\\n    \\n  comp.eff.news\\n  comp.eff.talk\\n  -------------\\n    Moderated and unmoderated groups associated with the Electronic\\n    Frontier Foundation started by Mitch Kapor for protecting civil\\n    and constitutional rights in the electronic realm.\\n  \\n  news.admin\\n  news.admin.policy\\n  -----------------\\n    Concerns of news administrators.  NNTP standards and mechanisms.\\n    \\n  news.lists\\n  ----------\\n    USENET traffic distributions.  Most frequent posters, most\\n    voluminous groups, most active sites, etc.\\n  \\n  sci.crypt\\n  ---------\\n    Considers scientific and social issues of cryptography. \\n    Examples: legitimate use of PGP, public-key patents, DES,\\n    cryptographic security, cypher breaking, etc.\\n  \\n\\n  FAQs\\n  ====\\n\\n  FAQs or ``Frequently-Asked Questions'' are available in the\\n  newsgroups *.answers or via anonymous FTP to pit-manager.mit.edu\\n  [18.172.1.27] (also rtfm.mit.edu)  from the directory\\n  /pub/usenet/news.answers/[x] where [x] is the archive name. This\\n  FAQ is archived in the file `net-privacy'.   Others are:\\n\\n  network-info/part1  \\n  ------------------\\n    Sources of information about the Internet and how to connect to\\n    it, through the NSF or commercial vendors.\\n  \\n  alt-security-faq\\n  ----------------\\n    Computer related security issues arising in alt.security and\\n    comp.security.misc, mostly UNIX related.\\n  \\n  ssn-privacy \\n  -----------\\n    Privacy issues associated with the use of the U.S. Social\\n    Security number (SSN).\\n  \\n  pdial\\n  -----\\n    Public dialup internet accounts list.\\n  \\n  college-email/part1\\n  -------------------\\n    How to find email addresses for undergraduate and graduate\\n    students, faculty and staff at various colleges and\\n    universities.\\n  \\n  ripem/faq\\n  ---------\\n    Information on RIPEM, a program for public key mail encryption\\n    officially sanctioned by Public Key Partners Inc., the company\\n    that owns patents on public key cryptography.\\n  \\n  unix-faq/faq/part1\\n  ------------------\\n    Frequently-asked questions about UNIX, including information on\\n    `finger' and terminal spying.\\n\\n  distributions/*\\n  ---------------\\n     Known geographic, university, and network distributions.\\n\\n_____\\n<4.5> What is internet Privacy Enhanced Mail (PEM)?\\n\\n  Internet drafts on Privacy Enhanced Mail (PEM) describe a standard\\n  under revision for six years delineating the official protocols for\\n  email encryption.  The standard has only recently stabilized and\\n  implementations are being developed.\\n\\n  - RFC-1421: ``Privacy Enhancement for Internet Electronic Mail: \\n    Part I: Message Encryption and Authentication Procedures.'' J.\\n    Linn <104-8456@mcimail.com>\\n\\n  - RFC-1422: ``Privacy Enhancement for Internet Electronic Mail: Part\\n    II: Certificate-Based Key Management'' S. Kent <Kent@BBN.com>\\n\\n  - RFC-1424: ``Privacy Enhancement for Internet Electronic Mail: \\n    Part IV: Key Certification and Related Services'' B. Kaliski\\n    <burt@rsa.com>\\n\\n  - RFC-1423: ``Privacy Enhancement for Internet Electronic Mail: Part\\n    III: Algorithms, Modes, and Identifiers'' D. Balenson\\n    <belenson@tis.com>\\n\\n  Send email to pem-info@tis.com for more information.  See ``RFCs \\n  related to privacy'' for information on how to obtain RFCs.\\n  \\n_____\\n<4.6> What are other Requests For Comments (RFCs) related to privacy?\\n\\n  RFC-822:  SMTP, Simple Mail Transfer Protocol\\n  RFC-977:  NNTP, Network News Transfer Protocol\\n  RFC-1036: Standard for interchange of network news messages\\n  RFC-1208: Glossary of Networking Terms\\n  RFC-1207: Answers to ``experienced Internet user'' questions\\n  RFC-1206: Answers to ``new Internet user'' questions\\n  RFC-1355: Privacy issues in Network Information center databases\\n\\n  \\n  RFC-1177 is ``FYI: Answers to commonly asked ``new internet user'' \\n  questions, and includes: basic terminology on the Internet (TCP/IP,\\n  SMTP, FTP), internet  organizations such as IAB (Internet\\n  Activities Board) and IETF  (Internet Enbgineering Task Force), and\\n  a glossary of terms.  Also from ftp.eff.org:\\n  /pub/internet-info/internet.q.\\n\\n  > RFCs can be obtained via FTP from NIC.DDN.MIL, with the pathname\\n  > RFC:RFCnnnn.TXT or RFC:RFCnnnn.PS (where `nnnn' refers to the\\n  > number of the RFC).  Login with FTP, username `anonymous' and\\n  > password `guest'.  The NIC also provides an automatic mail\\n  > service for those sites which cannot use FTP.  Address the\\n  > request to SERVICE@NIC.DDN.MIL and in the subject field of the\\n  > message indicate the RFC number, as in `Subject: RFC nnnn' (or\\n  > `Subject: RFC nnnn.PS' for PostScript RFCs).\\n  >\\n  > RFCs can also be obtained via FTP from NIS.NSF.NET.  Using FTP,\\n  > login with username `anonymous' and password `guest'; then\\n  > connect to the RFC directory (`cd RFC').  The file name is of the\\n  > form RFCnnnn.TXT-1 (where `nnnn' refers to the number of the\\n  > RFC).  The NIS also provides an automatic mail service for those\\n  > sites which cannot use FTP.  Address the request to\\n  > NIS-INFO@NIS.NSF.NET and leave the subject field of the message\\n  > blank.  The first line of the text of the message must be `SEND\\n  > RFCnnnn.TXT-1', where nnnn is replaced by the RFC number.\\n  \\n_____\\n<4.7> How can I run an anonymous remailer?\\n\\n  Cypherpunk remailer source is at soda.berkeley.edu in the\\n  /pub/cypherpunks directory.  It's written in PERL, and is\\n  relatively easy to install (no administrative rights are required).\\n  Karl Barrus  <elee9sf@menudo.uh.edu> has more information and\\n  modifications. Also, most remailer operators mentioned above are\\n  amenable to discussing features, problems, and helping new sites\\n  become operational. Address all points in the section\\n  ``responsibities of anonymous use'' in this document prior to\\n  advertising your service.  You should be committed to the long-term\\n  stability of the site and avoid running one surreptitiously.\\n\\n_____\\n<4.8> What are references on privacy in email?\\n\\n\\n  Brown, Bob. ``EMA Urges Users to Adopt Policy on E-mail Privacy.''  \\n  Network World (Oct 29, 1990), 7.44: 2.\\n  \\n  Bairstow, Jeffrey. ``Who Reads your Electronic Mail?'' Electronic\\n  Business  (June 11, 1990) 16 (11): 92.\\n\\n  ``Electronic Envelopes - the uncertainty of keeping e-mail private''\\n  Scientific American, February 1993.\\n\\n  ftp.eff.org\\n  ===========\\n\\n  /pub/eff/papers/email_privacy\\n  ---\\n    Article on the rights of email privacy. by Ruel T. Hernandez.\\n\\n  /pub/academic/law/privacy.email\\n  ---\\n    ``Computer Electronic Mail and Privacy'', an edited version of a\\n    law school seminar paper by Ruel T. Hernadez.\\n\\n  /pub/eff/papers/email-privacy-biblio-2\\n  ---\\n    Compilation of bibliography on E-Mail and its privacy issues (part\\n    2 of the work).  Compiled by Stacy B. Veeder (12/91).\\n\\n  /pub/eff/papers/email-privacy-research\\n  ---\\n    The author at Digital Research tried to formalize their employee\\n    privacy policy on E-Mail.  The casesightings are divided into two\\n    groups: US Constitutional law, and California law.\\n\\n  /pub/eff/papers/company-email\\n  ---\\n    Formulating a Company Policy on Access to and Disclosure of\\n    Electronic Mail on Company Computer Systems by David R. Johnson\\n    and John Podesta for the Electronic Mail Assocation\\n\\n  /pub/cud/alcor\\n  ---\\n    Information on Alcor Co., an e-mail privacy suit.\\n\\n  /pub/academic/law/privacy.email\\n  ---\\n    Email privacy search at Berkeley.\\n\\n_____\\n<4.9> What are some email, Usenet, and internet use policies?\\n\\n  The Computer Policy and Critiques Archive is a collection of the\\n  computer policies of many schools and networks, run by the\\n  Computers and Academic Freedom group on the Electronic Frontier\\n  Foundation FTP site. The collection also includes critiques of some\\n  of the policies.\\n\\n  > If you have gopher, the archive is browsable with the command:\\n  > gopher -p academic/policies gopher.eff.org\\n  > \\n  > The archive is also accessible via anonymous ftp and email. Ftp\\n  > to ftp.eff.org (192.88.144.4). It is in directory\\n  > `pub/academic/policies'. For email access, send email to\\n  > archive-server@eff.org. Include the line:\\n  > \\n  > send acad-freedom/policies <filenames>\\n  > \\n  > where <filenames> is a list of the files that you want. File\\n  > README is a detailed description of the items in the directory.\\n  > \\n  > For more information, to make contributions, or to report typos\\n  > contact J.S. Greenfield (greeny@eff.org). Directory `widener'\\n  > contains additional policies (but not critiques).\\n\\n\\n  ftp.eff.org\\n  ===========\\n  \\n  /pub/cud/networks\\n  ---\\n    Acceptable Use Policies for various networks, including CompuServe\\n    (file `compuserve'), NSFNET (file `nsfnet') with information on\\n    research and commercial uses. See /pub/cud/networks/index.\\n\\n  /pub/cud/networks/email\\n  ---\\n    Policies from various sysadmins about how they handle the issue of\\n    email privacy,  control, and abuse, compiled by T. Hooper \\n    <hooper_ta@cc.curtin.edu.au>.\\n  \\n  /pub/cud/schools/\\n  ---\\n    Computer use policies of a number of schools. See schools/Index\\n    for a full list and description.\\n\\n  \\n  Commentary\\n  ==========\\n\\n  /pub/academic/faq/policy.best\\n  ---\\n    Opinions on the best academic computer policies.\\n\\n\\n  /pub/academic/faq/email.policies\\n  ---\\n    Do any universities treat email and computer files as private?\\n\\n  /pub/academic/faq/netnews.writing\\n  ---\\n    Policies on what users write on Usenet.\\n\\n  /pub/academic/faq/netnews.reading\\n  ---\\n    Policies on what users read on Usenet: should my university remove\\n    (or restrict) Netnews newsgroups because some people find them\\n    offensive?\\n\\n  /pub/academic/faq/policy\\n  ---\\n    What guidance is there for creating or evaluating a university's\\n    academic computer policy?\\n\\n______\\n<4.10> What is the MIT ``CROSSLINK'' anonymous message TV program?\\n\\n  > CROSSLINK is an anonymous message system run on MIT Student\\n  > Cable TV-36. It provides an anonymous medium through which MIT\\n  > students can say those things they might otherwise find\\n  > difficult, inconvenient or impossible to say in person.  It's\\n  > also a way to send fun or totally random messages to your\\n  > friends over the air.  It is similar to the anonymous message\\n  > pages found in many college newspapers, except that it's\\n  > electronic in nature and it's free.\\n\\n  Messages can be posted to the service via email.  For more\\n  information send email to crosslink@athena.mit.edu.\\n\\n\\nMISCELLANEOUS\\n=============\\n\\n_____\\n<5.1> What is ``digital cash''?\\n\\n  With digital encryption and authentication technologies, the\\n  possibility of a widespread digital cash system may someday be\\n  realized.  A system utilizing codes sent between users and banks\\n  (similar to today's checking system except entirely digital) may\\n  be one approach.  The issues of cryptography, privacy, and\\n  anonymity are closely associated with transfer of cash in an\\n  economy.  See the article in Scientific American by David Chaum\\n  (~Dec.1992).\\n\\n  An experimental digital bank is run by Karl Barrus\\n  <elee9sf@Menudo.UH.EDU> based on suggestions by Hal Finney on the\\n  cypherpunks mailing list.  To use the server send mail to\\n  elee7h5@rosebud.ee.uh.edu message with the following text:\\n\\n    ::\\n    command: help\\n    \\n    user@host\\n\\n  where `user@host' is your email address.\\n \\n  \\n_____\\n<5.2> What is a ``hacker'' or ``cracker''?\\n\\n  These terms arouse strong feelings by many on their meaning,\\n  especially on the internet.  In the general news media in the past\\n  a person who uses computers and networks to malicious ends (such as\\n  breaking into systems) has been referred to as a hacker, but most\\n  internet users prefer the term ``cracker'' for this.  Instead, a\\n  ``hacker'' is perceived as a benign but intensely ambitious,\\n  curious, and driven computer user who explores obscure areas of a\\n  system, for example---something of a proud electronic pioneer and\\n  patriot.  This is the sense intended in this document.  See also\\n  the ``Hacker's Dictionary'' and the FAQ `alt-security-faq'.\\n \\n \\n_____\\n<5.3> What is a ``cypherpunk''?\\n\\n  From the charter of the cypherpunk mailing list:\\n\\n  > Cypherpunks assume privacy is a good thing and wish there were\\n  > more of it.  Cypherpunks acknowledge that those who want privacy\\n  > must create it for themselves and not expect governments,\\n  > corporations, or other large, faceless organizations to grant\\n  > them privacy out of beneficence.  Cypherpunks know that people\\n  > have been creating their own privacy for centuries with whispers,\\n  > envelopes, closed doors, and couriers.  Cypherpunks do not seek\\n  > to prevent other people from speaking about their experiences or\\n  > their opinions.\\n\\n  See information on the cypherpunk mailing list below.\\n\\n  See also the CryptoAnarchist Manifesto and the Cryptography Glossary\\n  in soda.berkeley.edu:/pub/cypherpunks.\\n\\n_____\\n<5.4> What is `steganography' and anonymous pools?\\n\\n  Closely associated with encryption is `steganography' or the\\n  techniques for not only pursuing private (encrypted) communication\\n  but concealing the very  existence of the communication itself. \\n  Many new possibilities in this area are introduced with the\\n  proliferation of computer technology.  For example, it is possible\\n  to encode messages in the least-significant bits of images,\\n  typically the most 'noisy'. In addition, when such an item is\\n  posted in a public place (such as a newsgroup), virtually\\n  untraceable  communication can take place between sender and\\n  receiver.  For  steganographic communications in the electronic\\n  realm one another possibility is setting up a mailing list where\\n  individual messages get broadcast to the entire list and individual\\n  users decode particular messages with their unique key.   An\\n  anonymous pool has been set up by Miron Cuperman\\n  (miron@extropia.wimsey.com) for experiments.  Send email to\\n  <pool0-request@extropia.wimsey.com>  with one of the following\\n  commands in the subject line:\\n\\n    subscribe\\n    unsubscribe\\n    help\\n\\n_____\\n<5.5> What is `security through obscurity'?\\n\\n  `Security through obscurity' refers to the attempt to gain\\n  protection from system weaknesses by hiding sensitive information\\n  or programs relating to them.  For example, a company may not make\\n  public information on its software's encryption techniques to evade\\n  `attacks' based on knowledge of it. Another example would be\\n  concealing data on the existence of security holes or bugs in\\n  operating systems.  Or, some reliance may be made on the fact that\\n  some standard or mechanism with potential problems is serious\\n  because they are ``not widely known'' or ``not widely used.'' This\\n  argument is occasionally applied to mechanisms for email and Usenet\\n  posting `forgery'. `Security through obscurity' is regarded as a\\n  very feeble  technique at best and inappropriate and ineffective at\\n  worst (also called the ``head-in-the-sand approach''). See the FAQ\\n  for alt.security.  \\n  \\n  Some remarks of John Perry Barlow, cofounder of the Electronic\\n  Frontier Foundation, directed to NSA agents at the First\\n  International Symposium on National Security & National\\n  Competitiveness held in McLean, Virginia  Dec. 1, 1992:\\n\\n  > Digitized information is very hard to stamp classified or keep\\n  > contained. ... This stuff is incredibly leaky and volatile.  It's\\n  > almost a life form in its ability to self-propagate.  If\\n  > something hits the Net and it's something which people on there\\n  > find interesting it will spread like a virus of the mind.  I\\n  > believe you must simply accept the idea that we are moving into\\n  > an environment where any information which is at all interesting\\n  > to people is going to get out.  And there will be very little\\n  > that you can do about it.  This is not a bad thing in my view,\\n  > but you may differ...\\n\\n_____\\n<5.6> What are `identity daemons'?\\n  \\n  RFC-931 describes a protocol standard that allows UNIX programs to\\n  query a remote user's login name after connection to a local\\n  communication socket (a connection of this type is established\\n  during FTP and TELNET sessions, for example).  The standard is not\\n  widely supported, perhaps 10% of internet sites currently implement\\n  it but the number is increasing.  The mechanism is detrimental to\\n  anonymity.  Regular users cannot disable it but system\\n  adminstrators can circumvent it.  This standard may represent a\\n  trend toward greater authentication mechanisms.\\n\\n_____\\n<5.7> What new standards are needed to guard electronic privacy?\\n\\n\\n  Remailing/Posting\\n  -----------------\\n  \\n  - Stable, secure, protected, officially sanctioned and permitted,\\n    publicly and privately operated anonymous servers and hubs.\\n  - Official standards for encryption and anonymity in mail and USENET\\n    postings.\\n  - Truly anonymous protocols with source and destination information\\n    obscured or absent and hidden routing mechanisms (chaining,\\n    encrypted addresses, etc.)\\n  - Standards for anonymous email addressing, embedding files, and\\n    remailer site chaining.\\n  \\n  General\\n  -------\\n  \\n  - Recognition of anonymity, cryptography, and related privacy\\n    shields as legitimate, useful, desirable, and crucial by the\\n    general public and their governments.\\n  - Widespread use and implementation of these technologies \\n    by systems designers into\\n    hardware, software, and standards, implemented `securely,'\\n    `seamlessly,' and `transparently'.\\n  - General shift of use, dependence, and reliance to means other than\\n    wiretapping and electronic surveillance by law enforcement\\n    agencies.\\n  - Publicity, retraction, and dissolution of laws and government\\n    agencies opposed to privacy, replaced by structures dedicated to\\n    strengthening and protecting it.\\n\\n\\nISSUES\\n======\\n\\n_____\\n<6.1> What is the Electronic Frontier Foundation (EFF)?\\n\\n  From ftp.eff.org:/pub/EFF/mission_statement:\\n\\n  > A new world is arising in the vast web of digital, electronic\\n  > media which connect us.  Computer-based communication media like\\n  > electronic mail and computer conferencing are becoming the basis\\n  > of new forms of community.  These communities without a single,\\n  > fixed geographical location comprise the first settlements on an\\n  > electronic frontier.\\n  > \\n  > While well-established legal principles and cultural norms give\\n  > structure and coherence to uses of conventional media like\\n  > newspapers, books, and telephones, the new digital media do not\\n  > so easily fit into existing frameworks.  Conflicts come about as\\n  > the law struggles to define its application in a context where\\n  > fundamental notions of speech, property, and place take\\n  > profoundly new forms. People sense both the promise and the\\n  > threat inherent in new computer and communications technologies,\\n  > even as they struggle to master or simply cope with them in the\\n  > workplace and the home.\\n  > \\n  > The Electronic Frontier Foundation has been established to help\\n  > civilize the electronic frontier; to make it truly useful and\\n  > beneficial not just to a technical elite, but to everyone; and to\\n  > do this in a way which is in keeping with our society's highest\\n  > traditions of the free and open flow of information and\\n  > communication.\\n  \\n  EFF was started by the multimillionaire Mitchell Kapor, founder of\\n  Lotus software, and John Barlow, lyricist for the Grateful Dead\\n  rock band.  A highly publicized endeavor of the organization\\n  involved the legal defense of  Steve Jackson Games after an FBI\\n  raid and an accompanying civil suit  (see section on ``Steve\\n  Jackson Games'').  The foundation publishes EFF News (EFFector\\n  Online) electronically, send requests to effnews-request@eff.org.\\n  \\n  In a letter to Mitchell Kapor from the Chairman of the Subcommittee\\n  with primary jurisdiction over telecommunications policy dated\\n  November 5, 1991,  Representative  Edward J. Markey complemented\\n  Mitchell Kapor on his ``insights on the development of a national\\n  public information infrastructure'' which ``were appreciated greatly\\n  by myself and the Members of the Subcommittee'' (complete text in \\n  ftp.eff.com:/pub/pub-infra/1991-12):\\n\\n  > ...we need to pursue policies that encourage the Bell companies to\\n  > work with other sectors of the communications industry to create\\n  > a consumer-oriented, public information network. Please let me or\\n  > my staff know what policies you and others in the computer\\n  > industry believe would best serve the public interest in creating\\n  > a reasonably priced, widely available network in which\\n  > competition is open and innovation rewarded.  I also want to\\n  > learn what lessons from the computer industry over the past ten\\n  > to fifteen years should apply to the current debate on\\n  > structuring the information and communications networks of the\\n  > future....I ask your help in gaining input from the computer\\n  > industry so that the Subcommittee can shape policies that will\\n  > bring this spirit of innovation and entrepreneurship to the\\n  > information services industry.  \\n\\n  ftp.eff.org\\n  ===========\\n  \\n  /pub/eff/about-eff\\n  ---\\n    A file of basic information about EFF including goals, mission,\\n    achievements, and current projects. Contains a membership form.\\n\\n  /pub/eff/mission-statement\\n  ---\\n    EFF mission statement.\\n\\n  /pub/eff/historical/founding-announcement\\n  ---\\n    EFF founding press release.\\n\\n  /pub/eff/historical/eff-history\\n  ---\\n    John Perry Barlow's ``Not Terribly Brief History of the EFF'' (July\\n    10, 1990).  How EFF was conceived and founded, major legal cases,\\n    and the organizational directions.\\n\\n  /pub/eff/historical/legal-case-summary\\n  ---\\n    EFF legal case summary.\\n\\n\\n_____\\n<6.2> Who are Computer Professionals for Social Responsibility (CPSR)?\\n\\n  The Computer Professionals for Social Responsibility have been\\n  working to protect and promote electronic civil liberties issues\\n  since ~1982.  The group has three offices (Palo Alto, Cambridge,\\n  Washington, DC) and 20 chapters. It is involved in  litigation\\n  against the FBI, The NSA, NIST, the Secret Service and other other\\n  U.S. government agencies  to declassify and provide documentation\\n  on issues such as Operation Sundevil, the FBI wiretap proposal,\\n  NSA's interference in crypography, the breakup of the 2600 raid in\\n  Arlington, Va in Nov 1992. Members speak frequently in front on\\n  Congress, state legislators and public utility commissions to\\n  testify on privacy, information policy, computer security, and\\n  caller identification.\\n\\n  CPSR has created an extensive Internet Privacy library available\\n  via FTP, Gopher, WAIS, and email at cpsr.org, currently comprising\\n  the largest collection of privacy documents on the internet.  For\\n  more information, anonymous FTP  cpsr.org:/cpsr/.\\n\\n\\n  (Thanks to Dave Banisar <banisar@washofc.cpsr.org> for contributions\\n  here.)\\n\\n_____\\n<6.3> What was `Operation Sundevil' and the Steve Jackson Game case?\\n\\n  In the early 1990's a fear spread among U.S. law enforcement agencies\\n  on the illicit activities of `hackers' and `phreakers' involved in\\n  such activities as credit card fraud and long-distance call thievery.\\n  \\n  (see ftp.eff.org:/pub/SJG/General_Information/EFFector1.04):\\n\\n  > `Operation Sundevil,' the Phoenix-inspired crackdown of May\\n  > 8,1990, concentrated on telephone code-fraud and credit-card\\n  > abuse, and followed this seizure plan with some success. \\n  > [Bulletin Board Systems] went down all over America, terrifying\\n  > the underground and swiftly depriving them of at least some of\\n  > their criminal instruments.  It also saddled analysts with some\\n  > 24,000 floppy disks, and confronted harried Justice Department\\n  > prosecutors with the daunting challenge of a gigantic nationwide\\n  > hacker show-trial involving highly technical issues in dozens of\\n  > jurisdictions.\\n\\n  Massive `show-trials' never materialized, although isolated\\n  instances of prosecution were pursued.  The movement reached a\\n  crescendo in Texas with the highly publicized case of illegal\\n  search and seizure involving the Steve Jackson Games company of\\n  Austin Texas on March 1, 1990.  From the column GURPS' LABOUR LOST\\n  by Bruce Sterling <bruces@well.sf.ca.us> in Fantasy and Science\\n  Fiction Magazine:\\n\\n  > In an early morning raid with an unlawful and unconstitutional\\n  > warrant, agents of the Secret Service conducted a search of the\\n  > SJG office.  When they left they took a manuscript being prepared\\n  > for publication, private electronic mail, and several computers,\\n  > including the hardware and software of the SJG Computer Bulletin\\n  > Board System.  Yet Jackson and his business were not only\\n  > innocent of any crime, but never suspects in the first place. \\n  > The raid had been staged on the unfounded suspicion that\\n  > somewhere in Jackson's office there `might be' a document\\n  > compromising the security of the 911 telephone system.\\n\\n  FBI agents involved in the seizure were named in a civil suit filed\\n  on behalf of Steve Jackson Games by The Electronic Frontier\\n  Foundation.  See information on EFF below.  From an article by Joe\\n  Abernathy in the Houston Chronicle ~Feb 1, 1993:\\n  \\n  > AUSTIN -- An electronic civil rights case against the Secret\\n  > Service closed Thursday with a clear statement by federal\\n  > District Judge Sam Sparks that the Service failed to conduct a\\n  > proper investigation in a notorious computer crime crackdown,\\n  > and went too far in retaining  custody of seized equipment. \\n  > \\n  > Secret Service Special Agent Timothy Foley of Chicago, who was in\\n  > charge of three Austin computer search-and-seizures on March 1,\\n  > 1990, that led to the lawsuit, stoically endured Spark's rebuke\\n  > over the Service's poor investigation and abusive computer\\n  > seizure policies.  While the Service has seized dozens of\\n  > computers since the crackdown began in 1990, this is the first\\n  > case to challenge the practice. \\n  > \\n  > Sparks grew visibly angry when it was established that the Austin\\n  > science fiction magazine and game book publisher was never\\n  > suspected of a crime, and that agents did not do even marginal\\n  > research to establish a criminal connection between the firm and\\n  > the suspected illegal activities of an employee, or to determine\\n  > that the company was a publisher. Indeed, agents testified that\\n  > they were not even trained in the Privacy Protection Act at the\\n  > special Secret Service school on computer crime. \\n  > \\n  > \\\"How long would it have taken you, Mr. Foley, to find out what\\n  > Steve Jackson Games did, what it was?\\\" asked Sparks. \\\"An hour? \\n  > \\n  > \\\"Was there any reason why, on March 2, you could not return to\\n  > Steve Jackson Games a copy, in floppy disk form, of everything\\n  > taken? \\n  > \\n  > \\\"Did you read the article in Business Week magazine where it had\\n  > a picture of Steve Jackson -- a law-abiding, tax-paying citizen\\n  > -- saying he was a computer crime suspect? \\n  > \\n  > \\\"Did it ever occur to you, Mr. Foley, that seizing this material\\n  > could harm Steve Jackson economically?\\\" \\n  > \\n  > Foley replied, \\\"No, sir,\\\" but the judge offered his own answer. \\n  > \\n  > \\\"You actually did, you just had no idea anybody would actually go\\n  > out and hire a lawyer and sue you.\\\" \\n  > \\n  > More than $200,000 has been spent by the Electronic Frontier \\n  > Foundation in bringing the case to trial. The EFF was founded by \\n  > Mitchell Kapor amid a civil liberties movement sparked in large\\n  > part by the Secret Service computer crime crackdown. \\n\\n\\n  ftp.eff.org\\n  ===========\\n  \\n  /pub/cud/papers/sundevil\\n  ---\\n    A collection of information on Operation SunDevil by the Epic\\n    nonprofit publishing project. Everything you wanted to know but\\n    could never find.\\n\\n  /pub/cud/papers/sj-resp\\n  ---\\n    Steve Jackson's response to the charges against him.\\n\\n_____\\n<6.4> What is Integrated Services Digital Network (ISDN)?\\n\\n  ISDN is a high-speed data communications standard that utilizes\\n  existing copper telephone lines, and is a possible inexpensive and\\n  intermediate alternative to laying fiber optic cable for phone\\n  networks.  The speeds involved may be sufficient for audio and\\n  video transmission applications.  G. V. der Leun in the file\\n  ftp.eff.org: /pub/pub-infra/1991-11:\\n\\n  > Telecommunications in the United States is at a crossroads.  With\\n  > the Regional Bell Operating Companies now free to provide\\n  > content, the shape of the information networking is about to be\\n  > irrevocably altered.  But will that network be the open,\\n  > accessible, affordable network that the American public needs? \\n  > You can help decide this question.\\n  > \\n  > The Electronic Frontier Foundation recently presented a plan to\\n  > Congress calling for the immediate deployment of a national\\n  > network based on existing ISDN technology, accessible to anyone\\n  > with a telephone connection, and priced like local voice service.\\n  >  We believe deployment of such a platform will spur the\\n  > development of innovative new information services, and maximize\\n  > freedom, competitiveness, and civil liberties throughout the\\n  > nation.\\n  > \\n  > The EFF is testifying before Congress and the FCC; making\\n  > presentations to public utility commisions from Massachusetts to\\n  > California; and meeting with representatives from telephone\\n  > companies, publishers, consumer advocates, and other stakeholders\\n  > in the telecommunications policy debate.\\n  > \\n  > The EFF believes that participants on the Internet, as pioneers on\\n  > the electronic frontier, need to have their voices heard at this\\n  > critical moment.\\n\\n  To automatically receive a description of the platform and details,\\n  send mail to archive-server@eff.org, with the following line:\\n\\n    send documents open-platform-overview\\n\\n  or send mail to eff@eff.org.  See also the Introduction to the EFF\\n  Open Platform Proposal in ftp.eff.org:/pub/pub-infra/1991-02.\\n\\n  \\n  References\\n  ==========\\n\\n  ``Digital Data On Demand.'' MacWorld, 2/82 (page 224).\\n  ---\\n    56Kbps vs. ISDN services and products. See comments by J. Powers\\n    in ftp.eff.org:pub/pub-infra/1992-02.\\n\\n  ``Telephone Service That Rings of the Future.'' By Joshua Quittner. \\n  Newsday, Tue, Jan 7 1992.\\n  ---\\n    Implications of ISDN for the masses, written in popular science\\n    style.   John Perry Barlow (cofounder EFF). Regional telephone\\n    companies (Ohio Bell).  ISDN as ``Technological Rorschach Test.''\\n     Anecdotes about McDonald's,  Barbara Bush teleconferencing. See\\n    complete text in ftp.eff.org:/pub/pub-infra/1992-01.\\n    \\n  ftp.eff.org:/pub/pub-infra/\\n  ---\\n    Files 1991-11 through 1992-05 containing email from the EFF public\\n    infrastructure group organized by month.  Opinions and facts on\\n    the pros and cons of ISDN, Integrated Services Digital Network. \\n    Uses of ISDN (phone video, audio, etc.)  Japanese model.\\n    Alternatives to ISDN (HDSL, ADSL, fiber optics). Technical \\n    specifications of ISDN, implementation details, cost issues,\\n    political obstacles, (RBOC, Regional Bell Operating Companies or\\n    `Baby Bells', e.g. NET, New England Telephone).  Influencing\\n    development of future networks (e.g. ISDN and NREN, National\\n    Research and Education  Network), encouraging competition (cable\\n    TV systems). Press releases and news articles.  Letter from Rep.\\n    E. J. Markey to M. Kapor.\\n\\n_____\\n<6.5> What is the National Research and Education Network (NREN)?\\n\\n  The Nation Research and Education Network was introduced in\\n  legislation cosponsored by Sen. A. Gore to promote high-speed data\\n  network infrastructure augmenting the internet with up to 50 times\\n  faster transmission rates.  The bill passed the House on November\\n  20, 1991, the Senate on November 22, 1991, and was signed by the\\n  President on December 9, 1991.\\n\\n  ftp.eff.org\\n  ===========\\n  \\n  /pub/EFF/legislation/nren-bill-text\\n  ---\\n    The complete text of the House-Senate compromise version of S.\\n    272, the High-Performance Computing Act.\\n\\n  /pub/internet-info/gore.bill\\n  ---\\n    102nd congress 1st Session. Text of high performance computing\\n    bill cosponsored by Sen. A. Gore.\\n\\n\\n  /pub/EFF/legislation/gore-infrastructure-bill\\n  ---\\n    The text of S.2937, the Information Infrastructure and Technology\\n    Act of 1992 introduced by Senator Gore to expand Federal efforts\\n    to develop technologies for applications of high-performance\\n    computing and high-speed networking, and to provide for a\\n    coordinated Federal program to accelerate development and\\n    deployment of an advanced information infrastructure.\\n\\n  U.S. SAID TO PLAY FAVORITES IN PROMOTING NATIONWIDE COMPUTER NETWORK\\n  By John Markoff, N.Y. Times (~18 Dec 91).\\n  ---\\n    President Bush's legislation for natiowide computer data\\n    `superhighway.'  IBM-MCI venture as monopoly destructive to fair\\n    competition and  innovation?  National Science Foundation NSFnet.\\n    complete text in  /pub/pub-infra/1991-12.\\n\\n  Commentary\\n  ==========\\n\\n  /pub/academic/statements/nren.privacy.cpsr\\n  ---\\n    ``Proposed Privacy Guidelines for the NREN'' -- Statement of Marc\\n    Rotenberg, Washington Director Computer Professionals for Social\\n    Responsibility (CPSR).\\n\\n  /pub/internet-info/cisler.nren\\n  ---\\n    The National Research and Education Network: Two meetings Steve\\n    Cisler, Senior Scientist Apple Computer Library December 17, 1990\\n    Summary of meetings exploring educational issues of NREN by\\n    diverse members of academia and industry.\\n\\n  /pub/internet-info/privatized.nren\\n  ---\\n    Feb. 14 1991 essay by M. Kapor advocating advantages of a private\\n    National Public  Network, and specific recommendations for open\\n    NREN policies encouraging  competition.\\n\\n\\n  /pub/eff/papers/netproposition\\n  ---\\n    An FYI about the proposed NREN setup.\\n\\n_____\\n<6.6> What is the FBI's proposed Digital Telephony Act?\\n\\n  ``Providers of electronic communication services and private branch\\n  exchange operators shall provide within the United States\\n  capability and capacity for the government to intercept wire and\\n  electronic communications when authorized by law...''\\n  \\n  From `BBS Legislative Watch: FBIs Wiretapping Proposal Thwarted' by\\n  S. Steele in Boardwatch Magazine, Feb. 1993, p. 19-22:\\n \\n  > In a move that worried privacy experts, software manufacturers and\\n  > telephone companies, the FBI proposed legislation to amend the\\n  > Communications Act of 1934 to make it easier for the Bureau to\\n  > perform electronic wiretapping. The proposed legislation,\\n  > entitled 'Digital Telephony,' would have required communications\\n  > service providers and hardware manufacturers to make their\\n  > systems 'tappable' by providing 'back doors' through which law\\n  > enforcement officers could intercept communications. Furthermore,\\n  > this capability would have been provided undetectably, while the\\n  > communications was in progress, exclusive of any communications\\n  > between other parties, regardless of the mobility of the target\\n  > of the FBI's investigation, and without degradation of service.\\n  >  \\n  > ...under the proposal, the Department of Justice (DOJ) can keep\\n  > communications products off the market if it determines that\\n  > these products do not meet the DOJ's own ... guidelines. This\\n  > [could] result in increased costs and reduced competitiveness for\\n  > service providers and equipment manufacturers, since they will be\\n  > unlikely to add any features that may result in a DOJ rejection\\n  > of their entire product. ...the FBI proposal suggests that the\\n  > cost of this wiretapping 'service' to the Bureau would have to be\\n  > borne by the service provider itself...\\n  > \\n  > The Electronic Frontier Foundation organized a broad coalition of\\n  > public interest and industry groups, from Computer Professionals\\n  > for Social Responsibilty (CPSR) and the ACLU to AT&T and Sun\\n  > Microsystems, to oppose the legislation. A white paper produced\\n  > by the EFF and ratified by the coalition, entitled, `An Analysis\\n  > of the FBI Digital Telephony Proposal,' was widely distributed\\n  > throughout the Congress.  ... The Justice Department lobbied hard\\n  > in the final days to get Congress to take up the bill before\\n  > Congress adjourned, but the bill never ... found a Congressional\\n  > sponsor (and was therefore never officially introduced). The FBI\\n  > [may] reintroduce \\\"Digital Telephony\\\" when the 103rd Congress\\n  > convenes in January.\\n\\n  ftp.eff.org\\n  ===========\\n  \\n  /pub/eff/legislation/fbi-wiretap-bill\\n  /pub/EFF/legislation/new-fbi-wiretap-bill\\n  ---\\n    A bill to ensure the continuing access of law enforcement to the\\n    content of wire and electronic communications when authorized by\\n    law and for other purposes. Version 2 of the bill after FBI\\n    changes in response to public response.\\n\\n  /pub/cud/law/hr3515\\n  ---\\n    House of Rep bill 3515, Telecommunications Law.\\n\\n  Commentary\\n  ==========\\n  \\n  /pub/eff/papers/eff-fbi-analysis\\n  ---\\n    The EFF-sponsored analysis of the FBI's Digital Telephony proposal.\\n\\n  /pub/eff/papers/ecpa.layman\\n  ---\\n    The Electronic Communications Privacy Act of 1986: A Layman's View.\\n\\n  /pub/eff/papers/nightline-wire\\n  ---\\n    Transcript of ABC's Nightline of May 22, 1992, on the FBI,\\n    Privacy, and Proposed Wire-Tapping Legislation. Featured are Marc\\n    Rotenberg of the CPSR and William Sessions, Director of the FBI.\\n\\n  /pub/eff/papers/edwards_letter\\n  ---\\n    A letter from the Director of the Secret Service to US Rep. Don\\n    Edwards, D-California, in response to questions raised by\\n    Edwards' Subcommittee. This copy came from Computer Professionals\\n    for Social Responsibility in Washington, D.C.\\n\\n  /pub/eff/papers/fbi.systems\\n  ---\\n    A description of how information is stored on the FBI's computer\\n    systems.\\n\\n\\n_____\\n<6.7> What other U.S. legislation is related to privacy?\\n\\n  ftp.eff.org\\n  ===========\\n  \\n  /pub/cud/law/<state>  \\n  ---\\n    State computer crime laws:\\n                                  AL, AK, AZ, CA, CO, CT, DE, FL, GA,\\n                                  HI, IA, ID, IL, IN, MD, MN, NC, NJ,\\n                                  NM, NY, OR, TX, VT, VA, WA, WI, WV.\\n\\n  /pub/cud/law/<country>\\n  ---\\n    Current computer crime laws for: The United States (federal\\n    code), Canada, Ghana, and Great Britain.\\n\\n  /pub/cud/law/bill.s.618\\n  ---\\n    Senate bill 618, addressing registration of encryption keys with\\n    the government.\\n\\n  /pub/cud/law/improve\\n  ---\\n    Improvement of Information Access bill.\\n\\n  /pub/cud/law/monitoring\\n  ---\\n    Senate bill 516; concerning abuses of electronic monitoring in the\\n    workplace.\\n\\n  /pub/cud/law/us.e-privacy\\n  ---\\n    Title 18, relating to computer crime & email privacy.\\n\\n  /pub/academic/law/privacy.electronic.bill\\n  ---\\n    The text of Simon's electronic privacy bill, S. 516. ``To prevent\\n    potential abuses of electronic monitoring in the workplace.''\\n\\n_____\\n<6.8> What are references on rights in cyberspace?\\n\\n  ftp.eff.org\\n  ===========\\n\\n  /pub/cud/papers/const.in.cyberspace\\n  ---\\n    Laurence Tribe's keynote address at the first Conference on\\n    Computers, Freedom, & Privacy. `The Constitution in Cyberspace'\\n\\n  /pub/cud/papers/denning\\n  ---\\n    Paper presented to 13th Nat'l Comp Security Conf ``Concerning\\n    Hackers Who Break into Computer Systems'' by Dorothy E Denning.\\n\\n  /pub/cud/papers/privacy\\n  ---\\n    ``Computer Privacy vs First and Fourth Amendment Rights'' by\\n    Michael S. Borella\\n\\n  /pub/cud/papers/rights-of-expr\\n  ---\\n    Rights of Expression in Cyberspace by R. E. Baird\\n\\n  /pub/academic/eff.rights\\n  ---\\n    Bill of Rights' meaning in the Electronic Frontier.\\n\\n_____\\n<6.9> What is the Computers and Academic Freedom (CAF) archive?\\n\\n  The CAF Archive is an electronic library of information about\\n  computers and academic freedom. run by the Computers and Academic\\n  Freedom group on the Electronic Frontier Foundation FTP site.\\n  \\n  > If you have gopher, the archive is browsable with the command:\\n  >   gopher -p academic gopher.eff.org\\n  > \\n  > It is available via anonymous ftp to ftp.eff.org (192.88.144.4) in\\n  > directory `pub/academic'. It is also available via email. For\\n  > information on email access send email to archive-server@eff.org.\\n  > In the body of your note include the lines `help' and `index'.\\n  > \\n  > For more information, to make contributions, or to report typos\\n  > contact J.S. Greenfield (greeny@eff.org).\\n\\n  ftp.eff.org\\n  ===========\\n  \\n  /pub/academic/statements/caf-statement\\n  ---\\n    Codifies the application of academic freedom to academic\\n    computers, reflecting seven months of on-line discussion about\\n    computers and academic freedom.  Covers free expression, due\\n    process, privacy, and user participation.\\n\\n  /pub/academic/books\\n  ---\\n    Directory of book references related to Computers and Academic\\n    Freedom or mentioned in the CAF discussion. The file books/README\\n    is a bibliography.\\n\\n  /pub/academic/faq/archive\\n  ---\\n    List of files available on the Computers and Academic Freedom\\n    archive.\\n\\n  /pub/academic/news\\n  ---\\n    Directory of all issues of the Computers and Academic Freedom\\n    News. A full list of abstracts is available in file `abstracts'.\\n    The special best-of-the-month issues are named with their month,\\n    for example, `June'.\\n\\n\\nFOOTNOTES\\n=========\\n\\n\\n_____\\n<7.1> What is the background behind the Internet?\\n \\n  The article ``Internet'' in Fantasy and Science Fiction by Bruce\\n  Sterling <bruces@well.sf.ca.us> contains general and nontechnical\\n  introductory notes on origins of the Internet, including the role\\n  of the RAND corporation, the goal of network resilience in face of\\n  nuclear attack, MIT, UCLA, ARPANET, TCP/IP, NSF, NREN, etc.:\\n\\n  > ARPANET itself formally expired in 1989, a happy victim of its \\n  > own overwhelming success.  Its users scarcely noticed, for\\n  > ARPANET's  functions not only continued but steadily improved. \\n  > The use of  TCP/IP standards for computer networking is now\\n  > global.  In 1971, a  mere twenty-one years ago, there were only\\n  > four nodes in the  ARPANET  network.  Today there are tens of\\n  > thousands of  nodes in  the Internet,  scattered over forty-two\\n  > countries, with more coming  on-line every day.   Three million,\\n  > possibly four million people use  this gigantic\\n  > mother-of-all-computer-networks.   \\n  > \\n  > The Internet is especially popular among scientists, and is \\n  > probably the most important scientific instrument of the late \\n  > twentieth century.   The  powerful, sophisticated access that it \\n  > provides to specialized data and personal communication  has sped\\n  > up the pace of scientific research enormously.  \\n  > \\n  > The Internet's pace of growth in the early 1990s is  spectacular, \\n  > almost ferocious.  It is spreading faster than cellular phones,\\n  > faster  than fax machines.  Last year the Internet was growing at\\n  > a rate of  twenty percent a *month.*  The number of `host'\\n  > machines with direct  connection to TCP/IP has been doubling\\n  > every year since  1988.   The Internet is moving out of  its\\n  > original base in military and  research institutions,  into\\n  > elementary and high schools, as well as into  public libraries\\n  > and the commercial sector.\\n\\n  References\\n  ==========\\n\\n  Bowers, K., T. LaQuey, J. Reynolds, K. Roubicek, M. Stahl, and A.\\n  Yuan, ``Where to Start - A Bibliography of General Internetworking\\n  Information'' (RFC-1175), CNRI, U Texas, ISI, BBN, SRI, Mitre,\\n  August 1990.\\n\\n  The Whole Internet Catalog & User's Guide by Ed Krol.  (1992)\\n  O'Reilly  and Associates, Inc.\\n  ---\\n    A clear, non-jargonized introduction to the  intimidating business\\n    of network literacy written in humorous style.\\n\\n  Krol, E., ``The Hitchhikers Guide to the Internet'' (RFC-1118),\\n  University of Illinois Urbana, September 1989.\\n\\n  ``The User's Directory to Computer Networks'', by Tracy LaQuey.\\n\\n  The Matrix: Computer Networks and Conferencing Systems Worldwide. \\n  by John Quarterman.  Digital Press: Bedford, MA. (1990)  \\n  ---\\n    Massive and highly technical compendium detailing the\\n    mind-boggling scope and  complexity of global internetworks.\\n\\n  ``!%@:: A Directory of Electronic Mail Addressing and Networks'' by\\n  Donnalyn Frey and Rick Adams.\\n      \\n  The Internet Companion, by Tracy LaQuey with Jeanne C. Ryer (1992)  \\n  Addison Wesley. \\n  ---\\n    ``Evangelical'' etiquette guide to the Internet featuring \\n    anecdotal tales of life-changing Internet experiences.  Foreword\\n    by  Senator Al Gore.\\n\\n  Zen and the Art of the Internet: A Beginner's Guide by Brendan P. \\n  Kehoe (1992)  Prentice Hall. \\n  ---\\n    Brief but useful Internet guide with  plenty of good advice on\\n    useful databases.\\n\\n\\n  See also ftp.eff.com:/pub/internet-info/.  (Thanks to Bruce Sterling\\n  <bruces@well.sf.ca.us> for contributions here.)\\n\\n\\n  General\\n  =======\\n\\n  Cunningham, Scott and Alan L. Porter. ``Communication Networks: A\\n  dozen  ways they'll change our lives.'' The Futurist 26, 1\\n  (January-February,  1992): 19-22.\\n\\n  Brian Kahin, ed., BUILDING INFORMATION INFRASTRUCTURE (New York: \\n  McGraw-Hill, 1992) ISBN# 0-390-03083-X\\n  ---\\n    Essays on information infrastructure.  Policy and design issues,\\n    research and NREN, future visions, information markets.  See\\n    table  of contents in ftp.eff.org:/pub/pub-infra/1992-03.\\n\\n  Shapard, Jeffrey. ``Observations on Cross-Cultural Electronic \\n  Networking.'' Whole Earth Review (Winter) 1990: 32-35.\\n\\n  Varley, Pamela. ``Electronic Democracy.'' Technology Review \\n  (November/December, 1991): 43-51.\\n\\n______\\n<7.2> How Internet `anarchy' like the English language?\\n\\n  According to Bruce Sterling <bruces@well.sf.ca.us>:\\n\\n  > The Internet's `anarchy' may seem strange or even unnatural,  but\\n  > it makes a certain deep and basic sense.  It's rather like the \\n  > `anarchy' of the English language.  Nobody rents English, and\\n  > nobody  owns English.    As an English-speaking person, it's up\\n  > to you to learn  how to speak English properly  and make whatever\\n  > use you please  of it (though the government provides certain\\n  > subsidies to help you  learn to read and write a bit).  \\n  > Otherwise, everybody just sort of  pitches in, and somehow the\\n  > thing evolves on its own, and somehow  turns out workable.  And\\n  > interesting.   Fascinating, even.   Though a lot  of people earn\\n  > their living from using and exploiting  and teaching  English,\\n  > `English' as an institution is public property, a public good.  \\n  > Much the same goes for the Internet.   Would English  be improved\\n  > if  the `The English Language, Inc.'  had a board of directors\\n  > and a chief  executive officer, or a President and a Congress?  \\n  > There'd probably be  a lot fewer new words in English, and a lot\\n  > fewer new ideas.  \\n\\n\\n_____\\n<7.3> Most Wanted list\\n\\n  Hopefully you have benefitted from this creation, compilation, and\\n  condensation of information from various sources regarding privacy,\\n  identity, and anonymity on the internet.  The author is committed\\n  to keeping this up-to-date and strengthening it, but this can only\\n  be effective with your feedback.  In particular, the following\\n  items are sought:\\n  \\n  - Short summaries of RFC documents and other references listed,\\n    esp. CPSR files.\\n  - More data on the specific uses and penetration of RFC-931.\\n  - Internet traffic statistics.  How much is email?  How much\\n    USENET?  What are the costs involved?\\n  - Famous or obscure examples of compromised privacy\\n    on the internet.\\n        - FTP site for the code (NOT the code) to turn the .plan file into a\\n                named pipe for sensing/reacting to remote `fingers'.\\n  - Knowledge on the `promiscuous' mode of receipt or transmission \\n    on network  cards.\\n  - Details on the infamous experiment where a scientist resubmitted \\n    previously accepted papers to a prominent journal with new and\\n    unknown authors that were subsequently rejected.\\n  - X Windows, EFF, CPSR FAQhood in news.answers.\\n  \\n  Commerical use of this document is negotiable and is a way for the\\n  author to recoup from a significant time investment. Email feedback\\n  to ld231782@longs.lance.colostate.edu.  Please note where you saw\\n  this (which newsgroup, etc.).\\n\\n_____\\n<7.4> Change history\\n\\n  3/3/93 v2.1 (current)\\n    \\n    CPSR pointer, new UNIX mode examples, digital telephony act,\\n    Steve Jackson incident, additions/ reorganization to\\n    anonymity section, part 3.  Note: v2.0 post to sci.crypt,\\n    alt.privacy, news.answers, alt.answers, sci.answers was cancelled\\n    by J. Kamens because of incorrect subject line.\\n    \\n  2/14/93 v2.0\\n\\n    Major revisions.  New section for X Windows.  Some email privacy\\n    items reorganized to network security section.  New sections for\\n    email liability issues, anonymity history and responsibilities. \\n    Split into three files.  Many new sources added, particularly\\n    from EFF and CAF in new `issues' part. `commentary' from \\n    news.admin.policy.  21 day automated posting starts.\\n\\n  2/3/93 v1.0\\n\\n    More newsgroups & FAQs added.  More `Most Wanted'.  Posted to\\n    news.answers.  Future monthly posting to sci.crypt, alt.privacy.\\n\\n  2/1/93 v0.3\\n  \\n    Formatted to 72 columns for quoting etc. `miscellaneous,'\\n    `resources' sections added with cypherpunk servers and use\\n    warnings.  More UNIX examples (`ls' and `chmod').  Posted to\\n    alt.privacy, comp.society.privacy.\\n  \\n  1/29/93 v0.2\\n    \\n    `Identity' and `Privacy' sections added.  `Anonymity' expanded.\\n    Remailer addresses removed due to lack of information and\\n    instability.  Posted to sci.crypt.\\n  \\n  1/25/93 v0.1\\n  \\n    Originally posted to the cypherpunks mailing list on 1/25/93 as a\\n    call to organize a list of anonymous servers.\\n  \\n  email ld231782@longs.lance.colostate.edu for earlier versions.\\n\\n\\n* * *\\n\\nSEE ALSO\\n========\\n\\nPart 1 (previous file)\\n------\\n\\n<1.1> What is `identity' on the internet?\\n<1.2> Why is identity (un)important on the internet?\\n<1.3> How does my email address (not) identify me and my background?\\n<1.4> How can I find out more about somebody from their email address?\\n<1.5> Why is identification (un)stable on the internet? \\n<1.6> What is the future of identification on the internet?\\n\\n<2.1> What is `privacy' on the internet?\\n<2.2> Why is privacy (un)important on the internet?\\n<2.3> How (in)secure are internet networks?\\n<2.4> How (in)secure is my account?\\n<2.5> How (in)secure are my files and directories?\\n<2.6> How (in)secure is X Windows?\\n<2.7> How (in)secure is my email?\\n<2.8> How am I (not) liable for my email and postings?\\n<2.9> How do I provide more/less information to others on my identity?\\n<2.10> Who is my sysadmin?  What does s/he know about me?\\n<2.11> Why is privacy (un)stable on the internet?\\n<2.12> What is the future of privacy on the internet?\\n\\n<3.1> What is `anonymity' on the internet?\\n<3.2> Why is `anonymity' (un)important on the internet?\\n<3.3> How can anonymity be protected on the internet?\\n<3.4> What is `anonymous mail'?\\n<3.5> What is `anonymous posting'?\\n<3.6> Why is anonymity (un)stable on the internet?\\n<3.7> What is the future of anonymity on the internet?\\n\\nPart 3 (next file)\\n------\\n\\n<8.1> What are some known anonymous remailing and posting sites?\\n<8.2> What are the responsibilities associated with anonymity?\\n<8.3> How do I `kill' anonymous postings?\\n<8.4> What is the history behind anonymous posting servers?\\n<8.5> What is the value of anonymity?\\n<8.6> Should anonymous posting to all groups be allowed?\\n<8.7> What should system operators do with anonymous postings?\\n<8.8> What is going on with anon.penet.fi maintained by J. Helsingius?\\n\\n\\n* * *\\n\\nThis is Part 2 of the Privacy & Anonymity FAQ, obtained via anonymous\\n  FTP to pit-manager@mit.edu:/pub/usenet/news.answers/net-privacy/ or \\n  newsgroups news.answers, sci.answers, alt.answers every 21 days.\\nWritten by L. Detweiler <ld231782@longs.lance.colostate.edu>.\\nAll rights reserved.\\n\",\n          \"From: ld231782@longs.lance.colostate.edu (L. Detweiler)\\nSubject: Privacy & Anonymity on the Internet FAQ (1 of 3)\\nSupersedes: <net-privacy/part1_733153240@GZA.COM>\\nOrganization: TMP Enterprises\\nLines: 1220\\nExpires: 21 May 1993 04:00:06 GMT\\nReply-To: ld231782@longs.lance.colostate.edu\\nNNTP-Posting-Host: pad-thai.aktis.com\\nSummary: Email and account privacy, anonymous mailing and posting, \\n encryption, and other privacy and rights issues associated with use\\n of the Internet and global networks in general.\\nX-Last-Updated: 1993/03/04\\n\\nArchive-name: net-privacy/part1\\nLast-modified: 1993/3/3\\nVersion: 2.1\\n\\n\\nIDENTITY, PRIVACY, and ANONYMITY on the INTERNET\\n================================================\\n\\n(c) 1993 L. Detweiler.  Not for commercial use except by permission\\nfrom author, otherwise may be freely copied.  Not to be altered. \\nPlease credit if quoted.\\n\\nSUMMARY\\n=======\\n\\nInformation on email and account privacy, anonymous mailing and \\nposting, encryption, and other privacy and rights issues associated\\nwith use of the Internet and global networks in general.\\n\\n(Search for <#.#> for exact section. Search for '_' (underline) for\\nnext section.)\\n\\nPART 1\\n====== (this file)\\n\\nIdentity\\n--------\\n<1.1> What is `identity' on the internet?\\n<1.2> Why is identity (un)important on the internet?\\n<1.3> How does my email address (not) identify me and my background?\\n<1.4> How can I find out more about somebody from their email address?\\n<1.5> Why is identification (un)stable on the internet? \\n<1.6> What is the future of identification on the internet?\\n\\nPrivacy\\n-------\\n<2.1> What is `privacy' on the internet?\\n<2.2> Why is privacy (un)important on the internet?\\n<2.3> How (in)secure are internet networks?\\n<2.4> How (in)secure is my account?\\n<2.5> How (in)secure are my files and directories?\\n<2.6> How (in)secure is X Windows?\\n<2.7> How (in)secure is my email?\\n<2.8> How am I (not) liable for my email and postings?\\n<2.9> How do I provide more/less information to others on my identity?\\n<2.10> Who is my sysadmin?  What does s/he know about me?\\n<2.11> Why is privacy (un)stable on the internet?\\n<2.12> What is the future of privacy on the internet?\\n\\nAnonymity\\n---------\\n<3.1> What is `anonymity' on the internet?\\n<3.2> Why is `anonymity' (un)important on the internet?\\n<3.3> How can anonymity be protected on the internet?\\n<3.4> What is `anonymous mail'?\\n<3.5> What is `anonymous posting'?\\n<3.6> Why is anonymity (un)stable on the internet?\\n<3.7> What is the future of anonymity on the internet?\\n\\n\\nPART 2\\n====== (next file)\\n\\nResources\\n---------\\n\\n<4.1> What UNIX programs are related to privacy?\\n<4.2> How can I learn about or use cryptography?\\n<4.3> What is the cypherpunks mailing list?\\n<4.4> What are some privacy-related newsgroups?  FAQs?\\n<4.5> What is internet Privacy Enhanced Mail (PEM)?\\n<4.6> What are other Request For Comments (RFCs) related to privacy?\\n<4.7> How can I run an anonymous remailer?\\n<4.8> What are references on privacy in email?\\n<4.9> What are some email, Usenet, and internet use policies?\\n<4.10> What is the MIT ``CROSSLINK'' anonymous message TV program?\\n\\nMiscellaneous\\n-------------\\n\\n<5.1> What is ``digital cash''?\\n<5.2> What is a ``hacker'' or ``cracker''?\\n<5.3> What is a ``cypherpunk''?\\n<5.4> What is `steganography' and anonymous pools?\\n<5.5> What is `security through obscurity'?\\n<5.6> What are `identity daemons'?\\n<5.7> What standards are needed to guard electronic privacy?\\n\\nIssues\\n------\\n\\n<6.1> What is the Electronic Frontier Foundation (EFF)?\\n<6.2> Who are Computer Professionals for Social Responsibility (CPSR)?\\n<6.3> What was `Operation Sun Devil' and the Steve Jackson Game case?\\n<6.4> What is Integrated Services Digital Network (ISDN)?\\n<6.5> What is the National Research and Education Network (NREN)?\\n<6.6> What is the FBI's proposed Digital Telephony Act?\\n<6.7> What other U.S. legislation is related to privacy on networks?\\n<6.8> What are references on rights in cyberspace?\\n<6.9> What is the Computers and Academic Freedom (CAF) archive?\\n\\nFootnotes\\n---------\\n\\n<7.1> What is the background behind the Internet?\\n<7.2> How is Internet `anarchy' like the English language?\\n<7.3> Most Wanted list\\n<7.4> Change history\\n\\n\\nPART 3\\n====== (last file)\\n\\nAnonymizing\\n-----------\\n\\n<8.1> What are some known anonymous remailing and posting sites?\\n<8.2> What are the responsibilities associated with anonymity?\\n<8.3> How do I `kill' anonymous postings?\\n<8.4> What is the history behind anonymous posting servers?\\n<8.5> What is the value of anonymity?\\n<8.6> Should anonymous posting to all groups be allowed?\\n<8.7> What should system operators do with anonymous postings?\\n<8.8> What is going on with anon.penet.fi maintained by J. Helsingius?\\n\\n\\n* * *\\n\\n\\nIDENTITY\\n========\\n\\n_____\\n<1.1> What is `identity' on the internet?\\n\\n  Generally, today people's `identity' on the internet is primarily\\n  determined by their email address in the sense that this is their\\n  most unchanging 'face' in the electronic realm.   This is your\\n  login name qualified by the complete address domain information,\\n  for example ``ld231782@longs.lance.colostate.edu''.  People see\\n  this address when receiving mail or reading USENET posts from you\\n  and in other situations where programs record usage.  Some obsolete\\n  forms of addresses (such as BITNET) still persist.\\n\\n  In email messages, additional information on the path that a message\\n  takes is prepended to the message received by the recipient.  This\\n  information identifies the chain of hosts involved in the\\n  transmission and is a very accurate trace of its origination.  This\\n  type of identify-and-forward protocol is also used in the USENET\\n  protocol to a lesser extent.  Forging these fields requires\\n  corrupted mailing software at sites involved in the forwarding and\\n  is very uncommon.  Not so uncommon is forging the chain at the\\n  origination point, so that all initial sites in the list are faked\\n  at the time the message is created.  Tracing these messages can be\\n  difficult or impossible when the initial faked fields are names of\\n  real machines and represent real transfer routes.\\n\\n_____\\n<1.2> Why is identity (un)important on the internet?\\n\\n  The concept of identity is closely intertwined with communication,\\n  privacy, and security, which in turn are all critical aspects of\\n  computer networks. For example, the convenience of communication\\n  afforded by email would be impossible without conventions for\\n  identification.  But there are many potential abuses of identity\\n  possible that can have very severe consequences, with massive\\n  computer networks at the forefront of the issue, which can\\n  potentially either exacerbate or solve these problems.\\n\\n  Verifying that an identity is correct is called `authentication',\\n  and one classic example of the problems associated with it is\\n  H.G.Well's ``War of the Worlds'' radio broadcast that fooled\\n  segments of the population into thinking that an alien invasion was\\n  in progress.  Hoaxes of this order are not uncommon on Usenet and\\n  forged identities makes them more insidious.  People and their\\n  reputations can be assaulted by forgery.\\n\\n  However, the fluidity of identity on the internet is for some one of\\n  its most attractive features. Identity is just as useful as it is\\n  harmful.  A professor might carefully explain a topic until he\\n  finds he is talking to an undergraduate. A person of a particular\\n  occupation may be able to converse with others who might normally\\n  shun him.  Some prejudices are erased, but, on the other hand, many\\n  prejudices are useful!  A scientist might argue he can better\\n  evaluate the findings of a paper as a reviewer if he knows more\\n  about the authors.  Likewise, he may be more likely to reject it\\n  based on unfair or irrelevant criteria.  On the other side of the\\n  connection,  the author may find identities of reviewers useful in\\n  exerting pressure for acceptance.\\n\\n  Identity is especially crucial in establishing and regulating\\n  `credit' (not necessarily financial) and `ownership' and `usage'. \\n  Many functions in society demand reliable and accurate techniques\\n  for identification. Heavy reliance will be placed on digital\\n  authentication as global economies become increasingly electronic. \\n  Many government functions and services are based on identification,\\n  and law enforcement frequently hinges on it.  Hence, employees of\\n  many government organizations push toward stronger identification\\n  structures.  But when does identification invade privacy?\\n\\n  The growth of the internet is provoking social forces of massive\\n  proportions. Decisions made now on issues of identity will affect\\n  many future users, especially as the network becomes increasingly\\n  global, universal, widespread, and entrenched; and the positive or\\n  adverse affects of these actions, intended and inadvertent,  will\\n  literally be magnified exponentially.\\n\\n_____\\n<1.3> How does my email address (not) identify me and my background?\\n\\n  Your email address may contain information that influences people's\\n  perceptions of your background.  The address may `identify' you as\\n  from a department at a particular university, an employee at a\\n  company, or a government worker.  It may contain your last name,\\n  initials, or cryptic identification codes independent of both.  In\\n  the US some are based on parts of social security numbers.  Others\\n  are in the form 'u2338' where the number is incremented in the\\n  order that new users are added to the system.\\n\\n  Standard internet addresses  also can contain information  on your\\n  broad geographical location or nationhood.  However, none of this\\n  information is guaranteed to be correct or be there at all.  The\\n  fields in the domain qualification of the username are based on\\n  rather arbitrary organization, such as (mostly invisible) network\\n  cabling distributions.  The only point to make is that early fields\\n  in the address are more specific (such as specific computer names\\n  or local networks) and the later ones the most general (such as\\n  continental domains).  Typically the first field is the name of the\\n  computer receiving mail.\\n\\n  Gleaning information from the email address alone is sometimes an\\n  inspired art or an inconsistent and futile exercise.  (For more\\n  information, see the FAQs on email  addresses and known\\n  geographical distributions below.)  However, UNIX utilities exist\\n  to aid in the quest (see the question on this).\\n\\n  Common Suffixes\\n  ---------------\\n\\n  .us    United States\\n  .uk    United Kingdom\\n  .ca    Canada\\n  .fi    Finland\\n  .au    Australia\\n\\n  .edu   university or college\\n  .com   commercial organization\\n  .org   'other' (e.g. nonprofit organization)\\n  .gov   government\\n  .mil   military site\\n \\n_____\\n<1.4> How can I find out more about somebody with a given email address?\\n\\n  One simple way is to send email to that address, asking.  Another\\n  way is to send mail to the postmaster at that address (i.e.\\n  postmaster@address), although the postmaster's job is more to help\\n  find user ID's of particular people given their real name and solve\\n  mail routing problems.  The sysadmin (i.e. `root@address') may also\\n  be able to supply information.  Users with related email address\\n  may have information.  However, all of these methods rely on the\\n  time and patience of others so use them minimally.\\n\\n  One of the most basic tools for determining identity over the\\n  internet is the UNIX utility 'finger'.  The basic syntax is:\\n\\n    finger user@here.there.everywhere\\n\\n  This utility uses communication protocols to query the computer\\n  named in the address for information on the user named.  The\\n  response is generated completely by the receiving computer and may\\n  be in any format.  Possible responses are as follows:\\n\\n  - A message `unknown host' meaning some aspect of the address is\\n    incorrect, two lines with no information and '???'.\\n  \\n  - A message 'In real life: ???' in which case the receiving computer\\n    could not find any kind of a match on the username. The finger\\n    utility may return this response in other situations.\\n  \\n  - A listing of information associated with multiple users. Some\\n    computers will search only for matching user IDs, others will\\n    attempt to find the username you specified as a substring of all\\n    actual full names of users kept in a local database.\\n  \\n  At some sites 'finger' can be used to get a list of all users on the\\n  system with a `finger @address'.  In general this is often\\n  considered weak security, however, because `attackers' know valid\\n  user ID's to `crack' passwords.\\n\\n  More information on the fields returned by `finger' is given below. \\n  More information on `finger' and locating people's email addresses\\n  is given in the email FAQ (such as the WHOIS lookup utility).  Just\\n  as you can use these means to find out about others, they can use\\n  them to find out about you.  You can `finger' yourself to find out\\n  what is publicly reported by your UNIX system about you.  Be\\n  careful when modifying `finger' data; virtually anyone with\\n  internet access worldwide can query this information.  In one\\n  amazing case, the New York Times writer J. Markoff uncovered the\\n  identity of R. Morris, author of the Internet Worm,  through\\n  the use of an anonymous tip and 'finger'.  See the book Cyberspace\\n  by K. Hafner and J. Markoff.\\n\\n_____\\n<1.5> Why is identification (un)stable on the internet?\\n\\n  Generally, identity is an amorphous and almost nonexistent concept\\n  on the Internet for a variety of reasons.  One is the inherent\\n  fluidity of `cyberspace' where people emerge and submerge\\n  frequently, and absences are not readily noted in the `community'. \\n  Most people remember faces and voices, the primary means of casual\\n  identification in the 'real world'.  The arbitary and cryptic \\n  sequences of letters and digits comprising most email addresses are\\n  not particularly noticeable or memorable and far from a unique\\n  identification of an individual, who may use multiple accounts on\\n  multiple machines anywhere in the world.\\n\\n  Currently internet users do not really have any great assurances\\n  that the messages in email and USENET are from who they appear to\\n  be. A person's mailing address is far from an identification of an\\n  individual.  \\n  \\n  - Anyone with access to the account, e.g. they know the password,\\n    either legitimately or otherwise, can send mail with that address\\n    in the From: line.\\n  \\n  - Email addresses for an individual tend to change frequently as\\n    they switch jobs or make moves inside their organizations. \\n\\n  - As part of current mailing protocol standards, forging the From:\\n    line in mail messages is a fairly trivial operation for many\\n    hackers.\\n    \\n  The status and path information prepended to messages by\\n  intermediate hosts is generally unforgeable. In general, while\\n  possible, forgeries are fairly rare on most newsgroups and in\\n  email.  Besides these pathological cases abve there are many basic\\n  problems with today's internet protocols affecting identification\\n  on the internet:\\n\\n  - Internet mail standards, described in RFC-822, are still evolving\\n    rapidly and not entirely orderly.  For example, standards for\\n    mail address `munging' or `parsing' tend to vary slightly between\\n    sites and frequently mean the difference between finding\\n    addresses and bouncing mail.\\n  \\n  - Domain names and computer names are frequently changed at sites,\\n    and there are delays in the propagation of this data.\\n  \\n  - Addresses cannot be resolved when certain critical computers\\n    crash, such as the receiving computer or other computers involved\\n    in resolving names into addresses called `nameservers'. \\n  \\n  - A whole slew of problems is associated with  `nameservers'; if\\n    they are not updated they will not find name addresses, and even\\n    the operation of what constitutes `updating' has different\\n    interpretations at different sites.\\n  \\n  The current internet mailing and addressing protocols are slightly\\n  anachronistic in that they were created when the network was\\n  somewhat obscure and not widespread, with only a fraction of the\\n  traffic it now sees.  Today a large proportion of internet traffic\\n  is email, comprising  millions of messages.\\n\\n_____\\n<1.6> What is the future of identification on the internet?\\n\\n  Some new technologies and standards are introducing facial images\\n  and voice messages  into mail and these will improve the sense of\\n  community that comes from the familiarity of identification.\\n  However, they are not currently widespread, require large amounts\\n  of data transfer, standardized software, and make some compromises\\n  in privacy.\\n\\n  Promising new cryptographic techniques may make 'digital signatures'\\n  and 'digital authentication' common (see below).  Also, the trend\\n  in USENET standards is toward greater authentication of posted\\n  information.  On the other hand, advances in ensuring anonymity\\n  (such as remailers) are forthcoming.  See below.\\n\\n\\nPRIVACY\\n=======\\n\\n_____\\n<2.1> What is `privacy' on the internet?\\n\\n  Generally, while `privacy' has multiple connotations in society and\\n  perhaps even more on the internet, in cyberspace most take it to\\n  mean that you have exclusive use and access to your account and the\\n  data stored on and and directed to it (such as email), and you do\\n  not encounter arbitrary restrictions or searches.  In other words, \\n  others may obtain data associated with your account, but not\\n  without your permission.  These ideas are probably both fairly\\n  limiting and liberal in their scope in what most internet users\\n  consider their private domains.  Some users don't expect or want\\n  any privacy, some expect and demand it.\\n\\n_____\\n<2.2> Why is privacy (un)important on the internet?\\n\\n  This is a somewhat debatable and inflammatory topic, arousing\\n  passionate opinions.  On the internet, some take privacy for\\n  granted and are rudely surprised to find it tenuous or nonexistent.\\n  Most governments have rules that protect privacy (such as the\\n  illegal search and seizure clause of the U.S. constitution, adopted\\n  by others) but have many that are antithetical to it (such as laws\\n  prohibiting secret communications or allowing wiretapping). These\\n  rules generally carry over to the internet with few specific rules\\n  governing it.  However, the legal repercussions of the global\\n  internet are still largely unknown and untested (i.e. no strong\\n  legal precedents and court cases).  The fact that internet traffic\\n  frequently passes past international boundaries, and is not\\n  centrally managed, significantly complicates and strongly\\n  discourages its regulation.\\n\\n_____\\n<2.3> How (in)secure are internet networks?\\n\\n  - `Theoretically' people at any site in the chain of sites with\\n    access to hardware and network media that transmits data over the\\n    Internet  could potentially monitor or archive it. However, the\\n    sheer volume and general 'noise' inherent to this data makes\\n    these scenarios highly improbable, even by government agencies\\n    with supposedly vast funding and resources.\\n  \\n  - Technologies exist to `tap' magnetic fields given off by\\n    electrical wires without detection.  Less obscurely, any machine\\n    with a network connection is a potential station for traffic\\n    detection, but this scenario requires knowledge and access to\\n    very low-level hardware (the network card) to pursue, if even\\n    possible.\\n  \\n  - A company Network General Inc. is one of many that manufactures\\n    and markets sophisticated network monitoring tools that can\\n    'filter' and read packets by arbitrary criteria for\\n    troubleshooting purposes, but the cost of this type of device is\\n    prohibitive for casual use.\\n\\n  Known instances of the above types of security  breaches at a major\\n  scale (such as at network hubs) are very rare. The greatest risks\\n  tend to emerge locally.  Note that all these approaches are almost\\n  completely defused with the use of cryptography.\\n    \\n_____\\n<2.4> How (in)secure is my account?\\n\\n  By default, not very.  There are a multitude of factors that may\\n  reinforce or compromise aspects of your privacy on the internet. \\n  First, your account must be secure from other users. The universal\\n  system is to use a password, but if it is `weak' (i.e. easy to\\n  guess) this security is significantly diminished.  Somewhat\\n  surprisingly and frighteningly to some, certain  users of the\\n  system, particularly the administrator, generally have unlimited\\n  access regardless of passwords, and may grant that access to\\n  others.  This means that they may read any file in your account\\n  without detection.\\n\\n  Furthermore, not universally known, most UNIX systems keep fairly\\n  extensive accounting records of when and where you logged in, what\\n  commands you execute, and when they are executed (in fact, login\\n  information is usually public). Most features of this `auditing' or\\n   `process accounting' information are enabled by default after the\\n  initial installation and the system administrator may customize it\\n  to strengthen or weaken it to satisfy performance or privacy aims. \\n  This information is frequently consulted for troubleshooting\\n  purposes and may otherwise be ignored.  This data tracks\\n  unsuccessful login attempts and other 'suspicious' activities on\\n  the system. A traditional part of the UNIX system that tracks user\\n  commands is easily circumvented by the user with the use of\\n  symbolic links (described  in 'man ln').\\n  \\n  UNIX implementations vary widely particularly in tracking features\\n  and new sophisticated mechanisms are introduced by companies\\n  regularly. Typically system adminstrators augment the basic UNIX\\n  functionality with public-domain programs and locally-developed\\n  tools for monitoring, and use them only to isolate `suspicious'\\n  activity as it arises (e.g. remote accesses to the 'passwd' file, incorrect\\n  login attempts, remote connection attempts, etc.).\\n  \\n  Generally, you should expect little privacy on your account for\\n  various reasons:\\n  \\n  - Potentially, every keystroke you type could be intercepted by\\n    someone else. \\n\\n  - System administrators make extensive backups that are completely\\n    invisible to users which may record the states of an account over\\n    many weeks. \\n\\n  - Erased files can, under many operating systems, be undeleted. \\n\\n  - Most automated services keep logs of use for troubleshooting or\\n    otherwise; for example FTP sites usually log the commands and\\n    record the domain originations of users, including anonymous\\n    ones.\\n\\n  - Some software exacerbates these problems.  See the section on\\n    ``X Windows (in)security''.\\n\\n  Indepedent of malevolent administrators are fellow users, a much\\n  more commonly harmful threat. There are multiple ways to help\\n  ensure that your account will not be accessed by others, and\\n  compromises can often be traced to failures in these guidelines:\\n\\n  - Choose a secure password.  Change it periodically.\\n  - Make sure to logout always.\\n  - Do not leave a machine unattended for long.\\n  - Make sure no one watches you when you type your password.\\n  - Avoid password references in email.\\n  - Be conservative in the use of the .rhost file.\\n  - Use utilities like `xlock' to protect a station, but be\\n    considerate.\\n\\n  Be wary of situations where you think you should supply your\\n  password.  There are only several basic situations where UNIX\\n  prompts you for a password: when you are logging in to a system or\\n  changing your password.  Situations can arise in which prompts for\\n  passwords are forged by other users, especially in cases where you\\n  are talking to them (such as Internet Relay Chat).  Also, be  aware\\n  that forged login screens are one method to illegitimately obtain \\n  passwords.\\n\\n\\n  (Thanks to Jim Mattson <mattson@cs.ucsd.edu> for contributions\\n  here.)\\n\\n_____\\n<2.5> How (in)secure are my files and directories?\\n\\n  The most important privacy considerations are related to file\\n  rights, and many lapses can be traced to their misunderstood nature\\n  or haphazard maintenance. Be aware of the rights associated with\\n  your files and directories in UNIX. If the `x' (`execute') right on\\n  your parent directory is off for users, groups, and other, these\\n  users cannot gain information on anything in your directories. \\n  Anything less may allow others to read, change, or even delete\\n  files in your home directory. The rights on a directory supersede\\n  the rights associated with files in that directory. For a\\n  directory, 'x' means that access to the files (or subdirectories)\\n  in the directory is possible -- if you know their names.  To list\\n  the contents of the directory, however, requires the 'r' right.\\n \\n  By default most accounts are accessable only to the owner, but the\\n  initial configuration varies between sites based on administrator\\n  preference.  The default file mode specifies the initial rights\\n  associated with newly created files, and can be set in the shell\\n  with `umask'.  The details of rights implementations tend to vary\\n  between versions of UNIX.  Consult man pages on `chmod' and `ls'.\\n\\n  Examples\\n  --------\\n\\n    traver.lance % ls -ld ~\\n    drwx------ 15 ld231782     1536 Jan 31 21:22 /users/ld231782/\\n\\n  Here is a listing of the rights associated with a user's home\\n  directory, denoted by `~'.  The columns at the left identify what\\n  rights are available. The first column identifies the entry as a\\n  directory, and the next three columns mean that read, write, and\\n  execute rights, respectively, are permitted for that user.  For\\n  directories, the `x' right means that contents (file and\\n  subdirectory names) within that directory can be listed. The\\n  subsequent columns indicate that no other users have any rights to\\n  anything in the directory tree originating at that point.  They\\n  can't even `see' any lower files or subdirectories; the hierarchy\\n  is completely invisible to them.\\n\\n    traver.lance % ls -l msg\\n    -rw-r--r--  1 ld231782   35661 Jan 29 23:13 msg\\n    traver.lance % chmod u=rw,g=,o= msg\\n    traver.lance % ls -l msg\\n    -rw-------  1 ld231782   35661 Jan 29 23:13 msg\\n\\n  Here the modes on the file `msg' were changed to take away rights\\n  from `group' and `other'. \\n  \\n  Note that `ls -l <file>' requires both the 'r' right to get the list\\n  of files and subdirectories, and the 'x' right to access the files\\n  and subdirectories in order to get their size, etc. For example,\\n  suppose the directory `foo' has rights dr--r--r--,  the following\\n  is possible:\\n\\n    ls foo\\n\\n  These commands would fail independent of file rights:\\n  \\n    ls -l foo\\n    ls -l foo/file\\n    cat foo/file\\n    cd foo\\n\\n  If the directory `foo' has rights d--x--x--x, the following are\\n  possible if it is known beforehand that `foo' contains an 'r'\\n  readable file named `file':\\n  \\n    ls -l foo/file\\n    cat foo/file\\n    cd foo\\n  \\n  The following commands fail:\\n  \\n    ls foo\\n    ls -l foo\\n  \\n\\n  (Thanks to Uwe Waldmann <uwe@mpi-sb.mpg.de> for contributions here.)\\n\\n_____\\n<2.6> How (in)secure is X Windows?\\n\\n  X Windows is the primary software developed by the MIT Athena\\n  project which is funded by U.S. government grants to develop\\n  applications to harness the power of networks in enhancing\\n  computational tasks, particularly the human-computer interface. \\n  The software implements a client-server interface to a computer via\\n  graphical windows. In this case the `client' is the application\\n  requesting or utilizing  graphical resources (such as windows or a\\n  mouse) and the `server' is the machine that provides them.  In many\\n  situations the client is an application program running on the same\\n  machine as the server.\\n\\n  The great utility of X Windows comes from its complete dissociation\\n  of the client and server so that windows may be `broadcast' to a\\n  server at a remote location from the  client. Unfortunately this\\n  dynamic power also introduces many deep, intricate, and complicated\\n  security considerations.  The primary security and privacy issue\\n  associated with X Windows is that much more sensitive data may be\\n  sent over a network, and over wider regions, than in the case where\\n  the human is situated near the host computer.  Currently there is\\n  no encryption of data such as screen updates and keystrokes in X\\n  Windows.\\n\\n  Due to either intentional design decisions or unintentional design\\n  flaws,  early versions of the X Window system are extremely\\n  insecure. Anyone with an account on the server machine can disrupt\\n  that display or read it electronically based on access to the\\n  device unix:0.0 by any regular user.   There are no protections\\n  from this type of access in these versions.   The problem arises\\n  because the security is completely based on machine addresses\\n  rather than users, such that any user at a `trusted' machine is\\n  himself trusted. Quoting from X documentation (man Xsecurity):\\n  \\n  > Any client on a host in the host access control list is allowed\\n  > access to the X server. This system can work reasonably well in\\n  > an environment where everyone trusts everyone, or when only a\\n  > single person can log into a given machine...This system does not\\n  > work well when multiple people can log in to a single machine and\\n  > mutual trust does not exist. \\n  \\n  With the access control list, the `xhost' command may prevent some\\n  naive attempts (i.e. those other than the direct-access unix:0.0\\n  evasion); the syntax as typed on the host machine is  ``xhost\\n  +[name]'' where [name] is the domain name or internet address of an\\n  authorized client machine. By default clients running nonlocal to\\n  the host are disabled.  Public domain programs to disrupt a display\\n  momentarily (such as 'flip' or slowly mirror the screen image, or\\n  cause pixels to 'melt' down to the bottom) have been circulating on\\n  the internet among hackers for several years and played as pranks\\n  on unsuspecting or inexperienced users.  Much more serious security\\n  breaches are conceivable from similar mechanisms exploiting this\\n  inherent weaknesses.  (The minimal, easily-bypassed `trusted'\\n  security mode of `xhost' has been jokingly referred to as ``X\\n  Hanging Open, Security Terrible.''). \\n\\n  New versions of the X Window system (X11R5 and higher) by default \\n  make server access as secure as the file system using a .Xauthority\\n  file and 'magic cookies'.  Remote machines must have a code in the\\n  .Xauthority file in the home directory that matches the code\\n  allowed by the server.  Many older programs and even new\\n  vendor-supplied code does not support or is incompatible with\\n  `magic cookies'. The basic magic cookie mechanism is vulnerable to\\n  monitoring techniques described earlier because no encryption of\\n  keys occurs in transmission.  X11R5 also includes other\\n  sophisticated encryption mechanisms.  Try `man Xsecurity' to find\\n  out what is supported at your site.  Even though improved security \\n  mechanisms have been available in X Windows since ~1990, local\\n  sites often update this software infrequently because installation\\n  is extremely complex.\\n\\n\\n  (Thanks to Marc Vanheyningen <mvanheyn@whale.cs.indiana.edu>, \\n  Jim Mattson <mattson@cs.ucsd.edu>, and Bill Marshall\\n  <marshall@cs.iastate.edu> for contributions here.)\\n\\n_____\\n<2.7> How (in)secure is my email?\\n\\n  By default, not very.  The characters that you are reading are\\n  almost certainly encoded in ASCII, the American Standard Code for\\n  Information Interchange that maps alphabetic and symbolic\\n  characters onto numeric codes and vice versa.  Virtually every\\n  computer system uses this code, and if not, has ways of converting\\n  to and from it.  When you write a mail message, by default it is\\n  being sent in ASCII,  and since the standard is virtually\\n  universal, there is no intrinsic privacy.  Despite milleniums worth\\n  of accumulated cryptographic knowledge, cryptographic technologies\\n  are only recently being established that afford high priority to\\n  privacy as a primary criteria in computer and network design.  Some\\n  potential pitfalls in privacy are as follows:\\n\\n  - The most serious threats are instances of immature or unscrupulous\\n    system operators reading private mail in the `spool files' at a\\n    local site (i.e. at the source or destination of the message),\\n    such as a university. \\n  \\n  - System administrators may also release files to law enforcement\\n    agencies, but conventions and protocols for warrants involving\\n    computer searches have still not been strongly established and\\n    tested legally.\\n\\n  - Note that bounced messages go to postmasters at a given site in\\n    their entirety.  This means that if you address mail with an\\n    incorrect address it has a good chance of being seen by a human\\n    other than the recipient.\\n\\n  - Typically new user accounts are always set up such that the local\\n    mail directory is private, but this is not guaranteed and can be\\n    overridden.\\n\\n  - Finally, be aware that some mailing lists (email addresses of \\n    everyone on a list) are actually publicly accessable via mail \\n    routing software mechanisms.  This `feature' can be disabled.\\n\\n  Most potential compromises in email privacy can be thoroughly\\n  avoided with the use of strong end-to-end cryptography, which has\\n  its own set of caveats (for example, unscrupulous administrators\\n  may still be a threat if the encryption site is shared or\\n  nonlocal).  See the sections on ``email privacy'' and ``email\\n  policies.''\\n\\n_____\\n<2.8> How am I (not) liable for my email and postings?\\n\\n  As punishment or whatever, your system administrator can revoke\\n  certain `privileges' such as emailing, USENET posting or reading\\n  certain groups, file transferring, remote communications, or\\n  generally any subset of capabilities available from your account. \\n  This all is completely at the discretion of the local administrator\\n  and under the procedures followed at a particular site, which in\\n  many cases are haphazard and crisis-oriented.  Currently there are\\n  virtually no widespread, uniform guidelines or procedures  for\\n  restricting use to any internet services, and local administrators\\n  are free to make arbitrary decisions on access.\\n\\n  Today punitive measures are regularly applied in various situations.\\n  In the typical scenario complaint(s) reach a system adminstrator\\n  regarding abuses by a user, usually but not necessarily preceded by\\n  complaints to the user in email, regarding that person's\\n  objectionable email or postings.  `abusive' posters to USENET are\\n  usually first given admonitions from their system administrators as\\n  urged by others on the `net'. (The debate persists endlessly on\\n  many newsgroups whether this is also used  as a questionable means\\n  of attacking or silencing `harmless crackpots' or censoring\\n  unpopular opinions.)\\n  \\n  System administrators at remote sites regularly cooperate to\\n  'squelch' severe cases of abuse.  In general, however, by tradition\\n  Usenet readers are remarkably tolerant of diverse views and uses of\\n  the system, but a colorful vocabularly of slang helps describe\\n  their alternatives when this patience is sapped: the options\\n  wielded by the individual user are to simply advance to the next\\n  message (referred to as ``hitting the `n' key''), or to `plonk'\\n  annoying posters (according to the Hacker's Dictionary, the sound a\\n  jerk makes at the end of a fall to the bottom of a kill file).\\n\\n  In cases where punitive actions are applied, generally system\\n  administrators are least likely to restrict email.  USENET postings\\n  are much more commonly restricted, either to individual users or \\n  entire groups (such as a university campus).  Restrictions are most\\n  commonly associated with the following `abuses':\\n\\n  - harassing or threatening notes, `email terrorism'\\n  - illegal uses, e.g. piracy or propagation of copyrighted material\\n  - `ad hominem' attacks, i.e. insulting the reputation of the\\n    poster instead of citing the content of the message\\n  - intentional or extreme vulgarity and offensiveness\\n  - inappropriate postings, esp. binary files in regular groups\\n    `mail-bombing': inundating mail boxes with numerous or massive\\n    files\\n\\n  Major problems originate from lack of distinctions in private and\\n  official email or postings.  Most users have internet access via\\n  accounts at businesses or universities and their activities on the\\n  internet can be construed as representative of their parent\\n  organizations. Many people put disclaimers in their `signatures' in\\n  an attempt dissociate their identity and activities from parent\\n  organizations as a precaution. A recent visible political case\\n  involves the privacy of electronic mail  written by White House\\n  staff members of the Bush administration.  Following are some\\n  guidelines:\\n\\n  - Acquaint yourself with your company or university policy.\\n  - If possible, avoid use of your company email address for private\\n    communication.\\n  - Use a disclaimer.\\n  - Keep a low profile (avoid `flamewars' or simply don't post).\\n  - Avoid posting information that could be  construed to be\\n    proprietary or `internal'.\\n\\n  The following references are available from ftp.eff.com\\n  (see also the section on ``internet use policies''):\\n\\n  /pub/academic/banned.1991\\n  /pub/academic/banned.1992\\n  ---\\n    Computer material that was banned/challenged in academia in 1991\\n    and 1992 including USENET hierarchies.\\n\\n  /pub/academic/cases\\n  ---\\n    This is an on-line collection of information about specific\\n    computers and academic freedom cases. File README is a detailed\\n    description of the items in the directory.\\n\\n  /pub/academic/faq/netnews.liability\\n  ---\\n    Notes on university liability for Usenet.\\n\\n_____\\n<2.9> How do I provide more/less information to others on my identity?\\n\\n  The public information of your identity and account is mostly\\n  available though the UNIX utility `finger' described above. \\n  \\n  - You have control over most of this information with the utility\\n    `chfn', the specifics vary between sites (on some systems use\\n    `passwd -f').\\n   \\n  - You can provide unlimited information in the .plan file which is\\n    copied directly to the destination during the fingering. \\n    \\n  - A technique that works at some sites allows you to find out who is\\n    'finger'ing you and even to  vary the .plan file sent to them.\\n    \\n  - Your signature is determined by the environment variable SIGNATURE\\n    \\n  - USENET signatures are conventionally stored in the .signature file\\n    in your home directory.\\n    \\n  Providing less information on your online identity is more difficult\\n  and involved.  One approach is to ask your system adminstrator to\\n  change or delete information about you (such as your full name). \\n  You may be able to obtain access on a public account or one from\\n  someone unrelated to you personally.  You may be able to remotely\\n  login (via modem or otherwise) to computers that you are not\\n  physically near.  These are tactics for hiding or masking your\\n  online activities but nothing is foolproof.  Consult man pages on\\n  the 'chmod' command and the default file mode.  Generally, files on\\n  a shared system have good safeguards within the user pool but very\\n  little protection is possible from corrupt system administrators.\\n\\n  To mask your identity in email or on USENET you can use different\\n  accounts. More untraceable are new `anonymous posting' and\\n  remailing services that are very recently being established.  See\\n  below.\\n\\n______\\n<2.10> Who is my sysadmin?  What does s/he know about me?\\n\\n  The requirements and screening for getting a system administration\\n  job (and thereby access to all information on a system) vary widely\\n  between sites and are sometimes frighteningly lax, especially at\\n  universities.  Many UNIX systems at universities are largely\\n  managed by undergraduates with a background in computing and often\\n  `hacking'.  In general, commercial and industrial sites are more\\n  strict on qualifications and background, and government sites are\\n  extremely strict.\\n\\n  The system adminstrator (root user) can monitor what commands you\\n  used and at what times.  S/he may have a record (backups) of files\\n  on your account over a few weeks. S/he can monitor when  you send\\n  email or post USENET messages, and potentially read either.  S/he\\n  may have access to records indicating what hosts you are using,\\n  both locally and elsewhere.  Administrators sometimes employ\\n  specialized programs to  track `strange' or `unusual' activity,\\n  which can potentially be misused.\\n\\n______\\n<2.11> Why is privacy (un)stable on the internet?\\n\\n  For the numerous reasons listed above, privacy should not be an\\n  expectation with current use of the internet.  Furthermore, large\\n  parts of the internet are funded by the U.S. NSF (National Science\\n  Foundation) which places certain restrictions on its use (such as\\n  prohibiting commercial use).  Some high-level officials in this and\\n  other government agencies may be opposed to emerging techniques to\\n  guarantee privacy (such as encryption and anonymous services).\\n\\n  Historically the major threats to privacy on the internet have been\\n  local. Perhaps the most common example of this are the widespread\\n  occurrences of university administrators refusing to carry some\\n  portion of USENET newsgroups labelled as `pornographic'. The\\n  `alternative' hierarchy in the USENET system, which has virtually\\n  no restrictions on propagation and new group creation, is\\n  frequently targeted (although this material may appear anywhere).\\n\\n  From the global point of view traffic is generally completely\\n  unimpeded on the internet  and only the most egregious offenders\\n  are pursued.  For example,  verbatim transcriptions of copyrighted\\n  material (such as newspaper or magazine articles) are posted to\\n  USENET with regularity without major consequences (some email\\n  complaints may ensue).  More astonishing to some is that currently\\n  significant portions of USENET traffic, and less so internet\\n  traffic, is comprised of sexually-explicit digitized images almost\\n  entirely originating from copyrighted material (newsgroups such as\\n  `alt.sex' regularly have the  highest traffic).\\n  \\n______\\n<2.12> What is the future of privacy on the internet?\\n\\n  Some argue that the internet currently has an adequate or\\n  appropriate level of privacy.  Others will argue that as a\\n  prototype for future global networks it has woefully inadequate\\n  safeguards.  The internet is growing to become a completely global,\\n  international superhighway for data, and this traffic will\\n  inevitably entail data such as voice messages, postal mail, and\\n  many other items of extremely personal nature. Computer items that\\n  many people consider completely private (such as their local hard\\n  drives) will literally be inches from global network connections.\\n  Also, sensitive industrial and business information is exchanged\\n  over networks currently and this volume may conceivably merge with\\n  the internet.\\n  \\n  Most would agree that, for these basic but sensitive uses of the\\n  internet, no significant mechanisms are currently in place to\\n  ensure much privacy. New standards are calling for uniform\\n  introduction of `privacy enhanced mail' (PEM) which uses encryption\\n  technologies to ensure privacy, so that privacy protection is\\n  automatic, and may significantly improve safeguards.\\n\\n  The same technology that can be extremely destructive to privacy\\n  (such as with  surreptitious surveilance) can be overwhelmingly\\n  effective in protecting  it (e.g. with encryption). Some government\\n  agencies are opposed to unlimited privacy in general, and believe\\n  that it should lawfully be forfeited in cases of criminal conduct\\n  (e.g. court-authorized wiretapping).  However, powerful new\\n  technologies to protect privacy on computers are becoming\\n  increasingly popular, provoking some to say that ``the cat is out\\n  of the bag'' and the ``genie can't be put back in the bottle''.  In\\n  less idiomatic terms, they believe that the spread of strong\\n  cryptography is already underway will be socially and technically\\n  unstoppable.\\n  \\n  To date, no feasible system that guarantees both secure\\n  communication and government oversight has been proposed (the two\\n  goals are largely incompatible). Proposals for ``registration'' of\\n  secret keys (by D. Denning on sci.crypt, for example) have been met\\n  with hot controversy at best and ridicule and derision at worst,\\n  mainly because of concerns for the right to privacy and objections\\n  of inherent feasibility.  Electronic privacy issues, and\\n  particularly the proper roles of networks and the internet, will\\n  foreseeably become highly visible and explosive over the next few\\n  years.\\n\\n\\nANONYMITY\\n=========\\n\\n_____\\n<3.1> What is `anonymity' on the internet?\\n\\n  Simply stated, anonymity is the absence of identity, the\\n  ultimate in privacy. However, there are several variations on\\n  this simple theme.  A person may wish to be consistently\\n  identified by a certain pseudonym or `handle' and establish a\\n  reputation under it in some area, providing pseudo-anonymity.\\n  A person may wish to be completely untraceable for a single\\n  one-way message (a sort of `hit-and-run'). Or, a person may\\n  wish to be openly anonymous but carry on a conversation with\\n  others (with either known or anonymous identities) via an\\n  `anonymous return address'.  A user may wish to appear as a\\n  `regular user' but actually be untraceable.  Sometimes a user\\n  wishes to hide who he is sending mail to (in addition to the\\n  message itself). The anonymous item itself may be directed at\\n  individuals or groups.  A user may wish to access some\\n  service and hide all  signs of the association. \\n  \\n  All of these uses are feasible on the internet but are currently\\n  tricky to carry out in practice, because of all the tracking\\n  mechanisms inherent to operating systems and network protocols. \\n  Officials of the NSF and other government agencies may be opposed\\n  to any of these uses because of the potential for abuse. \\n  Nevertheless, the inherent facelessness of large networks will\\n  always guarantee a certain element of anonymity.\\n\\n_____\\n<3.2> Why is `anonymity' (un)important on the internet?\\n\\n  Anonymity is another powerful tool that can be beneficial or\\n  problematic depending on its use.  Arguably absence of\\n  identification is important as the presence of it.  It may be the\\n  case that many strong benefits from electronic anonymity will be\\n  discovered that were unforeseen and unpredicted, because true\\n  anonymity has been historically very difficult to establish.\\n\\n  One can use anonymity to make personal statements to a colleague\\n  that would sabotage a relationship if stated openly (such as\\n  employer/employee scenarios).  One can use it to pass information\\n  and evade any threat of direct retribution.  For example,\\n  `whistleblowers' reporting on government abuses (economic, social,\\n  or  political) can bring issues to light without fear of stigma or\\n  retaliation. Sensitive, personal, potentially damaging information\\n  is often posted to some USENET groups, a risky situation where\\n  anonymity allows conversations to be carried on completely\\n  independent of the identities of the participants.  Some police\\n  departments run phone services that allow anonymous reporting of\\n  crimes; such uses would be straightforward on the network.\\n  Unfortunately, extortion and harassment become more insidious with\\n  assurances of anonymity.\\n\\n_____\\n<3.3> How can anonymity be protected on the internet?\\n\\n  The chief means, as alluded to above, are masking identities in\\n  email and posting. However, anonymous accounts (public accounts as\\n  accessable and anonymous as e.g. public telephones) may be\\n  effective as well, but this use is generally not officially\\n  supported and even discouraged by some system adminstrators and NSF\\n  guidelines.  The nonuniformity in the requirements of obtaining\\n  accounts at different sites and institutions makes anonymous\\n  accounts generally difficult to obtain to the public at large.\\n\\n  Many communications protocols are inherently detrimental to\\n  anonymity.  Virtually every protocol in existence currently\\n  contains information on both sender and receiver in every packet.\\n  New communications protocols will likely develop that guarantee\\n  much higher degrees of secure anonymous communication.\\n\\n_____\\n<3.4> What is `anonymous mail'?\\n\\n  One approach to `anonymizing' mail has been to set up an `anonymous\\n  server' that, when activated by email to its address, responds by\\n  allocating and supplying an `anonymous ID' that is unique to the\\n  person requesting it (based on his email address).  This will vary\\n  for the same person for different machine address email\\n  originations. To send anonymous mail, the user sends email directed\\n  to the server containing the final destination. The server\\n  `anonymizes' the message by stripping of identification information\\n  and forwards the message, which appears to originate from the\\n  anonymous server only from the corresponding anonymous user id. \\n  This is the `interactive' use of anonymity or pseudonymity\\n  mentioned above.\\n\\n  Another more `fringe' approach is to run a `cypherpunk' remailer\\n  from a regular user account (no root system privileges are\\n  required). These are currently being pioneered by  Eric Hughes and\\n  Hal Finney <hal@alumni.caltech.edu>. The operator runs a process on\\n  a machine that anonymizes mail sent to him with certain\\n  characteristics that distinguish it from his regular incoming mail\\n  (typically fields in the header). One has been implemented as a \\n  PERL script running on UNIX.  Several of these are in existence\\n  currently but sites and software currently are highly unstable;\\n  they may be in operation outside of system administrator knowledge.\\n  The remailers don't generally support anonymous return addresses. \\n  Mail that is incorrectly addressed is received by the operator. \\n  Generally the user of the remailer has to disavow any\\n  responsibility for the messages forwarded through his system,\\n  although actually may be held liable regardless.\\n\\n  These approaches have several serious disadvantages and weaknesses:\\n  \\n  - The anonymous server approach requires maintaining a mapping of\\n    anonymous ID's to real addresses that must be maintained\\n    indefinitely.  One alternative is to allow `deallocation' of\\n    aliases at the request of the user, but this has not been\\n    implemented yet.\\n\\n  - Although an unlikely scenario, traffic to any of these sites could\\n    conceivably be monitored from the `outside', necessitating the\\n    use of cryptography for basic protection,.\\n\\n  - Local administrators can shut them down either out of caprice or\\n    under pressure from local, network, or government agencies.\\n  \\n  - Unscrupulous providers of the services can monitor the traffic\\n    that goes through them.\\n\\n  - Most remailers currently keep logs that may be inspected. \\n\\n  - The cypherpunk approach tends to be highly unstable because these\\n    operators are basically  network users who do not own the\\n    equipment and are accountable  to their own system\\n    administrators, who may be unaware of the use and unsympathetic\\n    to the philosophy of anonymity when the operation is discovered,\\n    regarding it as illicit use. \\n\\n  - In all cases, a high degree of trust is placed in the anonymous\\n    server operator by the user.\\n\\n  Currently the most direct route to anonymity involves using SMTP\\n  protocols to submit a message directly to a server with arbitrary\\n  field information.  This practice, not uncommon to hackers, and the\\n  approach used by remailers, is generally viewed with hostility by\\n  most system administrators.  Information in the header routing data\\n  and logs of network port connection information may be retained\\n  that can be used to track the originating site.  In practice, this\\n  is generally infeasible and rarely carried out.  Some\\n  administrators on the network will contact local administrators to\\n  request a message be tracked and its writer admonished or punished\\n  more severely (such as revoking the account), all of this actually\\n  happening occasionally but infrequently.\\n\\n  See the sections ``known anonymous mail and posting sites'' and \\n  ``responsibilities associated with anonymity''.\\n\\n_____\\n<3.5> What is `anonymous posting'?\\n\\n  Anonymous servers have been established as well for anonymous Usenet\\n  posting with all the associated caveats above (monitored traffic,\\n  capricious or risky local circumstances, logging).  Make sure to\\n  test the system at least once by e.g. anonymous posting to\\n  misc.test (however some operators don't recommend this because many\\n  sites `autorespond' to test messages, possibly causing the\\n  anonymous server to allocate anonymous IDs for those machines). \\n  See the ``responsibilties associated with anonymous posting''\\n  before proceeding.\\n\\n  Another direct route involves using NNTP protocols to submit a\\n  message directly to a newserver with arbitrary field information.\\n  This practice, not uncommon to hackers, is also generally viewed\\n  with hostility by most system administrators, and similar\\n  consequences can ensue.\\n\\n  See the sections ``known anonymous mail and posting sites'' and \\n  ``responsibilities associated with anonymity''.\\n\\n_____\\n<3.6> Why is anonymity (un)stable on the internet?\\n\\n  As noted, many factors compromise the anonymity currently available\\n  to the general internet community, and these services should be\\n  used with great caution.  To summarize, the technology is in its\\n  infancy and current approaches are unrefined, unreliable, and not\\n  completely trustworthy.  No standards have been established and\\n  troubling situations of loss of anonymity and bugs in the software\\n  are prevalent.  Here are some encountered and potential bugs: \\n  \\n  - One  anonymous remailer reallocated already allocated anonymous\\n    return addresses. \\n  - Others passed signature information embedded in messages\\n    unaltered. \\n  - Address resolution problems resulting in anonymized mail bounced\\n    to a remailer are common.\\n  - Forgeries to the anonymous server itself are a problem,  possibly\\n    allowing unauthorized users to potentially glean anon ID - email\\n    address  mappings in the alias file.  This can be remedied with\\n    the use of passwords.\\n  - Infinite mail loops are possible with chaining remailers.\\n  \\n  Source code is being distributed, tested, and refined for these\\n  systems, but standards are progressing slowly and weakly.  The\\n  field is not likely to improve considerably without  official\\n  endorsement and action by network agencies.  The whole idea is\\n  essentially still in its infancy and viewed with suspicion and\\n  distrust by many on the internet, seen as illegitimate or favorable\\n  to criminality.  The major objection to anonymity over regular\\n  internet use  is the perceived lack of accountability to system\\n  operators, i.e. invulnerability to account restrictions resulting\\n  from outside complaints.  System adminstrators at some sites have\\n  threatened to filter anonymous news postings generated by the\\n  prominent servers from their redistribution flows.  This may only\\n  have the effect of encouraging server operators to create less\\n  characteristically detectable headers.  Probably the least\\n  problematic approach, and the most traditional to Usenet, is for\\n  individual users to deal with anonymous mail however they prefer,\\n  e.g. ignoring it or filtering it with kill files.\\n  \\n_____\\n<3.7> What is the future of anonymity on the internet?\\n\\n  New anonymous protocols effectively serve to significantly increase\\n  safeguards of anonymity.  For example, the same mechanism that\\n  routes email over multiple hosts, thereby threatening its privacy,\\n  can also be used to guarantee it. In a scheme called `chaining' an\\n  anonymous message is passed through multiple anonymous servers\\n  before reaching a destination.  In this way generally multiple\\n  links of the chain have to be `broken' for security to be\\n  compromised. Re-encryption at each link makes this scenario even\\n  more unlikely.  Even more significantly the anonymous remailers\\n  could be spread over the internet globally so that local weaknesses\\n  (such as corrupt governments or legal wiretapping within a nation)\\n  would be more unlikely to sacrifice overall security by message\\n  tracing. However, remailers run by corrupt operators are possible.\\n  \\n  The future of anonymous services on the internet is, at this time,\\n  highly uncertain and fraught with peril. While specific groups seem\\n  to benefit significantly from anonymous posting capabilities, many\\n  feel that unlimited newsgroup scope for anonymous posting is a\\n  disruptive and dangerous idea and detracts from discussions in\\n  `serious' groups.   The introduction of unlimited group anonymity\\n  may have fundamental repercussions on Usenet conventions and\\n  distribution mechanisms such as moderated and `alt' groups have had\\n  in the past. For example, as part of new group creation, the\\n  charter may specify whether `anonymous' posting is (un)welcome. \\n\\n  Nevertheless, the widespread introduction and use of anonymity may\\n  be inevitable. Based on traffic statistics, anonymous services are\\n  in huge demand. Pervasive and readily available anonymity could\\n  carry significant and unforeseen social consequences.  However, if\\n  its use is continued to be generally regarded as subversive it may\\n  be confined to the underground.  The ramifications of widespread\\n  introduction of anonymity to Usenet are still largely unknown. It\\n  is unclear whether it will provoke signficant amounts of new\\n  traffic or, instead of expansion, cause a shift where a greater\\n  portion of existing traffic is anonymized.  Conceivably the\\n  services could play a role in influencing future mainstream social\\n  acceptance of Usenet.\\n\\n\\n* * *\\n\\nThis is Part 1 of the Privacy & Anonymity FAQ, obtained via anonymous\\n  FTP to pit-manager@mit.edu:/pub/usenet/news.answers/net-privacy/ or \\n  newsgroups news.answers, sci.answers, alt.answers every 21 days.\\nWritten by L. Detweiler <ld231782@longs.lance.colostate.edu>.\\nAll rights reserved.\\n\\n\"\n        ],\n        \"semantic_type\": \"\",\n        \"description\": \"\"\n      }\n    },\n    {\n      \"column\": \"topic\",\n      \"properties\": {\n        \"dtype\": \"number\",\n        \"std\": 0,\n        \"min\": 11,\n        \"max\": 11,\n        \"num_unique_values\": 1,\n        \"samples\": [\n          11\n        ],\n        \"semantic_type\": \"\",\n        \"description\": \"\"\n      }\n    },\n    {\n      \"column\": \"uncertainty\",\n      \"properties\": {\n        \"dtype\": \"boolean\",\n        \"num_unique_values\": 1,\n        \"samples\": [\n          true\n        ],\n        \"semantic_type\": \"\",\n        \"description\": \"\"\n      }\n    }\n  ]\n}",
       "type": "dataframe"
      },
      "text/html": [
       "\n",
       "  <div id=\"df-1ec4b235-a901-495a-a264-32e35cef2c1d\" class=\"colab-df-container\">\n",
       "    <div>\n",
       "<style scoped>\n",
       "    .dataframe tbody tr th:only-of-type {\n",
       "        vertical-align: middle;\n",
       "    }\n",
       "\n",
       "    .dataframe tbody tr th {\n",
       "        vertical-align: top;\n",
       "    }\n",
       "\n",
       "    .dataframe thead th {\n",
       "        text-align: right;\n",
       "    }\n",
       "</style>\n",
       "<table border=\"1\" class=\"dataframe\">\n",
       "  <thead>\n",
       "    <tr style=\"text-align: right;\">\n",
       "      <th></th>\n",
       "      <th>text</th>\n",
       "      <th>topic</th>\n",
       "      <th>uncertainty</th>\n",
       "    </tr>\n",
       "  </thead>\n",
       "  <tbody>\n",
       "    <tr>\n",
       "      <th>2350</th>\n",
       "      <td>From: ld231782@longs.lance.colostate.edu (L. D...</td>\n",
       "      <td>11</td>\n",
       "      <td>True</td>\n",
       "    </tr>\n",
       "    <tr>\n",
       "      <th>4682</th>\n",
       "      <td>From: ld231782@longs.lance.colostate.edu (L. D...</td>\n",
       "      <td>11</td>\n",
       "      <td>True</td>\n",
       "    </tr>\n",
       "  </tbody>\n",
       "</table>\n",
       "</div>\n",
       "    <div class=\"colab-df-buttons\">\n",
       "\n",
       "  <div class=\"colab-df-container\">\n",
       "    <button class=\"colab-df-convert\" onclick=\"convertToInteractive('df-1ec4b235-a901-495a-a264-32e35cef2c1d')\"\n",
       "            title=\"Convert this dataframe to an interactive table.\"\n",
       "            style=\"display:none;\">\n",
       "\n",
       "  <svg xmlns=\"http://www.w3.org/2000/svg\" height=\"24px\" viewBox=\"0 -960 960 960\">\n",
       "    <path d=\"M120-120v-720h720v720H120Zm60-500h600v-160H180v160Zm220 220h160v-160H400v160Zm0 220h160v-160H400v160ZM180-400h160v-160H180v160Zm440 0h160v-160H620v160ZM180-180h160v-160H180v160Zm440 0h160v-160H620v160Z\"/>\n",
       "  </svg>\n",
       "    </button>\n",
       "\n",
       "  <style>\n",
       "    .colab-df-container {\n",
       "      display:flex;\n",
       "      gap: 12px;\n",
       "    }\n",
       "\n",
       "    .colab-df-convert {\n",
       "      background-color: #E8F0FE;\n",
       "      border: none;\n",
       "      border-radius: 50%;\n",
       "      cursor: pointer;\n",
       "      display: none;\n",
       "      fill: #1967D2;\n",
       "      height: 32px;\n",
       "      padding: 0 0 0 0;\n",
       "      width: 32px;\n",
       "    }\n",
       "\n",
       "    .colab-df-convert:hover {\n",
       "      background-color: #E2EBFA;\n",
       "      box-shadow: 0px 1px 2px rgba(60, 64, 67, 0.3), 0px 1px 3px 1px rgba(60, 64, 67, 0.15);\n",
       "      fill: #174EA6;\n",
       "    }\n",
       "\n",
       "    .colab-df-buttons div {\n",
       "      margin-bottom: 4px;\n",
       "    }\n",
       "\n",
       "    [theme=dark] .colab-df-convert {\n",
       "      background-color: #3B4455;\n",
       "      fill: #D2E3FC;\n",
       "    }\n",
       "\n",
       "    [theme=dark] .colab-df-convert:hover {\n",
       "      background-color: #434B5C;\n",
       "      box-shadow: 0px 1px 3px 1px rgba(0, 0, 0, 0.15);\n",
       "      filter: drop-shadow(0px 1px 2px rgba(0, 0, 0, 0.3));\n",
       "      fill: #FFFFFF;\n",
       "    }\n",
       "  </style>\n",
       "\n",
       "    <script>\n",
       "      const buttonEl =\n",
       "        document.querySelector('#df-1ec4b235-a901-495a-a264-32e35cef2c1d button.colab-df-convert');\n",
       "      buttonEl.style.display =\n",
       "        google.colab.kernel.accessAllowed ? 'block' : 'none';\n",
       "\n",
       "      async function convertToInteractive(key) {\n",
       "        const element = document.querySelector('#df-1ec4b235-a901-495a-a264-32e35cef2c1d');\n",
       "        const dataTable =\n",
       "          await google.colab.kernel.invokeFunction('convertToInteractive',\n",
       "                                                    [key], {});\n",
       "        if (!dataTable) return;\n",
       "\n",
       "        const docLinkHtml = 'Like what you see? Visit the ' +\n",
       "          '<a target=\"_blank\" href=https://colab.research.google.com/notebooks/data_table.ipynb>data table notebook</a>'\n",
       "          + ' to learn more about interactive tables.';\n",
       "        element.innerHTML = '';\n",
       "        dataTable['output_type'] = 'display_data';\n",
       "        await google.colab.output.renderOutput(dataTable, element);\n",
       "        const docLink = document.createElement('div');\n",
       "        docLink.innerHTML = docLinkHtml;\n",
       "        element.appendChild(docLink);\n",
       "      }\n",
       "    </script>\n",
       "  </div>\n",
       "\n",
       "\n",
       "<div id=\"df-8ba1f442-1011-43a5-a47c-01c470cd5ca0\">\n",
       "  <button class=\"colab-df-quickchart\" onclick=\"quickchart('df-8ba1f442-1011-43a5-a47c-01c470cd5ca0')\"\n",
       "            title=\"Suggest charts\"\n",
       "            style=\"display:none;\">\n",
       "\n",
       "<svg xmlns=\"http://www.w3.org/2000/svg\" height=\"24px\"viewBox=\"0 0 24 24\"\n",
       "     width=\"24px\">\n",
       "    <g>\n",
       "        <path d=\"M19 3H5c-1.1 0-2 .9-2 2v14c0 1.1.9 2 2 2h14c1.1 0 2-.9 2-2V5c0-1.1-.9-2-2-2zM9 17H7v-7h2v7zm4 0h-2V7h2v10zm4 0h-2v-4h2v4z\"/>\n",
       "    </g>\n",
       "</svg>\n",
       "  </button>\n",
       "\n",
       "<style>\n",
       "  .colab-df-quickchart {\n",
       "      --bg-color: #E8F0FE;\n",
       "      --fill-color: #1967D2;\n",
       "      --hover-bg-color: #E2EBFA;\n",
       "      --hover-fill-color: #174EA6;\n",
       "      --disabled-fill-color: #AAA;\n",
       "      --disabled-bg-color: #DDD;\n",
       "  }\n",
       "\n",
       "  [theme=dark] .colab-df-quickchart {\n",
       "      --bg-color: #3B4455;\n",
       "      --fill-color: #D2E3FC;\n",
       "      --hover-bg-color: #434B5C;\n",
       "      --hover-fill-color: #FFFFFF;\n",
       "      --disabled-bg-color: #3B4455;\n",
       "      --disabled-fill-color: #666;\n",
       "  }\n",
       "\n",
       "  .colab-df-quickchart {\n",
       "    background-color: var(--bg-color);\n",
       "    border: none;\n",
       "    border-radius: 50%;\n",
       "    cursor: pointer;\n",
       "    display: none;\n",
       "    fill: var(--fill-color);\n",
       "    height: 32px;\n",
       "    padding: 0;\n",
       "    width: 32px;\n",
       "  }\n",
       "\n",
       "  .colab-df-quickchart:hover {\n",
       "    background-color: var(--hover-bg-color);\n",
       "    box-shadow: 0 1px 2px rgba(60, 64, 67, 0.3), 0 1px 3px 1px rgba(60, 64, 67, 0.15);\n",
       "    fill: var(--button-hover-fill-color);\n",
       "  }\n",
       "\n",
       "  .colab-df-quickchart-complete:disabled,\n",
       "  .colab-df-quickchart-complete:disabled:hover {\n",
       "    background-color: var(--disabled-bg-color);\n",
       "    fill: var(--disabled-fill-color);\n",
       "    box-shadow: none;\n",
       "  }\n",
       "\n",
       "  .colab-df-spinner {\n",
       "    border: 2px solid var(--fill-color);\n",
       "    border-color: transparent;\n",
       "    border-bottom-color: var(--fill-color);\n",
       "    animation:\n",
       "      spin 1s steps(1) infinite;\n",
       "  }\n",
       "\n",
       "  @keyframes spin {\n",
       "    0% {\n",
       "      border-color: transparent;\n",
       "      border-bottom-color: var(--fill-color);\n",
       "      border-left-color: var(--fill-color);\n",
       "    }\n",
       "    20% {\n",
       "      border-color: transparent;\n",
       "      border-left-color: var(--fill-color);\n",
       "      border-top-color: var(--fill-color);\n",
       "    }\n",
       "    30% {\n",
       "      border-color: transparent;\n",
       "      border-left-color: var(--fill-color);\n",
       "      border-top-color: var(--fill-color);\n",
       "      border-right-color: var(--fill-color);\n",
       "    }\n",
       "    40% {\n",
       "      border-color: transparent;\n",
       "      border-right-color: var(--fill-color);\n",
       "      border-top-color: var(--fill-color);\n",
       "    }\n",
       "    60% {\n",
       "      border-color: transparent;\n",
       "      border-right-color: var(--fill-color);\n",
       "    }\n",
       "    80% {\n",
       "      border-color: transparent;\n",
       "      border-right-color: var(--fill-color);\n",
       "      border-bottom-color: var(--fill-color);\n",
       "    }\n",
       "    90% {\n",
       "      border-color: transparent;\n",
       "      border-bottom-color: var(--fill-color);\n",
       "    }\n",
       "  }\n",
       "</style>\n",
       "\n",
       "  <script>\n",
       "    async function quickchart(key) {\n",
       "      const quickchartButtonEl =\n",
       "        document.querySelector('#' + key + ' button');\n",
       "      quickchartButtonEl.disabled = true;  // To prevent multiple clicks.\n",
       "      quickchartButtonEl.classList.add('colab-df-spinner');\n",
       "      try {\n",
       "        const charts = await google.colab.kernel.invokeFunction(\n",
       "            'suggestCharts', [key], {});\n",
       "      } catch (error) {\n",
       "        console.error('Error during call to suggestCharts:', error);\n",
       "      }\n",
       "      quickchartButtonEl.classList.remove('colab-df-spinner');\n",
       "      quickchartButtonEl.classList.add('colab-df-quickchart-complete');\n",
       "    }\n",
       "    (() => {\n",
       "      let quickchartButtonEl =\n",
       "        document.querySelector('#df-8ba1f442-1011-43a5-a47c-01c470cd5ca0 button');\n",
       "      quickchartButtonEl.style.display =\n",
       "        google.colab.kernel.accessAllowed ? 'block' : 'none';\n",
       "    })();\n",
       "  </script>\n",
       "</div>\n",
       "\n",
       "    </div>\n",
       "  </div>\n"
      ],
      "text/plain": [
       "                                                   text  topic  uncertainty\n",
       "2350  From: ld231782@longs.lance.colostate.edu (L. D...     11         True\n",
       "4682  From: ld231782@longs.lance.colostate.edu (L. D...     11         True"
      ]
     },
     "execution_count": 31,
     "metadata": {},
     "output_type": "execute_result"
    }
   ],
   "source": [
    "df[df.uncertainty]"
   ]
  },
  {
   "cell_type": "markdown",
   "metadata": {
    "id": "GuH_CHHJX3G4"
   },
   "source": [
    "## A standard tokenization pipeline\n"
   ]
  },
  {
   "cell_type": "code",
   "execution_count": 32,
   "metadata": {
    "id": "gwZJFWS5X3G5"
   },
   "outputs": [],
   "source": [
    "text = \"Marie Curie was the first woman to win a Nobel Prize, the first person to win a Nobel Prize twice, and the only person to win a Nobel Prize in 2 scientific fields. Her husband, Pierre Curie, was a co-winner of her first Nobel Prize, making them the first married couple to win the Nobel Prize and launching the Curie family legacy of 5 Nobel Prizes.\""
   ]
  },
  {
   "cell_type": "markdown",
   "metadata": {
    "id": "eC7zlhNcX3G6"
   },
   "source": [
    "### 1. Pre-processing text"
   ]
  },
  {
   "cell_type": "markdown",
   "metadata": {
    "id": "RV4lhHzs9Ar1"
   },
   "source": [
    "#### Removing capitalization, punctuation,  numbers"
   ]
  },
  {
   "cell_type": "code",
   "execution_count": 33,
   "metadata": {
    "colab": {
     "base_uri": "https://localhost:8080/",
     "height": 54
    },
    "id": "ob-QV5v6X3G6",
    "outputId": "b8f53c55-1cf0-447b-e85d-9672afd22dc1"
   },
   "outputs": [
    {
     "data": {
      "application/vnd.google.colaboratory.intrinsic+json": {
       "type": "string"
      },
      "text/plain": [
       "'marie curie was the first woman to win a nobel prize, the first person to win a nobel prize twice, and the only person to win a nobel prize in 2 scientific fields. her husband, pierre curie, was a co-winner of her first nobel prize, making them the first married couple to win the nobel prize and launching the curie family legacy of 5 nobel prizes.'"
      ]
     },
     "execution_count": 33,
     "metadata": {},
     "output_type": "execute_result"
    }
   ],
   "source": [
    "# Capitalization\n",
    "text_lower = text.lower() # go to lower-case\n",
    "text_lower"
   ]
  },
  {
   "cell_type": "code",
   "execution_count": 34,
   "metadata": {
    "colab": {
     "base_uri": "https://localhost:8080/"
    },
    "id": "spZC_MmUX3G6",
    "outputId": "6adcee27-b473-42c4-e2ee-5566f45823e1"
   },
   "outputs": [
    {
     "name": "stdout",
     "output_type": "stream",
     "text": [
      "marie curie was the first woman to win a nobel prize the first person to win a nobel prize twice and the only person to win a nobel prize in 2 scientific fields her husband pierre curie was a cowinner of her first nobel prize making them the first married couple to win the nobel prize and launching the curie family legacy of 5 nobel prizes\n"
     ]
    }
   ],
   "source": [
    "# Punctuation\n",
    "\n",
    "# recipe for fast punctuation removal\n",
    "from string import punctuation\n",
    "punc_remover = str.maketrans('','',punctuation)\n",
    "text_nopunc = text_lower.translate(punc_remover)\n",
    "print(text_nopunc)"
   ]
  },
  {
   "cell_type": "markdown",
   "metadata": {
    "id": "g2MPzqy-ZgX-"
   },
   "source": [
    "#### Tokenization"
   ]
  },
  {
   "cell_type": "code",
   "execution_count": 35,
   "metadata": {
    "colab": {
     "base_uri": "https://localhost:8080/"
    },
    "id": "gnq3UzgWX3G6",
    "outputId": "7d938664-0c33-4545-c133-353bfc7212af"
   },
   "outputs": [
    {
     "name": "stdout",
     "output_type": "stream",
     "text": [
      "['marie', 'curie', 'was', 'the', 'first', 'woman', 'to', 'win', 'a', 'nobel', 'prize', 'the', 'first', 'person', 'to', 'win', 'a', 'nobel', 'prize', 'twice', 'and', 'the', 'only', 'person', 'to', 'win', 'a', 'nobel', 'prize', 'in', '2', 'scientific', 'fields', 'her', 'husband', 'pierre', 'curie', 'was', 'a', 'cowinner', 'of', 'her', 'first', 'nobel', 'prize', 'making', 'them', 'the', 'first', 'married', 'couple', 'to', 'win', 'the', 'nobel', 'prize', 'and', 'launching', 'the', 'curie', 'family', 'legacy', 'of', '5', 'nobel', 'prizes']\n"
     ]
    }
   ],
   "source": [
    "# Tokens\n",
    "tokens = text_nopunc.split() # splits a string on white space\n",
    "print(tokens)"
   ]
  },
  {
   "cell_type": "code",
   "execution_count": 36,
   "metadata": {
    "colab": {
     "base_uri": "https://localhost:8080/"
    },
    "id": "oOjyhCIUX3G6",
    "outputId": "5f266668-dcf4-43f3-afd3-eb558e2dde46"
   },
   "outputs": [
    {
     "name": "stdout",
     "output_type": "stream",
     "text": [
      "['marie', 'curie', 'was', 'the', 'first', 'woman', 'to', 'win', 'a', 'nobel', 'prize', 'the', 'first', 'person', 'to', 'win', 'a', 'nobel', 'prize', 'twice', 'and', 'the', 'only', 'person', 'to', 'win', 'a', 'nobel', 'prize', 'in', 'scientific', 'fields', 'her', 'husband', 'pierre', 'curie', 'was', 'a', 'cowinner', 'of', 'her', 'first', 'nobel', 'prize', 'making', 'them', 'the', 'first', 'married', 'couple', 'to', 'win', 'the', 'nobel', 'prize', 'and', 'launching', 'the', 'curie', 'family', 'legacy', 'of', 'nobel', 'prizes']\n",
      "['marie', 'curie', 'was', 'the', 'first', 'woman', 'to', 'win', 'a', 'nobel', 'prize', 'the', 'first', 'person', 'to', 'win', 'a', 'nobel', 'prize', 'twice', 'and', 'the', 'only', 'person', 'to', 'win', 'a', 'nobel', 'prize', 'in', '#', 'scientific', 'fields', 'her', 'husband', 'pierre', 'curie', 'was', 'a', 'cowinner', 'of', 'her', 'first', 'nobel', 'prize', 'making', 'them', 'the', 'first', 'married', 'couple', 'to', 'win', 'the', 'nobel', 'prize', 'and', 'launching', 'the', 'curie', 'family', 'legacy', 'of', '#', 'nobel', 'prizes']\n"
     ]
    }
   ],
   "source": [
    "# Numbers\n",
    "# remove numbers (keep if not a digit)\n",
    "no_numbers = [t for t in tokens if not t.isdigit()]\n",
    "# keep if not a digit, else replace with \"#\"\n",
    "norm_numbers = [t if not t.isdigit() else '#'\n",
    "                for t in tokens ]\n",
    "print(no_numbers )\n",
    "print(norm_numbers)"
   ]
  },
  {
   "cell_type": "code",
   "execution_count": 37,
   "metadata": {
    "colab": {
     "base_uri": "https://localhost:8080/"
    },
    "id": "67IwwBvIX3G7",
    "outputId": "3da708a1-d5a0-4b18-f3bd-c7ebff3866fc"
   },
   "outputs": [
    {
     "name": "stdout",
     "output_type": "stream",
     "text": [
      "['marie', 'curie', 'first', 'woman', 'win', 'nobel', 'prize', 'first', 'person', 'win', 'nobel', 'prize', 'twice', 'person', 'win', 'nobel', 'prize', '#', 'scientific', 'fields', 'husband', 'pierre', 'curie', 'cowinner', 'first', 'nobel', 'prize', 'making', 'first', 'married', 'couple', 'win', 'nobel', 'prize', 'launching', 'curie', 'family', 'legacy', '#', 'nobel', 'prizes']\n"
     ]
    }
   ],
   "source": [
    "# Stopwords\n",
    "from nltk.corpus import stopwords\n",
    "stoplist = stopwords.words('english')\n",
    "# keep if not a stopword\n",
    "nostop = [t for t in norm_numbers if t not in stoplist]\n",
    "print(nostop)"
   ]
  },
  {
   "cell_type": "code",
   "execution_count": 38,
   "metadata": {
    "id": "aC9pw7bnCemL"
   },
   "outputs": [],
   "source": [
    "import spacy\n",
    "nlp = spacy.load('en_core_web_sm')"
   ]
  },
  {
   "cell_type": "code",
   "execution_count": 39,
   "metadata": {
    "colab": {
     "base_uri": "https://localhost:8080/"
    },
    "id": "BQ7sOEWKX3G7",
    "outputId": "259da055-376e-4fd3-b8c1-07dafc95ef43"
   },
   "outputs": [
    {
     "data": {
      "text/plain": [
       "[\"'d\", \"'ll\", \"'m\", \"'re\", \"'s\", \"'ve\", 'a', 'about', 'above', 'across']"
      ]
     },
     "execution_count": 39,
     "metadata": {},
     "output_type": "execute_result"
    }
   ],
   "source": [
    "# spacy stopwords\n",
    "sorted(list(nlp.Defaults.stop_words))[:10]"
   ]
  },
  {
   "cell_type": "markdown",
   "metadata": {
    "id": "_slTg4ZXaCuW"
   },
   "source": [
    "#### Stemming & Lemmatizing"
   ]
  },
  {
   "cell_type": "code",
   "execution_count": 40,
   "metadata": {
    "colab": {
     "base_uri": "https://localhost:8080/"
    },
    "id": "lQoxLJ2hX3G7",
    "outputId": "45665f09-b8e0-473e-e077-cc6234829a05"
   },
   "outputs": [
    {
     "name": "stdout",
     "output_type": "stream",
     "text": [
      "['tax', 'tax', 'tax', 'taxat']\n"
     ]
    }
   ],
   "source": [
    "# Stemming\n",
    "from nltk.stem import SnowballStemmer\n",
    "stemmer = SnowballStemmer('english') # snowball stemmer, english\n",
    "# remake list of tokens, replace with stemmed versions\n",
    "tokens_stemmed = [stemmer.stem(t) for t in ['tax','taxes','taxed','taxation']]\n",
    "print(tokens_stemmed)"
   ]
  },
  {
   "cell_type": "code",
   "execution_count": 41,
   "metadata": {
    "colab": {
     "base_uri": "https://localhost:8080/"
    },
    "id": "AeGKHhiJX3G7",
    "outputId": "64ab2645-f11d-4ed6-ecc0-9b88c794753d"
   },
   "outputs": [
    {
     "name": "stdout",
     "output_type": "stream",
     "text": [
      "autobahn\n"
     ]
    }
   ],
   "source": [
    "stemmer = SnowballStemmer('german') # snowball stemmer, german\n",
    "print(stemmer.stem(\"Autobahnen\"))"
   ]
  },
  {
   "cell_type": "code",
   "execution_count": 42,
   "metadata": {
    "colab": {
     "base_uri": "https://localhost:8080/"
    },
    "id": "SvSn_eOJX3G7",
    "outputId": "1f305e8e-4ce6-4d74-e18e-15e86743b727"
   },
   "outputs": [
    {
     "data": {
      "text/plain": [
       "['corporation', 'corporation', 'corporate']"
      ]
     },
     "execution_count": 42,
     "metadata": {},
     "output_type": "execute_result"
    }
   ],
   "source": [
    "# Lemmatizing\n",
    "from nltk.stem import WordNetLemmatizer\n",
    "wnl = WordNetLemmatizer()\n",
    "[wnl.lemmatize(c) for c in ['corporation', 'corporations', 'corporate']]"
   ]
  },
  {
   "cell_type": "markdown",
   "metadata": {
    "id": "RHKXC94iX3G7"
   },
   "source": [
    "#### Pre-processing function (homemade)"
   ]
  },
  {
   "cell_type": "code",
   "execution_count": 43,
   "metadata": {
    "id": "hrHiA805X3G7"
   },
   "outputs": [],
   "source": [
    "from string import punctuation\n",
    "translator = str.maketrans('','',punctuation)\n",
    "from nltk.corpus import stopwords\n",
    "stoplist = set(stopwords.words('english'))\n",
    "from nltk.stem import SnowballStemmer\n",
    "stemmer = SnowballStemmer('english')\n",
    "\n",
    "def normalize_text(doc):\n",
    "    \"Input doc and return clean list of tokens\"\n",
    "    doc = doc.replace('\\r', ' ').replace('\\n', ' ')\n",
    "    lower = doc.lower() # all lower case\n",
    "    nopunc = lower.translate(translator) # remove punctuation\n",
    "    words = nopunc.split() # split into tokens\n",
    "    nostop = [w for w in words if w not in stoplist] # remove stopwords\n",
    "    no_numbers = [w if not w.isdigit() else '#' for w in nostop] # normalize numbers\n",
    "    stemmed = [stemmer.stem(w) for w in no_numbers] # stem each word\n",
    "    return stemmed"
   ]
  },
  {
   "cell_type": "markdown",
   "metadata": {
    "id": "A_CF4_gzX3G7"
   },
   "source": [
    "And apply it to the corpus."
   ]
  },
  {
   "cell_type": "code",
   "execution_count": 44,
   "metadata": {
    "colab": {
     "base_uri": "https://localhost:8080/",
     "height": 459
    },
    "id": "2iVqQb8kX3G7",
    "outputId": "5d5648e0-b2f9-4b93-c6d1-58047eb23044"
   },
   "outputs": [
    {
     "data": {
      "text/html": [
       "<div>\n",
       "<style scoped>\n",
       "    .dataframe tbody tr th:only-of-type {\n",
       "        vertical-align: middle;\n",
       "    }\n",
       "\n",
       "    .dataframe tbody tr th {\n",
       "        vertical-align: top;\n",
       "    }\n",
       "\n",
       "    .dataframe thead th {\n",
       "        text-align: right;\n",
       "    }\n",
       "</style>\n",
       "<table border=\"1\" class=\"dataframe\">\n",
       "  <thead>\n",
       "    <tr style=\"text-align: right;\">\n",
       "      <th></th>\n",
       "      <th>tokens_cleaned</th>\n",
       "    </tr>\n",
       "  </thead>\n",
       "  <tbody>\n",
       "    <tr>\n",
       "      <th>0</th>\n",
       "      <td>[lerxstwamumdedu, where, thing, subject, car, ...</td>\n",
       "    </tr>\n",
       "    <tr>\n",
       "      <th>1</th>\n",
       "      <td>[guykuocarsonuwashingtonedu, guy, kuo, subject...</td>\n",
       "    </tr>\n",
       "    <tr>\n",
       "      <th>2</th>\n",
       "      <td>[twillisececnpurdueedu, thoma, e, willi, subje...</td>\n",
       "    </tr>\n",
       "    <tr>\n",
       "      <th>3</th>\n",
       "      <td>[jgreenamb, joe, green, subject, weitek, p9000...</td>\n",
       "    </tr>\n",
       "    <tr>\n",
       "      <th>4</th>\n",
       "      <td>[jcmheadcfaharvardedu, jonathan, mcdowel, subj...</td>\n",
       "    </tr>\n",
       "    <tr>\n",
       "      <th>...</th>\n",
       "      <td>...</td>\n",
       "    </tr>\n",
       "    <tr>\n",
       "      <th>11309</th>\n",
       "      <td>[jimzisfeinfactorycom, jim, zisfein, subject, ...</td>\n",
       "    </tr>\n",
       "    <tr>\n",
       "      <th>11310</th>\n",
       "      <td>[ebodinpearltuftsedu, subject, screen, death, ...</td>\n",
       "    </tr>\n",
       "    <tr>\n",
       "      <th>11311</th>\n",
       "      <td>[westesnetcomcom, est, subject, mount, cpu, co...</td>\n",
       "    </tr>\n",
       "    <tr>\n",
       "      <th>11312</th>\n",
       "      <td>[stevehcrlgw, steven, collin, subject, sphere,...</td>\n",
       "    </tr>\n",
       "    <tr>\n",
       "      <th>11313</th>\n",
       "      <td>[gunningccocaltechedu, kevin, j, gun, subject,...</td>\n",
       "    </tr>\n",
       "  </tbody>\n",
       "</table>\n",
       "<p>11314 rows × 1 columns</p>\n",
       "</div><br><label><b>dtype:</b> object</label>"
      ],
      "text/plain": [
       "0        [lerxstwamumdedu, where, thing, subject, car, ...\n",
       "1        [guykuocarsonuwashingtonedu, guy, kuo, subject...\n",
       "2        [twillisececnpurdueedu, thoma, e, willi, subje...\n",
       "3        [jgreenamb, joe, green, subject, weitek, p9000...\n",
       "4        [jcmheadcfaharvardedu, jonathan, mcdowel, subj...\n",
       "                               ...                        \n",
       "11309    [jimzisfeinfactorycom, jim, zisfein, subject, ...\n",
       "11310    [ebodinpearltuftsedu, subject, screen, death, ...\n",
       "11311    [westesnetcomcom, est, subject, mount, cpu, co...\n",
       "11312    [stevehcrlgw, steven, collin, subject, sphere,...\n",
       "11313    [gunningccocaltechedu, kevin, j, gun, subject,...\n",
       "Name: tokens_cleaned, Length: 11314, dtype: object"
      ]
     },
     "execution_count": 44,
     "metadata": {},
     "output_type": "execute_result"
    }
   ],
   "source": [
    "df['tokens_cleaned'] = df['text'].apply(normalize_text)\n",
    "df['tokens_cleaned']"
   ]
  },
  {
   "cell_type": "markdown",
   "metadata": {
    "id": "kIHWRDQHX3G8"
   },
   "source": [
    "#### Pre-processing function (readymade)\n",
    "**Shortcut: `gensim.simple_preprocess`.**"
   ]
  },
  {
   "cell_type": "code",
   "execution_count": 45,
   "metadata": {
    "colab": {
     "base_uri": "https://localhost:8080/"
    },
    "id": "A9VyT-zvX3G8",
    "outputId": "66af83ff-e9a8-4cf5-db11-76cfdfb1ef05"
   },
   "outputs": [
    {
     "name": "stdout",
     "output_type": "stream",
     "text": [
      "['marie', 'curie', 'was', 'the', 'first', 'woman', 'to', 'win', 'nobel', 'prize', 'the', 'first', 'person', 'to', 'win', 'nobel', 'prize', 'twice', 'and', 'the', 'only', 'person', 'to', 'win', 'nobel', 'prize', 'in', 'scientific', 'fields', 'her', 'husband', 'pierre', 'curie', 'was', 'co', 'winner', 'of', 'her', 'first', 'nobel', 'prize', 'making', 'them', 'the', 'first', 'married', 'couple', 'to', 'win', 'the', 'nobel', 'prize', 'and', 'launching', 'the', 'curie', 'family', 'legacy', 'of', 'nobel', 'prizes']\n"
     ]
    }
   ],
   "source": [
    "from gensim.utils import simple_preprocess\n",
    "print(simple_preprocess(text))"
   ]
  },
  {
   "cell_type": "code",
   "execution_count": 46,
   "metadata": {
    "colab": {
     "base_uri": "https://localhost:8080/"
    },
    "id": "Z6s_MyiiX3G8",
    "outputId": "eda4cdb3-f47b-48ae-d469-a9fec8cd89db"
   },
   "outputs": [
    {
     "name": "stdout",
     "output_type": "stream",
     "text": [
      "Counter({'the': 6, 'nobel': 6, 'prize': 5, 'first': 4, 'to': 4, 'win': 4, 'curie': 3, 'was': 2, 'person': 2, 'and': 2, 'her': 2, 'of': 2, 'marie': 1, 'woman': 1, 'twice': 1, 'only': 1, 'in': 1, 'scientific': 1, 'fields': 1, 'husband': 1, 'pierre': 1, 'co': 1, 'winner': 1, 'making': 1, 'them': 1, 'married': 1, 'couple': 1, 'launching': 1, 'family': 1, 'legacy': 1, 'prizes': 1})\n"
     ]
    }
   ],
   "source": [
    "from collections import Counter\n",
    "print(Counter(simple_preprocess(text)))"
   ]
  },
  {
   "cell_type": "markdown",
   "metadata": {
    "id": "AujXT350X3G8"
   },
   "source": [
    "Now let's `simple_preprocess` on the corpus."
   ]
  },
  {
   "cell_type": "code",
   "execution_count": 47,
   "metadata": {
    "colab": {
     "base_uri": "https://localhost:8080/",
     "height": 459
    },
    "id": "IDOcNiHTX3G8",
    "outputId": "51049a71-3424-4dff-b017-6c37f40ac9be"
   },
   "outputs": [
    {
     "data": {
      "text/html": [
       "<div>\n",
       "<style scoped>\n",
       "    .dataframe tbody tr th:only-of-type {\n",
       "        vertical-align: middle;\n",
       "    }\n",
       "\n",
       "    .dataframe tbody tr th {\n",
       "        vertical-align: top;\n",
       "    }\n",
       "\n",
       "    .dataframe thead th {\n",
       "        text-align: right;\n",
       "    }\n",
       "</style>\n",
       "<table border=\"1\" class=\"dataframe\">\n",
       "  <thead>\n",
       "    <tr style=\"text-align: right;\">\n",
       "      <th></th>\n",
       "      <th>tokens_simple</th>\n",
       "    </tr>\n",
       "  </thead>\n",
       "  <tbody>\n",
       "    <tr>\n",
       "      <th>0</th>\n",
       "      <td>[from, lerxst, wam, umd, edu, where, my, thing...</td>\n",
       "    </tr>\n",
       "    <tr>\n",
       "      <th>1</th>\n",
       "      <td>[from, guykuo, carson, washington, edu, guy, k...</td>\n",
       "    </tr>\n",
       "    <tr>\n",
       "      <th>2</th>\n",
       "      <td>[from, twillis, ec, ecn, purdue, edu, thomas, ...</td>\n",
       "    </tr>\n",
       "    <tr>\n",
       "      <th>3</th>\n",
       "      <td>[from, jgreen, amber, joe, green, subject, re,...</td>\n",
       "    </tr>\n",
       "    <tr>\n",
       "      <th>4</th>\n",
       "      <td>[from, jcm, head, cfa, harvard, edu, jonathan,...</td>\n",
       "    </tr>\n",
       "    <tr>\n",
       "      <th>...</th>\n",
       "      <td>...</td>\n",
       "    </tr>\n",
       "    <tr>\n",
       "      <th>11309</th>\n",
       "      <td>[from, jim, zisfein, factory, com, jim, zisfei...</td>\n",
       "    </tr>\n",
       "    <tr>\n",
       "      <th>11310</th>\n",
       "      <td>[from, ebodin, pearl, tufts, edu, subject, scr...</td>\n",
       "    </tr>\n",
       "    <tr>\n",
       "      <th>11311</th>\n",
       "      <td>[from, westes, netcom, com, will, estes, subje...</td>\n",
       "    </tr>\n",
       "    <tr>\n",
       "      <th>11312</th>\n",
       "      <td>[from, steve, hcrlgw, steven, collins, subject...</td>\n",
       "    </tr>\n",
       "    <tr>\n",
       "      <th>11313</th>\n",
       "      <td>[from, gunning, cco, caltech, edu, kevin, gunn...</td>\n",
       "    </tr>\n",
       "  </tbody>\n",
       "</table>\n",
       "<p>11314 rows × 1 columns</p>\n",
       "</div><br><label><b>dtype:</b> object</label>"
      ],
      "text/plain": [
       "0        [from, lerxst, wam, umd, edu, where, my, thing...\n",
       "1        [from, guykuo, carson, washington, edu, guy, k...\n",
       "2        [from, twillis, ec, ecn, purdue, edu, thomas, ...\n",
       "3        [from, jgreen, amber, joe, green, subject, re,...\n",
       "4        [from, jcm, head, cfa, harvard, edu, jonathan,...\n",
       "                               ...                        \n",
       "11309    [from, jim, zisfein, factory, com, jim, zisfei...\n",
       "11310    [from, ebodin, pearl, tufts, edu, subject, scr...\n",
       "11311    [from, westes, netcom, com, will, estes, subje...\n",
       "11312    [from, steve, hcrlgw, steven, collins, subject...\n",
       "11313    [from, gunning, cco, caltech, edu, kevin, gunn...\n",
       "Name: tokens_simple, Length: 11314, dtype: object"
      ]
     },
     "execution_count": 47,
     "metadata": {},
     "output_type": "execute_result"
    }
   ],
   "source": [
    "df['tokens_simple'] = df['text'].apply(simple_preprocess)\n",
    "df['tokens_simple']"
   ]
  },
  {
   "cell_type": "markdown",
   "metadata": {
    "id": "JtKqV9UDX3G_"
   },
   "source": [
    "### 2. Count and frequencies"
   ]
  },
  {
   "cell_type": "code",
   "execution_count": 48,
   "metadata": {
    "colab": {
     "base_uri": "https://localhost:8080/"
    },
    "id": "H9UFeDYPX3G_",
    "outputId": "9b7d48d0-7930-4fc1-acb4-4307a7c5afbd"
   },
   "outputs": [
    {
     "data": {
      "text/plain": [
       "[('the', 6),\n",
       " ('nobel', 6),\n",
       " ('prize', 5),\n",
       " ('first', 4),\n",
       " ('to', 4),\n",
       " ('win', 4),\n",
       " ('a', 4),\n",
       " ('curie', 3),\n",
       " ('was', 2),\n",
       " ('person', 2),\n",
       " ('and', 2),\n",
       " ('her', 2),\n",
       " ('of', 2),\n",
       " ('marie', 1),\n",
       " ('woman', 1),\n",
       " ('twice', 1),\n",
       " ('only', 1),\n",
       " ('in', 1),\n",
       " ('2', 1),\n",
       " ('scientific', 1)]"
      ]
     },
     "execution_count": 48,
     "metadata": {},
     "output_type": "execute_result"
    }
   ],
   "source": [
    "# Counter is a quick pure-python solution.\n",
    "from collections import Counter\n",
    "freqs = Counter(tokens)\n",
    "freqs.most_common()[:20]"
   ]
  },
  {
   "cell_type": "markdown",
   "metadata": {
    "id": "o-EroakuX3G_"
   },
   "source": [
    "Usually we use scikit-learn's vectorizer."
   ]
  },
  {
   "cell_type": "code",
   "execution_count": 49,
   "metadata": {
    "id": "hZs4vhtRX3G_"
   },
   "outputs": [],
   "source": [
    "from sklearn.feature_extraction.text import CountVectorizer\n",
    "vec = CountVectorizer(min_df=0.001, # at min 0.1% of docs\n",
    "                        max_df=.8, # drop if shows up ih more than 80%\n",
    "                        max_features=1000,\n",
    "                        stop_words='english',\n",
    "                        ngram_range=(1,3)) # words, bigrams, and trigrams\n",
    "X = vec.fit_transform(df['text'])\n",
    "\n",
    "# save the vectors\n",
    "# pd.to_pickle(X,'X.pkl')\n",
    "\n",
    "# save the vectorizer\n",
    "# (so you can transform other documents,\n",
    "# also for the vocab)\n",
    "#pd.to_pickle(vec, 'vec-3grams-1.pkl')"
   ]
  },
  {
   "cell_type": "code",
   "execution_count": 50,
   "metadata": {
    "colab": {
     "base_uri": "https://localhost:8080/"
    },
    "id": "CqSWetQ-X3G_",
    "outputId": "293d98a9-13a4-4ab0-cfd6-881f7b8fbb88"
   },
   "outputs": [
    {
     "data": {
      "text/plain": [
       "<11314x1000 sparse matrix of type '<class 'numpy.int64'>'\n",
       "\twith 526707 stored elements in Compressed Sparse Row format>"
      ]
     },
     "execution_count": 50,
     "metadata": {},
     "output_type": "execute_result"
    }
   ],
   "source": [
    "X"
   ]
  },
  {
   "cell_type": "code",
   "execution_count": 51,
   "metadata": {
    "id": "pd6TACoMX3G_"
   },
   "outputs": [],
   "source": [
    "# tf-idf vectorizer up-weights rare/distinctive words\n",
    "from sklearn.feature_extraction.text import TfidfVectorizer\n",
    "tfidf = TfidfVectorizer(min_df=0.001,\n",
    "                        max_df=0.9,\n",
    "                        max_features=1000,\n",
    "                        stop_words='english',\n",
    "                        use_idf=True, # the new piece\n",
    "                        ngram_range=(1,2))\n",
    "\n",
    "X_tfidf = tfidf.fit_transform(df['text'])\n",
    "#pd.to_pickle(X_tfidf,'X_tfidf.pkl')"
   ]
  },
  {
   "cell_type": "code",
   "execution_count": 52,
   "metadata": {
    "colab": {
     "base_uri": "https://localhost:8080/"
    },
    "id": "yLsy67ZKX3HA",
    "outputId": "abb447fa-e101-4516-b4d0-dec3951ef7f0"
   },
   "outputs": [
    {
     "data": {
      "text/plain": [
       "<11314x1000 sparse matrix of type '<class 'numpy.float64'>'\n",
       "\twith 521387 stored elements in Compressed Sparse Row format>"
      ]
     },
     "execution_count": 52,
     "metadata": {},
     "output_type": "execute_result"
    }
   ],
   "source": [
    "X_tfidf"
   ]
  },
  {
   "cell_type": "markdown",
   "metadata": {
    "id": "fBMyg8zT4Zp7"
   },
   "source": [
    "#### 3. N-grams"
   ]
  },
  {
   "cell_type": "code",
   "execution_count": 53,
   "metadata": {
    "colab": {
     "base_uri": "https://localhost:8080/"
    },
    "id": "kmnozqH_X3G-",
    "outputId": "37f1e950-f01f-4d84-81aa-1eb08618e422"
   },
   "outputs": [
    {
     "data": {
      "text/plain": [
       "[(('of', 'the'), 41),\n",
       " (('subject:', 're:'), 37),\n",
       " (('in', 'the'), 33),\n",
       " (('to', 'the'), 27),\n",
       " (('i', 'am'), 21),\n",
       " (('i', 'have'), 21),\n",
       " (('to', 'be'), 19),\n",
       " (('on', 'the'), 18)]"
      ]
     },
     "execution_count": 53,
     "metadata": {},
     "output_type": "execute_result"
    }
   ],
   "source": [
    "from nltk import ngrams\n",
    "from collections import Counter\n",
    "\n",
    "# get n-gram counts for 10 documents\n",
    "grams = []\n",
    "for i, row in df.iterrows():\n",
    "    tokens = row['text'].lower().split() # get tokens\n",
    "    for n in range(2,4):\n",
    "        grams += list(ngrams(tokens,n)) # get bigrams, trigrams, and quadgrams\n",
    "    if i > 50:\n",
    "        break\n",
    "Counter(grams).most_common()[:8]  # most frequent n-grams"
   ]
  },
  {
   "cell_type": "code",
   "execution_count": 54,
   "metadata": {
    "colab": {
     "base_uri": "https://localhost:8080/"
    },
    "id": "MYNm8MkJX3G_",
    "outputId": "b69c90b9-ee7e-4715-e7cf-4effe3cca09e",
    "scrolled": true
   },
   "outputs": [
    {
     "data": {
      "text/plain": [
       "[(Irwin Arnstein,\n",
       " Subject,\n",
       " Duc\n",
       " Summary,\n",
       " What,\n",
       " it,\n",
       " Distribution,\n",
       " Sat,\n",
       " 1 May 1993 05:00:00 GMT\n",
       " Organization,\n",
       " CompuTrac Inc.,\n",
       " Richardson TX\n",
       " Keywords,\n",
       " Ducati,\n",
       " GTS,\n",
       " 13\n",
       " \n",
       " I,\n",
       " a line,\n",
       " a Ducati 900GTS 1978 model,\n",
       " 17k,\n",
       " the clock,\n",
       " paint,\n",
       " the bronze/brown/orange,\n",
       " a bit,\n",
       " oil,\n",
       " 1st,\n",
       " hard accel,\n",
       " The shop,\n",
       " trans,\n",
       " oil \n",
       " leak,\n",
       " They,\n",
       " the bike,\n",
       " the 1 and only owner,\n",
       " They,\n",
       " I,\n",
       " Any opinions,\n",
       " me,\n",
       " Thanks,\n",
       " It,\n",
       " a nice stable mate,\n",
       " the Beemer,\n",
       " I,\n",
       " a jap bike,\n",
       " myself,\n",
       " Axis Motors,\n",
       " Irwin,\n",
       " I,\n",
       " I,\n",
       " CompuTrac-Richardson,Tx\n",
       " irwin@cmptrc.lonestar.org    DoD,\n",
       " (R75/6]"
      ]
     },
     "execution_count": 54,
     "metadata": {},
     "output_type": "execute_result"
    }
   ],
   "source": [
    "# spacy NER noun chunks\n",
    "i = 0\n",
    "chunks = list(nlp(df['text'].iloc[10]).noun_chunks)\n",
    "chunks"
   ]
  },
  {
   "cell_type": "markdown",
   "metadata": {
    "id": "Vb2WTDpwX3G9"
   },
   "source": [
    "#### 4. Parts of speech (and Corpus Prep with spaCy)"
   ]
  },
  {
   "cell_type": "markdown",
   "metadata": {
    "id": "06WzrJM9X3G9"
   },
   "source": [
    "Get spacy documents for each speech and add to dataframe. This is quicker than iterating over the dataframe with `iterrows()`, but slower than a parallelized solution. It will take a few minutes for a whole corpus."
   ]
  },
  {
   "cell_type": "code",
   "execution_count": 55,
   "metadata": {
    "id": "04bKFaZTX3G9"
   },
   "outputs": [],
   "source": [
    "dfs = df.sample(10)\n",
    "dfs['doc'] = dfs['text'].apply(nlp)"
   ]
  },
  {
   "cell_type": "code",
   "execution_count": 56,
   "metadata": {
    "colab": {
     "base_uri": "https://localhost:8080/",
     "height": 112
    },
    "id": "GrxetuV1X3G9",
    "outputId": "187bd8ea-c038-40a8-d909-8edaeb8111f0"
   },
   "outputs": [
    {
     "data": {
      "application/vnd.google.colaboratory.intrinsic+json": {
       "summary": "{\n  \"name\": \"dfs[['text','doc']]\",\n  \"rows\": 2,\n  \"fields\": [\n    {\n      \"column\": \"text\",\n      \"properties\": {\n        \"dtype\": \"string\",\n        \"num_unique_values\": 2,\n        \"samples\": [\n          \"From: dxf12@po.cwru.edu (Douglas Fowler)\\nSubject: Giving \\\"spiritual gifts\\\"\\nReply-To: dxf12@po.cwru.edu (Douglas Fowler)\\nOrganization: Case Western Reserve University, Cleveland, OH (USA)\\nLines: 20\\n\\n\\n     I just thought I'd share a nice experience before my exam today.\\nI was walking down the streets on our campus, and a beggar came up and asked\\nme for any spare change I might have.  I had a dollar or so that I gave her,\\nand - not wanting to give away all my money to strangers (I generally give\\na dollar as that will buy a little food at McDonalds or something) - I offered\\nher some \\\"spiritual gifts,\\\" as I called them, rather than gifts of money.\\nI talked of how great I felt that God had made such a pretty day, and how\\nnice it was to give to people - she then said she was getting married soon.\\nShe talked about how she and her husband had very little (they may not have\\neven had a house, for all I know), but that they felt a very special love in\\nthe Lord, an unselfish kind of caring.  It warmed my heart to know that 2\\npeople can have so little monetarily, and realize that spiritually they are\\nindeed very rich.  A good lesson for all of us who say we want more, more,\\nmore; what we really need cannot be counted, or sold, or bought.\\n-- \\nDoug Fowler: dxf12@po.CWRU.edu  Heaven is a great big hug that lasts forever\\n        \\\"And when that One Great Scorer comes to mark against your name;\\n   He writes, not whether you've won or lost, but how you played the game\\\"\\n                      --Grantland Rice\\n\",\n          \"From: wcd82671@uxa.cso.uiuc.edu (daniel warren c)\\nSubject: Hard Copy --- Hot Pursuit!!!!\\nSummary: SHIT!!!!!!!\\nKeywords: Running from the Police.\\nArticle-I.D.: news.C5J34y.2t4\\nDistribution: rec.motorcycles\\nOrganization: University of Illinois at Urbana\\nLines: 44\\n\\n\\nYo, did anybody see this run of HARD COPY?\\n\\nI guy on a 600 Katana got pulled over by the Police (I guess for\\nspeeding or something).  But just as the cop was about to step\\nout of the car, the dude punches it down an interstate in Georgia.\\nAng then, the cop gives chase.\\n\\nNow this was an interesting episode because it was all videotaped!!!\\nEverything from the dramatic takeoff and 135mph chase to the sidestreet\\nbattle at about 100mph.  What happened at the end?  The guy (who is\\nbeing relentless chased down box the cage with the disco lights)\\nslows a couple of times to taunt the cop.   After blowing a few stop\\nsigns and making car jump to the side, he goes up a dead end street.\\n\\nThe Kat, although not the latest machine, is still a high performance\\nmachine and he slams on the brakes.  Of couse, we all know that cages,\\nespecially the ones with the disco lights, can't stop as fast as our\\nhigh performance machines.  So what happens?...  The cage plows into the\\nKat.\\n\\nLuckily for this dude, he was wearing a helmet and was not hurt.  But\\ndude, how crazy can you get!?!  Yeah, we've all went out and played\\ncat and mouse with our friends but, with a cop!!???!!!  How crazy can\\nyou get!?!?!  It took just one look at a ZX-7 who tried this crap\\nto convince me not to try any shit like that.  (Although the dude\\ncollided with a car head on at 140 mph, the Kawasaki team colors\\nstill looked good!!!  Just a few scratches, like no front end....\\n3 inch long engine and other \\\"minor\\\" scratches...)\\n\\nIf you guys are out there, please, slow it down.  I not being\\nan advocate for the cages (especially the ones that make that \\nannoying ass noises...), but just think...  The next time you\\npunched it (whether you have an all mighty ZX-11 or a \\\"I can\\ndo it\\\" 250 Ninja), just remember, a kid could step out at any   \\ntime.\\n\\nPeace & ride (kinda) safe.\\n\\nWarren -- \\\"Have Suzuki, Will travel...\\\"\\nWCD82671@uxa.cso.uiuc.edu\\n\\n\\\"What's the big deal about riding one of these. I'm only going...\\n95!?!?!\\\"    - Annie (Robotech)\\n\"\n        ],\n        \"semantic_type\": \"\",\n        \"description\": \"\"\n      }\n    },\n    {\n      \"column\": \"doc\",\n      \"properties\": {\n        \"dtype\": \"string\",\n        \"num_unique_values\": 2,\n        \"samples\": [\n          \"From: dxf12@po.cwru.edu (Douglas Fowler)\\nSubject: Giving \\\"spiritual gifts\\\"\\nReply-To: dxf12@po.cwru.edu (Douglas Fowler)\\nOrganization: Case Western Reserve University, Cleveland, OH (USA)\\nLines: 20\\n\\n\\n     I just thought I'd share a nice experience before my exam today.\\nI was walking down the streets on our campus, and a beggar came up and asked\\nme for any spare change I might have.  I had a dollar or so that I gave her,\\nand - not wanting to give away all my money to strangers (I generally give\\na dollar as that will buy a little food at McDonalds or something) - I offered\\nher some \\\"spiritual gifts,\\\" as I called them, rather than gifts of money.\\nI talked of how great I felt that God had made such a pretty day, and how\\nnice it was to give to people - she then said she was getting married soon.\\nShe talked about how she and her husband had very little (they may not have\\neven had a house, for all I know), but that they felt a very special love in\\nthe Lord, an unselfish kind of caring.  It warmed my heart to know that 2\\npeople can have so little monetarily, and realize that spiritually they are\\nindeed very rich.  A good lesson for all of us who say we want more, more,\\nmore; what we really need cannot be counted, or sold, or bought.\\n-- \\nDoug Fowler: dxf12@po.CWRU.edu  Heaven is a great big hug that lasts forever\\n        \\\"And when that One Great Scorer comes to mark against your name;\\n   He writes, not whether you've won or lost, but how you played the game\\\"\\n                      --Grantland Rice\\n\",\n          \"From: wcd82671@uxa.cso.uiuc.edu (daniel warren c)\\nSubject: Hard Copy --- Hot Pursuit!!!!\\nSummary: SHIT!!!!!!!\\nKeywords: Running from the Police.\\nArticle-I.D.: news.C5J34y.2t4\\nDistribution: rec.motorcycles\\nOrganization: University of Illinois at Urbana\\nLines: 44\\n\\n\\nYo, did anybody see this run of HARD COPY?\\n\\nI guy on a 600 Katana got pulled over by the Police (I guess for\\nspeeding or something).  But just as the cop was about to step\\nout of the car, the dude punches it down an interstate in Georgia.\\nAng then, the cop gives chase.\\n\\nNow this was an interesting episode because it was all videotaped!!!\\nEverything from the dramatic takeoff and 135mph chase to the sidestreet\\nbattle at about 100mph.  What happened at the end?  The guy (who is\\nbeing relentless chased down box the cage with the disco lights)\\nslows a couple of times to taunt the cop.   After blowing a few stop\\nsigns and making car jump to the side, he goes up a dead end street.\\n\\nThe Kat, although not the latest machine, is still a high performance\\nmachine and he slams on the brakes.  Of couse, we all know that cages,\\nespecially the ones with the disco lights, can't stop as fast as our\\nhigh performance machines.  So what happens?...  The cage plows into the\\nKat.\\n\\nLuckily for this dude, he was wearing a helmet and was not hurt.  But\\ndude, how crazy can you get!?!  Yeah, we've all went out and played\\ncat and mouse with our friends but, with a cop!!???!!!  How crazy can\\nyou get!?!?!  It took just one look at a ZX-7 who tried this crap\\nto convince me not to try any shit like that.  (Although the dude\\ncollided with a car head on at 140 mph, the Kawasaki team colors\\nstill looked good!!!  Just a few scratches, like no front end....\\n3 inch long engine and other \\\"minor\\\" scratches...)\\n\\nIf you guys are out there, please, slow it down.  I not being\\nan advocate for the cages (especially the ones that make that \\nannoying ass noises...), but just think...  The next time you\\npunched it (whether you have an all mighty ZX-11 or a \\\"I can\\ndo it\\\" 250 Ninja), just remember, a kid could step out at any   \\ntime.\\n\\nPeace & ride (kinda) safe.\\n\\nWarren -- \\\"Have Suzuki, Will travel...\\\"\\nWCD82671@uxa.cso.uiuc.edu\\n\\n\\\"What's the big deal about riding one of these. I'm only going...\\n95!?!?!\\\"    - Annie (Robotech)\\n\"\n        ],\n        \"semantic_type\": \"\",\n        \"description\": \"\"\n      }\n    }\n  ]\n}",
       "type": "dataframe"
      },
      "text/html": [
       "\n",
       "  <div id=\"df-235d65f9-0149-4023-91ec-35be082269f2\" class=\"colab-df-container\">\n",
       "    <div>\n",
       "<style scoped>\n",
       "    .dataframe tbody tr th:only-of-type {\n",
       "        vertical-align: middle;\n",
       "    }\n",
       "\n",
       "    .dataframe tbody tr th {\n",
       "        vertical-align: top;\n",
       "    }\n",
       "\n",
       "    .dataframe thead th {\n",
       "        text-align: right;\n",
       "    }\n",
       "</style>\n",
       "<table border=\"1\" class=\"dataframe\">\n",
       "  <thead>\n",
       "    <tr style=\"text-align: right;\">\n",
       "      <th></th>\n",
       "      <th>text</th>\n",
       "      <th>doc</th>\n",
       "    </tr>\n",
       "  </thead>\n",
       "  <tbody>\n",
       "    <tr>\n",
       "      <th>6889</th>\n",
       "      <td>From: wcd82671@uxa.cso.uiuc.edu (daniel warren...</td>\n",
       "      <td>(From, :, wcd82671@uxa.cso.uiuc.edu, (, daniel...</td>\n",
       "    </tr>\n",
       "    <tr>\n",
       "      <th>9583</th>\n",
       "      <td>From: dxf12@po.cwru.edu (Douglas Fowler)\\nSubj...</td>\n",
       "      <td>(From, :, dxf12@po.cwru.edu, (, Douglas, Fowle...</td>\n",
       "    </tr>\n",
       "  </tbody>\n",
       "</table>\n",
       "</div>\n",
       "    <div class=\"colab-df-buttons\">\n",
       "\n",
       "  <div class=\"colab-df-container\">\n",
       "    <button class=\"colab-df-convert\" onclick=\"convertToInteractive('df-235d65f9-0149-4023-91ec-35be082269f2')\"\n",
       "            title=\"Convert this dataframe to an interactive table.\"\n",
       "            style=\"display:none;\">\n",
       "\n",
       "  <svg xmlns=\"http://www.w3.org/2000/svg\" height=\"24px\" viewBox=\"0 -960 960 960\">\n",
       "    <path d=\"M120-120v-720h720v720H120Zm60-500h600v-160H180v160Zm220 220h160v-160H400v160Zm0 220h160v-160H400v160ZM180-400h160v-160H180v160Zm440 0h160v-160H620v160ZM180-180h160v-160H180v160Zm440 0h160v-160H620v160Z\"/>\n",
       "  </svg>\n",
       "    </button>\n",
       "\n",
       "  <style>\n",
       "    .colab-df-container {\n",
       "      display:flex;\n",
       "      gap: 12px;\n",
       "    }\n",
       "\n",
       "    .colab-df-convert {\n",
       "      background-color: #E8F0FE;\n",
       "      border: none;\n",
       "      border-radius: 50%;\n",
       "      cursor: pointer;\n",
       "      display: none;\n",
       "      fill: #1967D2;\n",
       "      height: 32px;\n",
       "      padding: 0 0 0 0;\n",
       "      width: 32px;\n",
       "    }\n",
       "\n",
       "    .colab-df-convert:hover {\n",
       "      background-color: #E2EBFA;\n",
       "      box-shadow: 0px 1px 2px rgba(60, 64, 67, 0.3), 0px 1px 3px 1px rgba(60, 64, 67, 0.15);\n",
       "      fill: #174EA6;\n",
       "    }\n",
       "\n",
       "    .colab-df-buttons div {\n",
       "      margin-bottom: 4px;\n",
       "    }\n",
       "\n",
       "    [theme=dark] .colab-df-convert {\n",
       "      background-color: #3B4455;\n",
       "      fill: #D2E3FC;\n",
       "    }\n",
       "\n",
       "    [theme=dark] .colab-df-convert:hover {\n",
       "      background-color: #434B5C;\n",
       "      box-shadow: 0px 1px 3px 1px rgba(0, 0, 0, 0.15);\n",
       "      filter: drop-shadow(0px 1px 2px rgba(0, 0, 0, 0.3));\n",
       "      fill: #FFFFFF;\n",
       "    }\n",
       "  </style>\n",
       "\n",
       "    <script>\n",
       "      const buttonEl =\n",
       "        document.querySelector('#df-235d65f9-0149-4023-91ec-35be082269f2 button.colab-df-convert');\n",
       "      buttonEl.style.display =\n",
       "        google.colab.kernel.accessAllowed ? 'block' : 'none';\n",
       "\n",
       "      async function convertToInteractive(key) {\n",
       "        const element = document.querySelector('#df-235d65f9-0149-4023-91ec-35be082269f2');\n",
       "        const dataTable =\n",
       "          await google.colab.kernel.invokeFunction('convertToInteractive',\n",
       "                                                    [key], {});\n",
       "        if (!dataTable) return;\n",
       "\n",
       "        const docLinkHtml = 'Like what you see? Visit the ' +\n",
       "          '<a target=\"_blank\" href=https://colab.research.google.com/notebooks/data_table.ipynb>data table notebook</a>'\n",
       "          + ' to learn more about interactive tables.';\n",
       "        element.innerHTML = '';\n",
       "        dataTable['output_type'] = 'display_data';\n",
       "        await google.colab.output.renderOutput(dataTable, element);\n",
       "        const docLink = document.createElement('div');\n",
       "        docLink.innerHTML = docLinkHtml;\n",
       "        element.appendChild(docLink);\n",
       "      }\n",
       "    </script>\n",
       "  </div>\n",
       "\n",
       "\n",
       "<div id=\"df-081bea4a-c1b7-4ef8-81dc-85cb56820bd6\">\n",
       "  <button class=\"colab-df-quickchart\" onclick=\"quickchart('df-081bea4a-c1b7-4ef8-81dc-85cb56820bd6')\"\n",
       "            title=\"Suggest charts\"\n",
       "            style=\"display:none;\">\n",
       "\n",
       "<svg xmlns=\"http://www.w3.org/2000/svg\" height=\"24px\"viewBox=\"0 0 24 24\"\n",
       "     width=\"24px\">\n",
       "    <g>\n",
       "        <path d=\"M19 3H5c-1.1 0-2 .9-2 2v14c0 1.1.9 2 2 2h14c1.1 0 2-.9 2-2V5c0-1.1-.9-2-2-2zM9 17H7v-7h2v7zm4 0h-2V7h2v10zm4 0h-2v-4h2v4z\"/>\n",
       "    </g>\n",
       "</svg>\n",
       "  </button>\n",
       "\n",
       "<style>\n",
       "  .colab-df-quickchart {\n",
       "      --bg-color: #E8F0FE;\n",
       "      --fill-color: #1967D2;\n",
       "      --hover-bg-color: #E2EBFA;\n",
       "      --hover-fill-color: #174EA6;\n",
       "      --disabled-fill-color: #AAA;\n",
       "      --disabled-bg-color: #DDD;\n",
       "  }\n",
       "\n",
       "  [theme=dark] .colab-df-quickchart {\n",
       "      --bg-color: #3B4455;\n",
       "      --fill-color: #D2E3FC;\n",
       "      --hover-bg-color: #434B5C;\n",
       "      --hover-fill-color: #FFFFFF;\n",
       "      --disabled-bg-color: #3B4455;\n",
       "      --disabled-fill-color: #666;\n",
       "  }\n",
       "\n",
       "  .colab-df-quickchart {\n",
       "    background-color: var(--bg-color);\n",
       "    border: none;\n",
       "    border-radius: 50%;\n",
       "    cursor: pointer;\n",
       "    display: none;\n",
       "    fill: var(--fill-color);\n",
       "    height: 32px;\n",
       "    padding: 0;\n",
       "    width: 32px;\n",
       "  }\n",
       "\n",
       "  .colab-df-quickchart:hover {\n",
       "    background-color: var(--hover-bg-color);\n",
       "    box-shadow: 0 1px 2px rgba(60, 64, 67, 0.3), 0 1px 3px 1px rgba(60, 64, 67, 0.15);\n",
       "    fill: var(--button-hover-fill-color);\n",
       "  }\n",
       "\n",
       "  .colab-df-quickchart-complete:disabled,\n",
       "  .colab-df-quickchart-complete:disabled:hover {\n",
       "    background-color: var(--disabled-bg-color);\n",
       "    fill: var(--disabled-fill-color);\n",
       "    box-shadow: none;\n",
       "  }\n",
       "\n",
       "  .colab-df-spinner {\n",
       "    border: 2px solid var(--fill-color);\n",
       "    border-color: transparent;\n",
       "    border-bottom-color: var(--fill-color);\n",
       "    animation:\n",
       "      spin 1s steps(1) infinite;\n",
       "  }\n",
       "\n",
       "  @keyframes spin {\n",
       "    0% {\n",
       "      border-color: transparent;\n",
       "      border-bottom-color: var(--fill-color);\n",
       "      border-left-color: var(--fill-color);\n",
       "    }\n",
       "    20% {\n",
       "      border-color: transparent;\n",
       "      border-left-color: var(--fill-color);\n",
       "      border-top-color: var(--fill-color);\n",
       "    }\n",
       "    30% {\n",
       "      border-color: transparent;\n",
       "      border-left-color: var(--fill-color);\n",
       "      border-top-color: var(--fill-color);\n",
       "      border-right-color: var(--fill-color);\n",
       "    }\n",
       "    40% {\n",
       "      border-color: transparent;\n",
       "      border-right-color: var(--fill-color);\n",
       "      border-top-color: var(--fill-color);\n",
       "    }\n",
       "    60% {\n",
       "      border-color: transparent;\n",
       "      border-right-color: var(--fill-color);\n",
       "    }\n",
       "    80% {\n",
       "      border-color: transparent;\n",
       "      border-right-color: var(--fill-color);\n",
       "      border-bottom-color: var(--fill-color);\n",
       "    }\n",
       "    90% {\n",
       "      border-color: transparent;\n",
       "      border-bottom-color: var(--fill-color);\n",
       "    }\n",
       "  }\n",
       "</style>\n",
       "\n",
       "  <script>\n",
       "    async function quickchart(key) {\n",
       "      const quickchartButtonEl =\n",
       "        document.querySelector('#' + key + ' button');\n",
       "      quickchartButtonEl.disabled = true;  // To prevent multiple clicks.\n",
       "      quickchartButtonEl.classList.add('colab-df-spinner');\n",
       "      try {\n",
       "        const charts = await google.colab.kernel.invokeFunction(\n",
       "            'suggestCharts', [key], {});\n",
       "      } catch (error) {\n",
       "        console.error('Error during call to suggestCharts:', error);\n",
       "      }\n",
       "      quickchartButtonEl.classList.remove('colab-df-spinner');\n",
       "      quickchartButtonEl.classList.add('colab-df-quickchart-complete');\n",
       "    }\n",
       "    (() => {\n",
       "      let quickchartButtonEl =\n",
       "        document.querySelector('#df-081bea4a-c1b7-4ef8-81dc-85cb56820bd6 button');\n",
       "      quickchartButtonEl.style.display =\n",
       "        google.colab.kernel.accessAllowed ? 'block' : 'none';\n",
       "    })();\n",
       "  </script>\n",
       "</div>\n",
       "\n",
       "    </div>\n",
       "  </div>\n"
      ],
      "text/plain": [
       "                                                   text  \\\n",
       "6889  From: wcd82671@uxa.cso.uiuc.edu (daniel warren...   \n",
       "9583  From: dxf12@po.cwru.edu (Douglas Fowler)\\nSubj...   \n",
       "\n",
       "                                                    doc  \n",
       "6889  (From, :, wcd82671@uxa.cso.uiuc.edu, (, daniel...  \n",
       "9583  (From, :, dxf12@po.cwru.edu, (, Douglas, Fowle...  "
      ]
     },
     "execution_count": 56,
     "metadata": {},
     "output_type": "execute_result"
    }
   ],
   "source": [
    "dfs[['text','doc']].head(2)"
   ]
  },
  {
   "cell_type": "code",
   "execution_count": 57,
   "metadata": {
    "colab": {
     "base_uri": "https://localhost:8080/"
    },
    "id": "BBjAtcO1X3G-",
    "outputId": "974ef1cf-71c4-4be4-985c-76efd749141f"
   },
   "outputs": [
    {
     "data": {
      "text/plain": [
       "[From: wcd82671@uxa.cso.uiuc.edu (daniel warren c)\n",
       " Subject: Hard Copy --- Hot Pursuit!!!!,\n",
       " Summary: SHIT!!!!!!!,\n",
       " Keywords: Running from the Police.\n",
       " Article-I.D.: news.,\n",
       " C5J34y.2t4\n",
       " Distribution: rec.motorcycles\n",
       " Organization: University of Illinois at Urbana\n",
       " Lines: 44\n",
       " \n",
       " \n",
       " Yo, did anybody see this run of HARD COPY?\n",
       " ,\n",
       " I guy on a 600 Katana got pulled over by the Police (I guess for\n",
       " speeding or something).  ,\n",
       " But just as the cop was about to step\n",
       " out of the car, the dude punches it down an interstate in Georgia.,\n",
       " Ang then, the cop gives chase.\n",
       " ,\n",
       " Now this was an interesting episode because it was all videotaped!!!,\n",
       " Everything from the dramatic takeoff and 135mph chase to the sidestreet\n",
       " battle at about 100mph.  ,\n",
       " What happened at the end?  ]"
      ]
     },
     "execution_count": 57,
     "metadata": {},
     "output_type": "execute_result"
    }
   ],
   "source": [
    "# The spacy model already gives you sentences and tokens.\n",
    "# For example:\n",
    "tensents = list(dfs['doc'].iloc[0].sents)[:10] #\n",
    "tensents"
   ]
  },
  {
   "cell_type": "code",
   "execution_count": 58,
   "metadata": {
    "colab": {
     "base_uri": "https://localhost:8080/"
    },
    "id": "KxBAFMiaX3G-",
    "outputId": "05d6cae1-5830-4aa5-b2c6-807000a05297"
   },
   "outputs": [
    {
     "data": {
      "text/plain": [
       "[What, happened, at, the, end, ?,  ]"
      ]
     },
     "execution_count": 58,
     "metadata": {},
     "output_type": "execute_result"
    }
   ],
   "source": [
    "# tokens\n",
    "list(tensents[-1])"
   ]
  },
  {
   "cell_type": "code",
   "execution_count": 59,
   "metadata": {
    "colab": {
     "base_uri": "https://localhost:8080/"
    },
    "id": "FxTt8WWJX3G-",
    "outputId": "c0d65624-5f51-4979-f1ea-f9051801c740"
   },
   "outputs": [
    {
     "data": {
      "text/plain": [
       "['what', 'happen', 'at', 'the', 'end', '?', ' ']"
      ]
     },
     "execution_count": 59,
     "metadata": {},
     "output_type": "execute_result"
    }
   ],
   "source": [
    "# lemmas\n",
    "[x.lemma_ for x in tensents[-1]]"
   ]
  },
  {
   "cell_type": "code",
   "execution_count": 60,
   "metadata": {
    "colab": {
     "base_uri": "https://localhost:8080/"
    },
    "id": "lRcYuIjQX3G-",
    "outputId": "e876b3b4-fe54-4885-a73c-f8d0b634d0b4"
   },
   "outputs": [
    {
     "data": {
      "text/plain": [
       "['WP', 'VBD', 'IN', 'DT', 'NN', '.', '_SP']"
      ]
     },
     "execution_count": 60,
     "metadata": {},
     "output_type": "execute_result"
    }
   ],
   "source": [
    "# POS tags\n",
    "[x.tag_ for x in tensents[-1]]"
   ]
  },
  {
   "cell_type": "markdown",
   "metadata": {
    "id": "Hndw7IGsX3HD"
   },
   "source": [
    "## Document Distance"
   ]
  },
  {
   "cell_type": "code",
   "execution_count": 61,
   "metadata": {
    "colab": {
     "base_uri": "https://localhost:8080/"
    },
    "id": "Fs8VIQ8tX3HD",
    "outputId": "ad9e1bb7-d118-4ed6-9478-3c56c517e103"
   },
   "outputs": [
    {
     "data": {
      "text/plain": [
       "(100, 100)"
      ]
     },
     "execution_count": 61,
     "metadata": {},
     "output_type": "execute_result"
    }
   ],
   "source": [
    "# compute pair-wise similarities between all documents in corpus\"\n",
    "from sklearn.metrics.pairwise import cosine_similarity\n",
    "\n",
    "sim = cosine_similarity(X[:100])\n",
    "sim.shape"
   ]
  },
  {
   "cell_type": "code",
   "execution_count": 62,
   "metadata": {
    "colab": {
     "base_uri": "https://localhost:8080/"
    },
    "id": "a4KaLbzSX3HD",
    "outputId": "5471f925-1a7c-452f-cf79-375b85e63e2b"
   },
   "outputs": [
    {
     "data": {
      "text/plain": [
       "array([[1.        , 0.20384233, 0.15095711, 0.19219753],\n",
       "       [0.20384233, 1.        , 0.12569587, 0.1608558 ],\n",
       "       [0.15095711, 0.12569587, 1.        , 0.16531366],\n",
       "       [0.19219753, 0.1608558 , 0.16531366, 1.        ]])"
      ]
     },
     "execution_count": 62,
     "metadata": {},
     "output_type": "execute_result"
    }
   ],
   "source": [
    "sim[:4,:4]"
   ]
  },
  {
   "cell_type": "code",
   "execution_count": 63,
   "metadata": {
    "colab": {
     "base_uri": "https://localhost:8080/"
    },
    "id": "CrwxNgJwX3HD",
    "outputId": "7f7fdfb7-290b-40d3-ded8-2392518f5d2a"
   },
   "outputs": [
    {
     "data": {
      "text/plain": [
       "array([[1.        , 0.05129256, 0.08901433, 0.06064389],\n",
       "       [0.05129256, 1.        , 0.07497709, 0.03570566],\n",
       "       [0.08901433, 0.07497709, 1.        , 0.09077347],\n",
       "       [0.06064389, 0.03570566, 0.09077347, 1.        ]])"
      ]
     },
     "execution_count": 63,
     "metadata": {},
     "output_type": "execute_result"
    }
   ],
   "source": [
    "# TF-IDF Similarity\n",
    "tsim = cosine_similarity(X_tfidf[:100])\n",
    "tsim[:4,:4]"
   ]
  }
 ],
 "metadata": {
  "colab": {
   "collapsed_sections": [
    "tn84f539X3Gs",
    "aC57u4m7X7Jx",
    "iNobNRswX3Gz",
    "NcfbpBWwX3G0",
    "EW6EGI2I2W8b",
    "vXJZ-A9WX3G0",
    "4J6rDqrvX3G2",
    "Vb2WTDpwX3G9",
    "Hndw7IGsX3HD"
   ],
   "provenance": [],
   "toc_visible": true
  },
  "kernelspec": {
   "display_name": "Python 3 (ipykernel)",
   "language": "python",
   "name": "python3"
  },
  "language_info": {
   "codemirror_mode": {
    "name": "ipython",
    "version": 3
   },
   "file_extension": ".py",
   "mimetype": "text/x-python",
   "name": "python",
   "nbconvert_exporter": "python",
   "pygments_lexer": "ipython3",
   "version": "3.9.10"
  },
  "toc": {
   "base_numbering": 1,
   "nav_menu": {},
   "number_sections": true,
   "sideBar": true,
   "skip_h1_title": false,
   "title_cell": "Table of Contents",
   "title_sidebar": "Contents",
   "toc_cell": false,
   "toc_position": {
    "height": "calc(100% - 180px)",
    "left": "10px",
    "top": "150px",
    "width": "165px"
   },
   "toc_section_display": true,
   "toc_window_display": false
  },
  "varInspector": {
   "cols": {
    "lenName": 16,
    "lenType": 16,
    "lenVar": 40
   },
   "kernels_config": {
    "python": {
     "delete_cmd_postfix": "",
     "delete_cmd_prefix": "del ",
     "library": "var_list.py",
     "varRefreshCmd": "print(var_dic_list())"
    },
    "r": {
     "delete_cmd_postfix": ") ",
     "delete_cmd_prefix": "rm(",
     "library": "var_list.r",
     "varRefreshCmd": "cat(var_dic_list()) "
    }
   },
   "types_to_exclude": [
    "module",
    "function",
    "builtin_function_or_method",
    "instance",
    "_Feature"
   ],
   "window_display": false
  }
 },
 "nbformat": 4,
 "nbformat_minor": 0
}
