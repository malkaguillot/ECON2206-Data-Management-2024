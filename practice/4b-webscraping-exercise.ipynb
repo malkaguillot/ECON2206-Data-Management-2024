{
 "cells": [
  {
   "cell_type": "markdown",
   "id": "e22707d4",
   "metadata": {},
   "source": [
    "## Webscraping - practice"
   ]
  },
  {
   "cell_type": "code",
   "execution_count": null,
   "id": "76d04d1b",
   "metadata": {},
   "outputs": [],
   "source": [
    "from IPython.display import display\n",
    "import json\n",
    "import pandas as pd\n",
    "pd.options.display.max_columns = None # Display all columns of a dataframe\n",
    "pd.options.display.max_rows = 700\n",
    "from pprint import pprint\n",
    "import re\n",
    "import requests\n",
    "from bs4 import BeautifulSoup"
   ]
  },
  {
   "cell_type": "markdown",
   "id": "583f9013",
   "metadata": {},
   "source": [
    "### Static elements "
   ]
  },
  {
   "cell_type": "code",
   "execution_count": null,
   "id": "0bc7c681",
   "metadata": {},
   "outputs": [],
   "source": [
    "url = \"https://fr.wikipedia.org/wiki/Liste_des_communes_de_la_R%C3%A9gion_wallonne\"\n",
    "response = requests.get(url)\n",
    "html = response.text\n",
    "soup = BeautifulSoup(html, 'html.parser')"
   ]
  },
  {
   "cell_type": "code",
   "execution_count": null,
   "id": "22ab5d5b",
   "metadata": {},
   "outputs": [],
   "source": [
    "print(soup.prettify()[:1000])"
   ]
  },
  {
   "cell_type": "markdown",
   "id": "c6f18368",
   "metadata": {},
   "source": [
    "#### Task 1\n",
    "\n",
    "Get the name of all municipalities of Wallonia"
   ]
  },
  {
   "cell_type": "markdown",
   "id": "808a626f",
   "metadata": {},
   "source": [
    "#### Task 2\n",
    "\n",
    "Get the population of each municipality"
   ]
  },
  {
   "cell_type": "markdown",
   "id": "e05a2e55",
   "metadata": {},
   "source": [
    "#### Task 3\n",
    "\n",
    "Send the data in a appropriate dataframe"
   ]
  },
  {
   "cell_type": "markdown",
   "id": "9ca3f40c",
   "metadata": {},
   "source": [
    "### Dynamic elements\n",
    "\n",
    "Let's scrape data from https://fr.be.getaround.com/ !"
   ]
  },
  {
   "cell_type": "markdown",
   "id": "c6fb992f",
   "metadata": {},
   "source": [
    "#### Task 1\n",
    "\n",
    "Search any location you want and get the price of the first car. "
   ]
  },
  {
   "cell_type": "markdown",
   "id": "1bb35463",
   "metadata": {},
   "source": [
    "#### Task 2\n",
    "\n",
    "Loop through the car list of a location and get the price of all cars. "
   ]
  }
 ],
 "metadata": {
  "kernelspec": {
   "display_name": "Python 3 (ipykernel)",
   "language": "python",
   "name": "python3"
  },
  "language_info": {
   "codemirror_mode": {
    "name": "ipython",
    "version": 3
   },
   "file_extension": ".py",
   "mimetype": "text/x-python",
   "name": "python",
   "nbconvert_exporter": "python",
   "pygments_lexer": "ipython3",
   "version": "3.9.10"
  },
  "toc": {
   "base_numbering": 1,
   "nav_menu": {},
   "number_sections": false,
   "sideBar": true,
   "skip_h1_title": false,
   "title_cell": "Table of Contents",
   "title_sidebar": "Contents",
   "toc_cell": false,
   "toc_position": {},
   "toc_section_display": true,
   "toc_window_display": false
  }
 },
 "nbformat": 4,
 "nbformat_minor": 5
}
