{
 "cells": [
  {
   "cell_type": "markdown",
   "id": "3c97a6ad",
   "metadata": {},
   "source": [
    "# Simulated browser approach with Selenium"
   ]
  },
  {
   "attachments": {},
   "cell_type": "markdown",
   "id": "00e08a51",
   "metadata": {},
   "source": [
    "[![Binder](https://mybinder.org/badge_logo.svg)](https://mybinder.org/v2/gh/malkaguillot/ECON2206-Data-Management-2023/main?labpath=practice%2Fselenium%2Fsimulated-browser.ipynb)"
   ]
  },
  {
   "cell_type": "markdown",
   "id": "ae12dae9",
   "metadata": {},
   "source": [
    "### Roadmap \n",
    "\n",
    "1. Install selenium (anaconda environment) python package\n",
    "\n",
    "2. Check for chrome version by going to `chrome://settings/help`\n",
    "\n",
    "3. Download the releavant chrome driver from https://sites.google.com/chromium.org/driver/downloads?authuser=0\n",
    "    - and store in the same folder as this notebook\n",
    "    \n",
    "[Reference](https://selenium-python.readthedocs.io/installation.html#introduction)"
   ]
  },
  {
   "cell_type": "code",
   "execution_count": 4,
   "id": "99a03931",
   "metadata": {},
   "outputs": [],
   "source": [
    "import time\n",
    "import os\n",
    "from selenium import webdriver"
   ]
  },
  {
   "cell_type": "code",
   "execution_count": 8,
   "id": "595007c9",
   "metadata": {},
   "outputs": [],
   "source": [
    "path = os.getcwd()"
   ]
  },
  {
   "cell_type": "markdown",
   "id": "219e2460",
   "metadata": {},
   "source": [
    "### Testing that the installation works"
   ]
  },
  {
   "cell_type": "code",
   "execution_count": 9,
   "id": "c6be831b",
   "metadata": {},
   "outputs": [
    {
     "name": "stderr",
     "output_type": "stream",
     "text": [
      "/var/folders/cg/tgk7cwd906x_71j8jdd3gzc00000gn/T/ipykernel_64463/500077726.py:8: DeprecationWarning: executable_path has been deprecated, please pass in a Service object\n",
      "  driver = webdriver.Chrome(executable_path=os.path.join(path, 'chromedriver'))\n"
     ]
    }
   ],
   "source": [
    "#Add following options before initializing the webdriver\n",
    "\n",
    "chromeOptions = webdriver.ChromeOptions()\n",
    "# chromeOptions.add_argument(\"--headless\")\n",
    "# chromeOptions.add_argument(\"--remote-debugging-port=9222\")\n",
    "#chromeOptions.add_argument('--no-sandbox')\n",
    "\n",
    "driver = webdriver.Chrome(executable_path=os.path.join(path, 'chromedriver'))\n",
    "driver.get('http://www.google.com/'); # Go to the webpage\n",
    "time.sleep(5) # Let the user actually see something!\n",
    "driver.quit()"
   ]
  },
  {
   "cell_type": "markdown",
   "id": "107d1ab7",
   "metadata": {},
   "source": [
    "## Example with getaround"
   ]
  },
  {
   "cell_type": "code",
   "execution_count": 31,
   "id": "9a560513",
   "metadata": {},
   "outputs": [
    {
     "name": "stderr",
     "output_type": "stream",
     "text": [
      "/var/folders/cg/tgk7cwd906x_71j8jdd3gzc00000gn/T/ipykernel_64463/1093374558.py:3: DeprecationWarning: executable_path has been deprecated, please pass in a Service object\n",
      "  driver = webdriver.Chrome(executable_path=os.path.join(path, 'chromedriver'))\n"
     ]
    },
    {
     "name": "stdout",
     "output_type": "stream",
     "text": [
      "Starting browser and navigating to Nexis\n"
     ]
    },
    {
     "name": "stderr",
     "output_type": "stream",
     "text": [
      "/var/folders/cg/tgk7cwd906x_71j8jdd3gzc00000gn/T/ipykernel_64463/1093374558.py:9: DeprecationWarning: find_element_by_xpath is deprecated. Please use find_element(by=By.XPATH, value=xpath) instead\n",
      "  driver.find_element_by_xpath(\n",
      "/var/folders/cg/tgk7cwd906x_71j8jdd3gzc00000gn/T/ipykernel_64463/1093374558.py:15: DeprecationWarning: find_element_by_xpath is deprecated. Please use find_element(by=By.XPATH, value=xpath) instead\n",
      "  driver.find_element_by_xpath('//*[@id=\"order_address\"]').send_keys('Liège')\n",
      "/var/folders/cg/tgk7cwd906x_71j8jdd3gzc00000gn/T/ipykernel_64463/1093374558.py:18: DeprecationWarning: find_element_by_xpath is deprecated. Please use find_element(by=By.XPATH, value=xpath) instead\n",
      "  driver.find_element_by_xpath('//*[@id=\"order_address\"]').click()\n",
      "/var/folders/cg/tgk7cwd906x_71j8jdd3gzc00000gn/T/ipykernel_64463/1093374558.py:20: DeprecationWarning: find_element_by_xpath is deprecated. Please use find_element(by=By.XPATH, value=xpath) instead\n",
      "  driver.find_element_by_xpath('/html/body/div[1]/div[1]/div/div/div/form/div/div[1]/div[1]/div[1]/div/div/div[1]/ul/li[2]/span').click()\n",
      "/var/folders/cg/tgk7cwd906x_71j8jdd3gzc00000gn/T/ipykernel_64463/1093374558.py:23: DeprecationWarning: find_element_by_xpath is deprecated. Please use find_element(by=By.XPATH, value=xpath) instead\n",
      "  driver.find_element_by_xpath(r'//*[@id=\"pages_homepage_index\"]/div[1]/div[1]/div/div/div/div[1]').click()\n",
      "/var/folders/cg/tgk7cwd906x_71j8jdd3gzc00000gn/T/ipykernel_64463/1093374558.py:26: DeprecationWarning: find_element_by_xpath is deprecated. Please use find_element(by=By.XPATH, value=xpath) instead\n",
      "  driver.find_element_by_xpath(r'/html/body/div[1]/div[1]/div/div/div/form/div/div[2]/button').click()\n"
     ]
    }
   ],
   "source": [
    "url='https://fr.be.getaround.com/'\n",
    "\n",
    "driver = webdriver.Chrome(executable_path=os.path.join(path, 'chromedriver'))\n",
    "print(\"Starting browser and navigating to Nexis\")\n",
    "driver.get(url)\n",
    "time.sleep(1) # Let the user actually see something!\n",
    "\n",
    "#accept cookies \n",
    "driver.find_element_by_xpath(\n",
    "    r'//*[@id=\"pages_homepage_index\"]/div[2]/div[2]/div[3]/button[2]/span[2]').click()\n",
    "time.sleep(1) # Let the user actually see something!\n",
    "\n",
    "\n",
    "# sign in\n",
    "driver.find_element_by_xpath('//*[@id=\"order_address\"]').send_keys('Liège')\n",
    "time.sleep(1) \n",
    "\n",
    "# Click in the same bar\n",
    "driver.find_element_by_xpath('//*[@id=\"order_address\"]').click()\n",
    "time.sleep(1) \n",
    "\n",
    "# Select the 1st element (gare des Guillemins)\n",
    "driver.find_element_by_xpath('/html/body/div[1]/div[1]/div/div/div/form/div/div[1]/div[1]/div[1]/div/div/div[1]/ul/li[2]/span').click()\n",
    "time.sleep(1) \n",
    "\n",
    "# click somewhere not important to remove the choice for the dates\n",
    "driver.find_element_by_xpath(r'//*[@id=\"pages_homepage_index\"]/div[1]/div[1]/div/div/div/div[1]').click()\n",
    "\n",
    "# click on \"rechercher\"\n",
    "driver.find_element_by_xpath(r'/html/body/div[1]/div[1]/div/div/div/form/div/div[2]/button').click()\n",
    "\n",
    "time.sleep(5) \n",
    "driver.quit()"
   ]
  }
 ],
 "metadata": {
  "kernelspec": {
   "display_name": "Python 3",
   "language": "python",
   "name": "python3"
  },
  "language_info": {
   "codemirror_mode": {
    "name": "ipython",
    "version": 3
   },
   "file_extension": ".py",
   "mimetype": "text/x-python",
   "name": "python",
   "nbconvert_exporter": "python",
   "pygments_lexer": "ipython3",
   "version": "3.8.9 (default, May 17 2022, 12:55:41) \n[Clang 13.1.6 (clang-1316.0.21.2.5)]"
  },
  "toc": {
   "base_numbering": 1,
   "nav_menu": {},
   "number_sections": false,
   "sideBar": true,
   "skip_h1_title": false,
   "title_cell": "Table of Contents",
   "title_sidebar": "Contents",
   "toc_cell": false,
   "toc_position": {},
   "toc_section_display": true,
   "toc_window_display": false
  },
  "vscode": {
   "interpreter": {
    "hash": "31f2aee4e71d21fbe5cf8b01ff0e069b9275f58929596ceb00d14d90e3e16cd6"
   }
  }
 },
 "nbformat": 4,
 "nbformat_minor": 5
}
