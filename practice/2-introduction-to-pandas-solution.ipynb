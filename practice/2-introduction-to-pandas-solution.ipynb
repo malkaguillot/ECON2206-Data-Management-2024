{
 "cells": [
  {
   "cell_type": "markdown",
   "id": "1e35c524",
   "metadata": {},
   "source": [
    "## Introduction to pandas - Solutions"
   ]
  },
  {
   "cell_type": "code",
   "execution_count": null,
   "id": "934383e9",
   "metadata": {},
   "outputs": [],
   "source": [
    "import pandas as pd\n",
    "\n",
    "wine_reviews = pd.read_csv(\"winemag-data-130k-v2.csv\", index_col=0)"
   ]
  },
  {
   "cell_type": "markdown",
   "id": "2802e495",
   "metadata": {},
   "source": [
    "#### Exercise 1\n",
    "\n",
    "In the cell below, create a DataFrame `fruits` that looks like this:\n",
    "\n",
    "![](https://i.imgur.com/Ax3pp2A.png)"
   ]
  },
  {
   "cell_type": "code",
   "execution_count": null,
   "id": "8ab86742",
   "metadata": {},
   "outputs": [],
   "source": [
    "fruits = pd.DataFrame([[30, 21]], columns=['Apples', 'Bananas'])\n",
    "fruits"
   ]
  },
  {
   "cell_type": "markdown",
   "id": "c8d6e5c5",
   "metadata": {},
   "source": [
    "#### Exercise 2\n",
    "\n",
    "Create a dataframe `fruit_sales` that matches the diagram below:\n",
    "\n",
    "![](https://i.imgur.com/CHPn7ZF.png)"
   ]
  },
  {
   "cell_type": "code",
   "execution_count": null,
   "id": "65ae4f83",
   "metadata": {},
   "outputs": [],
   "source": [
    "fruit_sales = pd.DataFrame({'Apples': [35,41],'Bananas':[21,34]}, index=['2017 Sales','2018 Sales'])\n",
    "fruit_sales"
   ]
  },
  {
   "cell_type": "markdown",
   "id": "7069a327",
   "metadata": {},
   "source": [
    "#### Exercise 3\n",
    "\n",
    "Create a variable `ingredients` with a Series that looks like:\n",
    "\n",
    "```\n",
    "Flour     4 cups\n",
    "Milk       1 cup\n",
    "Eggs     2 large\n",
    "Spam       1 can\n",
    "Name: Dinner, dtype: object\n",
    "```"
   ]
  },
  {
   "cell_type": "code",
   "execution_count": null,
   "id": "44c12ce6",
   "metadata": {},
   "outputs": [],
   "source": [
    "quantities = ['4 cups', '1 cup', '2 large', '1 can']\n",
    "items = ['Flour', 'Milk', 'Eggs', 'Spam']\n",
    "ingredients = pd.Series(quantities, index=items, name='Dinner')\n",
    "\n",
    "ingredients"
   ]
  },
  {
   "cell_type": "markdown",
   "id": "f84565d8",
   "metadata": {},
   "source": [
    "#### Exercice 4\n",
    "\n",
    "Select the `description` column from `reviews` and assign the result to the variable `desc`.\n",
    "\n",
    "What type of object is `desc` ?"
   ]
  },
  {
   "cell_type": "code",
   "execution_count": null,
   "id": "08c9ef62",
   "metadata": {},
   "outputs": [],
   "source": [
    "desc = wine_reviews.description\n",
    "type(desc)"
   ]
  },
  {
   "cell_type": "markdown",
   "id": "d02f64a7",
   "metadata": {},
   "source": [
    "#### Exercise 5\n",
    "\n",
    "Select the first value from the description column of `reviews`, assigning it to variable `first_description`."
   ]
  },
  {
   "cell_type": "code",
   "execution_count": null,
   "id": "0d6c5d59",
   "metadata": {},
   "outputs": [],
   "source": [
    "first_description = wine_reviews.description[0]\n",
    "first_description"
   ]
  },
  {
   "cell_type": "markdown",
   "id": "7ecf520f",
   "metadata": {},
   "source": [
    "#### Exercise 6 \n",
    "\n",
    "Select the first row of data (the first record) from `reviews`, assigning it to the variable `first_row`."
   ]
  },
  {
   "cell_type": "code",
   "execution_count": null,
   "id": "9135cf63",
   "metadata": {},
   "outputs": [],
   "source": [
    "first_row = wine_reviews.iloc[0,:]\n",
    "first_row"
   ]
  },
  {
   "cell_type": "markdown",
   "id": "4b61ca94",
   "metadata": {},
   "source": [
    "#### Exercise 7\n",
    "\n",
    "Select the first 10 values from the `description` column in `reviews`, assigning the result to variable `first_descriptions`.\n",
    "\n",
    "Hint: format your output as a pandas Series."
   ]
  },
  {
   "cell_type": "code",
   "execution_count": null,
   "id": "3b317f6c",
   "metadata": {},
   "outputs": [],
   "source": [
    "first_descriptions = wine_reviews.loc[:9,'description']\n",
    "first_descriptions"
   ]
  },
  {
   "cell_type": "markdown",
   "id": "998019e2",
   "metadata": {},
   "source": [
    "#### Exercise 8\n",
    "\n",
    "Select the records with index labels `1`, `2`, `3`, `5`, and `8`, assigning the result to the variable `sample_reviews`.\n",
    "\n",
    "In other words, generate the following DataFrame:\n",
    "\n",
    "![](https://i.imgur.com/sHZvI1O.png)"
   ]
  },
  {
   "cell_type": "code",
   "execution_count": null,
   "id": "515b0c73",
   "metadata": {},
   "outputs": [],
   "source": [
    "indices = [1, 2, 3, 5, 8]\n",
    "sample_reviews = wine_reviews.loc[indices]\n",
    "\n",
    "sample_reviews"
   ]
  },
  {
   "cell_type": "markdown",
   "id": "7b3a5a92",
   "metadata": {},
   "source": [
    "#### Exercise 9\n",
    "\n",
    "Create a variable `df` containing the `country`, `province`, `region_1`, and `region_2` columns of the records with the index labels `0`, `1`, `10`, and `100`. In other words, generate the following DataFrame:\n",
    "\n",
    "![](https://i.imgur.com/FUCGiKP.png)"
   ]
  },
  {
   "cell_type": "code",
   "execution_count": null,
   "id": "a19485a6",
   "metadata": {},
   "outputs": [],
   "source": [
    "cols = ['country', 'province', 'region_1', 'region_2']\n",
    "indices = [0, 1, 10, 100]\n",
    "df = wine_reviews.loc[indices, cols]\n",
    "\n",
    "df"
   ]
  },
  {
   "cell_type": "markdown",
   "id": "64ff8151",
   "metadata": {},
   "source": [
    "#### Exercise 10\n",
    "\n",
    "Create a variable `df` containing the `country` and `variety` columns of the first 100 records."
   ]
  },
  {
   "cell_type": "code",
   "execution_count": null,
   "id": "dd514ee3",
   "metadata": {},
   "outputs": [],
   "source": [
    "cols = ['country', 'variety']\n",
    "df = wine_reviews.loc[:99, cols]\n",
    "\n",
    "df"
   ]
  },
  {
   "cell_type": "markdown",
   "id": "c25c9c1e",
   "metadata": {},
   "source": [
    "#### Exercise 11\n",
    "\n",
    "Create a DataFrame `italian_wines` containing reviews of wines made in `Italy`."
   ]
  },
  {
   "cell_type": "code",
   "execution_count": null,
   "id": "4e498d5f",
   "metadata": {},
   "outputs": [],
   "source": [
    "italian_wines = wine_reviews[wine_reviews.country == 'Italy']"
   ]
  },
  {
   "cell_type": "markdown",
   "id": "792ce0bb",
   "metadata": {},
   "source": [
    "#### Exercise 12\n",
    "\n",
    "Create a DataFrame `top_oceania_wines` containing all reviews with at least 95 points (out of 100) for wines from Australia or New Zealand."
   ]
  },
  {
   "cell_type": "code",
   "execution_count": null,
   "id": "7121e19c",
   "metadata": {},
   "outputs": [],
   "source": [
    "top_oceania_wines = wine_reviews.loc[\n",
    "    (wine_reviews.country.isin(['Australia', 'New Zealand']))\n",
    "    & (wine_reviews.points >= 95)\n",
    "]\n",
    "\n",
    "top_oceania_wines"
   ]
  },
  {
   "cell_type": "markdown",
   "id": "abd50824",
   "metadata": {},
   "source": [
    "#### Exercise 13\n",
    "\n",
    "What is the median of the `points` column in the `reviews` DataFrame?"
   ]
  },
  {
   "cell_type": "code",
   "execution_count": null,
   "id": "81cee805",
   "metadata": {},
   "outputs": [],
   "source": [
    "median_points = wine_reviews.points.median()"
   ]
  },
  {
   "cell_type": "markdown",
   "id": "3efbf17d",
   "metadata": {},
   "source": [
    "#### Exercise 14\n",
    "\n",
    "What countries are represented in the dataset? (Your answer should not include any duplicates.)"
   ]
  },
  {
   "cell_type": "code",
   "execution_count": null,
   "id": "d82972ad",
   "metadata": {},
   "outputs": [],
   "source": [
    "countries = wine_reviews.country.unique()"
   ]
  },
  {
   "cell_type": "markdown",
   "id": "0f9a9182",
   "metadata": {},
   "source": [
    "#### Exercise 15\n",
    "\n",
    "How often does each country appear in the dataset? Create a Series `reviews_per_country` mapping countries to the count of reviews of wines from that country."
   ]
  },
  {
   "cell_type": "code",
   "execution_count": null,
   "id": "73444110",
   "metadata": {},
   "outputs": [],
   "source": [
    "reviews_per_country = wine_reviews.country.value_counts()"
   ]
  },
  {
   "cell_type": "markdown",
   "id": "ae717ede",
   "metadata": {},
   "source": [
    "#### Exercise 16\n",
    "\n",
    "Create variable `centered_price` containing a version of the `price` column with the mean price subtracted."
   ]
  },
  {
   "cell_type": "code",
   "execution_count": null,
   "id": "53de5706",
   "metadata": {},
   "outputs": [],
   "source": [
    "centered_price = wine_reviews.price - wine_reviews.price.mean()"
   ]
  },
  {
   "cell_type": "markdown",
   "id": "bbb39f53",
   "metadata": {},
   "source": [
    "#### Exercise 17 \n",
    "\n",
    "I'm an economical wine buyer. Which wine is the \"best bargain\"? Create a variable `bargain_wine` with the title of the wine with the highest points-to-price ratio in the dataset."
   ]
  },
  {
   "cell_type": "code",
   "execution_count": null,
   "id": "76d05306",
   "metadata": {},
   "outputs": [],
   "source": [
    "bargain_idx = (wine_reviews.points / wine_reviews.price).idxmax()\n",
    "bargain_wine = wine_reviews.loc[bargain_idx, 'title']"
   ]
  },
  {
   "cell_type": "markdown",
   "id": "b040df8e",
   "metadata": {},
   "source": [
    "#### Exercise 18\n",
    "\n",
    "There are only so many words you can use when describing a bottle of wine. Is a wine more likely to be \"tropical\" or \"fruity\"? Create a Series `descriptor_counts` counting how many times each of these two words appears in the `description` column in the dataset."
   ]
  },
  {
   "cell_type": "code",
   "execution_count": null,
   "id": "b606a7d4",
   "metadata": {},
   "outputs": [],
   "source": [
    "n_trop = wine_reviews.description.map(lambda desc: \"tropical\" in desc).sum()\n",
    "n_fruity = wine_reviews.description.map(lambda desc: \"fruity\" in desc).sum()\n",
    "descriptor_counts = pd.Series([n_trop, n_fruity], index=['tropical', 'fruity'])"
   ]
  },
  {
   "cell_type": "markdown",
   "id": "78229c96",
   "metadata": {},
   "source": [
    "#### Exercise 19\n",
    "\n",
    "We'd like to host these wine reviews on our website, but a rating system ranging from 80 to 100 points is too hard to understand - we'd like to translate them into simple star ratings. A score of 95 or higher counts as 3 stars, a score of at least 85 but less than 95 is 2 stars. Any other score is 1 star.\n",
    "\n",
    "Also, the Canadian Vintners Association bought a lot of ads on the site, so any wines from Canada should automatically get 3 stars, regardless of points.\n",
    "\n",
    "Create a series `star_ratings` with the number of stars corresponding to each review in the dataset."
   ]
  },
  {
   "cell_type": "code",
   "execution_count": null,
   "id": "30fc9103",
   "metadata": {},
   "outputs": [],
   "source": [
    "def stars(row):\n",
    "    if row.country == 'Canada':\n",
    "        return 3\n",
    "    elif row.points >= 95:\n",
    "        return 3\n",
    "    elif row.points >= 85:\n",
    "        return 2\n",
    "    else:\n",
    "        return 1\n",
    "\n",
    "star_ratings = wine_reviews.apply(stars, axis='columns')"
   ]
  },
  {
   "cell_type": "markdown",
   "id": "0107a8a9",
   "metadata": {},
   "source": [
    "#### Exercise 20\n",
    "\n",
    "Who are the most common wine reviewers in the dataset? Create a `Series` whose index is the `taster_twitter_handle` category from the dataset, and whose values count how many reviews each person wrote."
   ]
  },
  {
   "cell_type": "code",
   "execution_count": null,
   "id": "b6154fd4",
   "metadata": {},
   "outputs": [],
   "source": [
    "reviews_written = wine_reviews.groupby('taster_twitter_handle').size()"
   ]
  },
  {
   "cell_type": "markdown",
   "id": "24534978",
   "metadata": {},
   "source": [
    "#### Exercise 21\n",
    "\n",
    "What is the best wine I can buy for a given amount of money? Create a `Series` whose index is wine prices and whose values is the maximum number of points a wine costing that much was given in a review. Sort the values by price, ascending (so that `4.0` dollars is at the top and `3300.0` dollars is at the bottom)."
   ]
  },
  {
   "cell_type": "code",
   "execution_count": null,
   "id": "38686a99",
   "metadata": {},
   "outputs": [],
   "source": [
    "best_rating_per_price = wine_reviews.groupby('price')['points'].max().sort_index()"
   ]
  },
  {
   "cell_type": "markdown",
   "id": "8eafd447",
   "metadata": {},
   "source": [
    "#### Exercise 22\n",
    "\n",
    "What are the minimum and maximum prices for each `variety` of wine? Create a `DataFrame` whose index is the `variety` category from the dataset and whose values are the `min` and `max` values thereof."
   ]
  },
  {
   "cell_type": "code",
   "execution_count": null,
   "id": "53b45f1e",
   "metadata": {},
   "outputs": [],
   "source": [
    "price_extremes = wine_reviews.groupby('variety').price.agg([min, max])"
   ]
  },
  {
   "cell_type": "markdown",
   "id": "b0ef5cec",
   "metadata": {},
   "source": [
    "#### Exercise 23\n",
    "\n",
    "What are the most expensive wine varieties? Create a variable `sorted_varieties` containing a copy of the dataframe from the previous question where varieties are sorted in descending order based on minimum price, then on maximum price (to break ties)."
   ]
  },
  {
   "cell_type": "code",
   "execution_count": null,
   "id": "c3415522",
   "metadata": {},
   "outputs": [],
   "source": [
    "sorted_varieties = price_extremes.sort_values(by=['min', 'max'], ascending=False)"
   ]
  },
  {
   "cell_type": "markdown",
   "id": "b5f0c043",
   "metadata": {},
   "source": [
    "#### Exercise 24\n",
    "\n",
    "Create a `Series` whose index is reviewers and whose values is the average review score given out by that reviewer. Hint: you will need the `taster_name` and `points` columns."
   ]
  },
  {
   "cell_type": "code",
   "execution_count": null,
   "id": "e0ec0ee8",
   "metadata": {},
   "outputs": [],
   "source": [
    "reviewer_mean_ratings = wine_reviews.groupby('taster_name').points.mean()"
   ]
  },
  {
   "cell_type": "markdown",
   "id": "6fe72bb7",
   "metadata": {},
   "source": [
    "#### Exercise 25\n",
    "\n",
    "What combination of countries and varieties are most common? Create a `Series` whose index is a `MultiIndex`of `{country, variety}` pairs. For example, a pinot noir produced in the US should map to `{\"US\", \"Pinot Noir\"}`. Sort the values in the `Series` in descending order based on wine count."
   ]
  },
  {
   "cell_type": "code",
   "execution_count": null,
   "id": "909433ee",
   "metadata": {},
   "outputs": [],
   "source": [
    "country_variety_counts = wine_reviews.groupby(['country', 'variety']).size().sort_values(ascending=False)"
   ]
  },
  {
   "cell_type": "markdown",
   "id": "397115c9",
   "metadata": {},
   "source": [
    "#### Exercise 26\n",
    "\n",
    "What is the data type of the `points` column in the dataset?"
   ]
  },
  {
   "cell_type": "code",
   "execution_count": null,
   "id": "e501c94f",
   "metadata": {},
   "outputs": [],
   "source": [
    "dtype = wine_reviews.points.dtype\n",
    "dtype"
   ]
  },
  {
   "cell_type": "markdown",
   "id": "2d443054",
   "metadata": {},
   "source": [
    "#### Exercise 27\n",
    "\n",
    "Create a Series from entries in the `points` column, but convert the entries to strings. Hint: strings are `str` in native Python."
   ]
  },
  {
   "cell_type": "code",
   "execution_count": null,
   "id": "ef9679b8",
   "metadata": {},
   "outputs": [],
   "source": [
    "point_strings = wine_reviews.points.astype(str)"
   ]
  },
  {
   "cell_type": "markdown",
   "id": "c0bd961e",
   "metadata": {},
   "source": [
    "#### Exercise 28\n",
    "\n",
    "Sometimes the price column is null. How many reviews in the dataset are missing a price?"
   ]
  },
  {
   "cell_type": "code",
   "execution_count": null,
   "id": "cad953c9",
   "metadata": {},
   "outputs": [],
   "source": [
    "missing_price_reviews = wine_reviews[wine_reviews.price.isnull()]\n",
    "n_missing_prices = len(missing_price_reviews)\n",
    "\n",
    "n_missing_prices"
   ]
  },
  {
   "cell_type": "markdown",
   "id": "3d9551d8",
   "metadata": {},
   "source": [
    "#### Exercise 29\n",
    "\n",
    "What are the most common wine-producing regions? Create a Series counting the number of times each value occurs in the `region_1` field. This field is often missing data, so replace missing values with `Unknown`. Sort in descending order.  Your output should look something like this:\n",
    "\n",
    "```\n",
    "Unknown                    21247\n",
    "Napa Valley                 4480\n",
    "                           ...  \n",
    "Bardolino Superiore            1\n",
    "Primitivo del Tarantino        1\n",
    "Name: region_1, Length: 1230, dtype: int64\n",
    "```"
   ]
  },
  {
   "cell_type": "code",
   "execution_count": null,
   "id": "b70f22c5",
   "metadata": {},
   "outputs": [],
   "source": [
    "reviews_per_region = wine_reviews.region_1.fillna('Unknown').value_counts().sort_values(ascending=False)"
   ]
  },
  {
   "cell_type": "markdown",
   "id": "003d838c",
   "metadata": {},
   "source": [
    "#### Exercise 30"
   ]
  },
  {
   "cell_type": "code",
   "execution_count": null,
   "id": "71dca66b",
   "metadata": {},
   "outputs": [],
   "source": [
    "wine_reviews.head()"
   ]
  },
  {
   "cell_type": "markdown",
   "id": "f42160d8",
   "metadata": {},
   "source": [
    "`region_1` and `region_2` are pretty uninformative names for locale columns in the dataset. Create a copy of `reviews` with these columns renamed to `region` and `locale`, respectively."
   ]
  },
  {
   "cell_type": "code",
   "execution_count": null,
   "id": "fe085ae3",
   "metadata": {},
   "outputs": [],
   "source": [
    "renamed = wine_reviews.rename(columns=dict(region_1='region', region_2='locale'))"
   ]
  },
  {
   "cell_type": "markdown",
   "id": "e3e97176",
   "metadata": {},
   "source": [
    "#### Exercise 31\n",
    "\n",
    "Set the index name in the dataset to `wines`."
   ]
  },
  {
   "cell_type": "code",
   "execution_count": null,
   "id": "eebfbb46",
   "metadata": {},
   "outputs": [],
   "source": [
    "reindexed =  wine_reviews.rename_axis('wines', axis='rows')"
   ]
  }
 ],
 "metadata": {
  "kernelspec": {
   "display_name": "Python 3 (ipykernel)",
   "language": "python",
   "name": "python3"
  },
  "language_info": {
   "codemirror_mode": {
    "name": "ipython",
    "version": 3
   },
   "file_extension": ".py",
   "mimetype": "text/x-python",
   "name": "python",
   "nbconvert_exporter": "python",
   "pygments_lexer": "ipython3",
   "version": "3.9.10"
  },
  "toc": {
   "base_numbering": 1,
   "nav_menu": {},
   "number_sections": false,
   "sideBar": true,
   "skip_h1_title": false,
   "title_cell": "Table of Contents",
   "title_sidebar": "Contents",
   "toc_cell": false,
   "toc_position": {},
   "toc_section_display": true,
   "toc_window_display": false
  }
 },
 "nbformat": 4,
 "nbformat_minor": 5
}
