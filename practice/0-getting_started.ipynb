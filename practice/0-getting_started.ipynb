{
 "cells": [
  {
   "cell_type": "markdown",
   "id": "b53567b6",
   "metadata": {},
   "source": [
    "\n",
    "# Data management\n",
    "\n",
    "## Getting started\n",
    "\n",
    "## [Malka Guillot](https://malkaguillot.github.io/)\n",
    "\n",
    "## HEC Liège | [ECON2306]()\n",
    "\n",
    "[![Binder](https://mybinder.org/badge_logo.svg)](https://mybinder.org/v2/gh/malkaguillot/ECON2206-Data-Management-2023/HEAD?labpath=%2Fpractice%2F0-getting_started.ipynb)\n",
    "\n",
    "\n",
    "- Setting up the environment  \n",
    "- Basic terminology  \n",
    "- Using Jupyter notebook  \n",
    "- Using VScode \n",
    "- Running script from VScode"
   ]
  },
  {
   "cell_type": "markdown",
   "id": "bdbff2fc",
   "metadata": {},
   "source": [
    "### [Anaconda navigator](https://docs.anaconda.com/navigator/)\n",
    "\n",
    "<center>\n",
    "<div class=\"r-stack\"><img src=\"https://docs.anaconda.com/_images/nav-learn1.png\" style=\"height: 400px;\" > </div>\n",
    "</center>\n",
    "\n",
    "\n",
    "Anaconda Navigator is a desktop graphical user interface (GUI) included in Anaconda® Distribution that allows you to launch applications and manage conda packages, environments, and channels without using command line interface (CLI) commands. Navigator can search for packages on Anaconda.org or in a local Anaconda Repository. It is available for Windows, macOS, and Linux.\n",
    "\n",
    "Includes: \n",
    "- Jupyter notebook\n",
    "- VS Code"
   ]
  },
  {
   "cell_type": "markdown",
   "id": "70a0337e",
   "metadata": {},
   "source": [
    "### Jupyter notebooks\n",
    "This file - a Jupyter notebook -  does not follow the standard pattern with Python code in a text file. Instead, a Jupyter notebook is stored as a file in the [JSON](http://en.wikipedia.org/wiki/JSON) format. The advantage is that we can mix formatted text, Python code and code output. It requires the Jupyter notebook server to run it though, and therefore isn't a stand-alone Python program as described above. Other than that, there is no difference between the Python code that goes into a program file or a Jupyter notebook.\n",
    "We will return to JSON files later, when we will work with dictionaries, and advanced data structures."
   ]
  },
  {
   "cell_type": "markdown",
   "id": "a2b8f8a3",
   "metadata": {},
   "source": [
    "There are two fairly prominent terms that you should notice, which are probably new to you: *cells* and *kernels* are key both to understanding Jupyter and to what makes it more than just a word processor. Fortunately, these concepts are not difficult to understand.\n",
    "\n",
    "- A kernel is a “computational engine” that executes the code contained in a notebook document.\n",
    "- A cell is a container for text to be displayed in the notebook or code to be executed by the notebook’s kernel."
   ]
  },
  {
   "cell_type": "markdown",
   "id": "7008f1be",
   "metadata": {},
   "source": [
    "#### Cells\n",
    "\n",
    "- A **code cell** contains code to be executed in the kernel. When the code is run, the notebook displays the output below the code cell that generated it.\n",
    "- A **Markdown cell** contains text formatted using Markdown and displays its output in-place when the Markdown cell is run.\n",
    "\n",
    "The first cell in a new notebook is always a code cell.\n",
    "\n",
    "Let’s test it out with a classic hello world example: Type `print(\"Hello World!\")` into the cell and click the run button Notebook Run Button in the toolbar above or press Ctrl + Enter.\n",
    "\n",
    "The result should look like this:"
   ]
  },
  {
   "cell_type": "code",
   "execution_count": 1,
   "id": "ceb0aa58",
   "metadata": {},
   "outputs": [
    {
     "name": "stdout",
     "output_type": "stream",
     "text": [
      "Hello World!\n"
     ]
    }
   ],
   "source": [
    "print(\"Hello World!\")"
   ]
  },
  {
   "cell_type": "markdown",
   "id": "29c4be98",
   "metadata": {},
   "source": [
    "#### Useful shortcuts\n",
    "\n",
    "- <kbd>⇧ Shift</kbd> + <kbd>⏎ Enter</kbd>: run cell\n",
    "- <kbd>⇧ Shift</kbd> + <kbd>⇥ Tab</kbd>: display the docstring\n",
    "- <kbd>⌃ Control</kbd> + <kbd>I</kbd>: display contextual help\n",
    "- See `Edit` menu for other convenient shortcuts"
   ]
  },
  {
   "cell_type": "markdown",
   "id": "bce2a334",
   "metadata": {},
   "source": [
    "\n",
    "### VS Code: An IDE For Python Scripts\n",
    "\n",
    "While the course is using Jupyter nootebooks, Python codes in production environments are run from script files ending with a `.py` extension. Jupyter offers a simple text editor to write script files but most developers use some special software application, a so-called 'integrated development environment', or IDE, to write these scripts. \n",
    "\n",
    "From the many possible alternative IDEs we recommend Visual Studio Code, or VS Code, a free Microsoft tool for these developments. It is a light-weight code editor with miriad of possible extensions which enable VS Code to support basicly *any* kind of programming languages. Beyond particular language supports VS Code also has solutions for things like version control, container management or cloud access. VS Code works equally well on Windows, MAC or Linux. \n",
    "\n",
    "VS Code can be accessed from the Anaconda Navigator.\n"
   ]
  },
  {
   "cell_type": "markdown",
   "id": "fb0ab092",
   "metadata": {},
   "source": [
    "### Appendix: A Primer On Virtual Environments\n",
    "\n",
    "A virtual environment is an isolated workspace for a particular project. In effect it is a directory structure which contains Python executable files and other files which tell Python the packages and their version numbers to use in that project. We set up this environment to make sure that all readers get exactly the same results when running the code snippets on the book's exercises. \n",
    "\n",
    "If you want ot take a deep dive into Python's virtual environment read [this](https://realpython.com/python-virtual-environments-a-primer/) detailed discussion of the topic. Beyond the documentation we refer above you can also get some more technical information about `pipenv` [here](https://pipenv-searchable.readthedocs.io/). \n",
    "\n",
    "Nevertheless, you don't need to be an expert on virtualenvs in order to be able to follow the course material. "
   ]
  },
  {
   "cell_type": "code",
   "execution_count": null,
   "id": "b00764e3",
   "metadata": {},
   "outputs": [],
   "source": []
  },
  {
   "cell_type": "markdown",
   "id": "98d0b078",
   "metadata": {},
   "source": []
  }
 ],
 "metadata": {
  "kernelspec": {
   "display_name": "Python 3 (ipykernel)",
   "language": "python",
   "name": "python3"
  },
  "language_info": {
   "codemirror_mode": {
    "name": "ipython",
    "version": 3
   },
   "file_extension": ".py",
   "mimetype": "text/x-python",
   "name": "python",
   "nbconvert_exporter": "python",
   "pygments_lexer": "ipython3",
   "version": "3.10.9"
  },
  "toc": {
   "base_numbering": 1,
   "nav_menu": {},
   "number_sections": false,
   "sideBar": true,
   "skip_h1_title": false,
   "title_cell": "Table of Contents",
   "title_sidebar": "Contents",
   "toc_cell": false,
   "toc_position": {},
   "toc_section_display": true,
   "toc_window_display": false
  },
  "vscode": {
   "interpreter": {
    "hash": "b0fa6594d8f4cbf19f97940f81e996739fb7646882a419484c72d19e05852a7e"
   }
  }
 },
 "nbformat": 4,
 "nbformat_minor": 5
}
