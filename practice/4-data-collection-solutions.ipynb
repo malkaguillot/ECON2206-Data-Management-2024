{
 "cells": [
  {
   "cell_type": "markdown",
   "metadata": {
    "editable": true,
    "slideshow": {
     "slide_type": "slide"
    },
    "tags": []
   },
   "source": [
    "# Data management\n",
    "\n",
    "### Scraping the Internet to Collect Data\n",
    "\n",
    "## [Malka Guillot](https://malkaguillot.github.io/)\n",
    "\n",
    "### HEC Liège | [ECON2306]()"
   ]
  },
  {
   "cell_type": "markdown",
   "metadata": {
    "editable": true,
    "slideshow": {
     "slide_type": "subslide"
    },
    "tags": []
   },
   "source": [
    "## Outline\n",
    "1. Introduction\n",
    "2. HTML: scraping and parsing\n",
    "    - Gathering (unstructured) web data and transforming it into structured data (“web scraping”).\n",
    "3. Web APIs\n",
    "    - Accessing data on the web: APIs."
   ]
  },
  {
   "cell_type": "markdown",
   "metadata": {
    "slideshow": {
     "slide_type": "slide"
    }
   },
   "source": [
    "## Introduction"
   ]
  },
  {
   "cell_type": "markdown",
   "metadata": {
    "slideshow": {
     "slide_type": "subslide"
    }
   },
   "source": [
    "### Motivation\n",
    "\n",
    "**Publication of crawling papers by year**\n",
    "\n",
    "<center> \n",
    "    \n",
    "<div class=\"r-stack\"><img src=\"images/publication_crawling_papers_by_year.png\" style=\"height: 400px;\" > </div>\n",
    "</center>\n",
    "\n",
    "*Source*: Claussen, Jörg and Peukert, Christian, **[Obtaining Data from the Internet: A Guide to Data Crawling in Management Research](https://ssrn.com/abstract=3403799)** (June 2019). \n"
   ]
  },
  {
   "cell_type": "markdown",
   "metadata": {
    "slideshow": {
     "slide_type": "subslide"
    }
   },
   "source": [
    "#### Examples in Economics\n",
    "1. Davis and Dingell (2016): [\"How Segregated Is Urban Consumption\"](http://www.jdingel.com/research/DavisDingelMonrasMorales.pdf) \n",
    "   - use Yelp to look racial segregation in consumption (do different races consume different things?)\n",
    "2. Cavallo and Rigobon (2015): [\"The Billion Prices Project: Using Online Prices for Measurement and Research.\"](https://pubs.aeaweb.org/doi/pdfplus/10.1257/jep.30.2.151)\n",
    "   - collects prices from online retailers to look at macro price changing issues; also \n",
    "   - see also Cavallo (2015) “Scraped Data and Sticky Prices”\n",
    "3. Halket and Pignatti (2015): \n",
    "   - scrape Craigslist to better understand US rental market\n",
    "4. Many papers on eBay, some on Alibaba\n",
    "5. Edleman, B. [\"Using Internet Data for Economic Research.\"](https://pubs.aeaweb.org/doi/pdfplus/10.1257/jep.26.2.189), (JEP 2012): \n",
    "   - useful discussion of many issues\n",
    "\n",
    "#### Coding resources\n",
    "- [Python's requests & Beautiful Soup libraries](https://blog.hartleybrody.com/web-scraping-cheat-sheet/) (for web scraping & APIs)\n",
    "- Ryan Mitchell, [Web Scraping with Python](https://learning.oreilly.com/library/view/web-scraping-with/9781491985564/), O'Reilly Media, 2018"
   ]
  },
  {
   "cell_type": "markdown",
   "metadata": {
    "editable": true,
    "slideshow": {
     "slide_type": "subslide"
    },
    "tags": []
   },
   "source": [
    "#### Example of data\n",
    "\n",
    "- **Online markets**: \n",
    "    - housing, job, goods\n",
    "    \n",
    "- **Social media**: \n",
    "    - Twitter, Facebook, Wechat, newspaper text\n",
    "    \n",
    "- **Historical data** using the internet Archives"
   ]
  },
  {
   "cell_type": "markdown",
   "metadata": {
    "editable": true,
    "slideshow": {
     "slide_type": "subslide"
    },
    "tags": []
   },
   "source": [
    "### What is webscraping ?\n",
    "<center>\n",
    "<div class=\"r-stack\"><img src=\"images/screenscraping.png\" style=\"height: 400px;\" > </div>\n",
    "</center>\n",
    "\n",
    "Source: [SICSS](https://compsocialscience.github.io) "
   ]
  },
  {
   "cell_type": "markdown",
   "metadata": {
    "editable": true,
    "slideshow": {
     "slide_type": "subslide"
    },
    "tags": []
   },
   "source": [
    "#### What is Web Scraping?\n",
    "- Process of **gathering information** from the Internet\n",
    "    - structure or unstructured info\n",
    "- Involves **automation** \n",
    "\n",
    "#### Challenges of Web Scraping\n",
    "- **Variety**. Every website is different.\n",
    "- **Durability**. Websites constantly change\n",
    "\n",
    "\n",
    "#### Points to keep in mind\n",
    "- It may or may not be legal\n",
    "    - Look at websites’ terms of service and robots.txt files\n",
    "- Webscraping is tedious and frustrating"
   ]
  },
  {
   "cell_type": "markdown",
   "metadata": {
    "slideshow": {
     "slide_type": "subslide"
    }
   },
   "source": [
    "#### Getting started: Things to consider before you begin\n",
    "- **What**  do you want ?\n",
    "    - Is the website only online for a limited time? \n",
    "    - Do you want an original snapshot as a backup? \n",
    "    - Is it more convenient to filter your data offline?\n",
    "    \n",
    "- **How** do you want to proceed? \n",
    "    - What scraping approach (depends on the website)?\n",
    "    - Which `python package` is needed? "
   ]
  },
  {
   "cell_type": "markdown",
   "metadata": {
    "slideshow": {
     "slide_type": "subslide"
    }
   },
   "source": [
    "### Best practices\n",
    "\n",
    "#### 1. Check out the data are already available \n",
    "\n",
    "- Send an **email** to try to get the data directly\n",
    "- Search if somebody has already **faced the same or a similar problem**.\n",
    "- Does the site or service provide an **API** that you can access directly?\n",
    "    - An API or Application programming interface helps you get data you need via a simple computer program!"
   ]
  },
  {
   "cell_type": "markdown",
   "metadata": {
    "slideshow": {
     "slide_type": "subslide"
    }
   },
   "source": [
    "#### 2. Be gentle\n",
    "- If possible, you can scrape during off-peak hours \n",
    "- Limit the number of parallel / concurrent requests\n",
    "- Spread the requests across multiple IP's \n",
    "- Add delays to successive requests  \n",
    "- Avoid unnecessary requests"
   ]
  },
  {
   "cell_type": "markdown",
   "metadata": {
    "editable": true,
    "slideshow": {
     "slide_type": "subslide"
    },
    "tags": []
   },
   "source": [
    "#### 3. Respect `Robots.txt`\n",
    "\n",
    "The `robot.txt` = a text file the website administrators create to instruct web scrapers on how to crawl pages on their website. \n",
    "\n",
    "$\\rightarrow$ lays out the rules for acceptable behavior \n",
    "    - which web pages can and can't be scraped, \n",
    "    - which user agents are not allowed\n",
    "    - how fast you can do it, \n",
    "    - how frequently you can do it\n",
    "\n",
    "I'd also recommend you read the terms of service of the website. "
   ]
  },
  {
   "cell_type": "markdown",
   "metadata": {
    "slideshow": {
     "slide_type": "subslide"
    }
   },
   "source": [
    "#### 4. Don't follow the same crawling pattern.\n",
    "\n",
    "Even though human users and bots consume data from a web page, there are some differences:  \n",
    "\n",
    "- Real Humans are slow & unpredictable, \n",
    "- Bots are fast but predictable. \n",
    "\n",
    "$\\Rightarrow$ used by anti-scraping technologies to block web scraping.\n",
    "\n",
    "*Solution*: incorporate some random actions that confuse the anti-scraping technology. "
   ]
  },
  {
   "cell_type": "markdown",
   "metadata": {
    "slideshow": {
     "slide_type": "subslide"
    }
   },
   "source": [
    "### Most important python library for data collection\n",
    "- Standard: \n",
    "    - `Requests`\n",
    "    - `Beautiful Soup`\n",
    "- More advanced\n",
    "    - `Scrapy` [documentation](https://docs.scrapy.org/en/latest/)\n",
    "    - `Selenium` \n",
    "\n",
    "$+$ installing the package:"
   ]
  },
  {
   "cell_type": "code",
   "execution_count": 1,
   "metadata": {},
   "outputs": [
    {
     "name": "stdout",
     "output_type": "stream",
     "text": [
      "Requirement already satisfied: beautifulsoup4 in /opt/anaconda3/envs/DataManagement2024/lib/python3.12/site-packages (4.12.3)\n",
      "Requirement already satisfied: soupsieve>1.2 in /opt/anaconda3/envs/DataManagement2024/lib/python3.12/site-packages (from beautifulsoup4) (2.5)\n",
      "Note: you may need to restart the kernel to use updated packages.\n"
     ]
    }
   ],
   "source": [
    "pip install beautifulsoup4"
   ]
  },
  {
   "cell_type": "markdown",
   "metadata": {
    "slideshow": {
     "slide_type": "subslide"
    }
   },
   "source": [
    "### Load packages"
   ]
  },
  {
   "cell_type": "code",
   "execution_count": 2,
   "metadata": {
    "editable": true,
    "slideshow": {
     "slide_type": "-"
    },
    "tags": []
   },
   "outputs": [],
   "source": [
    "# Import packages + set options\n",
    "from IPython.display import display\n",
    "import json\n",
    "\n",
    "import pandas as pd\n",
    "pd.options.display.max_columns = None # Display all columns of a dataframe\n",
    "pd.options.display.max_rows = 700\n",
    "\n",
    "from pprint import pprint\n",
    "import re  "
   ]
  },
  {
   "cell_type": "markdown",
   "metadata": {
    "slideshow": {
     "slide_type": "subslide"
    }
   },
   "source": [
    "### Data communication for the World Wide Web \n",
    "\n",
    "- `HTTP protocol`= way of communication between the client (browser) and the web server \n",
    "    - no encryption $\\rightarrow$ not safe\n",
    "- `HTTPS protocol`= S for secured\n",
    "\n",
    "$\\Rightarrow $ works by doing `Requests` and `Responses`"
   ]
  },
  {
   "cell_type": "markdown",
   "metadata": {
    "slideshow": {
     "slide_type": "subslide"
    }
   },
   "source": [
    " ### Static vs. dynamic websites \n",
    "\n",
    "<center>\n",
    "<div class=\"r-stack\"><img src=\"https://about.gitlab.com/images/blogimages/ssg-gitlab-pages-series/part-1-dynamic-x-static-server.png\" style=\"height: 450px;\" > </div>\n",
    "</center>\n"
   ]
  },
  {
   "cell_type": "markdown",
   "metadata": {
    "slideshow": {
     "slide_type": "notes"
    }
   },
   "source": [
    "- **Static Websites**: the server that hosts the site sends back HTML documents that already contain all the data you’ll get to see as a user."
   ]
  },
  {
   "cell_type": "markdown",
   "metadata": {
    "slideshow": {
     "slide_type": "subslide"
    }
   },
   "source": [
    "### Request and Response\n",
    "\n",
    "All interactions between a client and a web server are split into a request and a response:\n",
    "\n",
    "- `Requests` contain relevant data regarding your request call:\n",
    "    - base URL \n",
    "        - \\[ More on this for **API**: the *endpoint*, the *method* used, the *headers*, and so on.\\]\n",
    "- `Responses` contain relevant data returned by the server:\n",
    "    - the data or content, the status code, and the headers."
   ]
  },
  {
   "cell_type": "markdown",
   "metadata": {
    "slideshow": {
     "slide_type": "subslide"
    }
   },
   "source": [
    "#### `get` method"
   ]
  },
  {
   "cell_type": "code",
   "execution_count": 3,
   "metadata": {
    "slideshow": {
     "slide_type": "-"
    }
   },
   "outputs": [
    {
     "data": {
      "text/plain": [
       "<Response [200]>"
      ]
     },
     "execution_count": 3,
     "metadata": {},
     "output_type": "execute_result"
    }
   ],
   "source": [
    "import requests \n",
    "url='https://ballotpedia.org/List_of_current_members_of_the_U.S._Congress'\n",
    "response = requests.get(url)\n",
    "response"
   ]
  },
  {
   "cell_type": "markdown",
   "metadata": {
    "slideshow": {
     "slide_type": "subslide"
    }
   },
   "source": [
    "### `Request`'s attributes"
   ]
  },
  {
   "cell_type": "code",
   "execution_count": 4,
   "metadata": {},
   "outputs": [
    {
     "name": "stdout",
     "output_type": "stream",
     "text": [
      "request:  <PreparedRequest [GET]>\n",
      "-----\n",
      "url:  https://ballotpedia.org/List_of_current_members_of_the_U.S._Congress\n",
      "-----\n",
      "path_url:  /List_of_current_members_of_the_U.S._Congress\n",
      "-----\n",
      "Method:  GET\n",
      "-----\n",
      "Method:  {'User-Agent': 'python-requests/2.32.3', 'Accept-Encoding': 'gzip, deflate, br, zstd', 'Accept': '*/*', 'Connection': 'keep-alive'}\n"
     ]
    }
   ],
   "source": [
    "request = response.request\n",
    "print('request: ',request)\n",
    "print('-----')\n",
    "print('url: ',request.url)\n",
    "print('-----')  \n",
    "print('path_url: ', request.path_url)\n",
    "print('-----')\n",
    "print('Method: ', request.method)\n",
    "print('-----')\n",
    "print('Method: ', request.headers)"
   ]
  },
  {
   "cell_type": "markdown",
   "metadata": {
    "slideshow": {
     "slide_type": "subslide"
    }
   },
   "source": [
    "### `Response`'s attributes\n",
    "\n",
    "- `.text` returns the response contents in Unicode format\n",
    "- `.content` returns the response contents in bytes."
   ]
  },
  {
   "cell_type": "code",
   "execution_count": 5,
   "metadata": {},
   "outputs": [
    {
     "name": "stdout",
     "output_type": "stream",
     "text": [
      " <Response [200]>\n",
      "-----\n",
      "Text: <!-- here -->\n",
      "<!DOCTYPE html>\n",
      "<html class=\"client-\n",
      "-----\n",
      "Status_code: 200\n",
      "-----\n",
      "hHeaders: {'Date': 'Mon, 14 Oct 2024 09:58:57 GMT', 'Content-Type': 'text/html; charset=UTF-8', 'Content-Length': '314431', 'Connection': 'keep-alive', 'Server': 'Apache/2.4.54 (Debian)', 'X-Content-Type-Options': 'nosniff', 'Content-language': 'en', 'Vary': 'Accept-Encoding,Cookie', 'Expires': 'Thu, 01 Jan 1970 00:00:00 GMT', 'Pragma': 'no-cache', 'X-Request-Id': 'cfe4acddc11d97cbfe88aadc', 'Cache-Control': 'public', 'X-Cacheable': 'YES', 'X-Varnish': '473269120 470254121', 'Age': '185', 'Via': '1.1 varnish (Varnish/6.0)', 'Strict-Transport-Security': 'max-age=31536000', 'X-Cache-Expires': 'Thu, 01 Jan 1970 00:00:00 GMT', 'X-Cache': 'HIT', 'X-Cache-Hits': '1', 'Accept-Ranges': 'bytes'}\n"
     ]
    }
   ],
   "source": [
    "print('', response)\n",
    "print('-----')\n",
    "print('Text:', response.text[:50]) # Only the first 50 characters\n",
    "print('-----')\n",
    "print('Status_code:', response.status_code)\n",
    "print('-----')\n",
    "print('hHeaders:', response.headers)"
   ]
  },
  {
   "cell_type": "markdown",
   "metadata": {
    "slideshow": {
     "slide_type": "subslide"
    }
   },
   "source": [
    "### Status Codes\n",
    "\n",
    "**Important information**: \n",
    "if your request was successful, if it’s missing data, if it’s missing credentials"
   ]
  },
  {
   "cell_type": "markdown",
   "metadata": {
    "slideshow": {
     "slide_type": "subslide"
    }
   },
   "source": [
    "<center>    \n",
    "<div class=\"r-stack\"><img src=\"https://bitmaskers.in/content/images/2023/10/1-1.jpg\" style=\"height: 400px;\" > </div>\n",
    "</center>"
   ]
  },
  {
   "cell_type": "markdown",
   "metadata": {
    "slideshow": {
     "slide_type": "slide"
    }
   },
   "source": [
    "## Scraping & Parsing in Practice"
   ]
  },
  {
   "cell_type": "markdown",
   "metadata": {
    "slideshow": {
     "slide_type": "subslide"
    }
   },
   "source": [
    "### STEPS:\n",
    "1. Inspect Your Data Source\n",
    "1.  Scrape HTML Content From a Page\n",
    "1.  Parse HTML Code With Beautiful Soup"
   ]
  },
  {
   "cell_type": "markdown",
   "metadata": {
    "slideshow": {
     "slide_type": "subslide"
    }
   },
   "source": [
    "### Step 1: Inspect Your Data Source\n",
    "\n",
    "#### Explore the Website \n",
    "\n",
    "**Objective**: understanding its underlying structure\n",
    "\n",
    "*We will scrape the list of current members of the U.S. Congress*"
   ]
  },
  {
   "cell_type": "markdown",
   "metadata": {
    "slideshow": {
     "slide_type": "subslide"
    }
   },
   "source": [
    "#### Website example for today\n",
    "\n",
    " \n",
    "<center>\n",
    "<div class=\"r-stack\"><img src=\"images/ballotpedia.png\" style=\"height: 400px;\" > </div>\n",
    "</center>\n",
    "\n",
    "Source: [ballotpedia website](https://ballotpedia.org/List_of_current_members_of_the_U.S._Congress) \n"
   ]
  },
  {
   "cell_type": "markdown",
   "metadata": {
    "slideshow": {
     "slide_type": "subslide"
    }
   },
   "source": [
    "### Understanding URLs\n",
    "- **Base URL**: https://ballotpedia.org/List_of_current_members_of_the_U.S._Congress\n",
    "- More complex URL with query parameter https://ballotpedia.org/wiki/index.php?search=jerry\n",
    "    - query parameter=`p?search=jerry`\n",
    "    - can be used to crawl websites if you have a list of queries that you want to loop over (e.g. dates, localities...)\n",
    "    - query structure:\n",
    "        - *Start*: `?`\n",
    "        - *Information*: pieces of information constituting one query parameter are encoded in key-value pairs, where related keys and values are joined together by an equals sign (key=value). \n",
    "        - *Separator*: `&` -> if multiple query parameters \n",
    "        \n",
    "Other example of URL: https://opendata.swiss/en/dataset?political_level=commune&q=health. "
   ]
  },
  {
   "cell_type": "markdown",
   "metadata": {
    "slideshow": {
     "slide_type": "subslide"
    }
   },
   "source": [
    "<div class=\"alert alert-info\">\n",
    "<h3> Your turn</h3>\n",
    "<p> Try to change the search and selection parameters and observe how that affects the  <a href= \"https://opendata.swiss/en/dataset?political_level=commune&q=health\">URL</a> . \n",
    "<p>   Next, try to change the values directly in your URL. See what happens when you paste the following URL into your browser’s address bar:\n",
    "</div>"
   ]
  },
  {
   "cell_type": "code",
   "execution_count": null,
   "metadata": {},
   "outputs": [],
   "source": []
  },
  {
   "cell_type": "markdown",
   "metadata": {
    "slideshow": {
     "slide_type": "fragment"
    }
   },
   "source": [
    "**Conclusion**: When you explore URLs, you can get information on how to retrieve data from the website’s server."
   ]
  },
  {
   "cell_type": "markdown",
   "metadata": {
    "slideshow": {
     "slide_type": "subslide"
    }
   },
   "source": [
    "#### Inspect the site: Using Developer Tools\n",
    "We use the `inspect` function (right click) to access the underlying HTML interactively. \n",
    "\n",
    "<center>\n",
    "<div class=\"r-stack\"><img src=\"images/ballotpedia_inspect.png\" style=\"height: 400px;\" > </div>\n",
    "</center>\n"
   ]
  },
  {
   "cell_type": "markdown",
   "metadata": {
    "slideshow": {
     "slide_type": "subslide"
    }
   },
   "source": [
    "#### Developer tools\n",
    "- Developer tools can help you understand the structure of a website\n",
    "- I use it in chrome or firefox, but exists for most browsers\n",
    "- Interactively explore the source html & the webpage\n",
    "\n",
    "**`html` is great but intricated $\\Rightarrow$ sublimed by `beautifulsoup`** "
   ]
  },
  {
   "cell_type": "markdown",
   "metadata": {
    "slideshow": {
     "slide_type": "subslide"
    }
   },
   "source": [
    "###  Step 2: Scrape HTML Content From a Page"
   ]
  },
  {
   "cell_type": "code",
   "execution_count": 6,
   "metadata": {},
   "outputs": [
    {
     "data": {
      "text/plain": [
       "'<!-- here -->\\n<!DOCTYPE html>\\n<html class=\"client-nojs\" lang=\"en\" dir=\"ltr\">\\n<head>\\n<meta charset=\"UTF-8\"/>\\n<title>List of current members of the U.S. Congress - Ballotpedia</title>\\n<script>document.documentElement.className=\"client-js\";RLCONF={\"wgBreakFrames\":false,\"wgSeparatorTransformTable\":[\"\",\"\"],\"wgDigitTransformTable\":[\"\",\"\"],\"wgDefaultDateFormat\":\"dmy\",\"wgMonthNames\":[\"\",\"January\",\"February\",\"March\",\"April\",\"May\",\"June\",\"July\",\"August\",\"September\",\"October\",\"November\",\"December\"],\"wgRequ'"
      ]
     },
     "execution_count": 6,
     "metadata": {},
     "output_type": "execute_result"
    }
   ],
   "source": [
    "import requests\n",
    "url='https://ballotpedia.org/List_of_current_members_of_the_U.S._Congress'\n",
    "response = requests.get(url)\n",
    "html=response.text\n",
    "html[:500]"
   ]
  },
  {
   "cell_type": "markdown",
   "metadata": {
    "slideshow": {
     "slide_type": "fragment"
    }
   },
   "source": [
    "html looks messy.\n",
    "\n",
    "Using the `prettify()` function from `BeautifulSoup` helps"
   ]
  },
  {
   "cell_type": "code",
   "execution_count": 7,
   "metadata": {
    "slideshow": {
     "slide_type": "subslide"
    }
   },
   "outputs": [
    {
     "name": "stdout",
     "output_type": "stream",
     "text": [
      "<!-- here -->\n",
      "<!DOCTYPE html>\n",
      "<html class=\"client-nojs\" dir=\"ltr\" lang=\"en\">\n",
      " <head>\n",
      "  <meta charset=\"utf-8\"/>\n",
      "  <title>\n",
      "   List of current members of the U.S. Congress - Ballotpedia\n",
      "  </title>\n",
      "  <script>\n",
      "   document.documentElement.className=\"client-js\";RLCONF={\"wgBreakFrames\":false,\"wgSeparatorTransformTable\":[\"\",\"\"],\"wgDigitTransformTable\":[\"\",\"\"],\"wgDefaultDateFormat\":\"dmy\",\"wgMonthNames\":[\"\",\"January\",\"February\",\"March\",\"April\",\"May\",\"June\",\"July\",\"August\",\"September\",\"October\",\"November\",\"\n"
     ]
    }
   ],
   "source": [
    "# Parse raw HTML\n",
    "from bs4 import BeautifulSoup # package for parsing HTML\n",
    "soup = BeautifulSoup(html, 'html.parser') # parse html of web page\n",
    "print(soup.prettify()[:500])"
   ]
  },
  {
   "cell_type": "markdown",
   "metadata": {
    "slideshow": {
     "slide_type": "subslide"
    }
   },
   "source": [
    "###  Step 3: Parse HTML Code With Beautiful Soup\n",
    "\n",
    "**Objectif**: extract url of senators from the webpage to build a list of url that will be used for scraping info on senators"
   ]
  },
  {
   "cell_type": "markdown",
   "metadata": {
    "slideshow": {
     "slide_type": "subslide"
    }
   },
   "source": [
    "#### Find Elements by ID using `find`\n",
    "\n",
    "In an HTML web page, every element can have an id attribute assigned. \n",
    "\n",
    "Can be used to directly access the element. \n",
    "\n",
    "**Syntax**: \n",
    "- `soup.find(id='the-id-of-what-you-are-looking for')`\n",
    "- Output: some text"
   ]
  },
  {
   "cell_type": "markdown",
   "metadata": {
    "slideshow": {
     "slide_type": "subslide"
    }
   },
   "source": [
    "<center>\n",
    "<div class=\"r-stack\"><img src=\"images/ballotpedia-senate.png\" style=\"height: 420px;\" > </div>\n",
    "</center>\n"
   ]
  },
  {
   "cell_type": "code",
   "execution_count": 8,
   "metadata": {
    "slideshow": {
     "slide_type": "fragment"
    }
   },
   "outputs": [
    {
     "name": "stdout",
     "output_type": "stream",
     "text": [
      "<span class=\"mw-headline\" id=\"Leadership_and_partisan_balance\">\n",
      " Leadership and partisan balance\n",
      "</span>\n",
      "\n"
     ]
    }
   ],
   "source": [
    "balance=soup.find(id='Leadership_and_partisan_balance')\n",
    "print(balance.prettify()[:500])"
   ]
  },
  {
   "cell_type": "markdown",
   "metadata": {
    "slideshow": {
     "slide_type": "subslide"
    }
   },
   "source": [
    "<div class=\"alert alert-info\">\n",
    "<h4> Your turn</h4>\n",
    "<p> Extract the page title \"List of current members of the U.S. Congress\" using the find method\n",
    "</div>"
   ]
  },
  {
   "cell_type": "code",
   "execution_count": 9,
   "metadata": {},
   "outputs": [
    {
     "data": {
      "text/plain": [
       "'<h1 class=\"firstHeading page-header\" id=\"firstHeading\" lang=\"en\">\\n <span dir=\"auto\">\\n  <span class=\"mw-page-title-main\">\\n   List of current members of the U.S. Congress\\n  </span>\\n </span>\\n</h1>\\n'"
      ]
     },
     "execution_count": 9,
     "metadata": {},
     "output_type": "execute_result"
    }
   ],
   "source": [
    "soup.find(id=\"firstHeading\").prettify() "
   ]
  },
  {
   "cell_type": "code",
   "execution_count": 10,
   "metadata": {},
   "outputs": [
    {
     "name": "stdout",
     "output_type": "stream",
     "text": [
      "<h1 class=\"firstHeading page-header\" id=\"firstHeading\" lang=\"en\">\n",
      " <span dir=\"auto\">\n",
      "  <span class=\"mw-page-title-main\">\n",
      "   List of current members of the U.S. Congress\n",
      "  </span>\n",
      " </span>\n",
      "</h1>\n",
      "\n"
     ]
    }
   ],
   "source": [
    "officeholder_table=soup.find(id='firstHeading')\n",
    "print(officeholder_table.prettify()[:500])"
   ]
  },
  {
   "cell_type": "markdown",
   "metadata": {},
   "source": [
    "#### Getting the table entitled *List of current U.S. Senate members*:"
   ]
  },
  {
   "cell_type": "code",
   "execution_count": 11,
   "metadata": {
    "slideshow": {
     "slide_type": "fragment"
    }
   },
   "outputs": [
    {
     "name": "stdout",
     "output_type": "stream",
     "text": [
      "<table class=\"bptable gray sortable\" id=\"officeholder-table\" style=\"width:auto; border-bottom:1px solid #bcbcbc;\">\n",
      " <thead>\n",
      "  <tr colspan=\"3\" style=\"background:#4c4c4c!important;color:#fff!important;text-align:center;padding: 7px 8px 8px;margin-bottom:4px;\">\n",
      "   <th>\n",
      "    Office\n",
      "   </th>\n",
      "   <th>\n",
      "    Name\n",
      "   </th>\n",
      "   <th>\n",
      "    Party\n",
      "   </th>\n",
      "  </tr>\n",
      " </thead>\n",
      " <tbody>\n",
      "  <tr>\n",
      "   <td style=\"padding-left\n"
     ]
    }
   ],
   "source": [
    "officeholder_table=soup.find(id='officeholder-table')\n",
    "print(officeholder_table.prettify()[:400])"
   ]
  },
  {
   "cell_type": "markdown",
   "metadata": {
    "slideshow": {
     "slide_type": "subslide"
    }
   },
   "source": [
    "#### Find Elements by HTML Class Name (using `find_all`)\n",
    "Because the result is not unique `find_all` instead of `find`. \n",
    "\n",
    "Lets' rely on the html structure to find the row of the table\n",
    "\n",
    "**Syntax**: \n",
    "- `soup.find_all(id='the-id-of-what-you-are-looking for')`\n",
    "- Output: a list"
   ]
  },
  {
   "cell_type": "code",
   "execution_count": 12,
   "metadata": {
    "slideshow": {
     "slide_type": "subslide"
    }
   },
   "outputs": [
    {
     "data": {
      "text/plain": [
       "<thead>\n",
       "<tr colspan=\"3\" style=\"background:#4c4c4c!important;color:#fff!important;text-align:center;padding: 7px 8px 8px;margin-bottom:4px;\">\n",
       "<th>Office</th>\n",
       "<th>Name</th>\n",
       "<th>Party</th>\n",
       "</tr>\n",
       "</thead>"
      ]
     },
     "execution_count": 12,
     "metadata": {},
     "output_type": "execute_result"
    }
   ],
   "source": [
    "thead= officeholder_table.find('thead')\n",
    "thead"
   ]
  },
  {
   "cell_type": "code",
   "execution_count": 13,
   "metadata": {
    "slideshow": {
     "slide_type": "fragment"
    }
   },
   "outputs": [
    {
     "data": {
      "text/plain": [
       "101"
      ]
     },
     "execution_count": 13,
     "metadata": {},
     "output_type": "execute_result"
    }
   ],
   "source": [
    "rows=officeholder_table.find_all('tr')\n",
    "len(rows) # consistent: 100 members + headline + 2 delegations from puerto rico"
   ]
  },
  {
   "cell_type": "markdown",
   "metadata": {
    "slideshow": {
     "slide_type": "subslide"
    }
   },
   "source": [
    "#### Find Elements by CSS Class using `select_one()` or  `find_all()`\n",
    "\n",
    "In an HTML web page, some tag can contain a \"class\" attribute. \n",
    "\n",
    "It can be useful if you want to get information from a tag which has no id attribute:\n",
    "\n",
    "`<table class=\"bptable gray sortable jquery-tablesorter\" id=\"officeholder-table\" style=\"width:auto; border-bottom:1px solid #bcbcbc;\">`\n",
    "\n",
    "Note that this table tag has **4 classes**: \n",
    "- bptable, \n",
    "- gray, \n",
    "- sortable \n",
    "- jquery-tablesorter. \n",
    "\n",
    "In this case you can use any of the three first class name to get the `officeholder_table`:"
   ]
  },
  {
   "cell_type": "markdown",
   "metadata": {
    "slideshow": {
     "slide_type": "subslide"
    }
   },
   "source": [
    "#### First syntax:  `select_one(tag_name.class_name)` \n",
    "You can select multiple elements with `select()`."
   ]
  },
  {
   "cell_type": "code",
   "execution_count": 14,
   "metadata": {},
   "outputs": [
    {
     "name": "stdout",
     "output_type": "stream",
     "text": [
      "<table class=\"bptable gray sortable\" id=\"officeholder-table\" style=\"width:auto; border-bottom:1px solid #bcbcbc;\">\n",
      " <thead>\n",
      "  <tr colspan=\"3\" style=\"background:#4c4c4c!important;color:#fff!important;text-align:center;padding: 7px 8px 8px;margin-bottom:4px;\">\n",
      "   <th>\n",
      "    Office\n",
      "   </th>\n",
      "   <th>\n",
      "    N\n"
     ]
    }
   ],
   "source": [
    "officeholder_table = soup.select_one('table.bptable')\n",
    "print(officeholder_table.prettify()[:300]) "
   ]
  },
  {
   "cell_type": "markdown",
   "metadata": {
    "slideshow": {
     "slide_type": "subslide"
    }
   },
   "source": [
    "#### Second syntax: `find(tag_name, {'attribute_name' : 'attribute_value'})`\n",
    "You can select multiple elements with `find_all()`."
   ]
  },
  {
   "cell_type": "code",
   "execution_count": 15,
   "metadata": {},
   "outputs": [
    {
     "name": "stdout",
     "output_type": "stream",
     "text": [
      "<table class=\"bptable gray sortable\" id=\"officeholder-table\" style=\"width:auto; border-bottom:1px solid #bcbcbc;\">\n",
      " <thead>\n",
      "  <tr colspan=\"3\" style=\"background:#4c4c4c!important;color:#fff!important;text-align:center;padding: 7px 8px 8px;margin-bottom:4px;\">\n",
      "   <th>\n",
      "    Office\n",
      "   </th>\n",
      "   <th>\n",
      "    N\n"
     ]
    }
   ],
   "source": [
    "officeholder_table = soup.find('table', {'class' : 'bptable'})\n",
    "print(officeholder_table.prettify()[:300])"
   ]
  },
  {
   "cell_type": "markdown",
   "metadata": {
    "slideshow": {
     "slide_type": "subslide"
    }
   },
   "source": [
    "#### Let's try to get the `url` for one example row:\n",
    "We will use the `html tag`"
   ]
  },
  {
   "cell_type": "code",
   "execution_count": 16,
   "metadata": {},
   "outputs": [
    {
     "data": {
      "text/plain": [
       "<tr>\n",
       "<td style=\"padding-left:10px;\"><a href=\"https://ballotpedia.org/List_of_United_States_Senators_from_Alabama\">U.S. Senate Alabama</a></td>\n",
       "<td style=\"padding-left:10px;text-align:center;\"><a href=\"https://ballotpedia.org/Katie_Britt\">Katie Britt</a></td>\n",
       "<td class=\"partytd Republican\">Republican </td>\n",
       "</tr>"
      ]
     },
     "execution_count": 16,
     "metadata": {},
     "output_type": "execute_result"
    }
   ],
   "source": [
    "row=rows[1]\n",
    "row"
   ]
  },
  {
   "cell_type": "code",
   "execution_count": 17,
   "metadata": {
    "slideshow": {
     "slide_type": "subslide"
    }
   },
   "outputs": [
    {
     "data": {
      "text/plain": [
       "[<td style=\"padding-left:10px;\"><a href=\"https://ballotpedia.org/List_of_United_States_Senators_from_Alabama\">U.S. Senate Alabama</a></td>,\n",
       " <td style=\"padding-left:10px;text-align:center;\"><a href=\"https://ballotpedia.org/Katie_Britt\">Katie Britt</a></td>,\n",
       " <td class=\"partytd Republican\">Republican </td>]"
      ]
     },
     "execution_count": 17,
     "metadata": {},
     "output_type": "execute_result"
    }
   ],
   "source": [
    "tds=row.find_all('td')\n",
    "tds[:4]"
   ]
  },
  {
   "cell_type": "code",
   "execution_count": 18,
   "metadata": {},
   "outputs": [
    {
     "name": "stdout",
     "output_type": "stream",
     "text": [
      "--\n",
      "a list: [<a href=\"https://ballotpedia.org/Katie_Britt\">Katie Britt</a>]\n",
      "--\n",
      "its unique element <a href=\"https://ballotpedia.org/Katie_Britt\">Katie Britt</a>\n",
      "--\n",
      "url wanted https://ballotpedia.org/Katie_Britt\n",
      "--\n",
      "Text content Katie Britt\n"
     ]
    }
   ],
   "source": [
    "url= tds[1].find_all('a') \n",
    "print('--')\n",
    "print('a list:', url)\n",
    "print('--')\n",
    "print('its unique element', url[0])\n",
    "print('--')\n",
    "print('url wanted', url[0]['href'] )\n",
    "print('--')\n",
    "print('Text content', url[0].get_text())"
   ]
  },
  {
   "cell_type": "markdown",
   "metadata": {
    "slideshow": {
     "slide_type": "subslide"
    }
   },
   "source": [
    "<div class=\"alert alert-info\">\n",
    "<h4> Your turn</h4>\n",
    "<p> Use the code for 1 row in order to build a loop that gives a list of all of the wanted url. \n",
    "</div>"
   ]
  },
  {
   "cell_type": "code",
   "execution_count": 19,
   "metadata": {
    "slideshow": {
     "slide_type": "fragment"
    }
   },
   "outputs": [
    {
     "name": "stdout",
     "output_type": "stream",
     "text": [
      "['https://ballotpedia.org/Katie_Britt', 'https://ballotpedia.org/Tommy_Tuberville', 'https://ballotpedia.org/Lisa_Murkowski', 'https://ballotpedia.org/Daniel_S._Sullivan_(United_States_Senator_from_Alaska)', 'https://ballotpedia.org/Mark_Kelly', 'https://ballotpedia.org/Kyrsten_Sinema', 'https://ballotpedia.org/John_Boozman', 'https://ballotpedia.org/Tom_Cotton', 'https://ballotpedia.org/Laphonza_Butler', 'https://ballotpedia.org/Alex_Padilla']\n"
     ]
    }
   ],
   "source": [
    "list_url=[]\n",
    "for row in rows[1:]: \n",
    "    tds=row.find_all('td')\n",
    "    url = tds[1].find(\"a\")['href']\n",
    "    list_url.append(url)\n",
    "len(list_url)\n",
    "print(list_url[:10])"
   ]
  },
  {
   "cell_type": "markdown",
   "metadata": {
    "slideshow": {
     "slide_type": "subslide"
    }
   },
   "source": [
    "<div class=\"alert alert-info\">\n",
    "<h4> Your turn</h4>\n",
    "<p> Get the table containing the \"List of current U.S. House members\". \n",
    "</div>"
   ]
  },
  {
   "cell_type": "code",
   "execution_count": 20,
   "metadata": {
    "slideshow": {
     "slide_type": "fragment"
    }
   },
   "outputs": [
    {
     "name": "stdout",
     "output_type": "stream",
     "text": [
      "There are 2 tables\n",
      "------ looking at the content of the second one ------\n",
      "ama's_1st_Congressional_District\">\n",
      "     U.S. House Alabama District 1\n",
      "    </a>\n",
      "   </td>\n",
      "   <td style=\"padding-left:10px;text-align:center;\">\n",
      "    <a href=\"https://ballotpedia.org/Jerry_Carl\">\n",
      "     Jerry Carl\n",
      "    </a>\n",
      "   </td>\n",
      "   <td class=\"partytd Republican\">\n",
      "    Republican\n",
      "   </td>\n",
      "  </tr>\n",
      "  <tr>\n",
      "   <td style=\"padding-left:10px;\">\n",
      "    <a href=\"htt\n"
     ]
    }
   ],
   "source": [
    "officeholder_tables=soup.find_all(id='officeholder-table')\n",
    "print(\"There are {} tables\".format(len(officeholder_tables)))\n",
    "\n",
    "house_table=officeholder_tables[1] # the second table\n",
    "print(\"------ looking at the content of the second one ------\")\n",
    "print(house_table.prettify()[450:800])"
   ]
  },
  {
   "cell_type": "markdown",
   "metadata": {
    "slideshow": {
     "slide_type": "subslide"
    }
   },
   "source": [
    "### Your First Scraper\n",
    "\n",
    "Then, the same logic can be implemented to get the info from the senators' page (e.g. https://ballotpedia.org/Jerry_Moran). The following code extracts info from the first 10 url from the list scraped above. "
   ]
  },
  {
   "cell_type": "markdown",
   "metadata": {
    "slideshow": {
     "slide_type": "subslide"
    }
   },
   "source": [
    "#### Strategy\n",
    "\n",
    "- Loop of a list of url (`list_url`)\n",
    "    - get the soup for the `url` $\\rightarrow$ `get_the_soup()`\n",
    "        - Extract information from the `soup`\n"
   ]
  },
  {
   "cell_type": "code",
   "execution_count": 21,
   "metadata": {
    "slideshow": {
     "slide_type": "subslide"
    }
   },
   "outputs": [],
   "source": [
    "#1. Get the soup\n",
    "def get_the_soup(url):\n",
    "    '''\n",
    "    Requests the URL and cooks it into a soup object. \n",
    "    ---\n",
    "    Arguments: url\n",
    "    Returns: soup\n",
    "    '''\n",
    "    \n",
    "    response = requests.get(url)\n",
    "    html=response.text\n",
    "    soup = BeautifulSoup(html, 'html.parser') # parse html of web page\n",
    "    return soup"
   ]
  },
  {
   "cell_type": "code",
   "execution_count": 22,
   "metadata": {},
   "outputs": [
    {
     "data": {
      "text/plain": [
       "'<!-- here -->\\n<!-- here -->\\n<!DOCTYPE html>\\n<html class=\"client-nojs\" dir=\"ltr\" lang=\"en\">\\n <head>\\n  <meta charset=\"utf-8\"/>\\n  <title>\\n   Alex Padilla - Ballotpedia\\n  </title>\\n  <script>\\n   document.documentElement.className=\"client-js\";RLCONF={\"wgBreakFrames\":false,\"wgSeparatorTransformTable\":[\"\",\"\"],\"wgDigitTransformTable\":[\"\",\"\"],\"wgDefaultDateFormat\":\"dmy\",\"wgMonthNames\":[\"\",\"January\",\"February\",\"March\",\"April\",\"May\",\"June\",\"July\",\"August\",\"September\",\"October\",\"November\",\"December\"],\"wgRequ'"
      ]
     },
     "execution_count": 22,
     "metadata": {},
     "output_type": "execute_result"
    }
   ],
   "source": [
    "url = \"https://ballotpedia.org/Alex_Padilla\"\n",
    "soup=get_the_soup(url)\n",
    "soup.prettify()[:500]"
   ]
  },
  {
   "cell_type": "code",
   "execution_count": 23,
   "metadata": {
    "slideshow": {
     "slide_type": "subslide"
    }
   },
   "outputs": [],
   "source": [
    "#2. Extract info from the soup\n",
    "from bs4 import NavigableString, Tag\n",
    "\n",
    "def extract_soup_info_to_dictionary(soup):\n",
    "    '''\n",
    "    Extracts relevant information from a bs4 object and stores it into a dictionary by html header. \n",
    "    ---\n",
    "    Arguments: soup\n",
    "    Returns: dictionary of text (value) by header (key)\n",
    "    '''\n",
    "    \n",
    "    dic_text_by_header=dict()\n",
    "    \n",
    "    # get all the text content between 2 header (h2)\n",
    "    for header in soup.find_all('h2')[0:len(soup.find_all('h2'))-1] :\n",
    "        # print('--------',header.get_text())        \n",
    "        nextNode=header\n",
    "        # use the nextSibling method\n",
    "        while True:\n",
    "            nextNode=nextNode.nextSibling\n",
    "            if nextNode is None:\n",
    "                break\n",
    "            if isinstance(nextNode, Tag):\n",
    "                if nextNode.name == \"h2\":\n",
    "                    break\n",
    "                #print(nextNode.get_text(strip=True).strip())\n",
    "                # The result is put in a dictionary as a value for key=corresponding header\n",
    "                dic_text_by_header[header.get_text()]=[nextNode.get_text(strip=True).strip()]\n",
    "    \n",
    "    return dic_text_by_header"
   ]
  },
  {
   "cell_type": "code",
   "execution_count": 24,
   "metadata": {},
   "outputs": [
    {
     "data": {
      "text/plain": [
       "{'Contents': [''],\n",
       " 'Biography': [\"Alex Padilla earned a B.S. in mechanical engineering from the Massachusetts Institute of Technology in 1994 and graduated from the Coro Fellowship Program in Leadership and Public Affairs in 1995.[4][5]Padilla's career experience includes working as a staffer, political director, or campaign manager for several Democratic politicians in California, includingDianne Feinstein,Richard Alarcon,Gilbert Cedillo, andTony Cardenas. He served as the president of theLeague of California Citiesand as a member of the National Association of Latino Elected and Appointed Officials.[4]\"],\n",
       " 'Committee assignments': [''],\n",
       " 'Key votes': [\"Key votes(click to expand)Key votes: 117th Congress, 2021-2023The117th United States Congressbegan on January 3, 2021 and ended on January 3, 2023. At the start of the session, Democrats held the majority in theU.S. House of Representatives(222-213), and theU.S. Senatehad a 50-50 makeup. Democrats assumed control of the Senate on January 20, 2021, when PresidentJoe Biden(D) and Vice PresidentKamala Harris(D), who acted as a tie-breaking vote in the chamber, assumed office. We identified the key votes below usingCongress' top-viewed bills listand through marquee coverage of certain votes on Ballotpedia.Key votes: 117th Congress, 2021-2023VoteBill and descriptionStatusYeaInfrastructure Investment and Jobs ActTheInfrastructure Investment and Jobs Act(H.R. 3684) was a federal infrastructure bill passed by the 117th Congress and signed into law by President Joe Biden (D) on November 15, 2021. Among other provisions, the bill provided funding for new infrastructure projects and reauthorizations, Amtrak maintenance and development, bridge repair, replacement, and rehabilitation, clean drinking water, high-speed internet, and clean energy transmission and power infrastructure upgrades. The bill required a 3/5 majority vote in the Senate to invoke cloture and a 1/2 majority vote on passage.[13]Click hereto read more.Passed (69-30)YeaAmerican Rescue Plan Act of 2021TheAmerican Rescue Plan Act of 2021(H.R. 1319) was a bill passed by the 117th Congress and signed into law by President Joe Biden (D) on March 11, 2021, to provide economic relief in response to the COVID-19 pandemic. Key features of the bill included funding for a national vaccination program and response, funding to safely reopen schools, distribution of $1,400 per person in relief payments, and extended unemployment benefits. The bill required a 1/2 majority vote in the Senate.[14]Click hereto read more.Passed (50-49)YeaInflation Reduction Act of 2022TheInflation Reduction Act of 2022(H.R. 5376) was a bill passed by the 117th Congress and signed into law by President Joe Biden (D) on August 16, 2022, to address climate change, healthcare costs, and tax enforcement. Key features of the bill included a $369 billion investment to address energy security and climate change, an extension of Affordable Care Act subsidies, allowing Medicare to negotiate certain drug prices, a 15% corporate minimum tax, a 1% stock buyback fee, and enhanced Internal Revenue Service (IRS) enforcement, and an estimated $300 billion deficit reduction from 2022-2031. The bill required a 1/2 majority vote in the Senate.[15]Click hereto read more.Passed (51-50)NayNational Defense Authorization Act for Fiscal Year 2022The National Defense Authorization Act for Fiscal Year 2022 (S. 1605) was a bill passed by the 117th Congress and signed into law by President Joe Biden (D) on December 27, 2021, authorizingDepartment of Defenseacitivities and programs for fiscal year 2022. The bill required a 3/5 majority vote in the Senate to invoke cloture and a 1/2 majority vote on passage.[16]Passed (88-11)YeaJames M. Inhofe National Defense Authorization Act for Fiscal Year 2023The James M. Inhofe National Defense Authorization Act for Fiscal Year 2023 (H.R. 7776) was a bill passed by the 117th Congress and signed into law by President Joe Biden (D) on December 23, 2022, authorizing Department of Defense activities and programs for fiscal year 2023. The bill required a 3/5 majority vote in the Senate to invoke cloture and a 1/2 majority vote on passage.[17]Passed (83-11)YeaSergeant First Class Heath Robinson Honoring our Promise to Address Comprehensive Toxics Act of 2022The Sergeant First Class Heath Robinson Honoring our Promise to Address Comprehensive Toxics Act of 2022 (S. 3373) was a bill passed by the 117th Congress and signed into law by President Joe Biden (D) on August 10, 2022, that sought to address healthcare access, the presumption of service-connection, and research, resources, and other matters related to veterans who were exposed to toxic substances during military service. The bill required a 3/5 majority vote in the Senate to invoke cloture and a 1/2 majority vote on passage.[18]Passed (86-11)YeaChips and Science ActThe Chips and Science Act (H.R. 4346) was a bill approved by the 117th Congress and signed into law by President Joe Biden (D) on August 9, 2022, which sought to fund domestic production of semiconductors and authorized various federal science agency programs and activities. The bill required a 3/5 majority vote in the Senate to invoke cloture and a 1/2 majority vote on passage.[19]Passed (64-33)YeaWomen’s Health Protection Act of 2021The Women's Health Protection Act of 2021 (H.R. 3755) was a bill passed by the House of Representatives. The bill proposed prohibiting governmental restrictions on the provision of and access to abortion services and prohibiting governments from issuing some other abortion-related restrictions. The bill required a 3/5 majority vote in the Senate to invoke cloture and a 1/2 majority vote on passage.[20]Failed (46-48)YeaConsolidated Appropriations Act, 2022The Consolidated Appropriations Act, 2022 (H.R. 2471) was a bill passed by the 117th Congress and signed into law by President Joe Biden (D) on March 15, 2022, providing for the funding of federal agencies for the remainder of 2022, providing funding for activities related to Ukraine, and modifying or establishing various programs. The bill required a 3/5 majority vote in the Senate to invoke cloture and a 1/2 majority vote on passage.[21]Passed (68-31)YeaRespect for Marriage ActTheRespect for Marriage Act(H.R. 8404) was a bill passed by the 117th Congress and signed into law by President Joe Biden (D) on December 13, 2022. The bill codified the recognition of marriages between individuals of the same sex and of different races, ethnicities, or national origins, and provided that the law would not impact religious liberty or conscience protections, or provide grounds to compel nonprofit religious organizations to recognize same-sex marriages. The bill required a 3/5 majority vote in the Senate to invoke cloture and a 1/2 majority vote on passage.[22]Click hereto read more.Passed (61-36)YeaContinuing Appropriations and Ukraine Supplemental Appropriations Act, 2023The Continuing Appropriations and Ukraine Supplemental Appropriations Act, 2023 (H.R. 6833) was a bill approved by the 117th Congress and signed into law by President Joe Biden (D) on September 30, 2022. It provided for some fiscal year 2023 appropriations, supplemental funds for Ukraine, and extended several other programs and authorities. The bill required a 3/5 majority vote in the Senate to invoke cloture and a 1/2 majority vote on passage.[23]Passed (72-25)YeaCOVID-19 Hate Crimes ActThe COVID-19 Hate Crimes Act (S. 937) was a bill passed by the 117th Congress and signed into law by President Joe Biden (D) on May 20, 2021, that included provisions to designate an officer or employee of theDepartment of Justice(DOJ) to facilitate expedited review of hate crimes, required the DOJ to issue guidance to law enforcement agencies aimed to establish online hate crime reporting processes and to raise awareness about hate crimes during the COVID-19 pandemic, and established state grants to create hate crime reporting hotlines, among other related provisions. The bill required a 3/5 majority vote in the Senate to invoke cloture and a 1/2 majority vote on passage.[24]Passed (94-1)YeaPostal Service Reform Act of 2022The Postal Service Reform Act of 2022 (H.R. 3076) was a bill passed by the 117th Congress and signed into law by President Joe Biden (D) on April 6, 2022, that sought to address healthcare and retirement benefits for postal workers, allow USPS to provide certain nonpostal products and services, and expand service performance and budgetary reporting. The bill required a 3/5 majority vote in the Senate to invoke cloture and a 1/2 majority vote on passage.[25]Passed (79-19)YeaBipartisan Safer Communities ActTheBipartisan Safer Communities Act(S. 2938) was a firearm regulation and mental health bill passed by the 117th Congress and signed into law by President Joe Biden (D) on June 25, 2022. Provisions of the bill included expanding background checks for individuals under the age of 21, providing funding for mental health services, preventing individuals who had been convicted of a domestic violence misdemeanor or felony in dating relationships from purchasing firearms for five years, providing funding for state grants to implement crisis intervention order programs, and providing funding for community-based violence prevention initiatives. The bill required a 3/5 majority vote in the Senate to invoke cloture and a 1/2 majority vote on passage.[26]Click hereto read more.Passed (65-33)YeaExtending Government Funding and Delivering Emergency Assistance ActThe Extending Government Funding and Delivering Emergency Assistance Act (H.R. 5305) was a bill passed by the 117th Congress and signed into law by President Joe Biden (D) on September 30, 2021, that provided for continuing fiscal year 2022 appropriations to federal agencies through December 3, 2021, in order to prevent a government shutdown that would have otherwise occurred if fiscal year 2022 appropriations bills had not been passed by October 1, 2021. The bill required a 3/5 majority vote in the Senate.[27]Passed (65-35)GuiltyImpeaching Donald John Trump, President of the United States, for high crimes and misdemeanors.This was a resolution before the 117th Congress setting forth anarticle of impeachmentsaying thatDonald Trump(R) incited an insurrection against the government of the United States on January 6, 2021. The House of Representatives approved the article of impeachment, and the Senate adjudged that Trump was not guilty of the charges. Conviction on the impeachment charges required a 2/3 majority vote in the Senate.[28]Click hereto read more.Not guilty (57-43)YeaDomestic Terrorism Prevention Act of 2022The Domestic Terrorism Prevention Act of 2022 (H.R. 350) was a bill passed by the House of Representatives and voted down by the Senate in a failed cloture vote that sought to expand the availability and reporting of information about domestic terrorism, enhance the Department of Homeland Security (DHS), the Department of Justice (DOJ), and the Federal Bureau of Investigation's (FBI) ability to prosecute domestic terrorism, among other things. The bill required a 3/5 majority vote in the Senate to invoke cloture and a 1/2 majority vote on passage.[29]Failed (47-47)YeaA concurrent resolution setting forth the congressional budget for the United States Government for fiscal year 2022 and setting forth the appropriate budgetary levels for fiscal years 2023 through 2031.This concurrent resolution(S.Con.Res. 14) was a budget resolution passed by the 117th Congress outlining the fiscal year 2022 federal government budget, setting forth budgetary levels for fiscal years 2023-2031, and providing reconciliation instructions for legislation that increased the deficit. It contained a proposed framework for theBuild Back Better Act. The resolution required 1/2 majority vote in the Senate.[30]Click hereto read more.Passed (50-49)YeaFreedom to Vote: John R. Lewis ActTheFreedom to Vote: John R. Lewis Actwas a federal elections bill approved by the House of Representatives and voted down by the Senate in a failed cloture vote that sought to, among other provisions, make Election Day a public holiday, allow for same-day voter registration, establish minimum early voting periods, and allow absentee voting for any reason, restrict the removal of local election administrators in federal elections, regulate congressional redistricting, expand campaign finance disclosure rules for some organizations, and amend the Voting Rights Act to require some states to obtain clearance from the U.S. Department of Justice before implementing new election laws. The bill required a 3/5 majority vote in the Senate to invoke cloture and a 1/2 majority vote on passage.[31]Click hereto read more.Failed (49-51)YeaElectoral Count Reform and Presidential Transition Improvement Act of 2022TheElectoral Count Reform and Presidential Transition Improvement Actwas a bill passed by the 117th Congress in the form of an amendment to a year-end omnibus funding bill that was signed into law by President Joe Biden (D) on December 23, 2022. The bill changed the procedure for counting electoral votes outlined in the Electoral Count Act of 1887. Elements of the bill included specifying that the vice president's role at the joint session of congress to count electoral votes is ministerial, raising the objection threshold at the joint session of congress to count electoral votes to one-fifth of the members of both the House of Representatives and the Senate, identifying governors as the single official responsible for submitting the certificate of ascertainment identifying that state’s electors, and providing for expedited judicial review of certain claims about states' certificates identifying their electors. The bill required a 3/5 majority vote in the Senate to concur in the House's version of the bill.[32]Click hereto read more.Passed (68-29)\"],\n",
       " 'Elections': [''],\n",
       " 'Campaign themes': [\"Alex Padilla did not completeBallotpedia's 2022 Candidate Connectionsurvey.\"],\n",
       " 'Notable endorsements': ['Notable ballot measure endorsements by Alex PadillaMeasurePositionOutcomeCalifornia Proposition 13, School and College Facilities Bond (March 2020)sourceSupportDefeatedCalifornia Proposition 14, Stem Cell Research Institute Bond Initiative (2020)sourceSupportApprovedCalifornia Proposition 16, Repeal Proposition 209 Affirmative Action Amendment (2020)sourceSupportDefeatedCalifornia Proposition 1, Right to Reproductive Freedom Amendment (2022)sourceSupportApprovedCalifornia Proposition 36, Drug and Theft Crime Penalties and Treatment-Mandated Felonies Initiative (2024)sourceOpposeOn the ballotCalifornia Proposition 17, Voting Rights Restoration for Persons on Parole Amendment (2020)sourceSupportApprovedCalifornia Proposition 18, Primary Voting for 17-Year-Olds Amendment (2020)sourceSupportDefeated'],\n",
       " 'Campaign finance summary': ['Alex Padilla campaign contribution historyYearOfficeStatusContributionsExpenditures2022U.S. Senate CaliforniaWon general$11,754,411$4,192,8362022U.S. Senate CaliforniaWon general$12,026,093$4,572,8672014California Secretary of StateWon$2,825,613N/A**2010California State Senate, District 20Won$1,193,644N/A**2006California State Senate, District 20Won$1,947,933N/A**Grand total$29,747,694$8,765,703Sources:OpenSecrets,Federal Elections Commission***This product uses the openFEC API but is not endorsed or certified by the Federal Election Commission (FEC).** Data on expenditures is not available for this election cycleNote: Totals above reflect only availabale data.'],\n",
       " 'Noteworthy events': [\"“I will not provide sensitive voter information to a commission that has already inaccurately passed judgment that millions of Californians voted illegally...California's participation would only serve to legitimize the false and already debunked claims of massive voter fraud made by the President, the Vice President, and Mr. Kobach.[46]”—Secretary Alex Padilla[47]\"],\n",
       " 'Ballot measure activity': ['Ballot measure support and opposition for Alex PadillaBallot measureYearPositionStatusCalifornia Proposition 1, Right to Reproductive Freedom Amendment (2022)2022Supported[48]aApproved'],\n",
       " 'State legislative career': [''],\n",
       " 'See also': [''],\n",
       " 'External links': ['CandidateU.S. Senate CaliforniaWebsiteFacebookTwitterInstagramYouTubeOfficeholderU.S. Senate CaliforniaWebsiteFacebookTwitterInstagramYouTubePersonalLinkedIn'],\n",
       " 'Footnotes': [\"v•eStateofCaliforniaSacramento(capital)ElectionsWhat's on my ballot?|Elections in 2024|How to vote|How to run for office|Ballot measuresGovernmentWho represents me?|U.S. President|U.S. Congress|Federal courts|State executives|State legislature|State and local courts|Counties|Cities|School districts|Public policy\"]}"
      ]
     },
     "execution_count": 24,
     "metadata": {},
     "output_type": "execute_result"
    }
   ],
   "source": [
    "extract_soup_info_to_dictionary(soup)"
   ]
  },
  {
   "cell_type": "markdown",
   "metadata": {
    "slideshow": {
     "slide_type": "subslide"
    }
   },
   "source": [
    "#### Putting everything together\n",
    "\n",
    "- A dataframe to put things together: `df_parsed`\n",
    "\n",
    "\n",
    "- **LOOP**: `url` from `list_url`): \n",
    "\n",
    "    - `get_the_soup()`: \n",
    "        - `url`  -> `soup`\n",
    "\n",
    "    - `extract_soup_info_to_dictionary()`: \n",
    "        - `soup` -> `dic_text_by_header`\n",
    "        \n",
    "    - `pd.concat()`\n",
    "        - `dic_text_by_header` -> `df_parsed`"
   ]
  },
  {
   "cell_type": "markdown",
   "metadata": {
    "slideshow": {
     "slide_type": "subslide"
    }
   },
   "source": [
    "#### `pd.concat()`? \n",
    "Powerfull method to combine data:"
   ]
  },
  {
   "cell_type": "code",
   "execution_count": 25,
   "metadata": {},
   "outputs": [
    {
     "data": {
      "text/html": [
       "<div>\n",
       "<style scoped>\n",
       "    .dataframe tbody tr th:only-of-type {\n",
       "        vertical-align: middle;\n",
       "    }\n",
       "\n",
       "    .dataframe tbody tr th {\n",
       "        vertical-align: top;\n",
       "    }\n",
       "\n",
       "    .dataframe thead th {\n",
       "        text-align: right;\n",
       "    }\n",
       "</style>\n",
       "<table border=\"1\" class=\"dataframe\">\n",
       "  <thead>\n",
       "    <tr style=\"text-align: right;\">\n",
       "      <th></th>\n",
       "      <th>letter</th>\n",
       "      <th>number</th>\n",
       "    </tr>\n",
       "  </thead>\n",
       "  <tbody>\n",
       "    <tr>\n",
       "      <th>0</th>\n",
       "      <td>a</td>\n",
       "      <td>1</td>\n",
       "    </tr>\n",
       "    <tr>\n",
       "      <th>1</th>\n",
       "      <td>b</td>\n",
       "      <td>2</td>\n",
       "    </tr>\n",
       "  </tbody>\n",
       "</table>\n",
       "</div>"
      ],
      "text/plain": [
       "  letter  number\n",
       "0      a       1\n",
       "1      b       2"
      ]
     },
     "execution_count": 25,
     "metadata": {},
     "output_type": "execute_result"
    }
   ],
   "source": [
    "df1 = pd.DataFrame([['a', 1], ['b', 2]], columns=['letter', 'number'])\n",
    "df1"
   ]
  },
  {
   "cell_type": "code",
   "execution_count": 26,
   "metadata": {},
   "outputs": [
    {
     "data": {
      "text/html": [
       "<div>\n",
       "<style scoped>\n",
       "    .dataframe tbody tr th:only-of-type {\n",
       "        vertical-align: middle;\n",
       "    }\n",
       "\n",
       "    .dataframe tbody tr th {\n",
       "        vertical-align: top;\n",
       "    }\n",
       "\n",
       "    .dataframe thead th {\n",
       "        text-align: right;\n",
       "    }\n",
       "</style>\n",
       "<table border=\"1\" class=\"dataframe\">\n",
       "  <thead>\n",
       "    <tr style=\"text-align: right;\">\n",
       "      <th></th>\n",
       "      <th>letter</th>\n",
       "      <th>number</th>\n",
       "    </tr>\n",
       "  </thead>\n",
       "  <tbody>\n",
       "    <tr>\n",
       "      <th>0</th>\n",
       "      <td>c</td>\n",
       "      <td>3</td>\n",
       "    </tr>\n",
       "    <tr>\n",
       "      <th>1</th>\n",
       "      <td>d</td>\n",
       "      <td>4</td>\n",
       "    </tr>\n",
       "  </tbody>\n",
       "</table>\n",
       "</div>"
      ],
      "text/plain": [
       "  letter  number\n",
       "0      c       3\n",
       "1      d       4"
      ]
     },
     "execution_count": 26,
     "metadata": {},
     "output_type": "execute_result"
    }
   ],
   "source": [
    "df2 = pd.DataFrame([['c', 3], ['d', 4]], columns=['letter', 'number'])\n",
    "df2"
   ]
  },
  {
   "cell_type": "markdown",
   "metadata": {
    "slideshow": {
     "slide_type": "subslide"
    }
   },
   "source": [
    "#### `pd.concat(list-of-dataframes)` \n",
    "Vertical or horizontal concatenation"
   ]
  },
  {
   "cell_type": "code",
   "execution_count": 27,
   "metadata": {},
   "outputs": [
    {
     "data": {
      "text/html": [
       "<div>\n",
       "<style scoped>\n",
       "    .dataframe tbody tr th:only-of-type {\n",
       "        vertical-align: middle;\n",
       "    }\n",
       "\n",
       "    .dataframe tbody tr th {\n",
       "        vertical-align: top;\n",
       "    }\n",
       "\n",
       "    .dataframe thead th {\n",
       "        text-align: right;\n",
       "    }\n",
       "</style>\n",
       "<table border=\"1\" class=\"dataframe\">\n",
       "  <thead>\n",
       "    <tr style=\"text-align: right;\">\n",
       "      <th></th>\n",
       "      <th>letter</th>\n",
       "      <th>number</th>\n",
       "    </tr>\n",
       "  </thead>\n",
       "  <tbody>\n",
       "    <tr>\n",
       "      <th>0</th>\n",
       "      <td>a</td>\n",
       "      <td>1</td>\n",
       "    </tr>\n",
       "    <tr>\n",
       "      <th>1</th>\n",
       "      <td>b</td>\n",
       "      <td>2</td>\n",
       "    </tr>\n",
       "    <tr>\n",
       "      <th>0</th>\n",
       "      <td>c</td>\n",
       "      <td>3</td>\n",
       "    </tr>\n",
       "    <tr>\n",
       "      <th>1</th>\n",
       "      <td>d</td>\n",
       "      <td>4</td>\n",
       "    </tr>\n",
       "  </tbody>\n",
       "</table>\n",
       "</div>"
      ],
      "text/plain": [
       "  letter  number\n",
       "0      a       1\n",
       "1      b       2\n",
       "0      c       3\n",
       "1      d       4"
      ]
     },
     "execution_count": 27,
     "metadata": {},
     "output_type": "execute_result"
    }
   ],
   "source": [
    "pd.concat([df1, df2], axis=0) # axis = 0 -> along the index, the default"
   ]
  },
  {
   "cell_type": "code",
   "execution_count": 28,
   "metadata": {},
   "outputs": [
    {
     "data": {
      "text/html": [
       "<div>\n",
       "<style scoped>\n",
       "    .dataframe tbody tr th:only-of-type {\n",
       "        vertical-align: middle;\n",
       "    }\n",
       "\n",
       "    .dataframe tbody tr th {\n",
       "        vertical-align: top;\n",
       "    }\n",
       "\n",
       "    .dataframe thead th {\n",
       "        text-align: right;\n",
       "    }\n",
       "</style>\n",
       "<table border=\"1\" class=\"dataframe\">\n",
       "  <thead>\n",
       "    <tr style=\"text-align: right;\">\n",
       "      <th></th>\n",
       "      <th>letter</th>\n",
       "      <th>number</th>\n",
       "      <th>letter</th>\n",
       "      <th>number</th>\n",
       "    </tr>\n",
       "  </thead>\n",
       "  <tbody>\n",
       "    <tr>\n",
       "      <th>0</th>\n",
       "      <td>a</td>\n",
       "      <td>1</td>\n",
       "      <td>c</td>\n",
       "      <td>3</td>\n",
       "    </tr>\n",
       "    <tr>\n",
       "      <th>1</th>\n",
       "      <td>b</td>\n",
       "      <td>2</td>\n",
       "      <td>d</td>\n",
       "      <td>4</td>\n",
       "    </tr>\n",
       "  </tbody>\n",
       "</table>\n",
       "</div>"
      ],
      "text/plain": [
       "  letter  number letter  number\n",
       "0      a       1      c       3\n",
       "1      b       2      d       4"
      ]
     },
     "execution_count": 28,
     "metadata": {},
     "output_type": "execute_result"
    }
   ],
   "source": [
    "pd.concat([df1, df2], axis=1) # axis = 1 -> ON the index"
   ]
  },
  {
   "cell_type": "markdown",
   "metadata": {
    "slideshow": {
     "slide_type": "subslide"
    }
   },
   "source": [
    "#### Wrappers: LOOPING over `list_url` using our homemade functions\n",
    "\n",
    "Writing requests manually is tedious. Wrappers add a layer of abstraction that makes this job easier for us."
   ]
  },
  {
   "cell_type": "code",
   "execution_count": 29,
   "metadata": {},
   "outputs": [],
   "source": [
    "# Let's use this short list (but cf. our list extracted above )\n",
    "list_url= ['https://ballotpedia.org/Katie_Britt',\n",
    " 'https://ballotpedia.org/Tommy_Tuberville',\n",
    " 'https://ballotpedia.org/Lisa_Murkowski'\n",
    "]"
   ]
  },
  {
   "cell_type": "code",
   "execution_count": 30,
   "metadata": {},
   "outputs": [
    {
     "name": "stdout",
     "output_type": "stream",
     "text": [
      "-------- https://ballotpedia.org/Katie_Britt --------\n",
      "-------- https://ballotpedia.org/Tommy_Tuberville --------\n",
      "-------- https://ballotpedia.org/Lisa_Murkowski --------\n"
     ]
    }
   ],
   "source": [
    "from bs4 import NavigableString, Tag\n",
    "\n",
    "# the dataframe in which we will put the scraper's output\n",
    "df_parsed=pd.DataFrame()\n",
    "\n",
    "for url in list_url:\n",
    "    print('--------',url, '--------')\n",
    "    #1. Get the soup\n",
    "    soup = get_the_soup(url)\n",
    "    \n",
    "    #2. Extract info from the soup\n",
    "    dic_text_by_header=extract_soup_info_to_dictionary(soup)\n",
    "                \n",
    "    # put the dictionary into a dataframe\n",
    "    temp=pd.DataFrame.from_dict(dic_text_by_header)\n",
    "\n",
    "    # Concats the temporary dataframe with the global one\n",
    "    df_parsed=pd.concat([temp, df_parsed])"
   ]
  },
  {
   "cell_type": "code",
   "execution_count": 31,
   "metadata": {
    "slideshow": {
     "slide_type": "subslide"
    }
   },
   "outputs": [
    {
     "data": {
      "text/html": [
       "<div>\n",
       "<style scoped>\n",
       "    .dataframe tbody tr th:only-of-type {\n",
       "        vertical-align: middle;\n",
       "    }\n",
       "\n",
       "    .dataframe tbody tr th {\n",
       "        vertical-align: top;\n",
       "    }\n",
       "\n",
       "    .dataframe thead th {\n",
       "        text-align: right;\n",
       "    }\n",
       "</style>\n",
       "<table border=\"1\" class=\"dataframe\">\n",
       "  <thead>\n",
       "    <tr style=\"text-align: right;\">\n",
       "      <th></th>\n",
       "      <th>Contents</th>\n",
       "      <th>Biography</th>\n",
       "      <th>Elections</th>\n",
       "      <th>Campaign themes</th>\n",
       "      <th>Notable endorsements</th>\n",
       "      <th>Committee assignments</th>\n",
       "      <th>Key votes</th>\n",
       "      <th>Issues</th>\n",
       "      <th>Campaign finance summary</th>\n",
       "      <th>Personal Gain Index</th>\n",
       "      <th>Analysis</th>\n",
       "      <th>See also</th>\n",
       "      <th>External links</th>\n",
       "      <th>Footnotes</th>\n",
       "      <th>Noteworthy events</th>\n",
       "    </tr>\n",
       "  </thead>\n",
       "  <tbody>\n",
       "    <tr>\n",
       "      <th>0</th>\n",
       "      <td></td>\n",
       "      <td>2002-Present: U.S. Senator from Alaska2002: Ap...</td>\n",
       "      <td></td>\n",
       "      <td>“Second Amendment: The Second Amendment, and a...</td>\n",
       "      <td>Notable candidate endorsements by Lisa Murkows...</td>\n",
       "      <td>AppropriationsSubcommittee on Commerce, Justic...</td>\n",
       "      <td>Key votes(click \"show\" to expand or \"hide\" to ...</td>\n",
       "      <td>AWashington Postinvestigation in February 2012...</td>\n",
       "      <td>Lisa Murkowski campaign contribution historyYe...</td>\n",
       "      <td>Lisa Murkowski Campaign ContributionsTotal Rai...</td>\n",
       "      <td></td>\n",
       "      <td></td>\n",
       "      <td>CandidateU.S. Senate AlaskaWebsiteFacebookTwit...</td>\n",
       "      <td></td>\n",
       "      <td>NaN</td>\n",
       "    </tr>\n",
       "    <tr>\n",
       "      <th>0</th>\n",
       "      <td></td>\n",
       "      <td>Tommy Tuberville was born in Camden, Arkansas,...</td>\n",
       "      <td></td>\n",
       "      <td></td>\n",
       "      <td>Notable candidate endorsements by Tommy Tuberv...</td>\n",
       "      <td></td>\n",
       "      <td>Key votes(click to expand)Key votes: 117th Con...</td>\n",
       "      <td>NaN</td>\n",
       "      <td>Tommy Tuberville campaign contribution history...</td>\n",
       "      <td>NaN</td>\n",
       "      <td>NaN</td>\n",
       "      <td></td>\n",
       "      <td>CandidateU.S. Senate AlabamaWebsiteFacebookTwi...</td>\n",
       "      <td></td>\n",
       "      <td></td>\n",
       "    </tr>\n",
       "    <tr>\n",
       "      <th>0</th>\n",
       "      <td></td>\n",
       "      <td>Katie Britt was born inEnterprise, Alabama, an...</td>\n",
       "      <td></td>\n",
       "      <td>“SAFEGUARDING THE SANCTITY OF LIFE:As a Christ...</td>\n",
       "      <td>Notable candidate endorsements by Katie BrittE...</td>\n",
       "      <td></td>\n",
       "      <td></td>\n",
       "      <td>NaN</td>\n",
       "      <td>NaN</td>\n",
       "      <td>NaN</td>\n",
       "      <td>NaN</td>\n",
       "      <td></td>\n",
       "      <td>CandidateU.S. Senate AlabamaWebsiteFacebookTwi...</td>\n",
       "      <td></td>\n",
       "      <td></td>\n",
       "    </tr>\n",
       "  </tbody>\n",
       "</table>\n",
       "</div>"
      ],
      "text/plain": [
       "  Contents                                          Biography Elections  \\\n",
       "0           2002-Present: U.S. Senator from Alaska2002: Ap...             \n",
       "0           Tommy Tuberville was born in Camden, Arkansas,...             \n",
       "0           Katie Britt was born inEnterprise, Alabama, an...             \n",
       "\n",
       "                                     Campaign themes  \\\n",
       "0  “Second Amendment: The Second Amendment, and a...   \n",
       "0                                                      \n",
       "0  “SAFEGUARDING THE SANCTITY OF LIFE:As a Christ...   \n",
       "\n",
       "                                Notable endorsements  \\\n",
       "0  Notable candidate endorsements by Lisa Murkows...   \n",
       "0  Notable candidate endorsements by Tommy Tuberv...   \n",
       "0  Notable candidate endorsements by Katie BrittE...   \n",
       "\n",
       "                               Committee assignments  \\\n",
       "0  AppropriationsSubcommittee on Commerce, Justic...   \n",
       "0                                                      \n",
       "0                                                      \n",
       "\n",
       "                                           Key votes  \\\n",
       "0  Key votes(click \"show\" to expand or \"hide\" to ...   \n",
       "0  Key votes(click to expand)Key votes: 117th Con...   \n",
       "0                                                      \n",
       "\n",
       "                                              Issues  \\\n",
       "0  AWashington Postinvestigation in February 2012...   \n",
       "0                                                NaN   \n",
       "0                                                NaN   \n",
       "\n",
       "                            Campaign finance summary  \\\n",
       "0  Lisa Murkowski campaign contribution historyYe...   \n",
       "0  Tommy Tuberville campaign contribution history...   \n",
       "0                                                NaN   \n",
       "\n",
       "                                 Personal Gain Index Analysis See also  \\\n",
       "0  Lisa Murkowski Campaign ContributionsTotal Rai...                     \n",
       "0                                                NaN      NaN            \n",
       "0                                                NaN      NaN            \n",
       "\n",
       "                                      External links Footnotes  \\\n",
       "0  CandidateU.S. Senate AlaskaWebsiteFacebookTwit...             \n",
       "0  CandidateU.S. Senate AlabamaWebsiteFacebookTwi...             \n",
       "0  CandidateU.S. Senate AlabamaWebsiteFacebookTwi...             \n",
       "\n",
       "  Noteworthy events  \n",
       "0               NaN  \n",
       "0                    \n",
       "0                    "
      ]
     },
     "execution_count": 31,
     "metadata": {},
     "output_type": "execute_result"
    }
   ],
   "source": [
    "df_parsed.head()"
   ]
  },
  {
   "cell_type": "markdown",
   "metadata": {
    "slideshow": {
     "slide_type": "subslide"
    }
   },
   "source": [
    "### Saving the `DataFrame` in a `pickle` format"
   ]
  },
  {
   "cell_type": "markdown",
   "metadata": {},
   "source": [
    "<div class=\"alert alert-block alert-warning\">\n",
    "<i class=\"fa fa-warning\"></i>&nbsp;<code>pickle</code> format\n",
    "    <ul>\n",
    "        <li> Useful to store <code>python</code> objects \n",
    "        </li>\n",
    "        <li> Well integrated in  <code>pandas</code> (using <code>to_pickle</code> and <code>read_pickle</code>)\n",
    "        </li>\n",
    "        <li> When the object is not a pandas Dataframe, use the <code>pickle</code> package\n",
    "        </li>\n",
    "    </ul>\n",
    "</div>\n"
   ]
  },
  {
   "cell_type": "markdown",
   "metadata": {
    "slideshow": {
     "slide_type": "subslide"
    }
   },
   "source": [
    "#### Managing path\n",
    "<div class=\"alert alert-block alert-warning\">\n",
    "<i class=\"fa fa-warning\"></i>&nbsp;<code>os</code> package\n",
    "    <ul>\n",
    "        <li> <code>os.getcwd()</code>: fetchs the current path\n",
    "        </li>\n",
    "        <li> <code>os.path.dirname()</code>: go back to the parent directory\n",
    "        </li>\n",
    "        <li> <code>os.path.join()</code>: concatenates several paths\n",
    "        </li>\n",
    "    </ul>\n",
    "</div>"
   ]
  },
  {
   "cell_type": "code",
   "execution_count": 32,
   "metadata": {},
   "outputs": [
    {
     "data": {
      "text/plain": [
       "'/Users/malka/Documents/GitHub/ECON2206-Data-Management-2024/practice'"
      ]
     },
     "execution_count": 32,
     "metadata": {},
     "output_type": "execute_result"
    }
   ],
   "source": [
    "import os\n",
    "\n",
    "os.getcwd() #   "
   ]
  },
  {
   "cell_type": "code",
   "execution_count": 33,
   "metadata": {
    "slideshow": {
     "slide_type": "fragment"
    }
   },
   "outputs": [
    {
     "data": {
      "text/plain": [
       "'/Users/malka/Documents/GitHub/ECON2206-Data-Management-2024'"
      ]
     },
     "execution_count": 33,
     "metadata": {},
     "output_type": "execute_result"
    }
   ],
   "source": [
    "parent_path=os.path.dirname(os.getcwd()) \n",
    "parent_path"
   ]
  },
  {
   "cell_type": "code",
   "execution_count": 34,
   "metadata": {},
   "outputs": [],
   "source": [
    "data_path=os.path.join(parent_path, 'data') \n",
    "\n",
    "# Saving the data to pickle:\n",
    "df_parsed.to_pickle(os.path.join(data_path, 'df_senators.pickle'))\n",
    "\n",
    "# Saving the data to csv:\n",
    "df_parsed.to_csv(os.path.join(data_path, 'df_senators.csv'))"
   ]
  },
  {
   "cell_type": "markdown",
   "metadata": {
    "slideshow": {
     "slide_type": "subslide"
    }
   },
   "source": [
    "### Going further\n",
    "\n",
    "There are also **dynamic websites**: the server does not always send back HTML, but your browser also receive and interpret JavaScript code that you cannot retreive from the HTML. You receive JavaScript code that you cannot parse using `beautiful soup` but that you would need to execute like a browser does. \n",
    "\n",
    "Solutions: \n",
    "- Use `requests-html` \n",
    "- Simulate a browser using [selenium](https://selenium-python.readthedocs.io/) "
   ]
  },
  {
   "cell_type": "markdown",
   "metadata": {
    "slideshow": {
     "slide_type": "slide"
    }
   },
   "source": [
    "## Application Programming Interfaces (API)"
   ]
  },
  {
   "cell_type": "markdown",
   "metadata": {
    "slideshow": {
     "slide_type": "subslide"
    }
   },
   "source": [
    "### What is an API?\n",
    "<div class=\"r-stack\"><img src=\"https://raw.githubusercontent.com/malkaguillot/ECON2206-Data-Management/refs/heads/main/slides/images/api/API_3.svg?token=GHSAT0AAAAAACWYMATYOB76VG6756UFYU3UZYM5HYQ\" style=\"height: 360px;\" > </div>\n",
    "\n",
    "Communication layer that allows different systems to talk to each other without having to understand exactly what each other does.\n",
    "\n",
    "$\\Rightarrow$ provide a to **progammable** access to data.\n"
   ]
  },
  {
   "cell_type": "markdown",
   "metadata": {
    "slideshow": {
     "slide_type": "subslide"
    }
   },
   "source": [
    "The (retired) website [Programmable Web](https://www.programmableweb.com/apis/directory) used to list more than 225,353 API from sites as diverse as Google, Amazon, YouTube, the New York Times, del.icio.us, LinkedIn, and many others.\n",
    "\n",
    "<center>\n",
    "<div class=\"r-stack\"><img src=\"https://www.researchgate.net/publication/362048443/figure/fig1/AS:11431281099021888@1669172071410/The-increasing-growth-of-Web-API-6.png\" style=\"height: 400px;\" > </div>\n",
    "</center>\n",
    "\n",
    "Source: [Programmable Web](https://www.programmableweb.com/news/apis-show-faster-growth-rate-2019-previous-years/research/2019/07/17) \n"
   ]
  },
  {
   "cell_type": "markdown",
   "metadata": {
    "slideshow": {
     "slide_type": "subslide"
    }
   },
   "source": [
    "### How Does an API Work?\n",
    "\n",
    "- Relying on **HTTP messages** :\n",
    "    - `request` for information or data, \n",
    "    - the API returns a `response` with what you requested\n",
    "- Similar to visiting a website: you specify a URL and information is sent to your machine.\n",
    "\n",
    "###  Better than webscraping if possible because: \n",
    "- More stable than webpages\n",
    "- No HTML but already structured data (e.g. in `json`)\n",
    "- we focus on the APIs that use HTTP protocol"
   ]
  },
  {
   "cell_type": "markdown",
   "metadata": {
    "slideshow": {
     "slide_type": "subslide"
    }
   },
   "source": [
    "<center><div class=\"r-stack\">\n",
    "<img src=\"https://s3.us-west-1.wasabisys.com/idbwmedia.com/images/api/restapi_restapi.svg\" style=\"height: 500px;\" > </div>\n",
    "</center>"
   ]
  },
  {
   "cell_type": "markdown",
   "metadata": {
    "slideshow": {
     "slide_type": "subslide"
    }
   },
   "source": [
    "### Endpoints and Resources\n",
    "\n",
    "*An API endpoint is the end of your communication channel to the API. An API can have different endpoints for channels leading to different resources.*\n",
    "\n",
    "- **base URL**: https://api.carbonintensity.org.uk\n",
    "    - Other examples: https://api.twitter.com; https://api.github.com\n",
    "    - very basic information about an API, not the real data.\n",
    "- Extend the url with **endpoint**\n",
    "    - = a part of the URL that specifies what resource you want to fetch\n",
    "    - check the [documentation](https://carbon-intensity.github.io/api-definitions/#carbon-intensity-api-v2-0-0)\n",
    " to learn more about what endpoints are available"
   ]
  },
  {
   "cell_type": "markdown",
   "metadata": {},
   "source": [
    "### Anatomy of a request\n",
    "<div class=\"r-stack\"><img src=\"https://raw.githubusercontent.com/malkaguillot/ECON2206-Data-Management/refs/heads/main/slides/images/api/API_call_anatomy.svg?token=GHSAT0AAAAAACWYMATYD7WH4TQMCZNVL6EKZYM5NTA\" style=\"height: 160px;\" > </div>\n",
    "\n"
   ]
  },
  {
   "cell_type": "markdown",
   "metadata": {},
   "source": [
    "### Anatomy of a response\n",
    "\n",
    "Very often API responses are formatted as JSON objects.\n",
    "\n"
   ]
  },
  {
   "cell_type": "code",
   "execution_count": 35,
   "metadata": {},
   "outputs": [
    {
     "data": {
      "text/plain": [
       "{'data': [{'end': '2022-07-01', 'start': '2022-06-30', 'tweet_count': 3},\n",
       "  {'end': '2022-07-02', 'start': '2022-07-01', 'tweet_count': 2}]}"
      ]
     },
     "execution_count": 35,
     "metadata": {},
     "output_type": "execute_result"
    }
   ],
   "source": [
    "api_response = {\n",
    "    \"data\":\n",
    "    [\n",
    "        {\n",
    "            \"end\":\"2022-07-01\",\n",
    "            \"start\":\"2022-06-30\",\n",
    "            \"tweet_count\":3\n",
    "        },\n",
    "        {\n",
    "            \"end\":\"2022-07-02\",\n",
    "            \"start\":\"2022-07-01\",\n",
    "            \"tweet_count\":2\n",
    "        }\n",
    "    ]\n",
    "}\n",
    "api_response "
   ]
  },
  {
   "cell_type": "markdown",
   "metadata": {},
   "source": [
    "A json works as a dictionary:"
   ]
  },
  {
   "cell_type": "code",
   "execution_count": 36,
   "metadata": {},
   "outputs": [
    {
     "data": {
      "text/plain": [
       "'2022-07-01'"
      ]
     },
     "execution_count": 36,
     "metadata": {},
     "output_type": "execute_result"
    }
   ],
   "source": [
    "api_response['data'][0]['end'] "
   ]
  },
  {
   "cell_type": "markdown",
   "metadata": {},
   "source": [
    "<div class=\"alert alert-info\">\n",
    "<h3> Your turn</h3>\n",
    "Using the previous `api_response` json, extract the number of tweet for `2022-07-01`.\n",
    "</div>"
   ]
  },
  {
   "cell_type": "code",
   "execution_count": 37,
   "metadata": {},
   "outputs": [
    {
     "data": {
      "text/plain": [
       "2"
      ]
     },
     "execution_count": 37,
     "metadata": {},
     "output_type": "execute_result"
    }
   ],
   "source": [
    "api_response['data'][1]['tweet_count'] "
   ]
  },
  {
   "cell_type": "markdown",
   "metadata": {
    "slideshow": {
     "slide_type": "subslide"
    }
   },
   "source": [
    "### HTTP Methods\n",
    "| HTTP Method | Description                  | Requests method   |\n",
    "|-------------|------------------------------|-------------------|\n",
    "| POST        | Create a new resource.       | requests.post()   |\n",
    "| GET         | Read an existing resource.   | requests.get()    |\n",
    "| PUT         | Update an existing resource. | requests.put()    |\n",
    "| DELETE      | Delete an existing resource. | requests.delete() |"
   ]
  },
  {
   "cell_type": "markdown",
   "metadata": {
    "slideshow": {
     "slide_type": "subslide"
    }
   },
   "source": [
    "### Calling Your First API Using Python"
   ]
  },
  {
   "cell_type": "markdown",
   "metadata": {},
   "source": [
    "Forecasts from the [**Carbon Intensity API**](https://carbonintensity.org.uk/) (include CO2 emissions related to eletricity generation only).\n",
    "\n",
    "See the API [documentation](https://carbon-intensity.github.io/api-definitions/#carbon-intensity-api-v2-0-0)\n",
    "\n",
    "<center>\n",
    "<img src=\"attachment:image.png\">\n",
    "</center>\n"
   ]
  },
  {
   "cell_type": "code",
   "execution_count": 38,
   "metadata": {
    "slideshow": {
     "slide_type": "subslide"
    }
   },
   "outputs": [
    {
     "data": {
      "text/plain": [
       "<Response [200]>"
      ]
     },
     "execution_count": 38,
     "metadata": {},
     "output_type": "execute_result"
    }
   ],
   "source": [
    "import requests\n",
    "headers = { \n",
    "  'Accept': 'application/json'\n",
    "}\n",
    "# fetch (or get) data from the URL\n",
    "requests.get('https://api.carbonintensity.org.uk', params={}, headers = headers) "
   ]
  },
  {
   "cell_type": "code",
   "execution_count": 39,
   "metadata": {},
   "outputs": [
    {
     "name": "stdout",
     "output_type": "stream",
     "text": [
      "<!DOCTYPE html>\n",
      "<html lang=\"en\">\n",
      "  <head>\n",
      "    <title>Carbon Intensity API</title>\n",
      "    <meta charset=\"utf-8\">\n",
      "    <meta name=\"viewport\" content=\"width=device-width, initial-scale=1\">\n",
      "    <link rel=\"stylesheet\" href=\"https://maxcdn.bootstrapcdn.com/bootstrap/3.3.7/css/bootstrap.min.css\">\n",
      "    <script src=\"https://ajax.googleapis.com/ajax/libs/jquery/3.2.1/jquery.min.js\"></script>\n",
      "    <script src=\"https://maxcdn.bootstrapcdn.com/bootstrap/3.3.7/js/bootstrap.min.js\"></script>\n",
      "    <style>\n",
      "  \n"
     ]
    }
   ],
   "source": [
    "response = requests.get('https://api.carbonintensity.org.uk', params={}, headers = headers) \n",
    "print(response.text[:500])"
   ]
  },
  {
   "cell_type": "markdown",
   "metadata": {
    "slideshow": {
     "slide_type": "subslide"
    }
   },
   "source": [
    "### Using the `intensity`  endpoint:"
   ]
  },
  {
   "cell_type": "code",
   "execution_count": 40,
   "metadata": {},
   "outputs": [
    {
     "name": "stdout",
     "output_type": "stream",
     "text": [
      "--- text ---\n",
      "('{ \\r\\n'\n",
      " '  \"data\":[{ \\r\\n'\n",
      " '    \"from\": \"2024-10-14T09:00Z\",\\r\\n'\n",
      " '    \"to\": \"2024-10-14T09:30Z\",\\r\\n'\n",
      " '    \"intensity\": {\\r\\n'\n",
      " '      \"forecast\": 240,\\r\\n'\n",
      " '      \"actual\": 243,\\r\\n'\n",
      " '      \"index\": \"high\"\\r\\n'\n",
      " '    }\\r\\n'\n",
      " '  }]\\r\\n'\n",
      " '}')\n",
      "--- Content ---\n",
      "(b'{ \\r\\n  \"data\":[{ \\r\\n    \"from\": \"2024-10-14T09:00Z\",\\r\\n    \"to\": \"2024-'\n",
      " b'10-14T09:30Z\",\\r\\n    \"intensity\": {\\r\\n      \"forecast\": 240,\\r\\n      \"a'\n",
      " b'ctual\": 243,\\r\\n      \"index\": \"high\"\\r\\n    }\\r\\n  }]\\r\\n}')\n",
      "--- JSON---\n",
      "{'data': [{'from': '2024-10-14T09:00Z',\n",
      "           'intensity': {'actual': 243, 'forecast': 240, 'index': 'high'},\n",
      "           'to': '2024-10-14T09:30Z'}]}\n"
     ]
    }
   ],
   "source": [
    "# Get Carbon Intensity data for current half hour\n",
    "r = requests.get('https://api.carbonintensity.org.uk/intensity', params={}, headers = headers)\n",
    "\n",
    "# Different outputs (same information):\n",
    "print(\"--- text ---\")\n",
    "pprint(r.text)\n",
    "print(\"--- Content ---\")\n",
    "pprint(r.content)\n",
    "print(\"--- JSON---\")\n",
    "pprint(r.json())"
   ]
  },
  {
   "cell_type": "markdown",
   "metadata": {
    "slideshow": {
     "slide_type": "subslide"
    }
   },
   "source": [
    "<div class=\"alert alert-block alert-warning\">\n",
    "<h3><i class=\"fa fa-warning\"></i><code>json</code> </h3>\n",
    "    <ul>\n",
    "        <li><code>json</code>= python dictionary\n",
    "        </li>\n",
    "        <li>A great format for structured data\n",
    "        </li>\n",
    "    </ul>\n",
    "</div>"
   ]
  },
  {
   "cell_type": "code",
   "execution_count": 41,
   "metadata": {},
   "outputs": [
    {
     "data": {
      "text/plain": [
       "[{'from': '2024-10-14T09:00Z',\n",
       "  'to': '2024-10-14T09:30Z',\n",
       "  'intensity': {'forecast': 240, 'actual': 243, 'index': 'high'}}]"
      ]
     },
     "execution_count": 41,
     "metadata": {},
     "output_type": "execute_result"
    }
   ],
   "source": [
    "# json objects work as do any other dictionary in Python\n",
    "json=r.json()\n",
    "json['data']"
   ]
  },
  {
   "cell_type": "code",
   "execution_count": 42,
   "metadata": {},
   "outputs": [
    {
     "data": {
      "text/plain": [
       "243"
      ]
     },
     "execution_count": 42,
     "metadata": {},
     "output_type": "execute_result"
    }
   ],
   "source": [
    "# get the actual intensity value:\n",
    "json['data'][0]['intensity']['actual']"
   ]
  },
  {
   "cell_type": "markdown",
   "metadata": {
    "slideshow": {
     "slide_type": "subslide"
    }
   },
   "source": [
    "<div class=\"alert alert-info\">\n",
    "<h3> Your turn</h3>\n",
    "        <li>Get Carbon Intensity factors for each fuel type -> look for the relevant endpoint\n",
    "        </li>\n",
    "        <li> Get Carbon Intensity data for current half hour for GB regions\n",
    "        </li>\n",
    "    </ul>\n",
    "\n",
    "</div>"
   ]
  },
  {
   "cell_type": "code",
   "execution_count": 43,
   "metadata": {
    "slideshow": {
     "slide_type": "fragment"
    }
   },
   "outputs": [
    {
     "name": "stdout",
     "output_type": "stream",
     "text": [
      "{'data': [{'Biomass': 120,\n",
      "           'Coal': 937,\n",
      "           'Dutch Imports': 474,\n",
      "           'French Imports': 53,\n",
      "           'Gas (Combined Cycle)': 394,\n",
      "           'Gas (Open Cycle)': 651,\n",
      "           'Hydro': 0,\n",
      "           'Irish Imports': 458,\n",
      "           'Nuclear': 0,\n",
      "           'Oil': 935,\n",
      "           'Other': 300,\n",
      "           'Pumped Storage': 0,\n",
      "           'Solar': 0,\n",
      "           'Wind': 0}]}\n"
     ]
    }
   ],
   "source": [
    "r = requests.get('https://api.carbonintensity.org.uk/intensity/factors', params={}, headers = headers)\n",
    "pprint(r.json())"
   ]
  },
  {
   "cell_type": "code",
   "execution_count": 44,
   "metadata": {
    "slideshow": {
     "slide_type": "fragment"
    }
   },
   "outputs": [
    {
     "name": "stdout",
     "output_type": "stream",
     "text": [
      "{'data': [{'from': '2024-10-14T09:00Z',\n",
      "           'regions': [{'dnoregion': 'Scottish Hydro Electric Power '\n",
      "                                     'Distribution',\n",
      "                        'generationmix': [{'fuel': 'biomass', 'perc': 0},\n",
      "                                          {'fuel': 'coal', 'perc': 0},\n",
      "                                          {'fuel': 'imports', 'perc': 0},\n",
      "                                          {'fuel': 'gas', 'perc': 23.1},\n",
      "                                          {'fuel': 'nuclear', 'perc': 0},\n",
      "                                          {'fuel': 'other', 'perc': 0},\n",
      "                                          {'fuel': 'hydro', 'perc': 9.6},\n",
      "                                          {'fuel': 'solar', 'perc': 0},\n",
      "                                          {'fuel': 'wind', 'perc': 67.2}],\n",
      "                        'intensity': {'forecast': 91, 'index': 'low'},\n",
      "                        'regionid': 1,\n",
      "                        'shortname': 'North Scotland'},\n",
      "                       {'dnoregion': 'SP Distribution',\n",
      "                        'generationmix': [{'fuel': 'biomass', 'perc': 2},\n",
      "                                          {'fuel': 'coal', 'perc': 0},\n",
      "                                          {'fuel': 'imports', 'perc': 0},\n",
      "                                          {'fuel': 'gas', 'perc': 9.2},\n",
      "                                          {'fuel': 'nuclear', 'perc': 39.7},\n",
      "                                          {'fuel': 'other', 'perc': 0},\n",
      "                                          {'fuel': 'hydro', 'perc': 3.7},\n",
      "                                          {'fuel': 'solar', 'perc': 5.3},\n",
      "                                          {'fuel': 'wind', 'perc': 40.1}],\n",
      "                        'intensity': {'forecast': 39, 'index': 'low'},\n",
      "                        'regionid': 2,\n",
      "                        'shortname': 'South Scotland'},\n",
      "                       {'dnoregion': 'Electricity North West',\n",
      "                        'generationmix': [{'fuel': 'biomass', 'perc': 8.4},\n",
      "                                          {'fuel': 'coal', 'perc': 0},\n",
      "                                          {'fuel': 'imports', 'perc': 0},\n",
      "                                          {'fuel': 'gas', 'perc': 34.9},\n",
      "                                          {'fuel': 'nuclear', 'perc': 46.9},\n",
      "                                          {'fuel': 'other', 'perc': 0},\n",
      "                                          {'fuel': 'hydro', 'perc': 0},\n",
      "                                          {'fuel': 'solar', 'perc': 3.2},\n",
      "                                          {'fuel': 'wind', 'perc': 6.7}],\n",
      "                        'intensity': {'forecast': 147, 'index': 'moderate'},\n",
      "                        'regionid': 3,\n",
      "                        'shortname': 'North West England'},\n",
      "                       {'dnoregion': 'NPG North East',\n",
      "                        'generationmix': [{'fuel': 'biomass', 'perc': 46.1},\n",
      "                                          {'fuel': 'coal', 'perc': 0},\n",
      "                                          {'fuel': 'imports', 'perc': 0},\n",
      "                                          {'fuel': 'gas', 'perc': 21.7},\n",
      "                                          {'fuel': 'nuclear', 'perc': 18.2},\n",
      "                                          {'fuel': 'other', 'perc': 0},\n",
      "                                          {'fuel': 'hydro', 'perc': 0.2},\n",
      "                                          {'fuel': 'solar', 'perc': 9.6},\n",
      "                                          {'fuel': 'wind', 'perc': 4.3}],\n",
      "                        'intensity': {'forecast': 141, 'index': 'moderate'},\n",
      "                        'regionid': 4,\n",
      "                        'shortname': 'North East England'},\n",
      "                       {'dnoregion': 'NPG Yorkshire',\n",
      "                        'generationmix': [{'fuel': 'biomass', 'perc': 55.9},\n",
      "                                          {'fuel': 'coal', 'perc': 0},\n",
      "                                          {'fuel': 'imports', 'perc': 0},\n",
      "                                          {'fuel': 'gas', 'perc': 36.6},\n",
      "                                          {'fuel': 'nuclear', 'perc': 0},\n",
      "                                          {'fuel': 'other', 'perc': 0},\n",
      "                                          {'fuel': 'hydro', 'perc': 0},\n",
      "                                          {'fuel': 'solar', 'perc': 5.1},\n",
      "                                          {'fuel': 'wind', 'perc': 2.4}],\n",
      "                        'intensity': {'forecast': 211, 'index': 'high'},\n",
      "                        'regionid': 5,\n",
      "                        'shortname': 'Yorkshire'},\n",
      "                       {'dnoregion': 'SP Manweb',\n",
      "                        'generationmix': [{'fuel': 'biomass', 'perc': 0},\n",
      "                                          {'fuel': 'coal', 'perc': 0},\n",
      "                                          {'fuel': 'imports', 'perc': 0},\n",
      "                                          {'fuel': 'gas', 'perc': 68.7},\n",
      "                                          {'fuel': 'nuclear', 'perc': 1},\n",
      "                                          {'fuel': 'other', 'perc': 0},\n",
      "                                          {'fuel': 'hydro', 'perc': 15.4},\n",
      "                                          {'fuel': 'solar', 'perc': 6.5},\n",
      "                                          {'fuel': 'wind', 'perc': 8.5}],\n",
      "                        'intensity': {'forecast': 271, 'index': 'very high'},\n",
      "                        'regionid': 6,\n",
      "                        'shortname': 'North Wales & Merseyside'},\n",
      "                       {'dnoregion': 'WPD South Wales',\n",
      "                        'generationmix': [{'fuel': 'biomass', 'perc': 0},\n",
      "                                          {'fuel': 'coal', 'perc': 0},\n",
      "                                          {'fuel': 'imports', 'perc': 0},\n",
      "                                          {'fuel': 'gas', 'perc': 94.9},\n",
      "                                          {'fuel': 'nuclear', 'perc': 0},\n",
      "                                          {'fuel': 'other', 'perc': 0},\n",
      "                                          {'fuel': 'hydro', 'perc': 0},\n",
      "                                          {'fuel': 'solar', 'perc': 1.6},\n",
      "                                          {'fuel': 'wind', 'perc': 3.4}],\n",
      "                        'intensity': {'forecast': 374, 'index': 'very high'},\n",
      "                        'regionid': 7,\n",
      "                        'shortname': 'South Wales'},\n",
      "                       {'dnoregion': 'WPD West Midlands',\n",
      "                        'generationmix': [{'fuel': 'biomass', 'perc': 0},\n",
      "                                          {'fuel': 'coal', 'perc': 0},\n",
      "                                          {'fuel': 'imports', 'perc': 0.7},\n",
      "                                          {'fuel': 'gas', 'perc': 92.9},\n",
      "                                          {'fuel': 'nuclear', 'perc': 0.1},\n",
      "                                          {'fuel': 'other', 'perc': 0},\n",
      "                                          {'fuel': 'hydro', 'perc': 0.1},\n",
      "                                          {'fuel': 'solar', 'perc': 2.7},\n",
      "                                          {'fuel': 'wind', 'perc': 3.3}],\n",
      "                        'intensity': {'forecast': 367, 'index': 'very high'},\n",
      "                        'regionid': 8,\n",
      "                        'shortname': 'West Midlands'},\n",
      "                       {'dnoregion': 'WPD East Midlands',\n",
      "                        'generationmix': [{'fuel': 'biomass', 'perc': 0},\n",
      "                                          {'fuel': 'coal', 'perc': 0},\n",
      "                                          {'fuel': 'imports', 'perc': 0},\n",
      "                                          {'fuel': 'gas', 'perc': 93.9},\n",
      "                                          {'fuel': 'nuclear', 'perc': 0},\n",
      "                                          {'fuel': 'other', 'perc': 0},\n",
      "                                          {'fuel': 'hydro', 'perc': 0},\n",
      "                                          {'fuel': 'solar', 'perc': 3.7},\n",
      "                                          {'fuel': 'wind', 'perc': 2.3}],\n",
      "                        'intensity': {'forecast': 370, 'index': 'very high'},\n",
      "                        'regionid': 9,\n",
      "                        'shortname': 'East Midlands'},\n",
      "                       {'dnoregion': 'UKPN East',\n",
      "                        'generationmix': [{'fuel': 'biomass', 'perc': 0},\n",
      "                                          {'fuel': 'coal', 'perc': 0},\n",
      "                                          {'fuel': 'imports', 'perc': 19.1},\n",
      "                                          {'fuel': 'gas', 'perc': 32.3},\n",
      "                                          {'fuel': 'nuclear', 'perc': 20.6},\n",
      "                                          {'fuel': 'other', 'perc': 0},\n",
      "                                          {'fuel': 'hydro', 'perc': 0.1},\n",
      "                                          {'fuel': 'solar', 'perc': 2.7},\n",
      "                                          {'fuel': 'wind', 'perc': 25.2}],\n",
      "                        'intensity': {'forecast': 200, 'index': 'high'},\n",
      "                        'regionid': 10,\n",
      "                        'shortname': 'East England'},\n",
      "                       {'dnoregion': 'WPD South West',\n",
      "                        'generationmix': [{'fuel': 'biomass', 'perc': 0},\n",
      "                                          {'fuel': 'coal', 'perc': 0},\n",
      "                                          {'fuel': 'imports', 'perc': 0},\n",
      "                                          {'fuel': 'gas', 'perc': 74.5},\n",
      "                                          {'fuel': 'nuclear', 'perc': 0},\n",
      "                                          {'fuel': 'other', 'perc': 0},\n",
      "                                          {'fuel': 'hydro', 'perc': 0},\n",
      "                                          {'fuel': 'solar', 'perc': 23.6},\n",
      "                                          {'fuel': 'wind', 'perc': 1.9}],\n",
      "                        'intensity': {'forecast': 294, 'index': 'very high'},\n",
      "                        'regionid': 11,\n",
      "                        'shortname': 'South West England'},\n",
      "                       {'dnoregion': 'SSE South',\n",
      "                        'generationmix': [{'fuel': 'biomass', 'perc': 0},\n",
      "                                          {'fuel': 'coal', 'perc': 0},\n",
      "                                          {'fuel': 'imports', 'perc': 9.8},\n",
      "                                          {'fuel': 'gas', 'perc': 80.5},\n",
      "                                          {'fuel': 'nuclear', 'perc': 0},\n",
      "                                          {'fuel': 'other', 'perc': 0},\n",
      "                                          {'fuel': 'hydro', 'perc': 0.1},\n",
      "                                          {'fuel': 'solar', 'perc': 5.9},\n",
      "                                          {'fuel': 'wind', 'perc': 3.7}],\n",
      "                        'intensity': {'forecast': 327, 'index': 'very high'},\n",
      "                        'regionid': 12,\n",
      "                        'shortname': 'South England'},\n",
      "                       {'dnoregion': 'UKPN London',\n",
      "                        'generationmix': [{'fuel': 'biomass', 'perc': 0},\n",
      "                                          {'fuel': 'coal', 'perc': 0},\n",
      "                                          {'fuel': 'imports', 'perc': 36.3},\n",
      "                                          {'fuel': 'gas', 'perc': 39.8},\n",
      "                                          {'fuel': 'nuclear', 'perc': 5.1},\n",
      "                                          {'fuel': 'other', 'perc': 0},\n",
      "                                          {'fuel': 'hydro', 'perc': 0.4},\n",
      "                                          {'fuel': 'solar', 'perc': 1.3},\n",
      "                                          {'fuel': 'wind', 'perc': 17.1}],\n",
      "                        'intensity': {'forecast': 204, 'index': 'high'},\n",
      "                        'regionid': 13,\n",
      "                        'shortname': 'London'},\n",
      "                       {'dnoregion': 'UKPN South East',\n",
      "                        'generationmix': [{'fuel': 'biomass', 'perc': 0},\n",
      "                                          {'fuel': 'coal', 'perc': 0},\n",
      "                                          {'fuel': 'imports', 'perc': 43.7},\n",
      "                                          {'fuel': 'gas', 'perc': 40.3},\n",
      "                                          {'fuel': 'nuclear', 'perc': 0},\n",
      "                                          {'fuel': 'other', 'perc': 0},\n",
      "                                          {'fuel': 'hydro', 'perc': 0.5},\n",
      "                                          {'fuel': 'solar', 'perc': 0.6},\n",
      "                                          {'fuel': 'wind', 'perc': 15}],\n",
      "                        'intensity': {'forecast': 199, 'index': 'high'},\n",
      "                        'regionid': 14,\n",
      "                        'shortname': 'South East England'},\n",
      "                       {'dnoregion': 'England',\n",
      "                        'generationmix': [{'fuel': 'biomass', 'perc': 9.7},\n",
      "                                          {'fuel': 'coal', 'perc': 0},\n",
      "                                          {'fuel': 'imports', 'perc': 8.9},\n",
      "                                          {'fuel': 'gas', 'perc': 56.4},\n",
      "                                          {'fuel': 'nuclear', 'perc': 10},\n",
      "                                          {'fuel': 'other', 'perc': 0},\n",
      "                                          {'fuel': 'hydro', 'perc': 0.7},\n",
      "                                          {'fuel': 'solar', 'perc': 5},\n",
      "                                          {'fuel': 'wind', 'perc': 9.3}],\n",
      "                        'intensity': {'forecast': 251, 'index': 'high'},\n",
      "                        'regionid': 15,\n",
      "                        'shortname': 'England'},\n",
      "                       {'dnoregion': 'Scotland',\n",
      "                        'generationmix': [{'fuel': 'biomass', 'perc': 1.1},\n",
      "                                          {'fuel': 'coal', 'perc': 0},\n",
      "                                          {'fuel': 'imports', 'perc': 0},\n",
      "                                          {'fuel': 'gas', 'perc': 26.7},\n",
      "                                          {'fuel': 'nuclear', 'perc': 23.9},\n",
      "                                          {'fuel': 'other', 'perc': 0},\n",
      "                                          {'fuel': 'hydro', 'perc': 5.6},\n",
      "                                          {'fuel': 'solar', 'perc': 3.6},\n",
      "                                          {'fuel': 'wind', 'perc': 39.1}],\n",
      "                        'intensity': {'forecast': 107, 'index': 'low'},\n",
      "                        'regionid': 16,\n",
      "                        'shortname': 'Scotland'},\n",
      "                       {'dnoregion': 'Wales',\n",
      "                        'generationmix': [{'fuel': 'biomass', 'perc': 0},\n",
      "                                          {'fuel': 'coal', 'perc': 0},\n",
      "                                          {'fuel': 'imports', 'perc': 0},\n",
      "                                          {'fuel': 'gas', 'perc': 84.9},\n",
      "                                          {'fuel': 'nuclear', 'perc': 0},\n",
      "                                          {'fuel': 'other', 'perc': 0},\n",
      "                                          {'fuel': 'hydro', 'perc': 6.8},\n",
      "                                          {'fuel': 'solar', 'perc': 2.6},\n",
      "                                          {'fuel': 'wind', 'perc': 5.7}],\n",
      "                        'intensity': {'forecast': 335, 'index': 'very high'},\n",
      "                        'regionid': 17,\n",
      "                        'shortname': 'Wales'},\n",
      "                       {'dnoregion': 'GB',\n",
      "                        'generationmix': [{'fuel': 'biomass', 'perc': 8.3},\n",
      "                                          {'fuel': 'coal', 'perc': 0},\n",
      "                                          {'fuel': 'imports', 'perc': 7.5},\n",
      "                                          {'fuel': 'gas', 'perc': 55.2},\n",
      "                                          {'fuel': 'nuclear', 'perc': 10.7},\n",
      "                                          {'fuel': 'other', 'perc': 0},\n",
      "                                          {'fuel': 'hydro', 'perc': 1.6},\n",
      "                                          {'fuel': 'solar', 'perc': 4.7},\n",
      "                                          {'fuel': 'wind', 'perc': 12}],\n",
      "                        'intensity': {'forecast': 241, 'index': 'high'},\n",
      "                        'regionid': 18,\n",
      "                        'shortname': 'GB'}],\n",
      "           'to': '2024-10-14T09:30Z'}]}\n"
     ]
    }
   ],
   "source": [
    "r = requests.get('https://api.carbonintensity.org.uk/regional', params={}, headers = headers)\n",
    "pprint(r.json())"
   ]
  },
  {
   "cell_type": "code",
   "execution_count": 45,
   "metadata": {},
   "outputs": [
    {
     "name": "stdout",
     "output_type": "stream",
     "text": [
      "{'data': [{'Biomass': 120,\n",
      "           'Coal': 937,\n",
      "           'Dutch Imports': 474,\n",
      "           'French Imports': 53,\n",
      "           'Gas (Combined Cycle)': 394,\n",
      "           'Gas (Open Cycle)': 651,\n",
      "           'Hydro': 0,\n",
      "           'Irish Imports': 458,\n",
      "           'Nuclear': 0,\n",
      "           'Oil': 935,\n",
      "           'Other': 300,\n",
      "           'Pumped Storage': 0,\n",
      "           'Solar': 0,\n",
      "           'Wind': 0}]}\n"
     ]
    }
   ],
   "source": [
    "r = requests.get('https://api.carbonintensity.org.uk/intensity/factors', params={}, headers = headers)\n",
    "pprint(r.json())"
   ]
  },
  {
   "cell_type": "code",
   "execution_count": 46,
   "metadata": {},
   "outputs": [],
   "source": [
    "# Get Carbon Intensity data for current half hour for GB regions\n",
    "r = requests.get('https://api.carbonintensity.org.uk/regional', params={}, headers = headers)\n",
    "#pprint(r.json())"
   ]
  },
  {
   "cell_type": "markdown",
   "metadata": {
    "slideshow": {
     "slide_type": "subslide"
    }
   },
   "source": [
    "### Query Parameters\n",
    "- cf. slide on `url`\n",
    "- used as filters you can send with your API request to further narrow down the responses."
   ]
  },
  {
   "cell_type": "code",
   "execution_count": 47,
   "metadata": {},
   "outputs": [],
   "source": [
    "# In the carbonintensity API, it works differently:\n",
    "from_=\"2018-08-25T12:35Z\"\n",
    "to=\"2018-08-25T13:35Z\"\n",
    "r = requests.get('https://api.carbonintensity.org.uk/regional/intensity/{}/{}'.format(from_, to), params={}, headers = headers)\n",
    "#pprint(r.json())"
   ]
  },
  {
   "cell_type": "markdown",
   "metadata": {
    "slideshow": {
     "slide_type": "subslide"
    }
   },
   "source": [
    "### API Limitations\n",
    "To prevent collection of huge amount of individual data, many APIs require you to obtain “credentials” or codes/passwords that identify you and determine which types of data you are allowed to access. \n",
    "\n",
    "#### API Credentials\n",
    "- Different methods/level of authentification exist\n",
    "    - API keys\n",
    "    - OAuth      \n",
    "####  Rate Limits & quotas\n",
    "- The credentials also define how often we are allowed to make requests for data. \n",
    "- Be careful not to exceed the limits set by the API developers. "
   ]
  },
  {
   "cell_type": "markdown",
   "metadata": {
    "slideshow": {
     "slide_type": "subslide"
    }
   },
   "source": [
    "#### API Keys\n",
    "\n",
    "- Most common level of authentication \n",
    "- These keys are used to identify you as an API user or customer and to trace your use of the API. \n",
    "- API keys are typically sent as a request header or as a query parameter.\n"
   ]
  },
  {
   "cell_type": "markdown",
   "metadata": {},
   "source": [
    "### Examples in research\n",
    "\n",
    "#### The Telegram API\n",
    "\n",
    "- *What do you get?* \n",
    "  - Messages & media in a given channel, channel members.\n",
    "- *Usefulness*: \n",
    "  - Very useful to get data from fringe-groups that are not represented on big social media platforms. Severly underused in computational social science research.\n",
    "- *Accessibility*: \n",
    "  - Clunky authentification process, lacking documentation, python wrapper not really designed for data collection.\n",
    "- *Example publication*: \n",
    "  - [Organization and evolution of the UK far-right network on Telegram](https://appliednetsci.springeropen.com/articles/10.1007/s41109-022-00513-8) "
   ]
  },
  {
   "cell_type": "markdown",
   "metadata": {},
   "source": [
    "#### The New York Times API\n",
    "- *What do you get?* \n",
    "  - Article abstracts and metadata, not full article texts.\n",
    "- *Usefulness*: \n",
    "  - Somewhat limited because full texts are missing, but abstracts can serve as a window into histporic high-quality journalistic texts.\n",
    "- *Accessibility*: \n",
    "  - Easy authentification, good documentation, nice python wrapper, hard to get article texts.\n",
    "- *Example publication*: \n",
    "  - [The rise and fall of rationality in language](https://www.pnas.org/doi/epdf/10.1073/pnas.2107848118) "
   ]
  },
  {
   "cell_type": "markdown",
   "metadata": {},
   "source": [
    "#### Other useful APIs:\n",
    "- Spotify   \n",
    "  - Metadata about artists, playlists & tracks, song features like \"danceability\".\n",
    "- CrossRef\n",
    "  - Article titles, authors, journals, number of references.\n",
    "- Open Street Maps\n",
    "  - Map data (nodes, ways, relations), alternative to Google maps.\n",
    "- The MediaWiki API \n",
    "  - Access wikipedia articles, article discussions & revision histories."
   ]
  },
  {
   "cell_type": "markdown",
   "metadata": {
    "slideshow": {
     "slide_type": "slide"
    }
   },
   "source": [
    "## General remarks\n",
    "- Start simple\n",
    "    - Expand your program incrementally.\n",
    "- Keep it simple. \n",
    "    - Do not overengineer the problem.\n",
    "- Do not repeat yourself. \n",
    "    - Code duplication implies bug reuse.\n",
    "- Limit the number of iterations for test runs. \n",
    "    - Use print statements toinspect objects.\n",
    "- Write tests to verify things work as intended.\n",
    "- If the web page cannot be navigated easily or has hidden javascript, look into Selenium."
   ]
  },
  {
   "cell_type": "markdown",
   "metadata": {},
   "source": [
    "### More resources\n",
    "Excellent [tutorial](https://www.dataquest.io/blog/web-scraping-python-using-beautiful-soup/) for a workflow from HTML to pandas DataFrame.\n",
    "\n",
    "- Web scraping with Selenium [Notebook]()\n",
    "- Web scraping [code snippets](https://github.com/JanaLasser/SICSS-aachen-graz/blob/main/02_01_APIs/exercise/web_scraping_code_snippets.ipynb).\n",
    "- API access [code snippets](https://github.com/JanaLasser/SICSS-aachen-graz/blob/main/02_01_APIs/exercise/API_access_code_snippets.ipynb).\n",
    "- Crowd-sourced [list](https://docs.google.com/spreadsheets/d/1ZEr3okdlb0zctmX0MZKo-gZKPsq5WGn1nJOxPV7al-Q/edit?gid=0#gid=0) of useful APIs."
   ]
  },
  {
   "cell_type": "markdown",
   "metadata": {},
   "source": []
  }
 ],
 "metadata": {
  "celltoolbar": "Slideshow",
  "kernelspec": {
   "display_name": "DataManagement2024",
   "language": "python",
   "name": "python3"
  },
  "language_info": {
   "codemirror_mode": {
    "name": "ipython",
    "version": 3
   },
   "file_extension": ".py",
   "mimetype": "text/x-python",
   "name": "python",
   "nbconvert_exporter": "python",
   "pygments_lexer": "ipython3",
   "version": "3.12.6"
  },
  "toc": {
   "base_numbering": 1,
   "nav_menu": {},
   "number_sections": false,
   "sideBar": false,
   "skip_h1_title": true,
   "title_cell": "Table of Contents",
   "title_sidebar": "Contents",
   "toc_cell": false,
   "toc_position": {
    "height": "47.7167px",
    "left": "1760.67px",
    "top": "0px",
    "width": "159.333px"
   },
   "toc_section_display": true,
   "toc_window_display": true
  },
  "varInspector": {
   "chalkboard": {
    "color": "rgb(220, 133, 41)"
   },
   "cols": {
    "lenName": 16,
    "lenType": 16,
    "lenVar": 40
   },
   "kernels_config": {
    "python": {
     "delete_cmd_postfix": "",
     "delete_cmd_prefix": "del ",
     "library": "var_list.py",
     "varRefreshCmd": "print(var_dic_list())"
    },
    "r": {
     "delete_cmd_postfix": ") ",
     "delete_cmd_prefix": "rm(",
     "library": "var_list.r",
     "varRefreshCmd": "cat(var_dic_list()) "
    }
   },
   "types_to_exclude": [
    "module",
    "function",
    "builtin_function_or_method",
    "instance",
    "_Feature"
   ],
   "window_display": false
  }
 },
 "nbformat": 4,
 "nbformat_minor": 4
}
