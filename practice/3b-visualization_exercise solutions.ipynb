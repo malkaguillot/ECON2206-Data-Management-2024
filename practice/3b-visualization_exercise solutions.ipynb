{
 "cells": [
  {
   "cell_type": "markdown",
   "id": "7c1e828e-2280-4cf7-8d83-b36c715f786a",
   "metadata": {},
   "source": [
    "\n",
    "# Data management\n",
    "\n",
    "## Visualization exercise\n",
    "## [Malka Guillot](https://malkaguillot.github.io/)\n",
    "\n",
    "## HEC Liège | [ECON2306](https://malkaguillot.github.io/ECON2206-Data-Management/)\n",
    "\n"
   ]
  },
  {
   "cell_type": "code",
   "execution_count": 1,
   "id": "be95c152-9843-41b5-8da4-79d28d75e173",
   "metadata": {},
   "outputs": [],
   "source": [
    "import pandas as pd\n",
    "import numpy as np\n",
    "import matplotlib.pyplot as plt\n",
    "import seaborn as sns"
   ]
  },
  {
   "cell_type": "code",
   "execution_count": 3,
   "id": "a0e5a0f6-2c3a-4974-ba6e-24c48badda32",
   "metadata": {},
   "outputs": [],
   "source": [
    "# colors\n",
    "demblue = \"#0015BC\"\n",
    "repred = \"#FF0000\"\n",
    "demgrey = \"#9EA4BF\"\n",
    "repgrey = \"#BF9EA2\""
   ]
  },
  {
   "cell_type": "code",
   "execution_count": 65,
   "id": "1ae55f55",
   "metadata": {},
   "outputs": [],
   "source": [
    "sns.set_theme(style='whitegrid')"
   ]
  },
  {
   "cell_type": "code",
   "execution_count": 12,
   "id": "0c321804",
   "metadata": {},
   "outputs": [],
   "source": [
    "# read the data frame with information about individual Congress Members\n",
    "users = pd.read_csv(\"https://raw.githubusercontent.com/JanaLasser/SICSS-aachen-graz/main/04_01_visualization/exercise/data/users.csv\", dtype={\"author_id\":str})"
   ]
  },
  {
   "cell_type": "code",
   "execution_count": null,
   "id": "72978eea",
   "metadata": {},
   "outputs": [],
   "source": [
    "users.head()"
   ]
  },
  {
   "cell_type": "markdown",
   "id": "89b91c11-e215-4a3e-8c4e-51853c34e04a",
   "metadata": {},
   "source": [
    "## 1. Histogram"
   ]
  },
  {
   "cell_type": "markdown",
   "id": "62ab16c0",
   "metadata": {},
   "source": [
    "<div class=\"alert alert-info\">\n",
    "<h3> Task 1.1: Plot the distribution of the share of belief-speaking by party and period </h3>\n",
    "    \n",
    "Use the `histplot` function of the package `seaborn` to visualize how the share of belief-speaking changed for democrats between the time period 2010-2013 and 2019-2022. How did it change for republicans?\n",
    "</div>\n",
    "\n",
    "**Hint:** You can use the argument `hue` of the `histplot` function to create a separate histogram for each time period in the same plot. See also the function's [documentation](https://seaborn.pydata.org/generated/seaborn.histplot.html).\n"
   ]
  },
  {
   "cell_type": "code",
   "execution_count": null,
   "id": "060f35bd",
   "metadata": {},
   "outputs": [],
   "source": [
    "# histplot() requires \"long-form\" data, we therefore reshape the data frame\n",
    "# to match the required input\n",
    "belief = pd.melt(\n",
    "    users, \n",
    "    id_vars=[\"handle\", \"author_id\", \"party\"],\n",
    "    value_vars=[\"belief_share_2010_to_2013\", \"belief_share_2019_to_2022\"],\n",
    "    var_name=\"time_period\",\n",
    "    value_name=\"share\"\n",
    ")\n",
    "belief.tail()"
   ]
  },
  {
   "cell_type": "code",
   "execution_count": null,
   "id": "4d6eb95a-8ca8-42f6-9033-bcff9361fcb1",
   "metadata": {},
   "outputs": [],
   "source": [
    "# rename the values in the newly created \"time_period\" column to contain only\n",
    "# the required information\n",
    "belief[\"time_period\"] = belief[\"time_period\"].replace({\n",
    "    \"belief_share_2010_to_2013\":\"2010 to 2013\",\n",
    "    \"belief_share_2019_to_2022\":\"2019 to 2022\"\n",
    "})\n",
    "\n",
    "belief.tail(3)"
   ]
  },
  {
   "cell_type": "code",
   "execution_count": null,
   "id": "01deed8b-0bf6-4bdc-9d44-62e15c1e4634",
   "metadata": {},
   "outputs": [],
   "source": [
    "fig, ax = plt.subplots()\n",
    "sns.histplot(\n",
    "    # Your code here\n",
    "    belief[belief[\"time_period\"]==\"2019 to 2022\"], # data\n",
    "    x=\"share\", # variable \n",
    "    hue=\"party\", # color\n",
    "    multiple=\"stack\", # stacking the bars\n",
    "    ax=ax\n",
    ")"
   ]
  },
  {
   "cell_type": "markdown",
   "id": "068e1d94-2eeb-4d94-8d3c-5190bb83f557",
   "metadata": {},
   "source": [
    "<div class=\"alert alert-info\">\n",
    "<h3> Task 1.2 (optional): Plot the distribution of the share of belief-speaking by party and period </h3>\n",
    "    \n",
    "Instead of the `histplot` function use the `kdeplot` function to visualize the distributions. When does it make sense to use a KDE plot instead of a histogram?\n",
    "\n",
    "</div>\n"
   ]
  },
  {
   "cell_type": "code",
   "execution_count": null,
   "id": "e329c4a1-a881-45aa-b8c3-319cbd4ca23a",
   "metadata": {},
   "outputs": [],
   "source": [
    "fig, ax = plt.subplots()\n",
    "sns.kdeplot(\n",
    "    # your code here\n",
    "    belief[belief[\"time_period\"]==\"2019 to 2022\"], # data\n",
    "    x=\"share\", # variable \n",
    "    hue=\"party\", # color\n",
    "    ax=ax\n",
    ")\n",
    "plt.title(\"Density plot of belief shares in 2019 to 2022\")"
   ]
  },
  {
   "cell_type": "markdown",
   "id": "ab0b2141-575d-441f-99d8-155d5d83be3f",
   "metadata": {},
   "source": [
    "<div class=\"alert alert-info\">\n",
    "<h3> Task 1.3:  </h3>\n",
    "    \n",
    "Create a 2x2 grid to show how the proportion of belief-speaking and truth-seeking tweets changed for republicans and democrats between 2010-2013 and 2019-2022.\n",
    "</div>"
   ]
  },
  {
   "cell_type": "code",
   "execution_count": null,
   "id": "cf5ae36a-5a6b-4e9b-9ad9-8569d5202020",
   "metadata": {},
   "outputs": [],
   "source": [
    "fig, axes = plt.subplots(2, 2)\n",
    "sns.kdeplot(\n",
    "    # your code here\n",
    "    users, # data\n",
    "    x=\"belief_share_2010_to_2013\", # variable \n",
    "    hue=\"party\", # color\n",
    "    ax=axes[0, 0]\n",
    ")\n",
    "sns.kdeplot(\n",
    "    # your code here\n",
    "    users, # data\n",
    "    x=\"truth_share_2010_to_2013\", # variable \n",
    "    hue=\"party\", # color\n",
    "    ax=axes[1, 0]\n",
    ")\n",
    "sns.kdeplot(\n",
    "    # your code here\n",
    "    users, # data\n",
    "    x=\"belief_share_2019_to_2022\", # variable \n",
    "    hue=\"party\", # color\n",
    "    ax=axes[0, 1]\n",
    ")\n",
    "sns.kdeplot(\n",
    "    # your code here\n",
    "    users, # data\n",
    "    x=\"truth_share_2019_to_2022\", # variable \n",
    "    hue=\"party\", # color\n",
    "    ax=axes[1, 1]\n",
    ")"
   ]
  },
  {
   "cell_type": "markdown",
   "id": "1f108aba-59bf-4d5f-8223-c3ef16f4a732",
   "metadata": {},
   "source": [
    "## 2. Bar chart"
   ]
  },
  {
   "cell_type": "code",
   "execution_count": null,
   "id": "6866aac2-0275-4465-8e9e-b1a2c520903b",
   "metadata": {},
   "outputs": [],
   "source": [
    "topics = pd.read_csv(\"https://raw.githubusercontent.com/JanaLasser/SICSS-aachen-graz/main/04_01_visualization/exercise/data/topics.csv\")\n",
    "topics[\"topic\"] = topics[\"topic_name\"].str.extract(r\"(\\w+)\") # extract the first word of the topic name\n",
    "\n",
    "topics.head(10)"
   ]
  },
  {
   "cell_type": "code",
   "execution_count": 98,
   "id": "a40558df-101c-4e66-acda-da6f5607af2c",
   "metadata": {},
   "outputs": [],
   "source": [
    "belief_speaking = topics[topics[\"component\"] == \"belief-speaking\"][0:8].copy()\n",
    "belief_speaking[\"proportion\"] = belief_speaking[\"proportion\"] * 100\n",
    "truth_seeking = topics[topics[\"component\"] == \"truth-seeking\"][0:8].copy()\n",
    "truth_seeking[\"proportion\"] = truth_seeking[\"proportion\"] * 100"
   ]
  },
  {
   "cell_type": "markdown",
   "id": "a8276cba-a484-40dd-b8f5-666a391430e3",
   "metadata": {},
   "source": [
    "<div class=\"alert alert-info\">\n",
    "<h3> Task 2.1: visualize the share of belief-speaking and truth-seeking tweets by topic </h3>\n",
    "    \n",
    "The data frame `topics` contains information about the proportion of belief-speaking and truth-seeking that Democrats and Republicans use when discussing different topics. \n",
    "\n",
    "Use the `barplot` function of the package `seaborn` to visualize the share of both honesty components for the topics \"abortion\", \"gun\", \"vaccine\" and \"putin\", differentiaded by party. \n",
    "\n",
    "For which topics do the Republicans use more belief-speaking? For which the Democrats?\n",
    "</div>\n"
   ]
  },
  {
   "cell_type": "code",
   "execution_count": null,
   "id": "c72c7ce1-cf7e-405f-bdc2-ec9383e2144d",
   "metadata": {},
   "outputs": [],
   "source": [
    "fig, ax = plt.subplots()\n",
    "sns.barplot(\n",
    "    data=belief_speaking,\n",
    "    x=\"topic\",\n",
    "    y=\"proportion\", \n",
    "    hue='party',\n",
    "    ax=ax\n",
    ")\n",
    "plt.xlabel('Topic')\n",
    "plt.ylabel('Proportion')\n",
    "plt.title('Proportion by Topic Over Party [Belief-Speaking]')\n",
    "plt.legend(title='Party', bbox_to_anchor=(1.05, 1), loc='upper left') # Place the legend outside the plot\n"
   ]
  },
  {
   "cell_type": "code",
   "execution_count": null,
   "id": "d1404fe5",
   "metadata": {},
   "outputs": [],
   "source": [
    "fig, ax = plt.subplots()\n",
    "sns.barplot(\n",
    "    data=truth_seeking,\n",
    "    x=\"topic\",\n",
    "    y=\"proportion\", \n",
    "    hue='party',\n",
    "    ax=ax\n",
    ")\n",
    "plt.xlabel('Topic')\n",
    "plt.ylabel('Proportion')\n",
    "plt.title('Proportion by Topic Over Party [truth-seeking]')\n",
    "plt.legend(title='Party', bbox_to_anchor=(1.05, 1), loc='upper left') # Place the legend outside the plot\n"
   ]
  },
  {
   "cell_type": "markdown",
   "id": "fbb44b01-3af6-462b-81bb-059f3d01ef74",
   "metadata": {},
   "source": [
    "<div class=\"alert alert-info\">\n",
    "<h3> Task 2.1: visualize the share of belief-speaking and truth-seeking tweets by topic </h3>\n",
    "    \n",
    "Create two bar plots next to each other, one for belief-speaking and one for truth-seeking, this time showing all 20 topics contained in the `topics` data frame. \n",
    "\n",
    "Which topics have the highest difference in belief-speaking and truth-seeking between the parties?\n",
    "</div>"
   ]
  },
  {
   "cell_type": "code",
   "execution_count": null,
   "id": "cf550ac8-0b10-4a8d-87e6-7a40a05320c1",
   "metadata": {},
   "outputs": [],
   "source": [
    "# your code here"
   ]
  },
  {
   "cell_type": "markdown",
   "id": "f2de79d7-ce30-4dc5-8b71-f4bb119462d3",
   "metadata": {},
   "source": [
    "## 3. Time series"
   ]
  },
  {
   "cell_type": "markdown",
   "id": "65cb19cc-d3ee-46cf-b260-4b3c1855e169",
   "metadata": {},
   "source": [
    "<div class=\"alert alert-info\">\n",
    "<h3> Task 3.1 </h3>\n",
    "    \n",
    "The files `belief.csv` and `truth.csv` contain the mean proportion of belief-speaking and truth-seeking tweets for every month since 2022-01-01, split by Democrats and Republicans. Create a figure with two vertically stacked panels. Plot the time-series of belief-speaking split by party in the first panel, and the time-series of truth-seeking in the panel below. Apply a rolling average of three months to the data to smooth the time-series. \n",
    "</div>"
   ]
  },
  {
   "cell_type": "code",
   "execution_count": null,
   "id": "cce28971-071d-49be-87fd-6fcb79b899b6",
   "metadata": {},
   "outputs": [],
   "source": [
    "belief = pd.read_csv(\"https://raw.githubusercontent.com/JanaLasser/SICSS-aachen-graz/main/04_01_visualization/exercise/data/belief.csv\", parse_dates=[\"date\"])\n",
    "belief = belief[belief['party'].isin(['Republican', 'Democrat'])]\n",
    "\n",
    "truth = pd.read_csv(\"https://raw.githubusercontent.com/JanaLasser/SICSS-aachen-graz/main/04_01_visualization/exercise/data/truth.csv\", parse_dates=[\"date\"])\n",
    "truth = truth[truth['party'].isin(['Republican', 'Democrat'])]\n",
    "belief.head(2)"
   ]
  },
  {
   "cell_type": "code",
   "execution_count": null,
   "id": "56296746-67a9-47cf-a330-8eb7bcaafe9b",
   "metadata": {},
   "outputs": [],
   "source": [
    "figx, axes = plt.subplots(2, 1, figsize=(9, 4))\n",
    "\n",
    "sns.lineplot(\n",
    "    data=belief,\n",
    "    x=\"date\",\n",
    "    y=\"mean\",\n",
    "    hue=\"party\",\n",
    "    ax=axes[0]\n",
    ")\n",
    "\n",
    "sns.lineplot(\n",
    "# your code here\n",
    "    data=truth,\n",
    "    x=\"date\",\n",
    "    y=\"mean\",\n",
    "    hue=\"party\",\n",
    "    ax=axes[1]\n",
    ")\n"
   ]
  },
  {
   "cell_type": "markdown",
   "id": "7e744b5b-85dd-4bc4-a6f3-151c86bb4004",
   "metadata": {},
   "source": [
    "<div class=\"alert alert-info\">\n",
    "<h3> Task 3.2: add some confidence intervals </h3>\n",
    "    \n",
    "The data frames also contain the 95% confidence intervals of the time-series generated through bootstrapping (columns `perc_2.5` and `perc_97.5`). Plot a shaded area indicating the confidence interval around the mean value.  \n",
    "</div>\n",
    "\n",
    "\n",
    "**Hint:** You can use matplotlib's `fill_between()` function to plot a shaded area between two lines. You can modify the transparency of the area using the `alpha` function argument (see also the function's [documentation](https://matplotlib.org/stable/api/_as_gen/matplotlib.pyplot.fill_between.html))."
   ]
  },
  {
   "cell_type": "code",
   "execution_count": null,
   "id": "5f7e072c-6739-46a7-b966-4237742eec00",
   "metadata": {},
   "outputs": [],
   "source": [
    "figx, axes = plt.subplots(2, 1, figsize=(9, 4))\n",
    "\n",
    "sns.lineplot(\n",
    "    data=belief,\n",
    "    x=\"date\",\n",
    "    y=\"mean\",\n",
    "    hue=\"party\",\n",
    "    ax=axes[0]\n",
    ")\n",
    "for party in belief['party'].unique():\n",
    "    party_data = belief[belief['party'] == party]\n",
    "    axes[0].fill_between(\n",
    "        party_data['date'],\n",
    "        party_data['perc_2.5'],\n",
    "        party_data['perc_97.5'],\n",
    "        alpha=0.3,  # Adjust transparency of the shading\n",
    "        label=f'{party} CI',\n",
    "    )\n",
    "\n",
    "sns.lineplot(\n",
    "# your code here\n",
    "    data=truth,\n",
    "    x=\"date\",\n",
    "    y=\"mean\",\n",
    "    hue=\"party\",\n",
    "    ax=axes[1]\n",
    ")\n",
    "\n",
    "for party in truth['party'].unique():\n",
    "    party_data = truth[truth['party'] == party]\n",
    "    axes[1].fill_between(\n",
    "        party_data['date'],\n",
    "        party_data['perc_2.5'],\n",
    "        party_data['perc_97.5'],\n",
    "        alpha=0.3,  # Adjust transparency of the shading\n",
    "        label=f'{party} CI',\n",
    "    )"
   ]
  },
  {
   "cell_type": "markdown",
   "id": "d68ecd39-e344-4bbb-83ed-fe9e8e3a273e",
   "metadata": {},
   "source": [
    "<div class=\"alert alert-info\">\n",
    "<h3> Task 3.3: add the dates of the presidential elections </h3>\n",
    "    \n",
    "Indicate the dates of the presidential elections in 2016 and 2020 in the plot. What can you say about the trend of belief-speaking and truth-seeking after the presidential elections?\n",
    "</div>\n"
   ]
  },
  {
   "cell_type": "code",
   "execution_count": null,
   "id": "7721fdd4-9f4b-4e86-aac5-1e7ab53e6a15",
   "metadata": {},
   "outputs": [],
   "source": [
    "figx, axes = plt.subplots(2, 1, figsize=(9, 4))\n",
    "sns.lineplot(\n",
    "    data=belief,\n",
    "    x=\"date\",\n",
    "    y=\"mean\",\n",
    "    hue=\"party\",\n",
    "    ax=axes[0]\n",
    ")\n",
    "for party in belief['party'].unique():\n",
    "    party_data = belief[belief['party'] == party]\n",
    "    axes[0].fill_between(\n",
    "        party_data['date'],\n",
    "        party_data['perc_2.5'],\n",
    "        party_data['perc_97.5'],\n",
    "        alpha=0.3,  # Adjust transparency of the shading\n",
    "        label=f'{party} CI',\n",
    "    )\n",
    "\n",
    "sns.lineplot(\n",
    "# your code here\n",
    "    data=truth,\n",
    "    x=\"date\",\n",
    "    y=\"mean\",\n",
    "    hue=\"party\",\n",
    "    ax=axes[1]\n",
    ")\n",
    "\n",
    "for party in truth['party'].unique():\n",
    "    party_data = truth[truth['party'] == party]\n",
    "    axes[1].fill_between(\n",
    "        party_data['date'],\n",
    "        party_data['perc_2.5'],\n",
    "        party_data['perc_97.5'],\n",
    "        alpha=0.3,  # Adjust transparency of the shading\n",
    "        label=f'{party} CI',\n",
    "    )\n",
    "for date in ['2020-11-03', '2016-11-08', '2012-11-06']:\n",
    "    axes[0].axvline(pd.to_datetime(date), color='red', linestyle='--', label='Election')   \n",
    "    axes[1].axvline(pd.to_datetime(date), color='red', linestyle='--', label='Election')\n",
    "plt.show()"
   ]
  },
  {
   "cell_type": "markdown",
   "id": "afd21c8b-68c4-4a9a-9cda-6c46d4efff0e",
   "metadata": {},
   "source": [
    "## 4. Scatter plot"
   ]
  },
  {
   "cell_type": "markdown",
   "id": "382b35a5-58e4-47e6-a921-b479d67b45fe",
   "metadata": {},
   "source": [
    "**Task 4.1:** The `users.csv` dataset contains information about the average [NewsGuard](https://www.newsguardtech.com/) score of links posted by each Congress Member (column `NG_score_mean`). Use `seaborn`'s `scatterplot()` function to find out if the share of belief-speaking over the whole observation period (column `belief_share`) is correlated to the average NewsGuard score."
   ]
  },
  {
   "cell_type": "code",
   "execution_count": null,
   "id": "49cfdd90-33d2-4ebc-abf5-cb0009dd89f1",
   "metadata": {},
   "outputs": [],
   "source": [
    "users = pd.read_csv(\n",
    "    \"https://raw.githubusercontent.com/JanaLasser/SICSS-aachen-graz/main/04_01_visualization/exercise/data/users.csv\", \n",
    "    dtype={\"author_id\":str},\n",
    "    parse_dates=[\"created_at\"]\n",
    ")\n",
    "users = users[users[\"party\"].isin([\"Democrat\", \"Republican\"])]\n",
    "users[\"belief_share\"] = users[\"belief_share\"] * 100\n",
    "users.head(2)"
   ]
  },
  {
   "cell_type": "code",
   "execution_count": 5,
   "id": "963f0e16-7889-43be-a85b-b475b1a573d7",
   "metadata": {},
   "outputs": [],
   "source": [
    "fig, ax = plt.subplots(figsize=(7, 4))\n",
    "\n",
    "sns.scatterplot(\n",
    "    # your code here\n",
    "    ax=ax\n",
    ")"
   ]
  },
  {
   "cell_type": "markdown",
   "id": "7e8bbad0-feaf-40ba-bdb9-8bb6c8e61c4e",
   "metadata": {},
   "source": [
    "**Task 4.2 (optional):** Use the package `statsmodels` to perform an ordinary least squares regression of the form  \n",
    "\n",
    "`NG_score_mean ~ belief_share + truth_share + party + party * belief_share + party * truth_share`.\n",
    "\n",
    "How does the NewsGuard score chage if the proportion of belief-speaking increases by 10%? How does the score behave if the proportion of truth-seeking increases by 10%?"
   ]
  },
  {
   "cell_type": "code",
   "execution_count": 6,
   "id": "c8607fcb-01e4-4ad7-bd9b-24d7f51f6d5c",
   "metadata": {},
   "outputs": [],
   "source": [
    "import statsmodels.formula.api as smf"
   ]
  },
  {
   "cell_type": "code",
   "execution_count": null,
   "id": "106b68d0-b1f5-4c50-873b-b9d4f585f857",
   "metadata": {},
   "outputs": [],
   "source": [
    "# your code here"
   ]
  },
  {
   "cell_type": "markdown",
   "id": "e1a8b562-a71f-4975-b91b-895f49b1f22e",
   "metadata": {},
   "source": [
    "**Task 4.3 (optional):** Use the fitted OLS regression model to make predictions of the NewsGuard score for a range of proportions of belief-speaking from 0% to 30%. Get the 95% confidence intervals for the predictions. Visualize the predictions including their confidence intervals on top of the scatterplot.\n",
    "\n",
    "**Hint:** Use the function `get_prediction()` of the fitted model to get the predictions. Use the function `summary_frame()` on the predictions to get the confidence intervals."
   ]
  },
  {
   "cell_type": "code",
   "execution_count": null,
   "id": "3ecdae53-6989-435b-ac3f-b8349e6d21ce",
   "metadata": {},
   "outputs": [],
   "source": [
    "# your code here"
   ]
  }
 ],
 "metadata": {
  "kernelspec": {
   "display_name": "Python 3 (ipykernel)",
   "language": "python",
   "name": "python3"
  },
  "language_info": {
   "codemirror_mode": {
    "name": "ipython",
    "version": 3
   },
   "file_extension": ".py",
   "mimetype": "text/x-python",
   "name": "python",
   "nbconvert_exporter": "python",
   "pygments_lexer": "ipython3",
   "version": "3.10.13"
  }
 },
 "nbformat": 4,
 "nbformat_minor": 5
}
