{
 "cells": [
  {
   "cell_type": "markdown",
   "id": "df1182d9",
   "metadata": {},
   "source": [
    "# Data management\n",
    "\n",
    "## Introduction to Python\n",
    "\n",
    "## [Malka Guillot](https://malkaguillot.github.io/)\n",
    "\n",
    "\n",
    "## HEC Liège | [ECON2306](https://malkaguillot.github.io/ECON2206-Data-Management/)\n",
    "\n",
    "[![Binder](https://mybinder.org/badge_logo.svg)](https://mybinder.org/v2/gh/malkaguillot/ECON2206-Data-Management-2023/HEAD?labpath=practice%2F1.1-introduction-to-python.ipynb)\n"
   ]
  },
  {
   "cell_type": "markdown",
   "id": "0c855022",
   "metadata": {},
   "source": [
    "### Notebooks - Jupyter"
   ]
  },
  {
   "cell_type": "markdown",
   "id": "204d2835",
   "metadata": {},
   "source": [
    "The Jupyter Notebook is a web application for creating and sharing computational documents. It offers a simple, streamlined, document-centric experience."
   ]
  },
  {
   "cell_type": "markdown",
   "id": "e762f99a",
   "metadata": {},
   "source": [
    "### Let's guess"
   ]
  },
  {
   "cell_type": "code",
   "execution_count": 1,
   "id": "3b66cef7",
   "metadata": {},
   "outputs": [
    {
     "name": "stdout",
     "output_type": "stream",
     "text": [
      "You're richer !\n",
      "900\n"
     ]
    }
   ],
   "source": [
    "wealth = 0 # no decimals --> integer (int)\n",
    "income = 1000\n",
    "invoice = 100\n",
    "\n",
    "# Compute net income\n",
    "net_income = income - invoice\n",
    "\n",
    "if net_income > 0:\n",
    "    print(\"You're richer !\") # string --> text\n",
    "    \n",
    "wealth = wealth + net_income\n",
    "print(wealth)"
   ]
  },
  {
   "cell_type": "markdown",
   "id": "bccb1e5d",
   "metadata": {},
   "source": [
    "## Syntax\n",
    "### Comments"
   ]
  },
  {
   "cell_type": "code",
   "execution_count": 2,
   "id": "c7cea097",
   "metadata": {},
   "outputs": [],
   "source": [
    "# This is a comment"
   ]
  },
  {
   "cell_type": "code",
   "execution_count": 3,
   "id": "9df5eb4f",
   "metadata": {},
   "outputs": [
    {
     "data": {
      "text/plain": [
       "'This is a multiline comment consisting in \\n    many lines delimited by three \"s\\n'"
      ]
     },
     "execution_count": 3,
     "metadata": {},
     "output_type": "execute_result"
    }
   ],
   "source": [
    "\"\"\"This is a multiline comment consisting in \n",
    "    many lines delimited by three \"s\n",
    "\"\"\""
   ]
  },
  {
   "cell_type": "markdown",
   "id": "d6121ff3",
   "metadata": {},
   "source": [
    "### Getting help\n",
    "Everything is an object.\n",
    "Objects have _attributes_ and _methods_\n"
   ]
  },
  {
   "cell_type": "code",
   "execution_count": 4,
   "id": "daf9ae4d",
   "metadata": {},
   "outputs": [
    {
     "name": "stdout",
     "output_type": "stream",
     "text": [
      "Help on int object:\n",
      "\n",
      "class int(object)\n",
      " |  int([x]) -> integer\n",
      " |  int(x, base=10) -> integer\n",
      " |  \n",
      " |  Convert a number or string to an integer, or return 0 if no arguments\n",
      " |  are given.  If x is a number, return x.__int__().  For floating point\n",
      " |  numbers, this truncates towards zero.\n",
      " |  \n",
      " |  If x is not a number or if base is given, then x must be a string,\n",
      " |  bytes, or bytearray instance representing an integer literal in the\n",
      " |  given base.  The literal can be preceded by '+' or '-' and be surrounded\n",
      " |  by whitespace.  The base defaults to 10.  Valid bases are 0 and 2-36.\n",
      " |  Base 0 means to interpret the base from the string as an integer literal.\n",
      " |  >>> int('0b100', base=0)\n",
      " |  4\n",
      " |  \n",
      " |  Built-in subclasses:\n",
      " |      bool\n",
      " |  \n",
      " |  Methods defined here:\n",
      " |  \n",
      " |  __abs__(self, /)\n",
      " |      abs(self)\n",
      " |  \n",
      " |  __add__(self, value, /)\n",
      " |      Return self+value.\n",
      " |  \n",
      " |  __and__(self, value, /)\n",
      " |      Return self&value.\n",
      " |  \n",
      " |  __bool__(self, /)\n",
      " |      True if self else False\n",
      " |  \n",
      " |  __ceil__(...)\n",
      " |      Ceiling of an Integral returns itself.\n",
      " |  \n",
      " |  __divmod__(self, value, /)\n",
      " |      Return divmod(self, value).\n",
      " |  \n",
      " |  __eq__(self, value, /)\n",
      " |      Return self==value.\n",
      " |  \n",
      " |  __float__(self, /)\n",
      " |      float(self)\n",
      " |  \n",
      " |  __floor__(...)\n",
      " |      Flooring an Integral returns itself.\n",
      " |  \n",
      " |  __floordiv__(self, value, /)\n",
      " |      Return self//value.\n",
      " |  \n",
      " |  __format__(self, format_spec, /)\n",
      " |      Default object formatter.\n",
      " |  \n",
      " |  __ge__(self, value, /)\n",
      " |      Return self>=value.\n",
      " |  \n",
      " |  __getattribute__(self, name, /)\n",
      " |      Return getattr(self, name).\n",
      " |  \n",
      " |  __getnewargs__(self, /)\n",
      " |  \n",
      " |  __gt__(self, value, /)\n",
      " |      Return self>value.\n",
      " |  \n",
      " |  __hash__(self, /)\n",
      " |      Return hash(self).\n",
      " |  \n",
      " |  __index__(self, /)\n",
      " |      Return self converted to an integer, if self is suitable for use as an index into a list.\n",
      " |  \n",
      " |  __int__(self, /)\n",
      " |      int(self)\n",
      " |  \n",
      " |  __invert__(self, /)\n",
      " |      ~self\n",
      " |  \n",
      " |  __le__(self, value, /)\n",
      " |      Return self<=value.\n",
      " |  \n",
      " |  __lshift__(self, value, /)\n",
      " |      Return self<<value.\n",
      " |  \n",
      " |  __lt__(self, value, /)\n",
      " |      Return self<value.\n",
      " |  \n",
      " |  __mod__(self, value, /)\n",
      " |      Return self%value.\n",
      " |  \n",
      " |  __mul__(self, value, /)\n",
      " |      Return self*value.\n",
      " |  \n",
      " |  __ne__(self, value, /)\n",
      " |      Return self!=value.\n",
      " |  \n",
      " |  __neg__(self, /)\n",
      " |      -self\n",
      " |  \n",
      " |  __or__(self, value, /)\n",
      " |      Return self|value.\n",
      " |  \n",
      " |  __pos__(self, /)\n",
      " |      +self\n",
      " |  \n",
      " |  __pow__(self, value, mod=None, /)\n",
      " |      Return pow(self, value, mod).\n",
      " |  \n",
      " |  __radd__(self, value, /)\n",
      " |      Return value+self.\n",
      " |  \n",
      " |  __rand__(self, value, /)\n",
      " |      Return value&self.\n",
      " |  \n",
      " |  __rdivmod__(self, value, /)\n",
      " |      Return divmod(value, self).\n",
      " |  \n",
      " |  __repr__(self, /)\n",
      " |      Return repr(self).\n",
      " |  \n",
      " |  __rfloordiv__(self, value, /)\n",
      " |      Return value//self.\n",
      " |  \n",
      " |  __rlshift__(self, value, /)\n",
      " |      Return value<<self.\n",
      " |  \n",
      " |  __rmod__(self, value, /)\n",
      " |      Return value%self.\n",
      " |  \n",
      " |  __rmul__(self, value, /)\n",
      " |      Return value*self.\n",
      " |  \n",
      " |  __ror__(self, value, /)\n",
      " |      Return value|self.\n",
      " |  \n",
      " |  __round__(...)\n",
      " |      Rounding an Integral returns itself.\n",
      " |      \n",
      " |      Rounding with an ndigits argument also returns an integer.\n",
      " |  \n",
      " |  __rpow__(self, value, mod=None, /)\n",
      " |      Return pow(value, self, mod).\n",
      " |  \n",
      " |  __rrshift__(self, value, /)\n",
      " |      Return value>>self.\n",
      " |  \n",
      " |  __rshift__(self, value, /)\n",
      " |      Return self>>value.\n",
      " |  \n",
      " |  __rsub__(self, value, /)\n",
      " |      Return value-self.\n",
      " |  \n",
      " |  __rtruediv__(self, value, /)\n",
      " |      Return value/self.\n",
      " |  \n",
      " |  __rxor__(self, value, /)\n",
      " |      Return value^self.\n",
      " |  \n",
      " |  __sizeof__(self, /)\n",
      " |      Returns size in memory, in bytes.\n",
      " |  \n",
      " |  __sub__(self, value, /)\n",
      " |      Return self-value.\n",
      " |  \n",
      " |  __truediv__(self, value, /)\n",
      " |      Return self/value.\n",
      " |  \n",
      " |  __trunc__(...)\n",
      " |      Truncating an Integral returns itself.\n",
      " |  \n",
      " |  __xor__(self, value, /)\n",
      " |      Return self^value.\n",
      " |  \n",
      " |  as_integer_ratio(self, /)\n",
      " |      Return integer ratio.\n",
      " |      \n",
      " |      Return a pair of integers, whose ratio is exactly equal to the original int\n",
      " |      and with a positive denominator.\n",
      " |      \n",
      " |      >>> (10).as_integer_ratio()\n",
      " |      (10, 1)\n",
      " |      >>> (-10).as_integer_ratio()\n",
      " |      (-10, 1)\n",
      " |      >>> (0).as_integer_ratio()\n",
      " |      (0, 1)\n",
      " |  \n",
      " |  bit_count(self, /)\n",
      " |      Number of ones in the binary representation of the absolute value of self.\n",
      " |      \n",
      " |      Also known as the population count.\n",
      " |      \n",
      " |      >>> bin(13)\n",
      " |      '0b1101'\n",
      " |      >>> (13).bit_count()\n",
      " |      3\n",
      " |  \n",
      " |  bit_length(self, /)\n",
      " |      Number of bits necessary to represent self in binary.\n",
      " |      \n",
      " |      >>> bin(37)\n",
      " |      '0b100101'\n",
      " |      >>> (37).bit_length()\n",
      " |      6\n",
      " |  \n",
      " |  conjugate(...)\n",
      " |      Returns self, the complex conjugate of any int.\n",
      " |  \n",
      " |  to_bytes(self, /, length, byteorder, *, signed=False)\n",
      " |      Return an array of bytes representing an integer.\n",
      " |      \n",
      " |      length\n",
      " |        Length of bytes object to use.  An OverflowError is raised if the\n",
      " |        integer is not representable with the given number of bytes.\n",
      " |      byteorder\n",
      " |        The byte order used to represent the integer.  If byteorder is 'big',\n",
      " |        the most significant byte is at the beginning of the byte array.  If\n",
      " |        byteorder is 'little', the most significant byte is at the end of the\n",
      " |        byte array.  To request the native byte order of the host system, use\n",
      " |        `sys.byteorder' as the byte order value.\n",
      " |      signed\n",
      " |        Determines whether two's complement is used to represent the integer.\n",
      " |        If signed is False and a negative integer is given, an OverflowError\n",
      " |        is raised.\n",
      " |  \n",
      " |  ----------------------------------------------------------------------\n",
      " |  Class methods defined here:\n",
      " |  \n",
      " |  from_bytes(bytes, byteorder, *, signed=False) from builtins.type\n",
      " |      Return the integer represented by the given array of bytes.\n",
      " |      \n",
      " |      bytes\n",
      " |        Holds the array of bytes to convert.  The argument must either\n",
      " |        support the buffer protocol or be an iterable object producing bytes.\n",
      " |        Bytes and bytearray are examples of built-in objects that support the\n",
      " |        buffer protocol.\n",
      " |      byteorder\n",
      " |        The byte order used to represent the integer.  If byteorder is 'big',\n",
      " |        the most significant byte is at the beginning of the byte array.  If\n",
      " |        byteorder is 'little', the most significant byte is at the end of the\n",
      " |        byte array.  To request the native byte order of the host system, use\n",
      " |        `sys.byteorder' as the byte order value.\n",
      " |      signed\n",
      " |        Indicates whether two's complement is used to represent the integer.\n",
      " |  \n",
      " |  ----------------------------------------------------------------------\n",
      " |  Static methods defined here:\n",
      " |  \n",
      " |  __new__(*args, **kwargs) from builtins.type\n",
      " |      Create and return a new object.  See help(type) for accurate signature.\n",
      " |  \n",
      " |  ----------------------------------------------------------------------\n",
      " |  Data descriptors defined here:\n",
      " |  \n",
      " |  denominator\n",
      " |      the denominator of a rational number in lowest terms\n",
      " |  \n",
      " |  imag\n",
      " |      the imaginary part of a complex number\n",
      " |  \n",
      " |  numerator\n",
      " |      the numerator of a rational number in lowest terms\n",
      " |  \n",
      " |  real\n",
      " |      the real part of a complex number\n",
      "\n"
     ]
    }
   ],
   "source": [
    "help(42)"
   ]
  },
  {
   "cell_type": "code",
   "execution_count": 5,
   "id": "fa69e5b1",
   "metadata": {},
   "outputs": [
    {
     "name": "stdout",
     "output_type": "stream",
     "text": [
      "Help on built-in function round in module builtins:\n",
      "\n",
      "round(number, ndigits=None)\n",
      "    Round a number to a given precision in decimal digits.\n",
      "    \n",
      "    The return value is an integer if ndigits is omitted or None.  Otherwise\n",
      "    the return value has the same type as the number.  ndigits may be negative.\n",
      "\n"
     ]
    }
   ],
   "source": [
    "help(round)"
   ]
  },
  {
   "cell_type": "markdown",
   "id": "a12e8eb4",
   "metadata": {},
   "source": [
    "### Python Indentation\n",
    "Indentation refers to the spaces at the beginning of a code line.\n",
    "\n",
    "Where in other programming languages the indentation in code is for readability only, the indentation in Python is very important.\n",
    "\n",
    "Python uses indentation to indicate a block of code."
   ]
  },
  {
   "cell_type": "code",
   "execution_count": 6,
   "id": "5eb985d4",
   "metadata": {},
   "outputs": [
    {
     "name": "stdout",
     "output_type": "stream",
     "text": [
      "Five is greater than two!\n"
     ]
    }
   ],
   "source": [
    "if 5 > 2:\n",
    "    print(\"Five is greater than two!\") "
   ]
  },
  {
   "cell_type": "code",
   "execution_count": 7,
   "id": "da98ae1c",
   "metadata": {},
   "outputs": [
    {
     "name": "stdout",
     "output_type": "stream",
     "text": [
      "a: 1\n",
      "b: 2\n",
      "end\n"
     ]
    }
   ],
   "source": [
    "a=1\n",
    "b=2\n",
    "\n",
    "if a==1:\n",
    "    print(\"a:\", a)\n",
    "    if b==2:\n",
    "        print(\"b:\",b)\n",
    "elif a==2:\n",
    "    print(\"other\")\n",
    "    \n",
    "print('end')"
   ]
  },
  {
   "cell_type": "markdown",
   "id": "77f6e937",
   "metadata": {},
   "source": [
    "## Defining functions"
   ]
  },
  {
   "cell_type": "code",
   "execution_count": 8,
   "id": "a5c2c8a3",
   "metadata": {},
   "outputs": [
    {
     "name": "stdout",
     "output_type": "stream",
     "text": [
      "800\n"
     ]
    }
   ],
   "source": [
    "def compute_wealth(income, invoice):\n",
    "    \n",
    "    wealth = income - invoice\n",
    "    \n",
    "    return wealth\n",
    "    \n",
    "# print() is optional in Jupyter but not in a IDE (spyder, VS Code) !     \n",
    "print(compute_wealth(income=1000, invoice=200))"
   ]
  },
  {
   "cell_type": "markdown",
   "id": "b1ee9bba",
   "metadata": {},
   "source": [
    "#### Default arguments"
   ]
  },
  {
   "cell_type": "code",
   "execution_count": 9,
   "id": "4bd1496e",
   "metadata": {},
   "outputs": [
    {
     "name": "stdout",
     "output_type": "stream",
     "text": [
      "Help on built-in function print in module builtins:\n",
      "\n",
      "print(...)\n",
      "    print(value, ..., sep=' ', end='\\n', file=sys.stdout, flush=False)\n",
      "    \n",
      "    Prints the values to a stream, or to sys.stdout by default.\n",
      "    Optional keyword arguments:\n",
      "    file:  a file-like object (stream); defaults to the current sys.stdout.\n",
      "    sep:   string inserted between values, default a space.\n",
      "    end:   string appended after the last value, default a newline.\n",
      "    flush: whether to forcibly flush the stream.\n",
      "\n"
     ]
    }
   ],
   "source": [
    "help(print)"
   ]
  },
  {
   "cell_type": "code",
   "execution_count": 10,
   "id": "f84c1ff9",
   "metadata": {
    "scrolled": true
   },
   "outputs": [
    {
     "name": "stdout",
     "output_type": "stream",
     "text": [
      "1 2 3\n",
      "1<2<3\n",
      "1 < 2 < 3\n"
     ]
    }
   ],
   "source": [
    "print(1,2,3)\n",
    "\n",
    "print(1,2,3, sep='<')\n",
    "\n",
    "# Blank space matters with string ! \n",
    "print(1,2,3, sep=' < ')"
   ]
  },
  {
   "cell_type": "code",
   "execution_count": 11,
   "id": "9919a701",
   "metadata": {},
   "outputs": [
    {
     "name": "stdout",
     "output_type": "stream",
     "text": [
      "Hello, Students value\n",
      "Hello, Python value\n",
      "Hello, World value\n"
     ]
    }
   ],
   "source": [
    "def greet(who=\"Students\"):\n",
    "    print(\"Hello,\", who, 'value')\n",
    "    \n",
    "greet()\n",
    "greet(who=\"Python\")\n",
    "# (In this case, we don't need to specify the name of the argument,\n",
    "# because it's unambiguous.)\n",
    "greet(\"World\")"
   ]
  },
  {
   "cell_type": "markdown",
   "id": "c738c018",
   "metadata": {},
   "source": [
    "## Data types\n",
    "\n",
    "![](images/data-types.png)\n",
    "\n",
    "## Numbers"
   ]
  },
  {
   "cell_type": "code",
   "execution_count": 12,
   "id": "198640a1",
   "metadata": {},
   "outputs": [
    {
     "name": "stdout",
     "output_type": "stream",
     "text": [
      "netincome type <class 'int'>\n",
      "test <class 'float'>\n"
     ]
    }
   ],
   "source": [
    "net_income = 50\n",
    "print(\"netincome type\", type(net_income))\n",
    "print(\"test\", type(19.95))"
   ]
  },
  {
   "cell_type": "markdown",
   "id": "a62a4507",
   "metadata": {},
   "source": [
    "**Jupyter Notebook for Python uses the ipython environment !**"
   ]
  },
  {
   "cell_type": "code",
   "execution_count": 13,
   "id": "d0d0a448",
   "metadata": {},
   "outputs": [
    {
     "data": {
      "text/plain": [
       "int"
      ]
     },
     "execution_count": 13,
     "metadata": {},
     "output_type": "execute_result"
    }
   ],
   "source": [
    "# With ipython\n",
    "net_income\n",
    "type(net_income) # can use print() too !"
   ]
  },
  {
   "cell_type": "code",
   "execution_count": 14,
   "id": "f6ac557c",
   "metadata": {},
   "outputs": [
    {
     "name": "stdout",
     "output_type": "stream",
     "text": [
      "50\n",
      "<class 'int'>\n"
     ]
    }
   ],
   "source": [
    "# With python (Spyder)\n",
    "print(net_income)\n",
    "print(type(net_income))"
   ]
  },
  {
   "cell_type": "markdown",
   "id": "dd62bcfc",
   "metadata": {},
   "source": [
    "##### Arithmetic Operators "
   ]
  },
  {
   "cell_type": "markdown",
   "id": "f56500f8",
   "metadata": {},
   "source": [
    "Math is what you would expect\n",
    "\n",
    "|**Operator** | **Name** | **Description** |\n",
    "| --- | --- | --- |\n",
    "|a + b |Addition -| Sum of a and b |\n",
    "|a - b | Subtraction | Difference of a and b |\n",
    "|a * b | Multiplication | Product of a and b |\n",
    "|a / b | True division | Quotient of a and b |\n",
    "|a // b | Floor division | Quotient of a and b, removing fractional parts |\n",
    "|a % b | Modulus | Integer remainder after division of a by b |\n",
    "|a ** b | Exponention | a raised to the power of b |\n",
    "|-a | Negation | The negative of a |"
   ]
  },
  {
   "cell_type": "code",
   "execution_count": 15,
   "id": "ad744055",
   "metadata": {},
   "outputs": [
    {
     "data": {
      "text/plain": [
       "2"
      ]
     },
     "execution_count": 15,
     "metadata": {},
     "output_type": "execute_result"
    }
   ],
   "source": [
    "1 + 1"
   ]
  },
  {
   "cell_type": "code",
   "execution_count": 16,
   "id": "0406a3ba",
   "metadata": {},
   "outputs": [
    {
     "data": {
      "text/plain": [
       "20"
      ]
     },
     "execution_count": 16,
     "metadata": {},
     "output_type": "execute_result"
    }
   ],
   "source": [
    "10 * 2  "
   ]
  },
  {
   "cell_type": "code",
   "execution_count": 17,
   "id": "5c4ebef2",
   "metadata": {},
   "outputs": [
    {
     "data": {
      "text/plain": [
       "5.0"
      ]
     },
     "execution_count": 17,
     "metadata": {},
     "output_type": "execute_result"
    }
   ],
   "source": [
    "35 / 7"
   ]
  },
  {
   "cell_type": "code",
   "execution_count": 18,
   "id": "55ce788c",
   "metadata": {},
   "outputs": [
    {
     "data": {
      "text/plain": [
       "2.5"
      ]
     },
     "execution_count": 18,
     "metadata": {},
     "output_type": "execute_result"
    }
   ],
   "source": [
    "5 / 2  # => 2.5 float since python3 !"
   ]
  },
  {
   "cell_type": "code",
   "execution_count": 19,
   "id": "4cc11da1",
   "metadata": {},
   "outputs": [
    {
     "data": {
      "text/plain": [
       "2"
      ]
     },
     "execution_count": 19,
     "metadata": {},
     "output_type": "execute_result"
    }
   ],
   "source": [
    "5 // 2 # -> 2 division was euclidian in python2 "
   ]
  },
  {
   "cell_type": "markdown",
   "id": "4e271abb",
   "metadata": {},
   "source": [
    "Exponentiation (x to the yth power)"
   ]
  },
  {
   "cell_type": "code",
   "execution_count": 20,
   "id": "b2794f9d",
   "metadata": {},
   "outputs": [
    {
     "data": {
      "text/plain": [
       "16"
      ]
     },
     "execution_count": 20,
     "metadata": {},
     "output_type": "execute_result"
    }
   ],
   "source": [
    "2 ** 4  # => 16"
   ]
  },
  {
   "cell_type": "markdown",
   "id": "614eda84",
   "metadata": {},
   "source": [
    "##### Built-in functions for numbers"
   ]
  },
  {
   "cell_type": "code",
   "execution_count": 21,
   "id": "fbdfbc34",
   "metadata": {},
   "outputs": [
    {
     "name": "stdout",
     "output_type": "stream",
     "text": [
      "1\n",
      "3\n",
      "32\n",
      "10.0\n",
      "3\n",
      "808\n"
     ]
    }
   ],
   "source": [
    "print(min(1,2,3))\n",
    "print(max(1,2,3))\n",
    "print(abs(-32))\n",
    "\n",
    "print(float(10))\n",
    "print(int(3.33))\n",
    "\n",
    "print(int('807') + 1)"
   ]
  },
  {
   "cell_type": "markdown",
   "id": "d4f1d1f6",
   "metadata": {},
   "source": [
    "<div class=\"alert alert-info\">\n",
    "<h3> Your turn</h3>    \n",
    "</div>"
   ]
  },
  {
   "cell_type": "markdown",
   "id": "0dda3d1e",
   "metadata": {},
   "source": [
    "#### Exercise 1"
   ]
  },
  {
   "cell_type": "code",
   "execution_count": 22,
   "id": "c55d1cc0",
   "metadata": {},
   "outputs": [
    {
     "name": "stdout",
     "output_type": "stream",
     "text": [
      "7.0685775\n"
     ]
    }
   ],
   "source": [
    "pi = 3.14159 \n",
    "diameter = 3 \n",
    "\n",
    "# Create a variable called 'radius' equal to half the diameter.\n",
    "radius=diameter/2\n",
    "# Create a variable called 'area', using the formula for the area of a circle: pi times the radius squared.\n",
    "area= pi*radius**2\n",
    "print(area)"
   ]
  },
  {
   "cell_type": "markdown",
   "id": "18dfa638",
   "metadata": {},
   "source": [
    "#### Exercise 2"
   ]
  },
  {
   "cell_type": "code",
   "execution_count": 23,
   "id": "8a3924e7",
   "metadata": {},
   "outputs": [],
   "source": [
    "# Store your first name in a variable. \\newline\n",
    "\n",
    "# Tell python to print \"Hello YOUR_NAME, how are you ?\", where YOUR_NAME is your first name. "
   ]
  },
  {
   "cell_type": "markdown",
   "id": "1051f75c",
   "metadata": {},
   "source": [
    "#### Exercise 3"
   ]
  },
  {
   "cell_type": "code",
   "execution_count": 24,
   "id": "71a53bd3",
   "metadata": {},
   "outputs": [],
   "source": [
    "# Solve this exercise on Spyder/VS Code ! (Open Anaconda)\n",
    "\n",
    "# Imagine you have to allocate workers to different plants. \n",
    "# Write a function called allocate_workers that takes the number of workers and plants as arguments, \n",
    "# and returns the number of worker that should be allocated to each plant. \n",
    "# Assume equal sharing of workers.\n",
    "\n",
    "# How could you improve that ? "
   ]
  },
  {
   "cell_type": "markdown",
   "id": "1b0ca77e",
   "metadata": {},
   "source": [
    "## Booleans\n",
    "Note: \"and\" and \"or\" are case-sensitive"
   ]
  },
  {
   "cell_type": "code",
   "execution_count": 25,
   "id": "425b7318",
   "metadata": {
    "scrolled": true
   },
   "outputs": [
    {
     "name": "stdout",
     "output_type": "stream",
     "text": [
      "True\n",
      "<class 'bool'>\n"
     ]
    }
   ],
   "source": [
    "x = True \n",
    "y = False \n",
    "print(x)\n",
    "print(type(x))"
   ]
  },
  {
   "cell_type": "markdown",
   "id": "7a64b8ff",
   "metadata": {},
   "source": [
    "### Boolean operations"
   ]
  },
  {
   "cell_type": "code",
   "execution_count": 26,
   "id": "3c997965",
   "metadata": {},
   "outputs": [
    {
     "data": {
      "text/plain": [
       "False"
      ]
     },
     "execution_count": 26,
     "metadata": {},
     "output_type": "execute_result"
    }
   ],
   "source": [
    "True and False  # => False"
   ]
  },
  {
   "cell_type": "code",
   "execution_count": 27,
   "id": "a76a214c",
   "metadata": {},
   "outputs": [
    {
     "data": {
      "text/plain": [
       "True"
      ]
     },
     "execution_count": 27,
     "metadata": {},
     "output_type": "execute_result"
    }
   ],
   "source": [
    "False or True  # => True"
   ]
  },
  {
   "cell_type": "markdown",
   "id": "40e345ee",
   "metadata": {},
   "source": [
    "negate with not"
   ]
  },
  {
   "cell_type": "code",
   "execution_count": 28,
   "id": "8430c9a8",
   "metadata": {},
   "outputs": [
    {
     "data": {
      "text/plain": [
       "False"
      ]
     },
     "execution_count": 28,
     "metadata": {},
     "output_type": "execute_result"
    }
   ],
   "source": [
    "not True  # => False"
   ]
  },
  {
   "cell_type": "code",
   "execution_count": 29,
   "id": "b2ad556d",
   "metadata": {},
   "outputs": [
    {
     "data": {
      "text/plain": [
       "True"
      ]
     },
     "execution_count": 29,
     "metadata": {},
     "output_type": "execute_result"
    }
   ],
   "source": [
    "not False  # => True"
   ]
  },
  {
   "cell_type": "markdown",
   "id": "f99a3ed8",
   "metadata": {},
   "source": [
    "|**Operators** | **Description**|\n",
    "|---|---|\n",
    "|a == b | a equal to b |\n",
    "| a != b | a not equal to b |\n",
    "|a < b | a less than b | \n",
    "|a > b | a greater than b |\n",
    "|a <= b | a less than or equal to b |\n",
    "| a >= b | a greater than or equal to b |"
   ]
  },
  {
   "cell_type": "code",
   "execution_count": 30,
   "id": "961539d0",
   "metadata": {},
   "outputs": [
    {
     "data": {
      "text/plain": [
       "True"
      ]
     },
     "execution_count": 30,
     "metadata": {},
     "output_type": "execute_result"
    }
   ],
   "source": [
    "a = 1 == 1  # => True\n",
    "a"
   ]
  },
  {
   "cell_type": "code",
   "execution_count": 31,
   "id": "4477e80c",
   "metadata": {},
   "outputs": [
    {
     "data": {
      "text/plain": [
       "False"
      ]
     },
     "execution_count": 31,
     "metadata": {},
     "output_type": "execute_result"
    }
   ],
   "source": [
    "2 == 1  # => False"
   ]
  },
  {
   "cell_type": "code",
   "execution_count": 32,
   "id": "f8c791b5",
   "metadata": {},
   "outputs": [
    {
     "data": {
      "text/plain": [
       "False"
      ]
     },
     "execution_count": 32,
     "metadata": {},
     "output_type": "execute_result"
    }
   ],
   "source": [
    "1 != 1  # => False"
   ]
  },
  {
   "cell_type": "code",
   "execution_count": 33,
   "id": "1d2941ce",
   "metadata": {},
   "outputs": [
    {
     "data": {
      "text/plain": [
       "True"
      ]
     },
     "execution_count": 33,
     "metadata": {},
     "output_type": "execute_result"
    }
   ],
   "source": [
    "2 != 1  # => True"
   ]
  },
  {
   "cell_type": "code",
   "execution_count": 34,
   "id": "e651ecb2",
   "metadata": {},
   "outputs": [
    {
     "name": "stdout",
     "output_type": "stream",
     "text": [
      "True\n",
      "False\n"
     ]
    }
   ],
   "source": [
    "print(3.0 == 3)\n",
    "print('3' == 3)"
   ]
  },
  {
   "cell_type": "markdown",
   "id": "5c0b7fa5",
   "metadata": {},
   "source": [
    "More comparisons ..."
   ]
  },
  {
   "cell_type": "code",
   "execution_count": 35,
   "id": "96826632",
   "metadata": {},
   "outputs": [
    {
     "data": {
      "text/plain": [
       "True"
      ]
     },
     "execution_count": 35,
     "metadata": {},
     "output_type": "execute_result"
    }
   ],
   "source": [
    "1 < 10  # => True"
   ]
  },
  {
   "cell_type": "markdown",
   "id": "230f9a81",
   "metadata": {},
   "source": [
    "Comparisons can be chained!"
   ]
  },
  {
   "cell_type": "code",
   "execution_count": 36,
   "id": "36bd1a9e",
   "metadata": {},
   "outputs": [
    {
     "data": {
      "text/plain": [
       "True"
      ]
     },
     "execution_count": 36,
     "metadata": {},
     "output_type": "execute_result"
    }
   ],
   "source": [
    "1 < 2 < 3  # => True"
   ]
  },
  {
   "cell_type": "code",
   "execution_count": 37,
   "id": "8c220275",
   "metadata": {},
   "outputs": [
    {
     "name": "stdout",
     "output_type": "stream",
     "text": [
      "Can a 19-year-old run for president? False\n",
      "Can a 45-year-old run for president? True\n"
     ]
    }
   ],
   "source": [
    "def can_run_for_president(age):\n",
    "    # The US Constitution says you must be at least 35 years old\n",
    "    return age >= 35\n",
    "\n",
    "print(\"Can a 19-year-old run for president?\", can_run_for_president(19))\n",
    "print(\"Can a 45-year-old run for president?\", can_run_for_president(45))"
   ]
  },
  {
   "cell_type": "markdown",
   "id": "143d8140",
   "metadata": {},
   "source": [
    "### Combining booleans values"
   ]
  },
  {
   "cell_type": "code",
   "execution_count": 38,
   "id": "1641ad00",
   "metadata": {},
   "outputs": [
    {
     "name": "stdout",
     "output_type": "stream",
     "text": [
      "False\n",
      "False\n",
      "True\n"
     ]
    }
   ],
   "source": [
    "def can_run_for_president(age, is_natural_born_citizen):\n",
    "    # The US Constitution says you must be a natural born citizen *and* \n",
    "    # at least 35 years old\n",
    "    return is_natural_born_citizen and (age >= 35)\n",
    "\n",
    "print(can_run_for_president(19, True))\n",
    "print(can_run_for_president(55, False))\n",
    "print(can_run_for_president(55, True))"
   ]
  },
  {
   "cell_type": "markdown",
   "id": "d62a9125",
   "metadata": {},
   "source": [
    "### Conditionals"
   ]
  },
  {
   "cell_type": "code",
   "execution_count": 39,
   "id": "f6ed498e",
   "metadata": {},
   "outputs": [
    {
     "name": "stdout",
     "output_type": "stream",
     "text": [
      "0 is zero\n",
      "-15 is negative\n"
     ]
    }
   ],
   "source": [
    "def inspect(x):\n",
    "    if x == 0:\n",
    "        print(x, \"is zero\")\n",
    "    elif x > 0:\n",
    "        print(x, \"is positive\")\n",
    "    elif x < 0:\n",
    "        print(x, \"is negative\")\n",
    "    else:\n",
    "        print(x, \"is unlike anything I've ever seen...\")\n",
    "\n",
    "inspect(0)\n",
    "inspect(-15)\n",
    "#inspect(1j)"
   ]
  },
  {
   "cell_type": "markdown",
   "id": "e5f34b65",
   "metadata": {},
   "source": [
    "### Boolean conversion"
   ]
  },
  {
   "cell_type": "code",
   "execution_count": 40,
   "id": "caa25878",
   "metadata": {},
   "outputs": [
    {
     "name": "stdout",
     "output_type": "stream",
     "text": [
      "True\n",
      "False\n",
      "True\n",
      "False\n"
     ]
    }
   ],
   "source": [
    "print(bool(1))\n",
    "print(bool(0))\n",
    "print(bool(\"asf\"))\n",
    "print(bool(\"\"))"
   ]
  },
  {
   "cell_type": "markdown",
   "id": "76bceebb",
   "metadata": {},
   "source": [
    "### Your turn !"
   ]
  },
  {
   "cell_type": "markdown",
   "id": "41a528ce",
   "metadata": {},
   "source": [
    "#### Exercise 4"
   ]
  },
  {
   "cell_type": "code",
   "execution_count": 41,
   "id": "d40f6aa3",
   "metadata": {},
   "outputs": [],
   "source": [
    "# Write a function called sign which takes a numerical argument and returns \n",
    "# -1 if it's negative, 1 if it's positive, and 0 if it's 0."
   ]
  },
  {
   "cell_type": "markdown",
   "id": "20612b1a",
   "metadata": {},
   "source": [
    "#### Exercise 5"
   ]
  },
  {
   "cell_type": "code",
   "execution_count": 42,
   "id": "ec54a857",
   "metadata": {},
   "outputs": [],
   "source": [
    "# Solve this exercise on Spyder ! (Open Anaconda)\n",
    "\n",
    "# Add a condition in the allocate_workers to check if an equal sharing of workers is possible. \n",
    "# If yes, print \"There are X workers per plant.\", where X is the number of workers per plant. \n",
    "# If not, print \"Impossible to allocate workers.\"."
   ]
  },
  {
   "cell_type": "markdown",
   "id": "1079c44f",
   "metadata": {},
   "source": [
    "## Lists as sequences"
   ]
  },
  {
   "cell_type": "markdown",
   "id": "07c33446",
   "metadata": {},
   "source": [
    "\n",
    "Python data structures can be divided into two categories based on the ordering of items: _Sequences_ and _Collections_. Elements in sequences come out in the same order as it is inserted, however ordering in collections is not preserved.\n",
    "\n",
    "Sequences are a generic term for an ordered set which means that the order in which we input the items will be the same when we access them.\n",
    "\n",
    "Python supports six different types of sequences. These are strings, lists, tuples, byte sequences, byte arrays, and range objects.\n",
    "\n",
    "\n",
    "<!-- https://techvidvan.com/tutorials/python-sequences/ -->"
   ]
  },
  {
   "cell_type": "code",
   "execution_count": 43,
   "id": "ff7f6ccf",
   "metadata": {},
   "outputs": [
    {
     "data": {
      "text/plain": [
       "['string', 1, 2]"
      ]
     },
     "execution_count": 43,
     "metadata": {},
     "output_type": "execute_result"
    }
   ],
   "source": [
    "[\"string\", 1, 2]"
   ]
  },
  {
   "cell_type": "code",
   "execution_count": 44,
   "id": "1aeeff58",
   "metadata": {},
   "outputs": [],
   "source": [
    "primes = [2, 3, 5, 7]\n",
    "\n",
    "planets = ['Mercury', 'Venus', 'Earth', 'Mars', 'Jupiter', 'Saturn', \n",
    "           'Uranus', 'Neptune']\n",
    "\n",
    "hands = [\n",
    "    ['J', 'Q', 'K'],\n",
    "    ['2', '2', '2'],\n",
    "    ['6', 'A', 'K'], # (Comma after the last element is optional)\n",
    "]\n",
    "\n",
    "hands = [['J', 'Q', 'K'], ['2', '2', '2'], ['6', 'A', 'K']]\n",
    "\n",
    "mixed_list = [32, 'raindrops on roses', help]"
   ]
  },
  {
   "cell_type": "markdown",
   "id": "b71da86c",
   "metadata": {},
   "source": [
    "### Indexing "
   ]
  },
  {
   "cell_type": "code",
   "execution_count": 45,
   "id": "7292fe81",
   "metadata": {},
   "outputs": [
    {
     "name": "stdout",
     "output_type": "stream",
     "text": [
      "Neptune\n"
     ]
    }
   ],
   "source": [
    "print(planets[-1])\n"
   ]
  },
  {
   "cell_type": "code",
   "execution_count": 46,
   "id": "7110312a",
   "metadata": {},
   "outputs": [
    {
     "name": "stdout",
     "output_type": "stream",
     "text": [
      "Venus\n",
      "Neptune\n",
      "Uranus\n"
     ]
    }
   ],
   "source": [
    "print(planets[1])\n",
    "print(planets[-1])\n",
    "print(planets[-2])"
   ]
  },
  {
   "cell_type": "markdown",
   "id": "8efcdac5",
   "metadata": {},
   "source": [
    "### Slicing"
   ]
  },
  {
   "cell_type": "code",
   "execution_count": 47,
   "id": "9f29bd7a",
   "metadata": {},
   "outputs": [
    {
     "name": "stdout",
     "output_type": "stream",
     "text": [
      "['Mercury', 'Venus', 'Earth']\n",
      "['Mercury', 'Venus', 'Earth']\n",
      "['Mars', 'Jupiter', 'Saturn', 'Uranus', 'Neptune']\n",
      "['Venus', 'Earth', 'Mars', 'Jupiter', 'Saturn', 'Uranus']\n",
      "['Saturn', 'Uranus', 'Neptune']\n"
     ]
    }
   ],
   "source": [
    "print(planets[0:3])\n",
    "print(planets[:3])\n",
    "print(planets[3:])\n",
    "print(planets[1:-1])\n",
    "print(planets[-3:])"
   ]
  },
  {
   "cell_type": "markdown",
   "id": "faa769cd",
   "metadata": {},
   "source": [
    "### Changing lists"
   ]
  },
  {
   "cell_type": "code",
   "execution_count": 48,
   "id": "5767c477",
   "metadata": {},
   "outputs": [
    {
     "name": "stdout",
     "output_type": "stream",
     "text": [
      "['Mercury', 'Venus', 'Earth', 'Malacandra', 'Jupiter', 'Saturn', 'Uranus', 'Neptune']\n"
     ]
    }
   ],
   "source": [
    "planets[3] = 'Malacandra'\n",
    "print(planets)"
   ]
  },
  {
   "cell_type": "markdown",
   "id": "0b90ea78",
   "metadata": {},
   "source": [
    "### Functions associated with lists"
   ]
  },
  {
   "cell_type": "code",
   "execution_count": 49,
   "id": "1bfc1378",
   "metadata": {},
   "outputs": [
    {
     "name": "stdout",
     "output_type": "stream",
     "text": [
      "8\n",
      "['Earth', 'Jupiter', 'Malacandra', 'Mercury', 'Neptune', 'Saturn', 'Uranus', 'Venus']\n",
      "17\n",
      "7\n"
     ]
    }
   ],
   "source": [
    "print(len(planets))\n",
    "print(sorted(planets))\n",
    "\n",
    "primes = [2, 3, 5, 7]\n",
    "print(sum(primes))\n",
    "print(max(primes))"
   ]
  },
  {
   "cell_type": "markdown",
   "id": "d8aaf1f1",
   "metadata": {},
   "source": [
    "### Methods"
   ]
  },
  {
   "cell_type": "markdown",
   "id": "49fdadbe",
   "metadata": {},
   "source": [
    "Everything in Python is an Object ! It means that it carries attributes and methods."
   ]
  },
  {
   "cell_type": "code",
   "execution_count": 50,
   "id": "e215f8b8",
   "metadata": {},
   "outputs": [
    {
     "name": "stdout",
     "output_type": "stream",
     "text": [
      "['Mercury', 'Venus', 'Earth', 'Malacandra', 'Jupiter', 'Saturn', 'Uranus', 'Neptune', 'Pluto']\n",
      "['Mercury', 'Venus', 'Earth', 'Malacandra', 'Jupiter', 'Saturn', 'Uranus', 'Neptune']\n"
     ]
    }
   ],
   "source": [
    "planets.append('Pluto')\n",
    "print(planets)\n",
    "\n",
    "planets.pop()\n",
    "print(planets)"
   ]
  },
  {
   "cell_type": "markdown",
   "id": "36ab2e91",
   "metadata": {},
   "source": [
    "#### Searching"
   ]
  },
  {
   "cell_type": "code",
   "execution_count": 51,
   "id": "7662be80",
   "metadata": {},
   "outputs": [
    {
     "name": "stdout",
     "output_type": "stream",
     "text": [
      "2\n",
      "True\n",
      "False\n"
     ]
    }
   ],
   "source": [
    "print(planets.index('Earth'))\n",
    "# print(planets.index('Pluto'))\n",
    "print('Earth' in planets)\n",
    "print('Calbefraques' in planets)"
   ]
  },
  {
   "cell_type": "markdown",
   "id": "1acd8e1c",
   "metadata": {},
   "source": [
    "#### More on attributes and methods"
   ]
  },
  {
   "cell_type": "code",
   "execution_count": 52,
   "id": "0a05d76b",
   "metadata": {},
   "outputs": [
    {
     "name": "stdout",
     "output_type": "stream",
     "text": [
      "Help on list object:\n",
      "\n",
      "class list(object)\n",
      " |  list(iterable=(), /)\n",
      " |  \n",
      " |  Built-in mutable sequence.\n",
      " |  \n",
      " |  If no argument is given, the constructor creates a new empty list.\n",
      " |  The argument must be an iterable if specified.\n",
      " |  \n",
      " |  Methods defined here:\n",
      " |  \n",
      " |  __add__(self, value, /)\n",
      " |      Return self+value.\n",
      " |  \n",
      " |  __contains__(self, key, /)\n",
      " |      Return key in self.\n",
      " |  \n",
      " |  __delitem__(self, key, /)\n",
      " |      Delete self[key].\n",
      " |  \n",
      " |  __eq__(self, value, /)\n",
      " |      Return self==value.\n",
      " |  \n",
      " |  __ge__(self, value, /)\n",
      " |      Return self>=value.\n",
      " |  \n",
      " |  __getattribute__(self, name, /)\n",
      " |      Return getattr(self, name).\n",
      " |  \n",
      " |  __getitem__(...)\n",
      " |      x.__getitem__(y) <==> x[y]\n",
      " |  \n",
      " |  __gt__(self, value, /)\n",
      " |      Return self>value.\n",
      " |  \n",
      " |  __iadd__(self, value, /)\n",
      " |      Implement self+=value.\n",
      " |  \n",
      " |  __imul__(self, value, /)\n",
      " |      Implement self*=value.\n",
      " |  \n",
      " |  __init__(self, /, *args, **kwargs)\n",
      " |      Initialize self.  See help(type(self)) for accurate signature.\n",
      " |  \n",
      " |  __iter__(self, /)\n",
      " |      Implement iter(self).\n",
      " |  \n",
      " |  __le__(self, value, /)\n",
      " |      Return self<=value.\n",
      " |  \n",
      " |  __len__(self, /)\n",
      " |      Return len(self).\n",
      " |  \n",
      " |  __lt__(self, value, /)\n",
      " |      Return self<value.\n",
      " |  \n",
      " |  __mul__(self, value, /)\n",
      " |      Return self*value.\n",
      " |  \n",
      " |  __ne__(self, value, /)\n",
      " |      Return self!=value.\n",
      " |  \n",
      " |  __repr__(self, /)\n",
      " |      Return repr(self).\n",
      " |  \n",
      " |  __reversed__(self, /)\n",
      " |      Return a reverse iterator over the list.\n",
      " |  \n",
      " |  __rmul__(self, value, /)\n",
      " |      Return value*self.\n",
      " |  \n",
      " |  __setitem__(self, key, value, /)\n",
      " |      Set self[key] to value.\n",
      " |  \n",
      " |  __sizeof__(self, /)\n",
      " |      Return the size of the list in memory, in bytes.\n",
      " |  \n",
      " |  append(self, object, /)\n",
      " |      Append object to the end of the list.\n",
      " |  \n",
      " |  clear(self, /)\n",
      " |      Remove all items from list.\n",
      " |  \n",
      " |  copy(self, /)\n",
      " |      Return a shallow copy of the list.\n",
      " |  \n",
      " |  count(self, value, /)\n",
      " |      Return number of occurrences of value.\n",
      " |  \n",
      " |  extend(self, iterable, /)\n",
      " |      Extend list by appending elements from the iterable.\n",
      " |  \n",
      " |  index(self, value, start=0, stop=9223372036854775807, /)\n",
      " |      Return first index of value.\n",
      " |      \n",
      " |      Raises ValueError if the value is not present.\n",
      " |  \n",
      " |  insert(self, index, object, /)\n",
      " |      Insert object before index.\n",
      " |  \n",
      " |  pop(self, index=-1, /)\n",
      " |      Remove and return item at index (default last).\n",
      " |      \n",
      " |      Raises IndexError if list is empty or index is out of range.\n",
      " |  \n",
      " |  remove(self, value, /)\n",
      " |      Remove first occurrence of value.\n",
      " |      \n",
      " |      Raises ValueError if the value is not present.\n",
      " |  \n",
      " |  reverse(self, /)\n",
      " |      Reverse *IN PLACE*.\n",
      " |  \n",
      " |  sort(self, /, *, key=None, reverse=False)\n",
      " |      Sort the list in ascending order and return None.\n",
      " |      \n",
      " |      The sort is in-place (i.e. the list itself is modified) and stable (i.e. the\n",
      " |      order of two equal elements is maintained).\n",
      " |      \n",
      " |      If a key function is given, apply it once to each list item and sort them,\n",
      " |      ascending or descending, according to their function values.\n",
      " |      \n",
      " |      The reverse flag can be set to sort in descending order.\n",
      " |  \n",
      " |  ----------------------------------------------------------------------\n",
      " |  Class methods defined here:\n",
      " |  \n",
      " |  __class_getitem__(...) from builtins.type\n",
      " |      See PEP 585\n",
      " |  \n",
      " |  ----------------------------------------------------------------------\n",
      " |  Static methods defined here:\n",
      " |  \n",
      " |  __new__(*args, **kwargs) from builtins.type\n",
      " |      Create and return a new object.  See help(type) for accurate signature.\n",
      " |  \n",
      " |  ----------------------------------------------------------------------\n",
      " |  Data and other attributes defined here:\n",
      " |  \n",
      " |  __hash__ = None\n",
      "\n"
     ]
    }
   ],
   "source": [
    "help(planets)"
   ]
  },
  {
   "cell_type": "markdown",
   "id": "c7bd6eb1",
   "metadata": {},
   "source": [
    "<div class=\"alert alert-info\">\n",
    "<h3> Your turn</h3>    \n",
    "</div>"
   ]
  },
  {
   "cell_type": "markdown",
   "id": "6605c421",
   "metadata": {},
   "source": [
    "#### Exercise 6"
   ]
  },
  {
   "cell_type": "code",
   "execution_count": 53,
   "id": "14b45d18",
   "metadata": {},
   "outputs": [],
   "source": [
    "# Write a function which returns the second element of a list. If the list has no second element, return None."
   ]
  },
  {
   "cell_type": "markdown",
   "id": "d86a8273",
   "metadata": {},
   "source": [
    "#### Exercise 7"
   ]
  },
  {
   "cell_type": "code",
   "execution_count": 54,
   "id": "4a56b562",
   "metadata": {},
   "outputs": [],
   "source": [
    "# Imagine a list of racers: \n",
    "\n",
    "# r = [\"Mario\", \"Bowser\", \"Luigi\"] \n",
    "\n",
    "# Write a function that sets the first place racer (at the front of the list) to last place and vice versa."
   ]
  },
  {
   "cell_type": "markdown",
   "id": "e1f7a9a0",
   "metadata": {},
   "source": [
    "## Tuples"
   ]
  },
  {
   "cell_type": "code",
   "execution_count": 55,
   "id": "837aa31f",
   "metadata": {},
   "outputs": [
    {
     "name": "stdout",
     "output_type": "stream",
     "text": [
      "(1, 2, 3)\n"
     ]
    }
   ],
   "source": [
    "t = (1, 2, 3)\n",
    "t = 1, 2, 3 # equivalent to above\n",
    "print(t)\n",
    "\n",
    "#t[0] = 100"
   ]
  },
  {
   "cell_type": "code",
   "execution_count": 56,
   "id": "51ded2f6",
   "metadata": {},
   "outputs": [
    {
     "name": "stdout",
     "output_type": "stream",
     "text": [
      "(1, 8)\n"
     ]
    }
   ],
   "source": [
    "x = 0.125\n",
    "print(x.as_integer_ratio())"
   ]
  },
  {
   "cell_type": "code",
   "execution_count": 57,
   "id": "8eceebbf",
   "metadata": {},
   "outputs": [
    {
     "name": "stdout",
     "output_type": "stream",
     "text": [
      "0.125\n"
     ]
    }
   ],
   "source": [
    "numerator, denominator = x.as_integer_ratio()\n",
    "print(numerator / denominator)"
   ]
  },
  {
   "cell_type": "markdown",
   "id": "c08e2277",
   "metadata": {},
   "source": [
    "<div class=\"alert alert-info\">\n",
    "<h3> Your turn</h3>    \n",
    "</div>"
   ]
  },
  {
   "cell_type": "markdown",
   "id": "178dcf7b",
   "metadata": {},
   "source": [
    "#### Exercise 8"
   ]
  },
  {
   "cell_type": "code",
   "execution_count": 58,
   "id": "ec38226d",
   "metadata": {},
   "outputs": [],
   "source": [
    "# Solve this exercise on Spyder ! (Open Anaconda)\n",
    "\n",
    "# Let's improve the allocate_workers function. Consider two types of plants: \n",
    "# type A with a capacity of 10, type B with a capacity of 15. \n",
    "# It is more efficient to produce with B plants (economies of scale). \n",
    "# Modify the allocate_workers function such that it allocates workers into B plants first. \n",
    "# The plants are contained in a list. The function should also check if all workers have been allocated to a plant. \n",
    "# If yes, return \"Allocation complete\". If not, return the number of idle workers. "
   ]
  },
  {
   "cell_type": "markdown",
   "id": "f1f94d68",
   "metadata": {},
   "source": [
    "## Strings"
   ]
  },
  {
   "cell_type": "code",
   "execution_count": 59,
   "id": "aa34ab03",
   "metadata": {},
   "outputs": [
    {
     "name": "stdout",
     "output_type": "stream",
     "text": [
      "Pluto's a planet!\n",
      "Pluto's a planet!\n"
     ]
    }
   ],
   "source": [
    "# print('Pluto's a planet!')\n",
    "print(\"Pluto's a planet!\")\n",
    "      \n",
    "# \\'  \\\"  \\\\  \\n  can help\n",
    "print('Pluto\\'s a planet!')"
   ]
  },
  {
   "cell_type": "markdown",
   "id": "574c4d2c",
   "metadata": {},
   "source": [
    "#### Strings are sequences !"
   ]
  },
  {
   "cell_type": "code",
   "execution_count": 60,
   "id": "321021dd",
   "metadata": {},
   "outputs": [
    {
     "name": "stdout",
     "output_type": "stream",
     "text": [
      "P\n",
      "uto\n",
      "5\n",
      "['P! ', 'l! ', 'u! ', 't! ', 'o! ']\n"
     ]
    }
   ],
   "source": [
    "planet = 'Pluto'\n",
    "print(planet[0])\n",
    "\n",
    "print(planet[-3:])\n",
    "print(len(planet))\n",
    "print([char+'! ' for char in planet])\n",
    "\n",
    "# strings are immutable. The following won't work:\n",
    "#planet[0] = 'B' \n",
    "# planet.append doesn't work either"
   ]
  },
  {
   "cell_type": "markdown",
   "id": "6b4ce8da",
   "metadata": {},
   "source": [
    "#### Methods"
   ]
  },
  {
   "cell_type": "code",
   "execution_count": 61,
   "id": "aa68eb04",
   "metadata": {},
   "outputs": [
    {
     "name": "stdout",
     "output_type": "stream",
     "text": [
      "PLUTO IS A PLANET!\n",
      "pluto is a planet!\n",
      "11\n",
      "True\n",
      "False\n"
     ]
    }
   ],
   "source": [
    "claim = \"Pluto is a planet!\"\n",
    "print(claim.upper())\n",
    "print(claim.lower())\n",
    "print(claim.index('plan'))\n",
    "print(claim.startswith('Pluto'))\n",
    "print(claim.endswith('dwarf planet'))"
   ]
  },
  {
   "cell_type": "code",
   "execution_count": 62,
   "id": "56da8172",
   "metadata": {},
   "outputs": [
    {
     "name": "stdout",
     "output_type": "stream",
     "text": [
      "['Pluto', 'is', 'a', 'planet!']\n",
      "1956 01 31\n",
      "01/31/1956\n"
     ]
    }
   ],
   "source": [
    "words = claim.split()\n",
    "print(words)\n",
    "\n",
    "datestr = '1956-01-31'\n",
    "year, month, day = datestr.split('-')\n",
    "\n",
    "print(year, month, day)\n",
    "print('/'.join([month, day, year]))"
   ]
  },
  {
   "cell_type": "code",
   "execution_count": 63,
   "id": "f83e06ee",
   "metadata": {},
   "outputs": [
    {
     "name": "stdout",
     "output_type": "stream",
     "text": [
      "Pluto, we miss you.\n",
      "Pluto, you'll always be the 9th planet to me.\n",
      "Pluto, you'll always be the 9th planet to me.\n"
     ]
    }
   ],
   "source": [
    "planet = 'Pluto'\n",
    "print(planet + ', we miss you.')\n",
    "\n",
    "position = 9\n",
    "print(planet + \", you'll always be the \" + str(position) + \"th planet to me.\")\n",
    "print(\"{}, you'll always be the {}th planet to me.\".format(planet,position))"
   ]
  },
  {
   "cell_type": "markdown",
   "id": "968cb959",
   "metadata": {},
   "source": [
    "## Dictionnaries\n",
    "\n",
    "Unlike sequences, Python collections do not have any order. They are unordered and unindexed data structures. This means that it is not necessary to get the order in which we insert items.\n",
    "\n",
    "Python dictionaries are an **unordered collection** of objects that holds value in a key-value structure. \n",
    "Dictionnaries store mappings. The key should be unique and must be an immutable object like a number, strings, and tuples. The values can be any Python object.\n",
    "\n",
    "<!-- https://techvidvan.com/tutorials/python-collections/ -->"
   ]
  },
  {
   "cell_type": "code",
   "execution_count": 64,
   "id": "6370e006",
   "metadata": {},
   "outputs": [
    {
     "name": "stdout",
     "output_type": "stream",
     "text": [
      "1\n",
      "{'one': 1, 'two': 2, 'three': 3, 'eleven': 11}\n",
      "{'one': 'Pluto', 'two': 2, 'three': 3, 'eleven': 11}\n"
     ]
    }
   ],
   "source": [
    "numbers = {'one':1, 'two':2, 'three':3}\n",
    "print(numbers['one']) # Look up values with `[]`\n",
    "\n",
    "numbers['eleven'] = 11 # Assign values\n",
    "print(numbers)\n",
    "\n",
    "numbers['one'] = 'Pluto'\n",
    "print(numbers)"
   ]
  },
  {
   "cell_type": "code",
   "execution_count": 65,
   "id": "cf0f2923",
   "metadata": {},
   "outputs": [
    {
     "name": "stdout",
     "output_type": "stream",
     "text": [
      "{'Mercury': 'M', 'Venus': 'V', 'Earth': 'E', 'Mars': 'M', 'Jupiter': 'J', 'Saturn': 'S', 'Uranus': 'U', 'Neptune': 'N'}\n",
      "True\n",
      "False\n"
     ]
    }
   ],
   "source": [
    "planets = ['Mercury', 'Venus', 'Earth', 'Mars', 'Jupiter', 'Saturn',\n",
    "           'Uranus', 'Neptune']\n",
    "\n",
    "planet_to_initial = {planet: planet[0] for planet in planets}\n",
    "print(planet_to_initial)\n",
    "\n",
    "print('Saturn' in planet_to_initial)\n",
    "print('Betelgeuse' in planet_to_initial)"
   ]
  },
  {
   "cell_type": "code",
   "execution_count": 66,
   "id": "5d61f775",
   "metadata": {},
   "outputs": [
    {
     "name": "stdout",
     "output_type": "stream",
     "text": [
      "one = Pluto\n",
      "two = 2\n",
      "three = 3\n",
      "eleven = 11\n",
      "dict_keys(['one', 'two', 'three', 'eleven'])\n",
      "dict_values(['Pluto', 2, 3, 11])\n",
      "key: one ; value: Pluto\n",
      "key: two ; value: 2\n",
      "key: three ; value: 3\n",
      "key: eleven ; value: 11\n"
     ]
    }
   ],
   "source": [
    "for k in numbers:\n",
    "    print(\"{} = {}\".format(k, numbers[k]))\n",
    "\n",
    "# Access keys    \n",
    "print(numbers.keys())\n",
    "\n",
    "#Access values\n",
    "print(numbers.values())\n",
    "\n",
    "#Access keys and values\n",
    "for key , value in numbers.items():\n",
    "    print(\"key: {} ; value: {}\".format(key, value))"
   ]
  },
  {
   "cell_type": "markdown",
   "id": "62fc23a3",
   "metadata": {},
   "source": [
    "<div class=\"alert alert-info\">\n",
    "<h3> Your turn</h3>    \n",
    "</div>"
   ]
  },
  {
   "cell_type": "markdown",
   "id": "68581d92",
   "metadata": {},
   "source": [
    "#### Exercise 9"
   ]
  },
  {
   "cell_type": "code",
   "execution_count": 67,
   "id": "0795bd24",
   "metadata": {},
   "outputs": [],
   "source": [
    "# Solve this exercise on Spyder ! (Open Anaconda)\n",
    "\n",
    "# Let's improve again the allocate_workers function. Consider that plants are included in a list of dictionaries: \n",
    "\n",
    "plants = [\n",
    "    {'location': 'Brussels', 'type': 'B'},\n",
    "    {'location': 'Liege', 'type': 'A'},\n",
    "    {'location': 'Namur', 'type': 'A'},\n",
    "    {'location': 'Anvers', 'type': 'B'},\n",
    "]\n",
    "\n",
    "# Each plant has a location and type key. \n",
    "# Modify the allocate_workers function such that it allocates workers into B plants first. \n",
    "# The function should also check if all plants are full. \n",
    "# If yes, return \"All plants are operational.\". \n",
    "# If not, return the plant which is not full using the following format: \n",
    "\n",
    "# \"The type B plant located in Brussels is not full\". \n",
    "\n",
    "# If workers are not allocated, return: \n",
    "\n",
    "# \"X workers are not allocated to a plant\".\n",
    "\n",
    "# Could it be more flexible ? (Hint: type of plants)"
   ]
  },
  {
   "cell_type": "markdown",
   "id": "1eb2a3a4",
   "metadata": {},
   "source": [
    "## Loops"
   ]
  },
  {
   "cell_type": "code",
   "execution_count": 68,
   "id": "d2fb461c",
   "metadata": {
    "scrolled": true
   },
   "outputs": [
    {
     "name": "stdout",
     "output_type": "stream",
     "text": [
      "Mercury Venus Earth Mars Jupiter Saturn Uranus Neptune "
     ]
    }
   ],
   "source": [
    "planets = ['Mercury', 'Venus', 'Earth', 'Mars', 'Jupiter', 'Saturn', 'Uranus', 'Neptune']\n",
    "\n",
    "for planet in planets:\n",
    "    print(planet, end=' ') "
   ]
  },
  {
   "cell_type": "code",
   "execution_count": 69,
   "id": "0c2a1365",
   "metadata": {},
   "outputs": [
    {
     "name": "stdout",
     "output_type": "stream",
     "text": [
      "360\n"
     ]
    }
   ],
   "source": [
    "multiplicands = (2, 2, 2, 3, 3, 5)\n",
    "product = 1\n",
    "\n",
    "for mult in multiplicands:\n",
    "    product = product * mult\n",
    "    \n",
    "print(product)"
   ]
  },
  {
   "cell_type": "code",
   "execution_count": 70,
   "id": "48b788f4",
   "metadata": {},
   "outputs": [
    {
     "name": "stdout",
     "output_type": "stream",
     "text": [
      "HSNETC"
     ]
    }
   ],
   "source": [
    "s = 'Here iS oNe sEnTenCe'\n",
    "message = ''\n",
    "\n",
    "# print all the uppercase letters in s, one at a time\n",
    "for char in s:\n",
    "    if char.isupper():\n",
    "        print(char, end='')   "
   ]
  },
  {
   "cell_type": "markdown",
   "id": "6fc04313",
   "metadata": {},
   "source": [
    "#### range()"
   ]
  },
  {
   "cell_type": "code",
   "execution_count": 71,
   "id": "a4fad959",
   "metadata": {},
   "outputs": [
    {
     "name": "stdout",
     "output_type": "stream",
     "text": [
      "Doing important work. i = 0\n",
      "Doing important work. i = 1\n",
      "Doing important work. i = 2\n",
      "Doing important work. i = 3\n",
      "Doing important work. i = 4\n"
     ]
    }
   ],
   "source": [
    "for i in range(5):\n",
    "    print(\"Doing important work. i =\", i)"
   ]
  },
  {
   "cell_type": "markdown",
   "id": "448641c7",
   "metadata": {},
   "source": [
    "#### while"
   ]
  },
  {
   "cell_type": "code",
   "execution_count": 72,
   "id": "f6eef4dc",
   "metadata": {},
   "outputs": [
    {
     "name": "stdout",
     "output_type": "stream",
     "text": [
      "0 1 2 3 4 5 6 7 8 9 "
     ]
    }
   ],
   "source": [
    "i = 0\n",
    "while i < 10:\n",
    "    print(i, end=' ')\n",
    "    i += 1 # increase the value of i by 1"
   ]
  },
  {
   "cell_type": "markdown",
   "id": "a6ab0f05",
   "metadata": {},
   "source": [
    "#### List comprehensions"
   ]
  },
  {
   "cell_type": "code",
   "execution_count": 73,
   "id": "d6bdb757",
   "metadata": {},
   "outputs": [
    {
     "name": "stdout",
     "output_type": "stream",
     "text": [
      "[0, 1, 4, 9, 16, 25, 36, 49, 64, 81]\n",
      "[0, 1, 4, 9, 16, 25, 36, 49, 64, 81]\n"
     ]
    }
   ],
   "source": [
    "# Loop\n",
    "squares = []\n",
    "\n",
    "for n in range(10):\n",
    "    squares.append(n**2)\n",
    "    \n",
    "print(squares)\n",
    "\n",
    "# List comprehension\n",
    "squares = [n**2 for n in range(10)]\n",
    "print(squares)"
   ]
  },
  {
   "cell_type": "markdown",
   "id": "a22224aa",
   "metadata": {},
   "source": [
    "## Working with external libraries "
   ]
  },
  {
   "cell_type": "code",
   "execution_count": 74,
   "id": "a4bb6414",
   "metadata": {
    "scrolled": true
   },
   "outputs": [
    {
     "name": "stdout",
     "output_type": "stream",
     "text": [
      "['__doc__', '__file__', '__loader__', '__name__', '__package__', '__spec__', 'acos', 'acosh', 'asin', 'asinh', 'atan', 'atan2', 'atanh', 'ceil', 'comb', 'copysign', 'cos', 'cosh', 'degrees', 'dist', 'e', 'erf', 'erfc', 'exp', 'expm1', 'fabs', 'factorial', 'floor', 'fmod', 'frexp', 'fsum', 'gamma', 'gcd', 'hypot', 'inf', 'isclose', 'isfinite', 'isinf', 'isnan', 'isqrt', 'lcm', 'ldexp', 'lgamma', 'log', 'log10', 'log1p', 'log2', 'modf', 'nan', 'nextafter', 'perm', 'pi', 'pow', 'prod', 'radians', 'remainder', 'sin', 'sinh', 'sqrt', 'tan', 'tanh', 'tau', 'trunc', 'ulp']\n"
     ]
    }
   ],
   "source": [
    "import math\n",
    "\n",
    "print(dir(math))"
   ]
  },
  {
   "cell_type": "code",
   "execution_count": 75,
   "id": "4afcbce1",
   "metadata": {
    "scrolled": true
   },
   "outputs": [
    {
     "name": "stdout",
     "output_type": "stream",
     "text": [
      "3.141592653589793\n",
      "5.0\n"
     ]
    }
   ],
   "source": [
    "print(math.pi)\n",
    "\n",
    "print(math.log(32,2))"
   ]
  },
  {
   "cell_type": "markdown",
   "id": "36528690",
   "metadata": {},
   "source": [
    "Some modules can have variables referring to other modules.\n",
    "\n",
    "Some modules define their own data types (others than ints, floats, bools, lists,strings, and dicts).\n",
    "\n",
    "You can use the builtin functions:\n",
    "1. type() - tells the type of a something\n",
    "2. dir() - tells what you can do with something\n",
    "3. help() - tells more about something / how to use"
   ]
  },
  {
   "cell_type": "markdown",
   "id": "66a82181",
   "metadata": {},
   "source": [
    "### Numpy"
   ]
  },
  {
   "cell_type": "code",
   "execution_count": 76,
   "id": "1041bdb8",
   "metadata": {
    "scrolled": true
   },
   "outputs": [
    {
     "name": "stdout",
     "output_type": "stream",
     "text": [
      "['ALLOW_THREADS', 'BUFSIZE', 'CLIP', 'DataSource', 'ERR_CALL', 'ERR_DEFAULT', 'ERR_IGNORE', 'ERR_LOG', 'ERR_PRINT', 'ERR_RAISE', 'ERR_WARN', 'FLOATING_POINT_SUPPORT', 'FPE_DIVIDEBYZERO', 'FPE_INVALID', 'FPE_OVERFLOW', 'FPE_UNDERFLOW', 'False_', 'Inf', 'Infinity', 'MAXDIMS', 'MAY_SHARE_BOUNDS', 'MAY_SHARE_EXACT', 'NAN', 'NINF', 'NZERO', 'NaN', 'PINF', 'PZERO', 'RAISE', 'RankWarning', 'SHIFT_DIVIDEBYZERO', 'SHIFT_INVALID', 'SHIFT_OVERFLOW', 'SHIFT_UNDERFLOW', 'ScalarType', 'True_', 'UFUNC_BUFSIZE_DEFAULT', 'UFUNC_PYVALS_NAME', 'WRAP', '_CopyMode', '_NoValue', '_UFUNC_API', '__NUMPY_SETUP__', '__all__', '__builtins__', '__cached__', '__config__', '__deprecated_attrs__', '__dir__', '__doc__', '__expired_functions__', '__file__', '__former_attrs__', '__future_scalars__', '__getattr__', '__loader__', '__name__', '__package__', '__path__', '__spec__', '__version__', '_add_newdoc_ufunc', '_builtins', '_distributor_init', '_financial_names', '_get_promotion_state', '_globals', '_int_extended_msg', '_mat', '_no_nep50_warning', '_pyinstaller_hooks_dir', '_pytesttester', '_set_promotion_state', '_specific_msg', '_typing', '_using_numpy2_behavior', '_utils', 'abs', 'absolute', 'add', 'add_docstring', 'add_newdoc', 'add_newdoc_ufunc', 'all', 'allclose', 'alltrue', 'amax', 'amin', 'angle', 'any', 'append', 'apply_along_axis', 'apply_over_axes', 'arange', 'arccos', 'arccosh', 'arcsin', 'arcsinh', 'arctan', 'arctan2', 'arctanh', 'argmax', 'argmin', 'argpartition', 'argsort', 'argwhere', 'around', 'array', 'array2string', 'array_equal', 'array_equiv', 'array_repr', 'array_split', 'array_str', 'asanyarray', 'asarray', 'asarray_chkfinite', 'ascontiguousarray', 'asfarray', 'asfortranarray', 'asmatrix', 'atleast_1d', 'atleast_2d', 'atleast_3d', 'average', 'bartlett', 'base_repr', 'binary_repr', 'bincount', 'bitwise_and', 'bitwise_not', 'bitwise_or', 'bitwise_xor', 'blackman', 'block', 'bmat', 'bool_', 'broadcast', 'broadcast_arrays', 'broadcast_shapes', 'broadcast_to', 'busday_count', 'busday_offset', 'busdaycalendar', 'byte', 'byte_bounds', 'bytes_', 'c_', 'can_cast', 'cast', 'cbrt', 'cdouble', 'ceil', 'cfloat', 'char', 'character', 'chararray', 'choose', 'clip', 'clongdouble', 'clongfloat', 'column_stack', 'common_type', 'compare_chararrays', 'compat', 'complex128', 'complex64', 'complex_', 'complexfloating', 'compress', 'concatenate', 'conj', 'conjugate', 'convolve', 'copy', 'copysign', 'copyto', 'corrcoef', 'correlate', 'cos', 'cosh', 'count_nonzero', 'cov', 'cross', 'csingle', 'ctypeslib', 'cumprod', 'cumproduct', 'cumsum', 'datetime64', 'datetime_as_string', 'datetime_data', 'deg2rad', 'degrees', 'delete', 'deprecate', 'deprecate_with_doc', 'diag', 'diag_indices', 'diag_indices_from', 'diagflat', 'diagonal', 'diff', 'digitize', 'disp', 'divide', 'divmod', 'dot', 'double', 'dsplit', 'dstack', 'dtype', 'dtypes', 'e', 'ediff1d', 'einsum', 'einsum_path', 'emath', 'empty', 'empty_like', 'equal', 'error_message', 'errstate', 'euler_gamma', 'exceptions', 'exp', 'exp2', 'expand_dims', 'expm1', 'extract', 'eye', 'fabs', 'fastCopyAndTranspose', 'fft', 'fill_diagonal', 'find_common_type', 'finfo', 'fix', 'flatiter', 'flatnonzero', 'flexible', 'flip', 'fliplr', 'flipud', 'float16', 'float32', 'float64', 'float_', 'float_power', 'floating', 'floor', 'floor_divide', 'fmax', 'fmin', 'fmod', 'format_float_positional', 'format_float_scientific', 'format_parser', 'frexp', 'from_dlpack', 'frombuffer', 'fromfile', 'fromfunction', 'fromiter', 'frompyfunc', 'fromregex', 'fromstring', 'full', 'full_like', 'gcd', 'generic', 'genfromtxt', 'geomspace', 'get_array_wrap', 'get_include', 'get_printoptions', 'getbufsize', 'geterr', 'geterrcall', 'geterrobj', 'gradient', 'greater', 'greater_equal', 'half', 'hamming', 'hanning', 'heaviside', 'histogram', 'histogram2d', 'histogram_bin_edges', 'histogramdd', 'hsplit', 'hstack', 'hypot', 'i0', 'identity', 'iinfo', 'imag', 'in1d', 'index_exp', 'indices', 'inexact', 'inf', 'info', 'infty', 'inner', 'insert', 'int16', 'int32', 'int64', 'int8', 'int_', 'intc', 'integer', 'interp', 'intersect1d', 'intp', 'invert', 'is_busday', 'isclose', 'iscomplex', 'iscomplexobj', 'isfinite', 'isfortran', 'isin', 'isinf', 'isnan', 'isnat', 'isneginf', 'isposinf', 'isreal', 'isrealobj', 'isscalar', 'issctype', 'issubclass_', 'issubdtype', 'issubsctype', 'iterable', 'ix_', 'kaiser', 'kron', 'lcm', 'ldexp', 'left_shift', 'less', 'less_equal', 'lexsort', 'lib', 'linalg', 'linspace', 'little_endian', 'load', 'loadtxt', 'log', 'log10', 'log1p', 'log2', 'logaddexp', 'logaddexp2', 'logical_and', 'logical_not', 'logical_or', 'logical_xor', 'logspace', 'longcomplex', 'longdouble', 'longfloat', 'longlong', 'lookfor', 'ma', 'mask_indices', 'mat', 'matmul', 'matrix', 'max', 'maximum', 'maximum_sctype', 'may_share_memory', 'mean', 'median', 'memmap', 'meshgrid', 'mgrid', 'min', 'min_scalar_type', 'minimum', 'mintypecode', 'mod', 'modf', 'moveaxis', 'msort', 'multiply', 'nan', 'nan_to_num', 'nanargmax', 'nanargmin', 'nancumprod', 'nancumsum', 'nanmax', 'nanmean', 'nanmedian', 'nanmin', 'nanpercentile', 'nanprod', 'nanquantile', 'nanstd', 'nansum', 'nanvar', 'nbytes', 'ndarray', 'ndenumerate', 'ndim', 'ndindex', 'nditer', 'negative', 'nested_iters', 'newaxis', 'nextafter', 'nonzero', 'not_equal', 'numarray', 'number', 'obj2sctype', 'object_', 'ogrid', 'oldnumeric', 'ones', 'ones_like', 'outer', 'packbits', 'pad', 'partition', 'percentile', 'pi', 'piecewise', 'place', 'poly', 'poly1d', 'polyadd', 'polyder', 'polydiv', 'polyfit', 'polyint', 'polymul', 'polynomial', 'polysub', 'polyval', 'positive', 'power', 'printoptions', 'prod', 'product', 'promote_types', 'ptp', 'put', 'put_along_axis', 'putmask', 'quantile', 'r_', 'rad2deg', 'radians', 'random', 'ravel', 'ravel_multi_index', 'real', 'real_if_close', 'rec', 'recarray', 'recfromcsv', 'recfromtxt', 'reciprocal', 'record', 'remainder', 'repeat', 'require', 'reshape', 'resize', 'result_type', 'right_shift', 'rint', 'roll', 'rollaxis', 'roots', 'rot90', 'round', 'round_', 'row_stack', 's_', 'safe_eval', 'save', 'savetxt', 'savez', 'savez_compressed', 'sctype2char', 'sctypeDict', 'sctypes', 'searchsorted', 'select', 'set_numeric_ops', 'set_printoptions', 'set_string_function', 'setbufsize', 'setdiff1d', 'seterr', 'seterrcall', 'seterrobj', 'setxor1d', 'shape', 'shares_memory', 'short', 'show_config', 'show_runtime', 'sign', 'signbit', 'signedinteger', 'sin', 'sinc', 'single', 'singlecomplex', 'sinh', 'size', 'sometrue', 'sort', 'sort_complex', 'source', 'spacing', 'split', 'sqrt', 'square', 'squeeze', 'stack', 'std', 'str_', 'string_', 'subtract', 'sum', 'swapaxes', 'take', 'take_along_axis', 'tan', 'tanh', 'tensordot', 'test', 'testing', 'tile', 'timedelta64', 'trace', 'tracemalloc_domain', 'transpose', 'trapz', 'tri', 'tril', 'tril_indices', 'tril_indices_from', 'trim_zeros', 'triu', 'triu_indices', 'triu_indices_from', 'true_divide', 'trunc', 'typecodes', 'typename', 'ubyte', 'ufunc', 'uint', 'uint16', 'uint32', 'uint64', 'uint8', 'uintc', 'uintp', 'ulonglong', 'unicode_', 'union1d', 'unique', 'unpackbits', 'unravel_index', 'unsignedinteger', 'unwrap', 'ushort', 'vander', 'var', 'vdot', 'vectorize', 'version', 'void', 'vsplit', 'vstack', 'w', 'where', 'who', 'zeros', 'zeros_like']\n"
     ]
    }
   ],
   "source": [
    "import numpy as np\n",
    "print(dir(np))\n",
    "\n",
    "# Examples: np.mean ; np.median ; np.min ; np.max ; np.random ; np.sin ; ..."
   ]
  },
  {
   "cell_type": "markdown",
   "id": "3ba0ca26",
   "metadata": {},
   "source": [
    "## Going further"
   ]
  },
  {
   "cell_type": "markdown",
   "id": "4de4580b",
   "metadata": {},
   "source": [
    "1. Class, attributes and methods\n",
    "2. Class inheritance\n",
    "3. Scopes and namespaces\n",
    "4. Regular Expression (RegEx)\n",
    "5. [PEP8](https://peps.python.org/pep-0008/), SOLID principles, [Zen of Python](https://peps.python.org/pep-0020/) \n",
    "6. Design Patterns (Finite State Machine, Observer, ...)"
   ]
  },
  {
   "cell_type": "markdown",
   "id": "7843eb86",
   "metadata": {},
   "source": [
    "## Rreferences"
   ]
  },
  {
   "cell_type": "markdown",
   "id": "658a49a1",
   "metadata": {},
   "source": [
    "- [Ten mintues to Python](https://www.stavros.io/tutorials/python/)\n",
    "- [Learn X in Y minutes where X=python](https://learnxinyminutes.com/docs/python/) \n",
    "- [YouTube video](https://www.youtube.com/c/mCodingWithJamesMurphy)\n",
    "- [The Hitchhiker’s Guide to Python!](https://docs.python-guide.org/)"
   ]
  },
  {
   "cell_type": "code",
   "execution_count": null,
   "id": "46898670",
   "metadata": {},
   "outputs": [],
   "source": []
  }
 ],
 "metadata": {
  "kernelspec": {
   "display_name": "Python 3 (ipykernel)",
   "language": "python",
   "name": "python3"
  },
  "language_info": {
   "codemirror_mode": {
    "name": "ipython",
    "version": 3
   },
   "file_extension": ".py",
   "mimetype": "text/x-python",
   "name": "python",
   "nbconvert_exporter": "python",
   "pygments_lexer": "ipython3",
   "version": "3.10.13"
  },
  "toc": {
   "base_numbering": 1,
   "nav_menu": {},
   "number_sections": false,
   "sideBar": true,
   "skip_h1_title": false,
   "title_cell": "Table of Contents",
   "title_sidebar": "Contents",
   "toc_cell": false,
   "toc_position": {
    "height": "calc(100% - 180px)",
    "left": "10px",
    "top": "150px",
    "width": "165px"
   },
   "toc_section_display": true,
   "toc_window_display": true
  },
  "vscode": {
   "interpreter": {
    "hash": "b0fa6594d8f4cbf19f97940f81e996739fb7646882a419484c72d19e05852a7e"
   }
  }
 },
 "nbformat": 4,
 "nbformat_minor": 5
}
